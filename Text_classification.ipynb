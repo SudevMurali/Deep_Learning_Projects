{
  "nbformat": 4,
  "nbformat_minor": 0,
  "metadata": {
    "colab": {
      "provenance": []
    },
    "kernelspec": {
      "name": "python3",
      "display_name": "Python 3"
    },
    "language_info": {
      "name": "python"
    },
    "gpuClass": "standard"
  },
  "cells": [
    {
      "cell_type": "markdown",
      "metadata": {
        "id": "_bphECiUa9zw"
      },
      "source": [
        "# Lab 4: Sequential Data\n",
        "\n",
        "This lab is based on an assignment developed by Prof. Lisa Zhang.\n",
        "\n",
        "In this assignment, we will build a recurrent neural network to classify a SMS text message\n",
        "as \"spam\" or \"not spam\". In the process, you will\n",
        "    \n",
        "1. Clean and process text data for machine learning.\n",
        "2. Understand and implement a character-level recurrent neural network.\n",
        "3. Use torchtext to build recurrent neural network models.\n",
        "4. Understand batching for a recurrent neural network, and use torchtext to implement RNN batching.\n",
        "5. Understand how transfer learning can be applied to NLP projects.\n",
        "\n",
        "### What to submit\n",
        "\n",
        "Submit an HTML file containing all your code, outputs, and write-up\n",
        "from parts A and B. You can produce a HTML file directly from Google Colab. The Colab instructions are provided at the end of this document.\n",
        "\n",
        "**Do not submit any other files produced by your code.**\n",
        "\n",
        "Include a link to your colab file in your submission.\n",
        "\n",
        "Please use Google Colab to complete this assignment. If you want to use Jupyter Notebook, please complete the assignment and upload your Jupyter Notebook file to Google Colab for submission. "
      ]
    },
    {
      "cell_type": "markdown",
      "metadata": {
        "id": "rWiUqJJTa9z6"
      },
      "source": [
        "## Colab Link\n",
        "\n",
        "Include a link to your colab file here\n",
        "\n",
        "Colab Link: "
      ]
    },
    {
      "cell_type": "markdown",
      "metadata": {
        "id": "fFMdtipUPNdu"
      },
      "source": [
        "# PART A - Spam Detection [30 pt]\n",
        "\n",
        "In this part we will construct a LSTM model for identifying spam from non spam messages."
      ]
    },
    {
      "cell_type": "code",
      "metadata": {
        "id": "HgfNOUaPa9z8",
        "colab": {
          "base_uri": "https://localhost:8080/"
        },
        "outputId": "9173a2fe-fa93-4a4f-8f4e-519488746a67"
      },
      "source": [
        "import torch\n",
        "import torch.nn as nn\n",
        "import torch.nn.functional as F\n",
        "import torch.optim as optim\n",
        "import numpy as np\n",
        "!pip install -U torch==1.8.0+cu111 torchtext==0.9.0 -f https://download.pytorch.org/whl/torch_stable.html\n"
      ],
      "execution_count": null,
      "outputs": [
        {
          "output_type": "stream",
          "name": "stdout",
          "text": [
            "Looking in indexes: https://pypi.org/simple, https://us-python.pkg.dev/colab-wheels/public/simple/\n",
            "Looking in links: https://download.pytorch.org/whl/torch_stable.html\n",
            "Requirement already satisfied: torch==1.8.0+cu111 in /usr/local/lib/python3.7/dist-packages (1.8.0+cu111)\n",
            "Requirement already satisfied: torchtext==0.9.0 in /usr/local/lib/python3.7/dist-packages (0.9.0)\n",
            "Requirement already satisfied: numpy in /usr/local/lib/python3.7/dist-packages (from torch==1.8.0+cu111) (1.21.6)\n",
            "Requirement already satisfied: typing-extensions in /usr/local/lib/python3.7/dist-packages (from torch==1.8.0+cu111) (4.1.1)\n",
            "Requirement already satisfied: requests in /usr/local/lib/python3.7/dist-packages (from torchtext==0.9.0) (2.23.0)\n",
            "Requirement already satisfied: tqdm in /usr/local/lib/python3.7/dist-packages (from torchtext==0.9.0) (4.64.1)\n",
            "Requirement already satisfied: chardet<4,>=3.0.2 in /usr/local/lib/python3.7/dist-packages (from requests->torchtext==0.9.0) (3.0.4)\n",
            "Requirement already satisfied: urllib3!=1.25.0,!=1.25.1,<1.26,>=1.21.1 in /usr/local/lib/python3.7/dist-packages (from requests->torchtext==0.9.0) (1.24.3)\n",
            "Requirement already satisfied: idna<3,>=2.5 in /usr/local/lib/python3.7/dist-packages (from requests->torchtext==0.9.0) (2.10)\n",
            "Requirement already satisfied: certifi>=2017.4.17 in /usr/local/lib/python3.7/dist-packages (from requests->torchtext==0.9.0) (2022.9.24)\n"
          ]
        }
      ]
    },
    {
      "cell_type": "markdown",
      "metadata": {
        "id": "M0jLI9LBa90C"
      },
      "source": [
        "## Part 1. Data Cleaning [10 pt]\n",
        "\n",
        "We will be using the \"SMS Spam Collection Data Set\" available at http://archive.ics.uci.edu/ml/datasets/SMS+Spam+Collection\n",
        "\n",
        "There is a link to download the \"Data Folder\" at the very top of the webpage. Download the zip file, unzip it, and upload the file `SMSSpamCollection` to Colab.    "
      ]
    },
    {
      "cell_type": "markdown",
      "metadata": {
        "id": "sSuF7C_Ga90E"
      },
      "source": [
        "### Part (a) [1 pt]\n",
        "\n",
        "Open up the file in Python, and print out one example of a spam SMS, and one example of a non-spam SMS.\n",
        "\n",
        "What is the label value for a spam message, and what is the label value for a non-spam message?"
      ]
    },
    {
      "cell_type": "code",
      "metadata": {
        "id": "I_IfXHeTa90F",
        "colab": {
          "base_uri": "https://localhost:8080/"
        },
        "outputId": "c2700be9-1fbb-4850-be2e-5689f2d55d4e"
      },
      "source": [
        "for line in open('SMSSpamCollection'):\n",
        "  if line[0] == \"h\":\n",
        "\n",
        "    print(line)\n",
        "    break\n",
        "\n",
        "for line in open('SMSSpamCollection'):\n",
        "  if line[0] == \"s\":\n",
        "\n",
        "    print(line)\n",
        "    break\n"
      ],
      "execution_count": null,
      "outputs": [
        {
          "output_type": "stream",
          "name": "stdout",
          "text": [
            "ham\tGo until jurong point, crazy.. Available only in bugis n great world la e buffet... Cine there got amore wat...\n",
            "\n",
            "spam\tFree entry in 2 a wkly comp to win FA Cup final tkts 21st May 2005. Text FA to 87121 to receive entry question(std txt rate)T&C's apply 08452810075over18's\n",
            "\n"
          ]
        }
      ]
    },
    {
      "cell_type": "markdown",
      "source": [
        "Spam messages have a label = spam and non spam messages have a label = ham"
      ],
      "metadata": {
        "id": "eTuNUThy8rca"
      }
    },
    {
      "cell_type": "markdown",
      "metadata": {
        "id": "AukA6vMVa90d"
      },
      "source": [
        "### Part (b) [1 pt]\n",
        "\n",
        "How many spam messages are there in the data set?\n",
        "How many non-spam messages are there in the data set?\n"
      ]
    },
    {
      "cell_type": "code",
      "metadata": {
        "id": "LgsqyemVa90e",
        "colab": {
          "base_uri": "https://localhost:8080/"
        },
        "outputId": "436e483d-df3f-4632-fc31-7cb790b6a603"
      },
      "source": [
        "i,j =0,0\n",
        "for line in open('SMSSpamCollection'):\n",
        "  if line[0] == \"h\":\n",
        "   i += 1\n",
        "  else:\n",
        "   j += 1 \n",
        "\n",
        "print(\"number of spam messages = \",j)\n",
        "print(\"number of non-spam messages = \",i)\n"
      ],
      "execution_count": null,
      "outputs": [
        {
          "output_type": "stream",
          "name": "stdout",
          "text": [
            "number of spam messages =  747\n",
            "number of non-spam messages =  4827\n"
          ]
        }
      ]
    },
    {
      "cell_type": "markdown",
      "source": [
        "Number of spam messages are 747 and the number of non spam messages are 4827. There are less spam messages in the dataset."
      ],
      "metadata": {
        "id": "sxGhxwBS-xfb"
      }
    },
    {
      "cell_type": "markdown",
      "metadata": {
        "id": "d1WXxVt6a90h"
      },
      "source": [
        "### Part (c) [2 pt]\n",
        "\n",
        "We will be using the package `torchtext` to load, process, and batch the data.\n",
        "A tutorial to torchtext is available below. This tutorial uses the same\n",
        "Sentiment140 data set that we explored during lecture.\n",
        "\n",
        "https://medium.com/@sonicboom8/sentiment-analysis-torchtext-55fb57b1fab8\n",
        "\n",
        "Unlike what we did during lecture, we will be building a **character level RNN**.\n",
        "That is, we will treat each **character** as a token in our sequence,\n",
        "rather than each **word**.\n",
        "\n",
        "Identify two advantage and two disadvantage of modelling SMS text\n",
        "messages as a sequence of characters rather than a sequence of words."
      ]
    },
    {
      "cell_type": "markdown",
      "source": [
        "Advantages:\n",
        "\n",
        "The vocabulary required will be smaller for character-level RNN.Therefore it will require less memory.\n",
        "\n",
        "They do not require tokenization as a preprocessing step.\n",
        "\n",
        "Disadvantages:\n",
        "\n",
        "It’s not as good as the word-level RNN at capturing long-distance dependencies.They need to learn spelling in addition to grammar.\n",
        "\n",
        "\n",
        "The model would have to make more predictions than a word-level RNN which makes it more prone to errors.\n"
      ],
      "metadata": {
        "id": "H8V159EP-DFQ"
      }
    },
    {
      "cell_type": "markdown",
      "metadata": {
        "id": "ie_D0bv9a90k"
      },
      "source": [
        "### Part (d) [1 pt]\n",
        "\n",
        "We will be loading our data set using `torchtext.data.TabularDataset`. The\n",
        "constructor will read directly from the `SMSSpamCollection` file. \n",
        "\n",
        "For the data file to be read successfuly, we\n",
        "need to specify the **fields** (columns) in the file. \n",
        "In our case, the dataset has two fields: \n",
        "\n",
        "- a text field containing the sms messages,\n",
        "- a label field which will be converted into a binary label.\n",
        "\n",
        "Split the dataset into `train`, `valid`, and `test`. Use a 60-20-20 split.\n",
        "You may find this torchtext API page helpful:\n",
        "https://torchtext.readthedocs.io/en/latest/data.html#dataset\n",
        "\n",
        "Hint: There is a `Dataset` method that can perform the random split for you."
      ]
    },
    {
      "cell_type": "code",
      "metadata": {
        "id": "P_Y6Puz9a90l"
      },
      "source": [
        "from torchtext.legacy import datasets\n",
        "import torchtext\n",
        "\n",
        "text_field = torchtext.legacy.data.Field(sequential=True,      # text sequence\n",
        "                                  tokenize=lambda x: x, # because are building a character-RNN\n",
        "                                  include_lengths=True, # to track the length of sequences, for batching\n",
        "                                  batch_first=True,\n",
        "                                  use_vocab=True)       # to turn each character into an integer index\n",
        "label_field = torchtext.legacy.data.Field(sequential=False,    # not a sequence\n",
        "                                   use_vocab=False,     # don't need to track vocabulary\n",
        "                                   is_target=True,      \n",
        "                                   batch_first=True,\n",
        "                                   preprocessing=lambda x: int(x == 'spam')) # convert text to 0 and 1\n",
        "\n",
        "fields = [('label', label_field), ('sms', text_field)]\n",
        "dataset = torchtext.legacy.data.TabularDataset(\"SMSSpamCollection\", # name of the file\n",
        "                                        \"tsv\",               # fields are separated by a tab\n",
        "                                        fields)\n",
        "\n",
        "TEXT = dataset[0].sms\n",
        "LABEL = dataset[0].label\n",
        "\n",
        "train, test = torchtext.legacy.data.Dataset.split(dataset,split_ratio = 0.6,stratified = True,strata_field = 'label')\n",
        "valid, test = torchtext.legacy.data.Dataset.split(test,split_ratio = 0.5,stratified = True,strata_field = 'label')\n",
        "\n"
      ],
      "execution_count": null,
      "outputs": []
    },
    {
      "cell_type": "code",
      "source": [
        "len(list(train))\n"
      ],
      "metadata": {
        "colab": {
          "base_uri": "https://localhost:8080/"
        },
        "id": "UK7klrNYIyH1",
        "outputId": "7d14695f-e38a-4ca1-e8dc-b5b8995c1ee8"
      },
      "execution_count": null,
      "outputs": [
        {
          "output_type": "execute_result",
          "data": {
            "text/plain": [
              "3343"
            ]
          },
          "metadata": {},
          "execution_count": 5
        }
      ]
    },
    {
      "cell_type": "code",
      "source": [
        "len(list(valid))"
      ],
      "metadata": {
        "colab": {
          "base_uri": "https://localhost:8080/"
        },
        "id": "sCp6UZgaI0Fq",
        "outputId": "4074d147-2578-48ea-9a2c-5041bdbac595"
      },
      "execution_count": null,
      "outputs": [
        {
          "output_type": "execute_result",
          "data": {
            "text/plain": [
              "1115"
            ]
          },
          "metadata": {},
          "execution_count": 19
        }
      ]
    },
    {
      "cell_type": "code",
      "source": [
        "len(list(test))\n"
      ],
      "metadata": {
        "colab": {
          "base_uri": "https://localhost:8080/"
        },
        "id": "sOgUbBSlI19x",
        "outputId": "36337a9b-920a-47a4-99b3-284b64ebfe76"
      },
      "execution_count": null,
      "outputs": [
        {
          "output_type": "execute_result",
          "data": {
            "text/plain": [
              "1114"
            ]
          },
          "metadata": {},
          "execution_count": 20
        }
      ]
    },
    {
      "cell_type": "markdown",
      "metadata": {
        "id": "v6nP0Ks_a90o"
      },
      "source": [
        "### Part (e) [2 pt]\n",
        "\n",
        "You saw in part (b) that there are many more non-spam messages than spam messages.\n",
        "This **imbalance** in our training data will be problematic for training.\n",
        "We can fix this disparity by duplicating spam messages in the training set,\n",
        "so that the training set is roughly **balanced**.\n",
        "\n",
        "Explain why having a balanced training set is helpful for training our neural network.\n",
        "\n",
        "Note: if you are not sure, try removing the below code and train your mode."
      ]
    },
    {
      "cell_type": "code",
      "metadata": {
        "id": "FWvx9_rka90p"
      },
      "source": [
        "# save the original training examples\n",
        "old_train_examples = train.examples\n",
        "# get all the spam messages in `train`\n",
        "train_spam = []\n",
        "for item in train.examples:\n",
        "    if item.label == 1:\n",
        "        train_spam.append(item)\n",
        "# duplicate each spam message 6 more times\n",
        "train.examples = old_train_examples + train_spam * 6"
      ],
      "execution_count": null,
      "outputs": []
    },
    {
      "cell_type": "markdown",
      "source": [
        "Model will overfit on non spam data. Therefore we need to balance the dataset."
      ],
      "metadata": {
        "id": "UCX4JPpHIbwN"
      }
    },
    {
      "cell_type": "markdown",
      "metadata": {
        "id": "j7eUmBEva90r"
      },
      "source": [
        "### Part (f) [1 pt]\n",
        "\n",
        "We need to build the vocabulary on the training data by running the below code.\n",
        "This finds all the possible character tokens in the training set.\n",
        "\n",
        "Explain what the variables `text_field.vocab.stoi` and `text_field.vocab.itos` represent."
      ]
    },
    {
      "cell_type": "code",
      "metadata": {
        "id": "8CQM8flKa90s",
        "colab": {
          "base_uri": "https://localhost:8080/"
        },
        "outputId": "fc7c86c7-9d12-4f02-9a62-c52afefcff90"
      },
      "source": [
        "text_field.build_vocab(train)\n",
        "text_field.vocab.stoi\n",
        "#text_field.vocab.itos"
      ],
      "execution_count": null,
      "outputs": [
        {
          "output_type": "execute_result",
          "data": {
            "text/plain": [
              "defaultdict(<bound method Vocab._default_unk_index of <torchtext.vocab.Vocab object at 0x7f98bfae5c90>>,\n",
              "            {'<unk>': 0,\n",
              "             '<pad>': 1,\n",
              "             ' ': 2,\n",
              "             'e': 3,\n",
              "             'o': 4,\n",
              "             't': 5,\n",
              "             'a': 6,\n",
              "             'n': 7,\n",
              "             'r': 8,\n",
              "             'i': 9,\n",
              "             's': 10,\n",
              "             'l': 11,\n",
              "             'u': 12,\n",
              "             'h': 13,\n",
              "             '0': 14,\n",
              "             'd': 15,\n",
              "             '.': 16,\n",
              "             'c': 17,\n",
              "             'm': 18,\n",
              "             'y': 19,\n",
              "             'w': 20,\n",
              "             'p': 21,\n",
              "             'g': 22,\n",
              "             '1': 23,\n",
              "             'f': 24,\n",
              "             'b': 25,\n",
              "             '2': 26,\n",
              "             'T': 27,\n",
              "             '8': 28,\n",
              "             'k': 29,\n",
              "             'E': 30,\n",
              "             'v': 31,\n",
              "             'S': 32,\n",
              "             '5': 33,\n",
              "             'C': 34,\n",
              "             'O': 35,\n",
              "             'I': 36,\n",
              "             '4': 37,\n",
              "             'N': 38,\n",
              "             'A': 39,\n",
              "             '7': 40,\n",
              "             'x': 41,\n",
              "             '3': 42,\n",
              "             '6': 43,\n",
              "             '!': 44,\n",
              "             'R': 45,\n",
              "             ',': 46,\n",
              "             'U': 47,\n",
              "             'W': 48,\n",
              "             'P': 49,\n",
              "             '9': 50,\n",
              "             'M': 51,\n",
              "             'H': 52,\n",
              "             'L': 53,\n",
              "             'D': 54,\n",
              "             'G': 55,\n",
              "             'B': 56,\n",
              "             'F': 57,\n",
              "             'Y': 58,\n",
              "             '/': 59,\n",
              "             '?': 60,\n",
              "             \"'\": 61,\n",
              "             '£': 62,\n",
              "             '&': 63,\n",
              "             ':': 64,\n",
              "             '-': 65,\n",
              "             'z': 66,\n",
              "             'X': 67,\n",
              "             'V': 68,\n",
              "             'j': 69,\n",
              "             'K': 70,\n",
              "             '*': 71,\n",
              "             ')': 72,\n",
              "             'J': 73,\n",
              "             ';': 74,\n",
              "             '+': 75,\n",
              "             '\"': 76,\n",
              "             '(': 77,\n",
              "             'Q': 78,\n",
              "             'q': 79,\n",
              "             '#': 80,\n",
              "             '>': 81,\n",
              "             '@': 82,\n",
              "             '=': 83,\n",
              "             'Z': 84,\n",
              "             'ü': 85,\n",
              "             'Ü': 86,\n",
              "             '$': 87,\n",
              "             '‘': 88,\n",
              "             '<': 89,\n",
              "             '|': 90,\n",
              "             '_': 91,\n",
              "             '\\x92': 92,\n",
              "             '%': 93,\n",
              "             '[': 94,\n",
              "             ']': 95,\n",
              "             '\\x93': 96,\n",
              "             '¡': 97,\n",
              "             '…': 98,\n",
              "             '’': 99,\n",
              "             '–': 100,\n",
              "             '“': 101,\n",
              "             'é': 102,\n",
              "             '\\\\': 103,\n",
              "             '\\x96': 104,\n",
              "             '^': 105,\n",
              "             '~': 106,\n",
              "             '\\x91': 107,\n",
              "             '»': 108,\n",
              "             'É': 109,\n",
              "             'ì': 110,\n",
              "             '—': 111,\n",
              "             '┾': 112,\n",
              "             '〨': 113,\n",
              "             '鈥': 114})"
            ]
          },
          "metadata": {},
          "execution_count": 7
        }
      ]
    },
    {
      "cell_type": "code",
      "source": [
        "text_field.vocab.stoi.__len__()"
      ],
      "metadata": {
        "colab": {
          "base_uri": "https://localhost:8080/"
        },
        "id": "6pqmxmroxTKV",
        "outputId": "f9abd3f4-443a-4f07-ac7a-4e176f2c3e2e"
      },
      "execution_count": null,
      "outputs": [
        {
          "output_type": "execute_result",
          "data": {
            "text/plain": [
              "115"
            ]
          },
          "metadata": {},
          "execution_count": 8
        }
      ]
    },
    {
      "cell_type": "markdown",
      "source": [
        ".stoi - A collections.defaultdict instance mapping token strings to numerical identifiers.\n",
        "\n",
        ".itos - A list of token strings indexed by their numerical identifiers."
      ],
      "metadata": {
        "id": "7VV3B-rbJGNP"
      }
    },
    {
      "cell_type": "markdown",
      "metadata": {
        "id": "TC8WVE8Ua90u"
      },
      "source": [
        "### Part (g) [1 pt]\n",
        "\n",
        "The tokens `<unk>` and `<pad>` were not in our SMS text messages.\n",
        "What do these two values represent?"
      ]
    },
    {
      "cell_type": "markdown",
      "source": [
        "\"unk\" is an unknown token which replaces the rare words to unknown token.\n",
        "\n",
        "\"pad\" fills in the batches with padding so that each batch is the same length."
      ],
      "metadata": {
        "id": "0xwvVnEpLcGT"
      }
    },
    {
      "cell_type": "markdown",
      "metadata": {
        "id": "Ff5CNk7Qa90y"
      },
      "source": [
        "### Part (h) [1 pt]\n",
        "\n",
        "Since text sequences are of variable length, `torchtext` provides a `BucketIterator` data loader,\n",
        "which batches similar length sequences together. The iterator also provides functionalities to\n",
        "pad sequences automatically.\n",
        "\n",
        "Take a look at 10 batches in `train_iter`. What is the maximum length of the\n",
        "input sequence in each batch? How many `<pad>` tokens are used in each of the 10\n",
        "batches?"
      ]
    },
    {
      "cell_type": "code",
      "metadata": {
        "id": "V8N8qLWOa90y"
      },
      "source": [
        "train_iter = torchtext.legacy.data.BucketIterator(train,\n",
        "                                           batch_size=32,\n",
        "                                           sort_key=lambda x: len(x.sms), # to minimize padding\n",
        "                                           sort_within_batch=True,        # sort within each batch\n",
        "                                           repeat=False)                  # repeat the iterator for many epochs"
      ],
      "execution_count": null,
      "outputs": []
    },
    {
      "cell_type": "code",
      "metadata": {
        "id": "Qwz-rOaha902",
        "colab": {
          "base_uri": "https://localhost:8080/"
        },
        "outputId": "3190e3b3-4865-4bad-88a9-d40b15067b50"
      },
      "source": [
        "i =0\n",
        "\n",
        "for batch in train_iter:\n",
        "    if i<10:\n",
        "      print(\"length of maximum input sequence is:\",len(list(batch.sms)[0][0]))\n",
        "      a,_ = batch.sms\n",
        "      print(\"Number of pad tokens in a batch is:\",(a==1).sum().item())\n",
        "      i+=1\n"
      ],
      "execution_count": null,
      "outputs": [
        {
          "output_type": "stream",
          "name": "stdout",
          "text": [
            "length of maximum input sequence is: 69\n",
            "Number of pad tokens in a batch is: 37\n",
            "length of maximum input sequence is: 151\n",
            "Number of pad tokens in a batch is: 34\n",
            "length of maximum input sequence is: 133\n",
            "Number of pad tokens in a batch is: 38\n",
            "length of maximum input sequence is: 159\n",
            "Number of pad tokens in a batch is: 16\n",
            "length of maximum input sequence is: 197\n",
            "Number of pad tokens in a batch is: 533\n",
            "length of maximum input sequence is: 26\n",
            "Number of pad tokens in a batch is: 10\n",
            "length of maximum input sequence is: 157\n",
            "Number of pad tokens in a batch is: 0\n",
            "length of maximum input sequence is: 149\n",
            "Number of pad tokens in a batch is: 0\n",
            "length of maximum input sequence is: 146\n",
            "Number of pad tokens in a batch is: 24\n",
            "length of maximum input sequence is: 28\n",
            "Number of pad tokens in a batch is: 32\n"
          ]
        }
      ]
    },
    {
      "cell_type": "markdown",
      "metadata": {
        "id": "y7HnqP6_a904"
      },
      "source": [
        "## Part 2. Model Building [5 pt]\n",
        "\n",
        "Build a recurrent neural network model, using an architecture of your choosing. \n",
        "Use the one-hot embedding of each character as input to your recurrent network.\n",
        "Use one or more fully-connected layers to make the prediction based on your\n",
        "recurrent network output.\n",
        "\n",
        "Instead of using the RNN output value for the final token, another often used\n",
        "strategy is to max-pool over the entire output array. That is, instead of calling\n",
        "something like:\n",
        "\n",
        "```\n",
        "out, _ = self.rnn(x)\n",
        "self.fc(out[:, -1, :])\n",
        "```\n",
        "\n",
        "where `self.rnn` is an `nn.RNN`, `nn.GRU`, or `nn.LSTM` module, and `self.fc` is a \n",
        "fully-connected \n",
        "layer, we use:\n",
        "\n",
        "```\n",
        "out, _ = self.rnn(x)\n",
        "self.fc(torch.max(out, dim=1)[0])\n",
        "```\n",
        "\n",
        "This works reasonably in practice. An even better alternative is to concatenate the\n",
        "max-pooling and average-pooling of the RNN outputs:\n",
        "\n",
        "```\n",
        "out, _ = self.rnn(x)\n",
        "out = torch.cat([torch.max(out, dim=1)[0], \n",
        "                 torch.mean(out, dim=1)], dim=1)\n",
        "self.fc(out)\n",
        "```\n",
        "\n",
        "We encourage you to try out all these options. The way you pool the RNN outputs\n",
        "is one of the \"hyperparameters\" that you can choose to tune later on."
      ]
    },
    {
      "cell_type": "code",
      "metadata": {
        "id": "jHl1p_Wwa905"
      },
      "source": [
        "# You might find this code helpful for obtaining\n",
        "# PyTorch one-hot vectors.\n",
        "\n",
        "ident = torch.eye(116)\n",
        "print(ident[0]) # one-hot vector\n",
        "print(ident[1]) # one-hot vector\n",
        "x = torch.tensor([[1, 2], [3, 4]])\n",
        "print(ident[x]) # one-hot vectors"
      ],
      "execution_count": null,
      "outputs": []
    },
    {
      "cell_type": "code",
      "source": [
        "device = torch.device(\"cuda\")"
      ],
      "metadata": {
        "id": "9rUk93W5d41n"
      },
      "execution_count": null,
      "outputs": []
    },
    {
      "cell_type": "code",
      "source": [
        "text_field.build_vocab(train)\n"
      ],
      "metadata": {
        "id": "xN2XbzFMjhLY"
      },
      "execution_count": null,
      "outputs": []
    },
    {
      "cell_type": "code",
      "metadata": {
        "id": "4LTQ7zFka909"
      },
      "source": [
        "#Model1\n",
        "class RNN_1(nn.Module):\n",
        "\n",
        "    def __init__(self, input_size, hidden_size):\n",
        "        super(RNN_1, self).__init__()\n",
        "        self.emb = torch.eye(len(text_field.vocab.stoi))\n",
        "        self.hidden_size = hidden_size\n",
        "        self.rnn = nn.RNN_1(input_size,hidden_size, batch_first=True)\n",
        "        self.fc1 = nn.Linear(hidden_size, 32)\n",
        "        self.fc2 = nn.Linear(32,1)\n",
        "        self.sig = nn.Sigmoid()\n",
        "\n",
        "    def forward(self, x):\n",
        "        # Look up the embedding\n",
        "        x = self.emb[x]\n",
        "        x = x.to(device)\n",
        "        # Set an initial hidden state\n",
        "        h0 = torch.zeros(1, x.size(0), self.hidden_size).to(device)\n",
        "        # Forward propagate the RNN\n",
        "        out, _ = self.rnn(x)\n",
        "        # Pass the output of the last time step to the classifier\n",
        "        out = self.fc1(out[:, -1, :]) ###########\n",
        "        out = self.sig(self.fc2(out))\n",
        "        return out\n",
        "\n"
      ],
      "execution_count": null,
      "outputs": []
    },
    {
      "cell_type": "code",
      "source": [
        "#model2\n",
        "class RNN(nn.Module):\n",
        "\n",
        "    def __init__(self, input_size, hidden_size):\n",
        "        super(RNN, self).__init__()\n",
        "        self.emb = torch.eye(len(text_field.vocab.stoi))\n",
        "        self.hidden_size = hidden_size\n",
        "        self.rnn = nn.RNN(input_size,hidden_size, batch_first=True)\n",
        "        self.fc1 = nn.Linear(hidden_size, 32)\n",
        "        self.fc2 = nn.Linear(32,1)\n",
        "        self.sig = nn.Sigmoid()\n",
        "\n",
        "    def forward(self, x):\n",
        "        # Look up the embedding\n",
        "        x = self.emb[x]\n",
        "        x = x.to(device)\n",
        "        # Set an initial hidden state\n",
        "        h0 = torch.zeros(1, x.size(0), self.hidden_size).to(device)\n",
        "        # Forward propagate the RNN\n",
        "        out, _ = self.rnn(x)\n",
        "        # Pass the output of the last time step to the classifier\n",
        "        #out = self.fc1(out[:, -1, :]) ###########\n",
        "        out = self.fc1(torch.max(out, dim=1)[0])\n",
        "        out = self.sig(self.fc2(out))\n",
        "        return out\n",
        "\n",
        "\n"
      ],
      "metadata": {
        "id": "OHpIijhubEdD"
      },
      "execution_count": null,
      "outputs": []
    },
    {
      "cell_type": "markdown",
      "metadata": {
        "id": "vKIYPl_Ba90_"
      },
      "source": [
        "## Part 3. Training [8 pt]\n",
        "\n",
        "### Part (a) [2 pt]\n",
        "\n",
        "Complete the `get_accuracy` function, which will compute the\n",
        "accuracy (rate) of your model across a dataset (e.g. validation set).\n",
        "You may modify `torchtext.data.BucketIterator` to make your computation\n",
        "faster."
      ]
    },
    {
      "cell_type": "code",
      "source": [
        "def get_accuracy(model, data_loader):\n",
        "    correct, total = 0, 0\n",
        "    for batch in data_loader:\n",
        "        batch.label = batch.label.to(device)\n",
        "        e, _ = batch.sms  \n",
        "        e = e.to(device)         \n",
        "        pred = model(e)\n",
        "        pred = torch.round(pred)\n",
        "        correct += pred.squeeze().eq(batch.label).sum().item()\n",
        "        total += batch.label.shape[0]\n",
        "    return correct / total"
      ],
      "metadata": {
        "id": "S--ZCQMmkB7f"
      },
      "execution_count": null,
      "outputs": []
    },
    {
      "cell_type": "markdown",
      "metadata": {
        "id": "TlxlcAC1a91C"
      },
      "source": [
        "### Part (b) [2 pt]\n",
        "\n",
        "Train your model. Plot the training curve of your final model. \n",
        "Your training curve should have the training/validation loss and\n",
        "accuracy plotted periodically.\n",
        "\n",
        "Note: Not all of your batches will have the same batch size.\n",
        "In particular, if your training set does not divide evenly by\n",
        "your batch size, there will be a batch that is smaller than\n",
        "the rest. "
      ]
    },
    {
      "cell_type": "code",
      "metadata": {
        "id": "A2GEWfDca91G"
      },
      "source": [
        "from matplotlib import pyplot as plt\n",
        "def train_rnn_network(model, train, valid, num_epochs=25, learning_rate=1e-4):\n",
        "    criterion = nn.BCELoss()\n",
        "    optimizer = torch.optim.Adam(model.parameters(), lr=learning_rate)\n",
        "    losses, train_acc, valid_acc = [], [], []\n",
        "    epochs = []\n",
        "    #actual_train = list(train)\n",
        "    for epoch in range(num_epochs):\n",
        "        i = 0\n",
        "        for batch in train:\n",
        "            optimizer.zero_grad()\n",
        "            batch.label = batch.label.to(device)\n",
        "            e , _ = batch.sms  \n",
        "            e = e.to(device)          \n",
        "            pred = model(e)\n",
        "            loss = criterion(pred.squeeze(), batch.label.float())\n",
        "            loss.backward()\n",
        "            optimizer.step()\n",
        "        losses.append(float(loss))\n",
        "        epochs.append(epoch)\n",
        "        train_acc.append(get_accuracy(model, train))\n",
        "        valid_acc.append(get_accuracy(model, valid))\n",
        "        print(\"Epoch %d; Loss %f; Train Acc %f; Val Acc %f\" % (\n",
        "              epoch+1, loss, train_acc[-1], valid_acc[-1]))\n",
        "          # plotting\n",
        "\n",
        "    plt.title(\"Training Curve\")\n",
        "    plt.plot(losses, label=\"Train\")\n",
        "    plt.xlabel(\"Epoch\")\n",
        "    plt.ylabel(\"Loss\")\n",
        "    plt.show()\n",
        "\n",
        "\n",
        "    plt.title(\"Training Curve\")\n",
        "    plt.plot(epochs, train_acc, label=\"Train\")\n",
        "    plt.plot(epochs, valid_acc, label=\"Validation\")\n",
        "    plt.xlabel(\"Epoch\")\n",
        "    plt.ylabel(\"Accuracy\")\n",
        "    plt.legend(loc='best')\n",
        "    plt.show()"
      ],
      "execution_count": null,
      "outputs": []
    },
    {
      "cell_type": "code",
      "source": [
        "train_iter = torchtext.legacy.data.BucketIterator(train,\n",
        "\n",
        "                                           batch_size=32,\n",
        "\n",
        "                                           sort_key=lambda x: len(x.sms), # to minimize padding\n",
        "\n",
        "                                           sort_within_batch=True,        # sort within each batch\n",
        "\n",
        "                                           repeat=False)                  # repeat the iterator for many epochs\n",
        "\n",
        "\n",
        "\n",
        "valid_iter = torchtext.legacy.data.BucketIterator(valid,\n",
        "\n",
        "                                           batch_size=32,\n",
        "\n",
        "                                           sort_key=lambda x: len(x.sms), # to minimize padding\n",
        "\n",
        "                                           sort_within_batch=True,        # sort within each batch\n",
        "\n",
        "                                           repeat=False)                  # repeat the iterator for many epochs"
      ],
      "metadata": {
        "id": "arwfGFSBcePA"
      },
      "execution_count": null,
      "outputs": []
    },
    {
      "cell_type": "code",
      "source": [
        "#MODEL1\n",
        "model = RNN_1(len(text_field.vocab.stoi),50).to(device) # regular model\n",
        "train_rnn_network(model, train_iter,valid_iter, num_epochs=25, learning_rate=1e-4)"
      ],
      "metadata": {
        "colab": {
          "base_uri": "https://localhost:8080/",
          "height": 1000
        },
        "id": "fsCI6LyNef4V",
        "outputId": "6369436b-4c50-4ae2-e647-5dbcc0c38c61"
      },
      "execution_count": null,
      "outputs": [
        {
          "output_type": "stream",
          "name": "stdout",
          "text": [
            "Epoch 1; Loss 0.666501; Train Acc 0.519980; Val Acc 0.134529\n",
            "Epoch 2; Loss 0.670698; Train Acc 0.841154; Val Acc 0.780269\n",
            "Epoch 3; Loss 0.270880; Train Acc 0.919582; Val Acc 0.937220\n",
            "Epoch 4; Loss 0.355612; Train Acc 0.892555; Val Acc 0.946188\n",
            "Epoch 5; Loss 0.124861; Train Acc 0.929862; Val Acc 0.943498\n",
            "Epoch 6; Loss 0.169392; Train Acc 0.944619; Val Acc 0.936323\n",
            "Epoch 7; Loss 0.249204; Train Acc 0.917095; Val Acc 0.935426\n",
            "Epoch 8; Loss 0.056009; Train Acc 0.945117; Val Acc 0.939910\n",
            "Epoch 9; Loss 0.309214; Train Acc 0.951252; Val Acc 0.948879\n",
            "Epoch 10; Loss 0.244066; Train Acc 0.947438; Val Acc 0.956951\n",
            "Epoch 11; Loss 0.033861; Train Acc 0.948931; Val Acc 0.946188\n",
            "Epoch 12; Loss 0.137643; Train Acc 0.934339; Val Acc 0.963229\n",
            "Epoch 13; Loss 0.733969; Train Acc 0.923562; Val Acc 0.969507\n",
            "Epoch 14; Loss 0.313156; Train Acc 0.908805; Val Acc 0.923767\n",
            "Epoch 15; Loss 0.042046; Train Acc 0.955895; Val Acc 0.950673\n",
            "Epoch 16; Loss 0.032426; Train Acc 0.959708; Val Acc 0.958744\n",
            "Epoch 17; Loss 0.053383; Train Acc 0.963190; Val Acc 0.965022\n",
            "Epoch 18; Loss 0.009311; Train Acc 0.958548; Val Acc 0.970404\n",
            "Epoch 19; Loss 0.017213; Train Acc 0.961366; Val Acc 0.958744\n",
            "Epoch 20; Loss 0.041447; Train Acc 0.929862; Val Acc 0.974888\n",
            "Epoch 21; Loss 0.035997; Train Acc 0.963853; Val Acc 0.971300\n",
            "Epoch 22; Loss 0.031326; Train Acc 0.960869; Val Acc 0.942601\n",
            "Epoch 23; Loss 0.036424; Train Acc 0.965677; Val Acc 0.952466\n",
            "Epoch 24; Loss 0.512003; Train Acc 0.966341; Val Acc 0.960538\n",
            "Epoch 25; Loss 0.058203; Train Acc 0.967999; Val Acc 0.970404\n"
          ]
        },
        {
          "output_type": "display_data",
          "data": {
            "text/plain": [
              "<Figure size 432x288 with 1 Axes>"
            ],
            "image/png": "[encoded data removed]"
          },
          "metadata": {
            "needs_background": "light"
          }
        },
        {
          "output_type": "display_data",
          "data": {
            "text/plain": [
              "<Figure size 432x288 with 1 Axes>"
            ],
            "image/png": "[encoded data removed]"
          },
          "metadata": {
            "needs_background": "light"
          }
        }
      ]
    },
    {
      "cell_type": "markdown",
      "metadata": {
        "id": "fE3eRkDAa91F"
      },
      "source": [
        "### Part (c) [2 pt]\n",
        "\n",
        "Choose at least 4 hyperparameters to tune. Explain how you tuned the hyperparameters.\n",
        "You don't need to include your training curve for every model you trained.\n",
        "Instead, explain what hyperparemters you tuned, what the best validation accuracy was,\n",
        "and the reasoning behind the hyperparameter decisions you made.\n",
        "\n",
        "For this assignment, you should tune more than just your learning rate and epoch. \n",
        "Choose at least 2 hyperparameters that are unrelated to the optimizer."
      ]
    },
    {
      "cell_type": "code",
      "source": [
        "#MODEL 2\n",
        "model = RNN(len(text_field.vocab.stoi),50).to(device) # max output model\n",
        "train_rnn_network(model, train_iter,valid_iter, num_epochs=25, learning_rate=1e-4)\n",
        "#get_accuracy(model,test_loader)"
      ],
      "metadata": {
        "colab": {
          "base_uri": "https://localhost:8080/",
          "height": 1000
        },
        "id": "6vzfL1H8deTD",
        "outputId": "189bbd88-6533-42e3-e70c-8ddbb8792212"
      },
      "execution_count": null,
      "outputs": [
        {
          "output_type": "stream",
          "name": "stdout",
          "text": [
            "Epoch 1; Loss 0.643074; Train Acc 0.519980; Val Acc 0.134529\n",
            "Epoch 2; Loss 0.712932; Train Acc 0.526115; Val Acc 0.143498\n",
            "Epoch 3; Loss 0.387528; Train Acc 0.853258; Val Acc 0.955157\n",
            "Epoch 4; Loss 0.400473; Train Acc 0.566407; Val Acc 0.228700\n",
            "Epoch 5; Loss 0.425286; Train Acc 0.756425; Val Acc 0.586547\n",
            "Epoch 6; Loss 0.366272; Train Acc 0.934671; Val Acc 0.895067\n",
            "Epoch 7; Loss 0.292001; Train Acc 0.953407; Val Acc 0.946188\n",
            "Epoch 8; Loss 0.168447; Train Acc 0.952578; Val Acc 0.938117\n",
            "Epoch 9; Loss 0.301429; Train Acc 0.952247; Val Acc 0.933632\n",
            "Epoch 10; Loss 0.393163; Train Acc 0.953739; Val Acc 0.944395\n",
            "Epoch 11; Loss 0.081122; Train Acc 0.956558; Val Acc 0.946188\n",
            "Epoch 12; Loss 0.144300; Train Acc 0.959377; Val Acc 0.947085\n",
            "Epoch 13; Loss 0.087710; Train Acc 0.960371; Val Acc 0.947982\n",
            "Epoch 14; Loss 0.211413; Train Acc 0.960869; Val Acc 0.945291\n",
            "Epoch 15; Loss 0.072050; Train Acc 0.960869; Val Acc 0.954260\n",
            "Epoch 16; Loss 0.079313; Train Acc 0.963024; Val Acc 0.959641\n",
            "Epoch 17; Loss 0.170469; Train Acc 0.964682; Val Acc 0.962332\n",
            "Epoch 18; Loss 0.019908; Train Acc 0.966838; Val Acc 0.962332\n",
            "Epoch 19; Loss 0.036451; Train Acc 0.969325; Val Acc 0.963229\n",
            "Epoch 20; Loss 0.049060; Train Acc 0.971646; Val Acc 0.960538\n",
            "Epoch 21; Loss 0.023640; Train Acc 0.967999; Val Acc 0.971300\n",
            "Epoch 22; Loss 0.013330; Train Acc 0.974797; Val Acc 0.962332\n",
            "Epoch 23; Loss 0.044004; Train Acc 0.975626; Val Acc 0.965022\n",
            "Epoch 24; Loss 0.282823; Train Acc 0.973636; Val Acc 0.969507\n",
            "Epoch 25; Loss 0.046091; Train Acc 0.973968; Val Acc 0.972197\n"
          ]
        },
        {
          "output_type": "display_data",
          "data": {
            "text/plain": [
              "<Figure size 432x288 with 1 Axes>"
            ],
            "image/png": "[encoded data removed]"
          },
          "metadata": {
            "needs_background": "light"
          }
        },
        {
          "output_type": "display_data",
          "data": {
            "text/plain": [
              "<Figure size 432x288 with 1 Axes>"
            ],
            "image/png": "[encoded data removed]"
          },
          "metadata": {
            "needs_background": "light"
          }
        }
      ]
    },
    {
      "cell_type": "markdown",
      "source": [
        "We can see that the second model performs slightly better"
      ],
      "metadata": {
        "id": "oBTlO81Se8j5"
      }
    },
    {
      "cell_type": "code",
      "source": [
        "train_iter = torchtext.legacy.data.BucketIterator(train,\n",
        "\n",
        "                                           batch_size=64,\n",
        "\n",
        "                                           sort_key=lambda x: len(x.sms), # to minimize padding\n",
        "\n",
        "                                           sort_within_batch=True,        # sort within each batch\n",
        "\n",
        "                                           repeat=False)                  # repeat the iterator for many epochs\n",
        "\n",
        "\n",
        "\n",
        "valid_iter = torchtext.legacy.data.BucketIterator(valid,\n",
        "\n",
        "                                           batch_size=64,\n",
        "\n",
        "                                           sort_key=lambda x: len(x.sms), # to minimize padding\n",
        "\n",
        "                                           sort_within_batch=True,        # sort within each batch\n",
        "\n",
        "                                           repeat=False)                  # repeat the iterator for many epochs\n",
        "model = RNN(len(text_field.vocab.stoi),50).to(device) # max output model\n",
        "train_rnn_network(model, train_iter,valid_iter, num_epochs=25, learning_rate=1e-4)"
      ],
      "metadata": {
        "colab": {
          "base_uri": "https://localhost:8080/",
          "height": 1000
        },
        "id": "NufKNV87gmMy",
        "outputId": "55e8486e-9485-49b6-c6d6-1cd439843971"
      },
      "execution_count": null,
      "outputs": [
        {
          "output_type": "stream",
          "name": "stdout",
          "text": [
            "Epoch 1; Loss 0.688295; Train Acc 0.822418; Val Acc 0.798206\n",
            "Epoch 2; Loss 0.678612; Train Acc 0.536727; Val Acc 0.167713\n",
            "Epoch 3; Loss 0.717076; Train Acc 0.533245; Val Acc 0.157848\n",
            "Epoch 4; Loss 0.690670; Train Acc 0.632233; Val Acc 0.347085\n",
            "Epoch 5; Loss 0.535159; Train Acc 0.933344; Val Acc 0.921973\n",
            "Epoch 6; Loss 0.582545; Train Acc 0.899519; Val Acc 0.867265\n",
            "Epoch 7; Loss 0.562952; Train Acc 0.928038; Val Acc 0.953363\n",
            "Epoch 8; Loss 0.517520; Train Acc 0.934008; Val Acc 0.953363\n",
            "Epoch 9; Loss 0.328806; Train Acc 0.898524; Val Acc 0.973094\n",
            "Epoch 10; Loss 0.361704; Train Acc 0.938319; Val Acc 0.967713\n",
            "Epoch 11; Loss 0.296263; Train Acc 0.948931; Val Acc 0.960538\n",
            "Epoch 12; Loss 0.084939; Train Acc 0.936329; Val Acc 0.977578\n",
            "Epoch 13; Loss 0.054383; Train Acc 0.955729; Val Acc 0.934529\n",
            "Epoch 14; Loss 0.096660; Train Acc 0.963190; Val Acc 0.957848\n",
            "Epoch 15; Loss 0.182955; Train Acc 0.960703; Val Acc 0.965919\n",
            "Epoch 16; Loss 0.209679; Train Acc 0.963024; Val Acc 0.967713\n",
            "Epoch 17; Loss 0.113543; Train Acc 0.962361; Val Acc 0.970404\n",
            "Epoch 18; Loss 0.029152; Train Acc 0.967335; Val Acc 0.956054\n",
            "Epoch 19; Loss 0.029740; Train Acc 0.960206; Val Acc 0.973991\n",
            "Epoch 20; Loss 0.131017; Train Acc 0.946609; Val Acc 0.977578\n",
            "Epoch 21; Loss 0.099072; Train Acc 0.967170; Val Acc 0.965919\n",
            "Epoch 22; Loss 0.044713; Train Acc 0.956226; Val Acc 0.976682\n",
            "Epoch 23; Loss 0.087220; Train Acc 0.970320; Val Acc 0.966816\n",
            "Epoch 24; Loss 0.163082; Train Acc 0.971978; Val Acc 0.965919\n",
            "Epoch 25; Loss 0.044611; Train Acc 0.971812; Val Acc 0.967713\n"
          ]
        },
        {
          "output_type": "display_data",
          "data": {
            "text/plain": [
              "<Figure size 432x288 with 1 Axes>"
            ],
            "image/png": "[encoded data removed]"
          },
          "metadata": {
            "needs_background": "light"
          }
        },
        {
          "output_type": "display_data",
          "data": {
            "text/plain": [
              "<Figure size 432x288 with 1 Axes>"
            ],
            "image/png": "[encoded data removed]"
          },
          "metadata": {
            "needs_background": "light"
          }
        }
      ]
    },
    {
      "cell_type": "markdown",
      "source": [
        "We get slightly better accuracy for a batch size of 64 and 25 epochs.The best accuracy so far is 97.75"
      ],
      "metadata": {
        "id": "ZHC15-pAofaj"
      }
    },
    {
      "cell_type": "code",
      "source": [
        "train_iter = torchtext.legacy.data.BucketIterator(train,\n",
        "\n",
        "                                           batch_size=64,\n",
        "\n",
        "                                           sort_key=lambda x: len(x.sms), # to minimize padding\n",
        "\n",
        "                                           sort_within_batch=True,        # sort within each batch\n",
        "\n",
        "                                           repeat=False)                  # repeat the iterator for many epochs\n",
        "\n",
        "\n",
        "\n",
        "valid_iter = torchtext.legacy.data.BucketIterator(valid,\n",
        "\n",
        "                                           batch_size=64,\n",
        "\n",
        "                                           sort_key=lambda x: len(x.sms), # to minimize padding\n",
        "\n",
        "                                           sort_within_batch=True,        # sort within each batch\n",
        "\n",
        "                                           repeat=False)                  # repeat the iterator for many epochs\n",
        "model = RNN(len(text_field.vocab.stoi),50).to(device) # max output model\n",
        "train_rnn_network(model, train_iter,valid_iter, num_epochs=25, learning_rate=1e-3)"
      ],
      "metadata": {
        "colab": {
          "base_uri": "https://localhost:8080/",
          "height": 1000
        },
        "id": "DzeybxGwpnIa",
        "outputId": "b42745ed-c0cc-41fa-d3fb-5a6f29afe1d9"
      },
      "execution_count": null,
      "outputs": [
        {
          "output_type": "stream",
          "name": "stdout",
          "text": [
            "Epoch 1; Loss 0.440638; Train Acc 0.930360; Val Acc 0.902242\n",
            "Epoch 2; Loss 0.116365; Train Acc 0.959211; Val Acc 0.964126\n",
            "Epoch 3; Loss 0.202328; Train Acc 0.971481; Val Acc 0.957848\n",
            "Epoch 4; Loss 0.163038; Train Acc 0.973802; Val Acc 0.969507\n",
            "Epoch 5; Loss 0.512040; Train Acc 0.974134; Val Acc 0.977578\n",
            "Epoch 6; Loss 0.133581; Train Acc 0.981595; Val Acc 0.973094\n",
            "Epoch 7; Loss 0.033283; Train Acc 0.983916; Val Acc 0.974888\n",
            "Epoch 8; Loss 0.246456; Train Acc 0.978776; Val Acc 0.952466\n",
            "Epoch 9; Loss 0.016736; Train Acc 0.993036; Val Acc 0.979372\n",
            "Epoch 10; Loss 0.007209; Train Acc 0.992870; Val Acc 0.978475\n",
            "Epoch 11; Loss 0.004584; Train Acc 0.987233; Val Acc 0.977578\n",
            "Epoch 12; Loss 0.001774; Train Acc 0.996684; Val Acc 0.979372\n",
            "Epoch 13; Loss 0.003607; Train Acc 0.998176; Val Acc 0.979372\n",
            "Epoch 14; Loss 0.010192; Train Acc 0.996352; Val Acc 0.980269\n",
            "Epoch 15; Loss 0.000517; Train Acc 0.996352; Val Acc 0.980269\n",
            "Epoch 16; Loss 0.015077; Train Acc 0.999834; Val Acc 0.978475\n",
            "Epoch 17; Loss 0.002496; Train Acc 0.999834; Val Acc 0.981166\n",
            "Epoch 18; Loss 0.000110; Train Acc 1.000000; Val Acc 0.979372\n",
            "Epoch 19; Loss 0.001495; Train Acc 1.000000; Val Acc 0.979372\n",
            "Epoch 20; Loss 0.003027; Train Acc 1.000000; Val Acc 0.979372\n",
            "Epoch 21; Loss 0.001133; Train Acc 1.000000; Val Acc 0.979372\n",
            "Epoch 22; Loss 0.000111; Train Acc 1.000000; Val Acc 0.979372\n",
            "Epoch 23; Loss 0.000129; Train Acc 1.000000; Val Acc 0.978475\n",
            "Epoch 24; Loss 0.000865; Train Acc 1.000000; Val Acc 0.980269\n",
            "Epoch 25; Loss 0.000080; Train Acc 1.000000; Val Acc 0.980269\n"
          ]
        },
        {
          "output_type": "display_data",
          "data": {
            "text/plain": [
              "<Figure size 432x288 with 1 Axes>"
            ],
            "image/png": "[encoded data removed]"
          },
          "metadata": {
            "needs_background": "light"
          }
        },
        {
          "output_type": "display_data",
          "data": {
            "text/plain": [
              "<Figure size 432x288 with 1 Axes>"
            ],
            "image/png": "[encoded data removed]"
          },
          "metadata": {
            "needs_background": "light"
          }
        }
      ]
    },
    {
      "cell_type": "markdown",
      "source": [
        "Increasing the learning rate gave us better accuracy."
      ],
      "metadata": {
        "id": "65AKUioCqLSR"
      }
    },
    {
      "cell_type": "code",
      "source": [
        "train_iter = torchtext.legacy.data.BucketIterator(train,\n",
        "\n",
        "                                           batch_size=64,\n",
        "\n",
        "                                           sort_key=lambda x: len(x.sms), # to minimize padding\n",
        "\n",
        "                                           sort_within_batch=True,        # sort within each batch\n",
        "\n",
        "                                           repeat=False)                  # repeat the iterator for many epochs\n",
        "\n",
        "\n",
        "\n",
        "valid_iter = torchtext.legacy.data.BucketIterator(valid,\n",
        "\n",
        "                                           batch_size=64,\n",
        "\n",
        "                                           sort_key=lambda x: len(x.sms), # to minimize padding\n",
        "\n",
        "                                           sort_within_batch=True,        # sort within each batch\n",
        "\n",
        "                                           repeat=False)                  # repeat the iterator for many epochs\n",
        "model = RNN(len(text_field.vocab.stoi),100).to(device) # max output model\n",
        "train_rnn_network(model, train_iter,valid_iter, num_epochs=12, learning_rate=1e-3)"
      ],
      "metadata": {
        "colab": {
          "base_uri": "https://localhost:8080/",
          "height": 781
        },
        "id": "-gvOP1iqqWWH",
        "outputId": "8da900a7-28f1-4099-a90b-bca85cc8c26e"
      },
      "execution_count": null,
      "outputs": [
        {
          "output_type": "stream",
          "name": "stdout",
          "text": [
            "Epoch 1; Loss 0.115662; Train Acc 0.808489; Val Acc 0.961435\n",
            "Epoch 2; Loss 0.047110; Train Acc 0.958050; Val Acc 0.971300\n",
            "Epoch 3; Loss 0.093745; Train Acc 0.965014; Val Acc 0.964126\n",
            "Epoch 4; Loss 0.207335; Train Acc 0.973305; Val Acc 0.971300\n",
            "Epoch 5; Loss 0.010883; Train Acc 0.974631; Val Acc 0.976682\n",
            "Epoch 6; Loss 0.065281; Train Acc 0.962527; Val Acc 0.980269\n",
            "Epoch 7; Loss 0.015247; Train Acc 0.985740; Val Acc 0.977578\n",
            "Epoch 8; Loss 0.004876; Train Acc 0.985243; Val Acc 0.979372\n",
            "Epoch 9; Loss 0.282785; Train Acc 0.989886; Val Acc 0.968610\n",
            "Epoch 10; Loss 0.035232; Train Acc 0.996186; Val Acc 0.978475\n",
            "Epoch 11; Loss 0.033355; Train Acc 0.999005; Val Acc 0.985650\n",
            "Epoch 12; Loss 0.005834; Train Acc 0.999668; Val Acc 0.982960\n"
          ]
        },
        {
          "output_type": "display_data",
          "data": {
            "text/plain": [
              "<Figure size 432x288 with 1 Axes>"
            ],
            "image/png": "[encoded data removed]"
          },
          "metadata": {
            "needs_background": "light"
          }
        },
        {
          "output_type": "display_data",
          "data": {
            "text/plain": [
              "<Figure size 432x288 with 1 Axes>"
            ],
            "image/png": "[encoded data removed]"
          },
          "metadata": {
            "needs_background": "light"
          }
        }
      ]
    },
    {
      "cell_type": "markdown",
      "source": [
        "So, using the second model, batchsize of 64, learning rate of 1e-3, epochs =12 and adjusting the hiddensize to 100, we get the best model."
      ],
      "metadata": {
        "id": "J8b-O5s5qlfy"
      }
    },
    {
      "cell_type": "markdown",
      "metadata": {
        "id": "v7DY56rKa91I"
      },
      "source": [
        "### Part (d) [1 pt]\n",
        "\n",
        "Before we deploy a machine learning model, we usually want to have a better understanding\n",
        "of how our model performs beyond its validation accuracy. An important metric to track is\n",
        "*how well our model performs in certain subsets of the data*.\n",
        "\n",
        "In particular, what is the model's error rate amongst data with negative labels?\n",
        "This is called the **false positive rate**.\n",
        "\n",
        "What about the model's error rate amongst data with positive labels?\n",
        "This is called the **false negative rate**.\n",
        "\n",
        "Report your final model's false positive and false negative rate across the\n",
        "validation set."
      ]
    },
    {
      "cell_type": "code",
      "metadata": {
        "id": "7ggbQSdba91J"
      },
      "source": [
        "# Create a Dataset of only spam validation examples\n",
        "valid_spam = torchtext.legacy.data.Dataset(\n",
        "    [e for e in valid.examples if e.label == 1],\n",
        "    valid.fields)\n",
        "# Create a Dataset of only non-spam validation examples\n",
        "valid_nospam = torchtext.legacy.data.Dataset(\n",
        "    [e for e in valid.examples if e.label == 0],\n",
        "    valid.fields)"
      ],
      "execution_count": null,
      "outputs": []
    },
    {
      "cell_type": "code",
      "source": [
        "\n",
        "valid_iter_spam = torchtext.legacy.data.BucketIterator(valid_spam,\n",
        "\n",
        "                                           batch_size=64,\n",
        "\n",
        "                                           sort_key=lambda x: len(x.sms), # to minimize padding\n",
        "\n",
        "                                           sort_within_batch=True,        # sort within each batch\n",
        "\n",
        "                                           repeat=False)  "
      ],
      "metadata": {
        "id": "s0pcdeNrtvcJ"
      },
      "execution_count": null,
      "outputs": []
    },
    {
      "cell_type": "code",
      "source": [
        "get_accuracy(model,valid_iter_spam)"
      ],
      "metadata": {
        "colab": {
          "base_uri": "https://localhost:8080/"
        },
        "id": "NSe9Pgirty3e",
        "outputId": "e6670d1f-e364-4d13-d18c-ed265bf56d73"
      },
      "execution_count": null,
      "outputs": [
        {
          "output_type": "execute_result",
          "data": {
            "text/plain": [
              "0.94"
            ]
          },
          "metadata": {},
          "execution_count": 21
        }
      ]
    },
    {
      "cell_type": "markdown",
      "source": [
        "False positive rate of our model is 0.06"
      ],
      "metadata": {
        "id": "siOvqWmuE6Oi"
      }
    },
    {
      "cell_type": "code",
      "source": [
        "\n",
        "valid_iter_nospam = torchtext.legacy.data.BucketIterator(valid_nospam,\n",
        "\n",
        "                                           batch_size=64,\n",
        "\n",
        "                                           sort_key=lambda x: len(x.sms), # to minimize padding\n",
        "\n",
        "                                           sort_within_batch=True,        # sort within each batch\n",
        "\n",
        "                                           repeat=False)  "
      ],
      "metadata": {
        "id": "L5oVzz2qtyu-"
      },
      "execution_count": null,
      "outputs": []
    },
    {
      "cell_type": "code",
      "source": [
        "get_accuracy(model,valid_iter_nospam)"
      ],
      "metadata": {
        "colab": {
          "base_uri": "https://localhost:8080/"
        },
        "id": "guDU7y6vuJRB",
        "outputId": "6857df2a-4a4c-4e40-edff-b69da142ab53"
      },
      "execution_count": null,
      "outputs": [
        {
          "output_type": "execute_result",
          "data": {
            "text/plain": [
              "0.9906735751295337"
            ]
          },
          "metadata": {},
          "execution_count": 23
        }
      ]
    },
    {
      "cell_type": "markdown",
      "source": [
        "False negative rate of our model is 0.0094"
      ],
      "metadata": {
        "id": "CFaXZ4VauQA5"
      }
    },
    {
      "cell_type": "markdown",
      "metadata": {
        "id": "N1iRteb3a91O"
      },
      "source": [
        "### Part (e) [1 pt]\n",
        "\n",
        "The impact of a false positive vs a false negative can be drastically different.\n",
        "If our spam detection algorithm was deployed on your phone, what is the impact\n",
        "of a false positive on the phone's user? What is the impact of a false negative?"
      ]
    },
    {
      "cell_type": "markdown",
      "source": [
        "False positive will anger the user. If its not spam and we classify it as spam the user might miss out on an important message.\n",
        "\n",
        "False negative wouldn't matter much to the user as we have just incorrectly classified spam as non spam and they can always ignore it."
      ],
      "metadata": {
        "id": "-BsuwVlmGc2R"
      }
    },
    {
      "cell_type": "markdown",
      "metadata": {
        "id": "Gznefulsa91V"
      },
      "source": [
        "## Part 4. Evaluation [7 pt]\n",
        "\n",
        "### Part (a) [1 pt]\n",
        "\n",
        "Report the final test accuracy of your model."
      ]
    },
    {
      "cell_type": "code",
      "metadata": {
        "id": "D5L5D-A1a91W",
        "colab": {
          "base_uri": "https://localhost:8080/"
        },
        "outputId": "800ef2e0-a654-4e94-bbcf-ad5cc348765f"
      },
      "source": [
        "test_iter = torchtext.legacy.data.BucketIterator(test,\n",
        "\n",
        "                                           batch_size=64,\n",
        "\n",
        "                                           sort_key=lambda x: len(x.sms), # to minimize padding\n",
        "\n",
        "                                           sort_within_batch=True,        # sort within each batch\n",
        "\n",
        "                                           repeat=False)  \n",
        "get_accuracy(model,test_iter)"
      ],
      "execution_count": null,
      "outputs": [
        {
          "output_type": "execute_result",
          "data": {
            "text/plain": [
              "0.9874326750448833"
            ]
          },
          "metadata": {},
          "execution_count": 24
        }
      ]
    },
    {
      "cell_type": "markdown",
      "metadata": {
        "id": "6Hjmd8rca91Y"
      },
      "source": [
        "### Part (b) [1 pt]\n",
        "\n",
        "Report the false positive rate and false negative rate of your model across the test set."
      ]
    },
    {
      "cell_type": "code",
      "metadata": {
        "id": "GFiAKztJa91Z"
      },
      "source": [
        "# Create a Dataset of only spam validation examples\n",
        "test_spam = torchtext.legacy.data.Dataset(\n",
        "    [e for e in test.examples if e.label == 1],\n",
        "    test.fields)\n",
        "# Create a Dataset of only non-spam validation examples\n",
        "test_nospam = torchtext.legacy.data.Dataset(\n",
        "    [e for e in test.examples if e.label == 0],\n",
        "    test.fields)\n",
        "test_iter_nospam = torchtext.legacy.data.BucketIterator(test_nospam,\n",
        "\n",
        "                                           batch_size=64,\n",
        "\n",
        "                                           sort_key=lambda x: len(x.sms), # to minimize padding\n",
        "\n",
        "                                           sort_within_batch=True,        # sort within each batch\n",
        "\n",
        "                                           repeat=False)\n",
        "test_iter_spam = torchtext.legacy.data.BucketIterator(test_spam,\n",
        "\n",
        "                                           batch_size=64,\n",
        "\n",
        "                                           sort_key=lambda x: len(x.sms), # to minimize padding\n",
        "\n",
        "                                           sort_within_batch=True,        # sort within each batch\n",
        "\n",
        "                                           repeat=False)"
      ],
      "execution_count": null,
      "outputs": []
    },
    {
      "cell_type": "code",
      "source": [
        "get_accuracy(model,test_iter_nospam)"
      ],
      "metadata": {
        "colab": {
          "base_uri": "https://localhost:8080/"
        },
        "id": "VWs6fsyBw0gY",
        "outputId": "6f9ee64f-6437-4dce-9c81-a3d7ba97b10e"
      },
      "execution_count": null,
      "outputs": [
        {
          "output_type": "execute_result",
          "data": {
            "text/plain": [
              "0.9927461139896373"
            ]
          },
          "metadata": {},
          "execution_count": 26
        }
      ]
    },
    {
      "cell_type": "code",
      "source": [
        "get_accuracy(model,test_iter_spam)"
      ],
      "metadata": {
        "colab": {
          "base_uri": "https://localhost:8080/"
        },
        "id": "AHJUh7GyxPiP",
        "outputId": "dd53cf96-f531-4953-fa73-03175e3b1d74"
      },
      "execution_count": null,
      "outputs": [
        {
          "output_type": "execute_result",
          "data": {
            "text/plain": [
              "0.9463087248322147"
            ]
          },
          "metadata": {},
          "execution_count": 27
        }
      ]
    },
    {
      "cell_type": "code",
      "source": [
        "#Confusion matrix\n",
        "\n",
        "valid_iter = torchtext.legacy.data.BucketIterator(valid,\n",
        "\n",
        "                                           batch_size=1,\n",
        "\n",
        "                                           sort_key=lambda x: len(x.sms), # to minimize padding\n",
        "\n",
        "                                           sort_within_batch=True,        # sort within each batch\n",
        "\n",
        "                                           repeat=False) \n",
        "pred_list=[]\n",
        "actual_list=[]\n",
        "correct, total = 0, 0\n",
        "for batch in valid_iter:\n",
        "    batch.label = batch.label.to(device)\n",
        "    e, _ = batch.sms  \n",
        "    e = e.to(device)         \n",
        "    pred = model(e)\n",
        "    pred = torch.round(pred)\n",
        "    pred_list.append(int(pred.item()))\n",
        "    actual_list.append(batch.label.item())\n",
        "\n",
        "pred_list = torch.tensor((np.array(pred_list)))\n",
        "actual_list = torch.tensor((np.array(actual_list)))"
      ],
      "metadata": {
        "id": "N1Xm0xpP0YEr"
      },
      "execution_count": null,
      "outputs": []
    },
    {
      "cell_type": "code",
      "source": [
        "!pip install torchmetrics\n",
        "from torchmetrics import ConfusionMatrix\n",
        "matrix = ConfusionMatrix(num_classes =2)\n"
      ],
      "metadata": {
        "colab": {
          "base_uri": "https://localhost:8080/"
        },
        "id": "9rh9p5Km2TsC",
        "outputId": "bf328be1-08aa-4494-be72-91fe4cb5e6fb"
      },
      "execution_count": null,
      "outputs": [
        {
          "output_type": "stream",
          "name": "stdout",
          "text": [
            "Looking in indexes: https://pypi.org/simple, https://us-python.pkg.dev/colab-wheels/public/simple/\n",
            "Collecting torchmetrics\n",
            "  Downloading torchmetrics-0.10.3-py3-none-any.whl (529 kB)\n",
            "\u001b[K     |████████████████████████████████| 529 kB 37.6 MB/s \n",
            "\u001b[?25hRequirement already satisfied: torch>=1.3.1 in /usr/local/lib/python3.7/dist-packages (from torchmetrics) (1.8.0+cu111)\n",
            "Requirement already satisfied: typing-extensions in /usr/local/lib/python3.7/dist-packages (from torchmetrics) (4.1.1)\n",
            "Requirement already satisfied: packaging in /usr/local/lib/python3.7/dist-packages (from torchmetrics) (21.3)\n",
            "Requirement already satisfied: numpy>=1.17.2 in /usr/local/lib/python3.7/dist-packages (from torchmetrics) (1.21.6)\n",
            "Requirement already satisfied: pyparsing!=3.0.5,>=2.0.2 in /usr/local/lib/python3.7/dist-packages (from packaging->torchmetrics) (3.0.9)\n",
            "Installing collected packages: torchmetrics\n",
            "Successfully installed torchmetrics-0.10.3\n"
          ]
        },
        {
          "output_type": "stream",
          "name": "stderr",
          "text": [
            "/usr/local/lib/python3.7/dist-packages/torchvision/io/image.py:13: UserWarning: Failed to load image Python extension: /usr/local/lib/python3.7/dist-packages/torchvision/image.so: undefined symbol: _ZNK3c106IValue23reportToTensorTypeErrorEv\n",
            "  warn(f\"Failed to load image Python extension: {e}\")\n"
          ]
        },
        {
          "output_type": "execute_result",
          "data": {
            "text/plain": [
              "tensor([[953,  12],\n",
              "        [  8, 142]])"
            ]
          },
          "metadata": {},
          "execution_count": 34
        }
      ]
    },
    {
      "cell_type": "code",
      "source": [
        "confusion_model_1 = matrix(pred_list,actual_list)"
      ],
      "metadata": {
        "id": "eMcoD3xg3W_-"
      },
      "execution_count": null,
      "outputs": []
    },
    {
      "cell_type": "code",
      "source": [
        "confusion_model_1"
      ],
      "metadata": {
        "colab": {
          "base_uri": "https://localhost:8080/"
        },
        "id": "Ju2lGcJI3beV",
        "outputId": "0c911c81-44fa-4a55-d65a-fb5a71ee7b61"
      },
      "execution_count": null,
      "outputs": [
        {
          "output_type": "execute_result",
          "data": {
            "text/plain": [
              "tensor([[953,  12],\n",
              "        [  8, 142]])"
            ]
          },
          "metadata": {},
          "execution_count": 37
        }
      ]
    },
    {
      "cell_type": "markdown",
      "metadata": {
        "id": "0jGHtQFpa91b"
      },
      "source": [
        "### Part (c) [3 pt]\n",
        "\n",
        "What is your model's prediction of the **probability** that\n",
        "the SMS message \"machine learning is sooo cool!\" is spam?\n",
        "\n",
        "Hint: To begin, use `text_field.vocab.stoi` to look up the index\n",
        "of each character in the vocabulary."
      ]
    },
    {
      "cell_type": "code",
      "metadata": {
        "id": "h_2nSJq8a91b"
      },
      "source": [
        "msg = \"machine learning is sooo cool!\""
      ],
      "execution_count": null,
      "outputs": []
    },
    {
      "cell_type": "code",
      "source": [
        "def msg_array(msg):\n",
        "  msg_new = msg = list(msg)\n",
        "  msg = [ch for ch in msg]\n",
        "  index = []\n",
        "  for ch in msg:\n",
        "    for a in text_field.vocab.stoi.keys():\n",
        "      if ch == a:\n",
        "        index.append(text_field.vocab.stoi[a])\n",
        "  return index\n"
      ],
      "metadata": {
        "id": "Qr9mtTOZ6VRV"
      },
      "execution_count": null,
      "outputs": []
    },
    {
      "cell_type": "code",
      "source": [
        "ind = msg_array(msg)\n",
        "ind = torch.tensor(np.array(ind))\n",
        "ind = ind[None,:]\n",
        "output= model(ind)\n",
        "output = torch.round(output)\n",
        "output.item()"
      ],
      "metadata": {
        "colab": {
          "base_uri": "https://localhost:8080/"
        },
        "id": "tNZA8ca90DRQ",
        "outputId": "ae9876d2-b00f-41a9-937e-bcc6d209e056"
      },
      "execution_count": null,
      "outputs": [
        {
          "output_type": "execute_result",
          "data": {
            "text/plain": [
              "0.0"
            ]
          },
          "metadata": {},
          "execution_count": 27
        }
      ]
    },
    {
      "cell_type": "markdown",
      "source": [
        "Our model tells us that the message is not spam and the probability is 0.0021(calculated at a later section of the file)"
      ],
      "metadata": {
        "id": "2eFAe1h2ByGx"
      }
    },
    {
      "cell_type": "markdown",
      "metadata": {
        "id": "QD1zgYJpa91f"
      },
      "source": [
        "### Part (d) [2 pt]\n",
        "\n",
        "Do you think detecting spam is an easy or difficult task?\n",
        "\n",
        "Since machine learning models are expensive to train and deploy, it is very\n",
        "important to compare our models against baseline models: a simple\n",
        "model that is easy to build and inexpensive to run that we can compare our\n",
        "recurrent neural network model against.\n",
        "\n",
        "Explain how you might build a simple baseline model. This baseline model\n",
        "can be a simple neural network (with very few weights), a hand-written algorithm,\n",
        "or any other strategy that is easy to build and test.\n",
        "\n",
        "**Do not actually build a baseline model. Instead, provide instructions on\n",
        "how to build it.**"
      ]
    },
    {
      "cell_type": "markdown",
      "source": [
        "Spam detection is not an easy task as there can always be new ways to create spam messages.\n",
        "\n",
        "A simple neural network for the baseline model would be as follows\n",
        "\n",
        "The first layer is the input layer which has 50 nodes, 1 node for each feature of the email\n",
        "\n",
        "The second layer is the middle layer which has 4 node\n",
        "\n",
        "The final layer is the output layer which has just 1 node\n",
        "\n",
        "The input layer takes in the 50 features of the email as a vector and passes it to the middle layer. Finally, the output layer outputs a real number in the interval (0, 1) which in some sense serves as a probability of the mail being a spam.\n"
      ],
      "metadata": {
        "id": "od5x5x88b3jF"
      }
    },
    {
      "cell_type": "markdown",
      "metadata": {
        "id": "zIR3Q5l0v1HP"
      },
      "source": [
        "# PART B - Transfer Learning [20 pt]\n",
        "\n",
        "In this part we will compare our earlier model with one that takes advantage of a generative RNN model to improve the prediction. There are several ways to implement transfer learning with RNNs, here we will use an approach known as ULMFiT developed by fastai. Rather than rebuilding the model from scratch, we will take advantage of the fastai library.\n",
        "\n",
        "Provided below is some helper code to get you started.\n",
        "\n",
        "#### Helper Code"
      ]
    },
    {
      "cell_type": "code",
      "metadata": {
        "id": "5R-_BQyiAMoo",
        "colab": {
          "base_uri": "https://localhost:8080/"
        },
        "outputId": "6b1ec6ca-f2a3-4630-a0fa-dae86e8e09b4"
      },
      "source": [
        "# install relevant libraries\n",
        "!pip install fastai"
      ],
      "execution_count": null,
      "outputs": [
        {
          "output_type": "stream",
          "name": "stdout",
          "text": [
            "Looking in indexes: https://pypi.org/simple, https://us-python.pkg.dev/colab-wheels/public/simple/\n",
            "Requirement already satisfied: fastai in /usr/local/lib/python3.7/dist-packages (1.0.61)\n",
            "Requirement already satisfied: nvidia-ml-py3 in /usr/local/lib/python3.7/dist-packages (from fastai) (7.352.0)\n",
            "Requirement already satisfied: Pillow in /usr/local/lib/python3.7/dist-packages (from fastai) (7.1.2)\n",
            "Requirement already satisfied: pyyaml in /usr/local/lib/python3.7/dist-packages (from fastai) (6.0)\n",
            "Requirement already satisfied: torchvision in /usr/local/lib/python3.7/dist-packages (from fastai) (0.13.1+cu113)\n",
            "Requirement already satisfied: packaging in /usr/local/lib/python3.7/dist-packages (from fastai) (21.3)\n",
            "Requirement already satisfied: pandas in /usr/local/lib/python3.7/dist-packages (from fastai) (1.3.5)\n",
            "Requirement already satisfied: torch>=1.0.0 in /usr/local/lib/python3.7/dist-packages (from fastai) (1.12.1)\n",
            "Requirement already satisfied: beautifulsoup4 in /usr/local/lib/python3.7/dist-packages (from fastai) (4.6.3)\n",
            "Requirement already satisfied: scipy in /usr/local/lib/python3.7/dist-packages (from fastai) (1.7.3)\n",
            "Requirement already satisfied: requests in /usr/local/lib/python3.7/dist-packages (from fastai) (2.23.0)\n",
            "Requirement already satisfied: numexpr in /usr/local/lib/python3.7/dist-packages (from fastai) (2.8.4)\n",
            "Requirement already satisfied: matplotlib in /usr/local/lib/python3.7/dist-packages (from fastai) (3.2.2)\n",
            "Requirement already satisfied: spacy>=2.0.18 in /usr/local/lib/python3.7/dist-packages (from fastai) (2.3.5)\n",
            "Requirement already satisfied: bottleneck in /usr/local/lib/python3.7/dist-packages (from fastai) (1.3.5)\n",
            "Requirement already satisfied: numpy>=1.15 in /usr/local/lib/python3.7/dist-packages (from fastai) (1.21.6)\n",
            "Requirement already satisfied: fastprogress>=0.2.1 in /usr/local/lib/python3.7/dist-packages (from fastai) (1.0.3)\n",
            "Requirement already satisfied: blis<0.8.0,>=0.4.0 in /usr/local/lib/python3.7/dist-packages (from spacy>=2.0.18->fastai) (0.7.9)\n",
            "Requirement already satisfied: preshed<3.1.0,>=3.0.2 in /usr/local/lib/python3.7/dist-packages (from spacy>=2.0.18->fastai) (3.0.8)\n",
            "Requirement already satisfied: catalogue<1.1.0,>=0.0.7 in /usr/local/lib/python3.7/dist-packages (from spacy>=2.0.18->fastai) (1.0.2)\n",
            "Requirement already satisfied: tqdm<5.0.0,>=4.38.0 in /usr/local/lib/python3.7/dist-packages (from spacy>=2.0.18->fastai) (4.64.1)\n",
            "Requirement already satisfied: srsly<1.1.0,>=1.0.2 in /usr/local/lib/python3.7/dist-packages (from spacy>=2.0.18->fastai) (1.0.6)\n",
            "Requirement already satisfied: plac<1.2.0,>=0.9.6 in /usr/local/lib/python3.7/dist-packages (from spacy>=2.0.18->fastai) (1.1.3)\n",
            "Requirement already satisfied: murmurhash<1.1.0,>=0.28.0 in /usr/local/lib/python3.7/dist-packages (from spacy>=2.0.18->fastai) (1.0.9)\n",
            "Requirement already satisfied: wasabi<1.1.0,>=0.4.0 in /usr/local/lib/python3.7/dist-packages (from spacy>=2.0.18->fastai) (0.10.1)\n",
            "Requirement already satisfied: setuptools in /usr/local/lib/python3.7/dist-packages (from spacy>=2.0.18->fastai) (57.4.0)\n",
            "Requirement already satisfied: cymem<2.1.0,>=2.0.2 in /usr/local/lib/python3.7/dist-packages (from spacy>=2.0.18->fastai) (2.0.7)\n",
            "Requirement already satisfied: thinc<7.5.0,>=7.4.1 in /usr/local/lib/python3.7/dist-packages (from spacy>=2.0.18->fastai) (7.4.6)\n",
            "Requirement already satisfied: zipp>=0.5 in /usr/local/lib/python3.7/dist-packages (from catalogue<1.1.0,>=0.0.7->spacy>=2.0.18->fastai) (3.10.0)\n",
            "Requirement already satisfied: typing-extensions>=3.6.4 in /usr/local/lib/python3.7/dist-packages (from catalogue<1.1.0,>=0.0.7->spacy>=2.0.18->fastai) (4.1.1)\n",
            "Requirement already satisfied: chardet<4,>=3.0.2 in /usr/local/lib/python3.7/dist-packages (from requests->fastai) (3.0.4)\n",
            "Requirement already satisfied: idna<3,>=2.5 in /usr/local/lib/python3.7/dist-packages (from requests->fastai) (2.10)\n",
            "Requirement already satisfied: certifi>=2017.4.17 in /usr/local/lib/python3.7/dist-packages (from requests->fastai) (2022.9.24)\n",
            "Requirement already satisfied: urllib3!=1.25.0,!=1.25.1,<1.26,>=1.21.1 in /usr/local/lib/python3.7/dist-packages (from requests->fastai) (1.24.3)\n",
            "Requirement already satisfied: cycler>=0.10 in /usr/local/lib/python3.7/dist-packages (from matplotlib->fastai) (0.11.0)\n",
            "Requirement already satisfied: python-dateutil>=2.1 in /usr/local/lib/python3.7/dist-packages (from matplotlib->fastai) (2.8.2)\n",
            "Requirement already satisfied: kiwisolver>=1.0.1 in /usr/local/lib/python3.7/dist-packages (from matplotlib->fastai) (1.4.4)\n",
            "Requirement already satisfied: pyparsing!=2.0.4,!=2.1.2,!=2.1.6,>=2.0.1 in /usr/local/lib/python3.7/dist-packages (from matplotlib->fastai) (3.0.9)\n",
            "Requirement already satisfied: six>=1.5 in /usr/local/lib/python3.7/dist-packages (from python-dateutil>=2.1->matplotlib->fastai) (1.15.0)\n",
            "Requirement already satisfied: pytz>=2017.3 in /usr/local/lib/python3.7/dist-packages (from pandas->fastai) (2022.6)\n"
          ]
        }
      ]
    },
    {
      "cell_type": "code",
      "metadata": {
        "id": "316Xs5WBv0kg"
      },
      "source": [
        "# load relevant libraries\n",
        "from fastai import * \n",
        "import pandas as pd\n",
        "import numpy as np\n",
        "from functools import partial\n",
        "import io\n",
        "import os\n",
        "from fastai.text import *"
      ],
      "execution_count": null,
      "outputs": []
    },
    {
      "cell_type": "code",
      "source": [
        "!pip install spacy==2.3.5\n",
        "!pip install fastai==1.0.61\n",
        "# load relevant libraries\n",
        "from fastai import *\n",
        "import pandas as pd\n",
        "import numpy as np\n",
        "from functools import partial\n",
        "import io\n",
        "import os\n",
        "from fastai.text import *"
      ],
      "metadata": {
        "colab": {
          "base_uri": "https://localhost:8080/"
        },
        "id": "sEjIPk7gD-yw",
        "outputId": "876fa41d-fcff-4411-92f9-82726e967fa2"
      },
      "execution_count": null,
      "outputs": [
        {
          "output_type": "stream",
          "name": "stdout",
          "text": [
            "Looking in indexes: https://pypi.org/simple, https://us-python.pkg.dev/colab-wheels/public/simple/\n",
            "Requirement already satisfied: spacy==2.3.5 in /usr/local/lib/python3.7/dist-packages (2.3.5)\n",
            "Requirement already satisfied: requests<3.0.0,>=2.13.0 in /usr/local/lib/python3.7/dist-packages (from spacy==2.3.5) (2.23.0)\n",
            "Requirement already satisfied: plac<1.2.0,>=0.9.6 in /usr/local/lib/python3.7/dist-packages (from spacy==2.3.5) (1.1.3)\n",
            "Requirement already satisfied: setuptools in /usr/local/lib/python3.7/dist-packages (from spacy==2.3.5) (57.4.0)\n",
            "Requirement already satisfied: blis<0.8.0,>=0.4.0 in /usr/local/lib/python3.7/dist-packages (from spacy==2.3.5) (0.7.9)\n",
            "Requirement already satisfied: preshed<3.1.0,>=3.0.2 in /usr/local/lib/python3.7/dist-packages (from spacy==2.3.5) (3.0.8)\n",
            "Requirement already satisfied: cymem<2.1.0,>=2.0.2 in /usr/local/lib/python3.7/dist-packages (from spacy==2.3.5) (2.0.7)\n",
            "Requirement already satisfied: murmurhash<1.1.0,>=0.28.0 in /usr/local/lib/python3.7/dist-packages (from spacy==2.3.5) (1.0.9)\n",
            "Requirement already satisfied: thinc<7.5.0,>=7.4.1 in /usr/local/lib/python3.7/dist-packages (from spacy==2.3.5) (7.4.6)\n",
            "Requirement already satisfied: wasabi<1.1.0,>=0.4.0 in /usr/local/lib/python3.7/dist-packages (from spacy==2.3.5) (0.10.1)\n",
            "Requirement already satisfied: srsly<1.1.0,>=1.0.2 in /usr/local/lib/python3.7/dist-packages (from spacy==2.3.5) (1.0.6)\n",
            "Requirement already satisfied: catalogue<1.1.0,>=0.0.7 in /usr/local/lib/python3.7/dist-packages (from spacy==2.3.5) (1.0.2)\n",
            "Requirement already satisfied: tqdm<5.0.0,>=4.38.0 in /usr/local/lib/python3.7/dist-packages (from spacy==2.3.5) (4.64.1)\n",
            "Requirement already satisfied: numpy>=1.15.0 in /usr/local/lib/python3.7/dist-packages (from spacy==2.3.5) (1.21.6)\n",
            "Requirement already satisfied: zipp>=0.5 in /usr/local/lib/python3.7/dist-packages (from catalogue<1.1.0,>=0.0.7->spacy==2.3.5) (3.10.0)\n",
            "Requirement already satisfied: typing-extensions>=3.6.4 in /usr/local/lib/python3.7/dist-packages (from catalogue<1.1.0,>=0.0.7->spacy==2.3.5) (4.1.1)\n",
            "Requirement already satisfied: idna<3,>=2.5 in /usr/local/lib/python3.7/dist-packages (from requests<3.0.0,>=2.13.0->spacy==2.3.5) (2.10)\n",
            "Requirement already satisfied: certifi>=2017.4.17 in /usr/local/lib/python3.7/dist-packages (from requests<3.0.0,>=2.13.0->spacy==2.3.5) (2022.9.24)\n",
            "Requirement already satisfied: chardet<4,>=3.0.2 in /usr/local/lib/python3.7/dist-packages (from requests<3.0.0,>=2.13.0->spacy==2.3.5) (3.0.4)\n",
            "Requirement already satisfied: urllib3!=1.25.0,!=1.25.1,<1.26,>=1.21.1 in /usr/local/lib/python3.7/dist-packages (from requests<3.0.0,>=2.13.0->spacy==2.3.5) (1.24.3)\n",
            "Looking in indexes: https://pypi.org/simple, https://us-python.pkg.dev/colab-wheels/public/simple/\n",
            "Requirement already satisfied: fastai==1.0.61 in /usr/local/lib/python3.7/dist-packages (1.0.61)\n",
            "Requirement already satisfied: bottleneck in /usr/local/lib/python3.7/dist-packages (from fastai==1.0.61) (1.3.5)\n",
            "Requirement already satisfied: requests in /usr/local/lib/python3.7/dist-packages (from fastai==1.0.61) (2.23.0)\n",
            "Requirement already satisfied: scipy in /usr/local/lib/python3.7/dist-packages (from fastai==1.0.61) (1.7.3)\n",
            "Requirement already satisfied: pandas in /usr/local/lib/python3.7/dist-packages (from fastai==1.0.61) (1.3.5)\n",
            "Requirement already satisfied: numpy>=1.15 in /usr/local/lib/python3.7/dist-packages (from fastai==1.0.61) (1.21.6)\n",
            "Requirement already satisfied: spacy>=2.0.18 in /usr/local/lib/python3.7/dist-packages (from fastai==1.0.61) (2.3.5)\n",
            "Requirement already satisfied: numexpr in /usr/local/lib/python3.7/dist-packages (from fastai==1.0.61) (2.8.4)\n",
            "Requirement already satisfied: beautifulsoup4 in /usr/local/lib/python3.7/dist-packages (from fastai==1.0.61) (4.6.3)\n",
            "Requirement already satisfied: pyyaml in /usr/local/lib/python3.7/dist-packages (from fastai==1.0.61) (6.0)\n",
            "Requirement already satisfied: nvidia-ml-py3 in /usr/local/lib/python3.7/dist-packages (from fastai==1.0.61) (7.352.0)\n",
            "Requirement already satisfied: fastprogress>=0.2.1 in /usr/local/lib/python3.7/dist-packages (from fastai==1.0.61) (1.0.3)\n",
            "Requirement already satisfied: torch>=1.0.0 in /usr/local/lib/python3.7/dist-packages (from fastai==1.0.61) (1.12.1)\n",
            "Requirement already satisfied: packaging in /usr/local/lib/python3.7/dist-packages (from fastai==1.0.61) (21.3)\n",
            "Requirement already satisfied: torchvision in /usr/local/lib/python3.7/dist-packages (from fastai==1.0.61) (0.13.1+cu113)\n",
            "Requirement already satisfied: Pillow in /usr/local/lib/python3.7/dist-packages (from fastai==1.0.61) (7.1.2)\n",
            "Requirement already satisfied: matplotlib in /usr/local/lib/python3.7/dist-packages (from fastai==1.0.61) (3.2.2)\n",
            "Requirement already satisfied: wasabi<1.1.0,>=0.4.0 in /usr/local/lib/python3.7/dist-packages (from spacy>=2.0.18->fastai==1.0.61) (0.10.1)\n",
            "Requirement already satisfied: blis<0.8.0,>=0.4.0 in /usr/local/lib/python3.7/dist-packages (from spacy>=2.0.18->fastai==1.0.61) (0.7.9)\n",
            "Requirement already satisfied: srsly<1.1.0,>=1.0.2 in /usr/local/lib/python3.7/dist-packages (from spacy>=2.0.18->fastai==1.0.61) (1.0.6)\n",
            "Requirement already satisfied: setuptools in /usr/local/lib/python3.7/dist-packages (from spacy>=2.0.18->fastai==1.0.61) (57.4.0)\n",
            "Requirement already satisfied: tqdm<5.0.0,>=4.38.0 in /usr/local/lib/python3.7/dist-packages (from spacy>=2.0.18->fastai==1.0.61) (4.64.1)\n",
            "Requirement already satisfied: plac<1.2.0,>=0.9.6 in /usr/local/lib/python3.7/dist-packages (from spacy>=2.0.18->fastai==1.0.61) (1.1.3)\n",
            "Requirement already satisfied: murmurhash<1.1.0,>=0.28.0 in /usr/local/lib/python3.7/dist-packages (from spacy>=2.0.18->fastai==1.0.61) (1.0.9)\n",
            "Requirement already satisfied: catalogue<1.1.0,>=0.0.7 in /usr/local/lib/python3.7/dist-packages (from spacy>=2.0.18->fastai==1.0.61) (1.0.2)\n",
            "Requirement already satisfied: thinc<7.5.0,>=7.4.1 in /usr/local/lib/python3.7/dist-packages (from spacy>=2.0.18->fastai==1.0.61) (7.4.6)\n",
            "Requirement already satisfied: preshed<3.1.0,>=3.0.2 in /usr/local/lib/python3.7/dist-packages (from spacy>=2.0.18->fastai==1.0.61) (3.0.8)\n",
            "Requirement already satisfied: cymem<2.1.0,>=2.0.2 in /usr/local/lib/python3.7/dist-packages (from spacy>=2.0.18->fastai==1.0.61) (2.0.7)\n",
            "Requirement already satisfied: typing-extensions>=3.6.4 in /usr/local/lib/python3.7/dist-packages (from catalogue<1.1.0,>=0.0.7->spacy>=2.0.18->fastai==1.0.61) (4.1.1)\n",
            "Requirement already satisfied: zipp>=0.5 in /usr/local/lib/python3.7/dist-packages (from catalogue<1.1.0,>=0.0.7->spacy>=2.0.18->fastai==1.0.61) (3.10.0)\n",
            "Requirement already satisfied: chardet<4,>=3.0.2 in /usr/local/lib/python3.7/dist-packages (from requests->fastai==1.0.61) (3.0.4)\n",
            "Requirement already satisfied: certifi>=2017.4.17 in /usr/local/lib/python3.7/dist-packages (from requests->fastai==1.0.61) (2022.9.24)\n",
            "Requirement already satisfied: idna<3,>=2.5 in /usr/local/lib/python3.7/dist-packages (from requests->fastai==1.0.61) (2.10)\n",
            "Requirement already satisfied: urllib3!=1.25.0,!=1.25.1,<1.26,>=1.21.1 in /usr/local/lib/python3.7/dist-packages (from requests->fastai==1.0.61) (1.24.3)\n",
            "Requirement already satisfied: python-dateutil>=2.1 in /usr/local/lib/python3.7/dist-packages (from matplotlib->fastai==1.0.61) (2.8.2)\n",
            "Requirement already satisfied: pyparsing!=2.0.4,!=2.1.2,!=2.1.6,>=2.0.1 in /usr/local/lib/python3.7/dist-packages (from matplotlib->fastai==1.0.61) (3.0.9)\n",
            "Requirement already satisfied: kiwisolver>=1.0.1 in /usr/local/lib/python3.7/dist-packages (from matplotlib->fastai==1.0.61) (1.4.4)\n",
            "Requirement already satisfied: cycler>=0.10 in /usr/local/lib/python3.7/dist-packages (from matplotlib->fastai==1.0.61) (0.11.0)\n",
            "Requirement already satisfied: six>=1.5 in /usr/local/lib/python3.7/dist-packages (from python-dateutil>=2.1->matplotlib->fastai==1.0.61) (1.15.0)\n",
            "Requirement already satisfied: pytz>=2017.3 in /usr/local/lib/python3.7/dist-packages (from pandas->fastai==1.0.61) (2022.6)\n"
          ]
        }
      ]
    },
    {
      "cell_type": "code",
      "metadata": {
        "id": "MfoKX8tKAU4Q",
        "colab": {
          "base_uri": "https://localhost:8080/"
        },
        "outputId": "b7469640-ba2b-4115-ac2a-4a0d6fd83111"
      },
      "source": [
        "# download SPAM data\n",
        "!wget https://archive.ics.uci.edu/ml/machine-learning-databases/00228/smsspamcollection.zip\n",
        "!unzip smsspamcollection.zip"
      ],
      "execution_count": null,
      "outputs": [
        {
          "output_type": "stream",
          "name": "stdout",
          "text": [
            "--2022-11-21 04:34:02--  https://archive.ics.uci.edu/ml/machine-learning-databases/00228/smsspamcollection.zip\n",
            "Resolving archive.ics.uci.edu (archive.ics.uci.edu)... 128.195.10.252\n",
            "Connecting to archive.ics.uci.edu (archive.ics.uci.edu)|128.195.10.252|:443... connected.\n",
            "HTTP request sent, awaiting response... 200 OK\n",
            "Length: 203415 (199K) [application/x-httpd-php]\n",
            "Saving to: ‘smsspamcollection.zip’\n",
            "\n",
            "smsspamcollection.z 100%[===================>] 198.65K   304KB/s    in 0.7s    \n",
            "\n",
            "2022-11-21 04:34:03 (304 KB/s) - ‘smsspamcollection.zip’ saved [203415/203415]\n",
            "\n",
            "Archive:  smsspamcollection.zip\n",
            "replace SMSSpamCollection? [y]es, [n]o, [A]ll, [N]one, [r]ename: A\n",
            "  inflating: SMSSpamCollection       \n",
            "  inflating: readme                  \n"
          ]
        }
      ]
    },
    {
      "cell_type": "markdown",
      "metadata": {
        "id": "J4vSv4Z9QxTJ"
      },
      "source": [
        "This time we will load the data using pandas."
      ]
    },
    {
      "cell_type": "code",
      "metadata": {
        "id": "RKPhLwlhAbv-",
        "colab": {
          "base_uri": "https://localhost:8080/",
          "height": 206
        },
        "outputId": "c911672a-a592-4271-a2d1-cd890cfee1b6"
      },
      "source": [
        "# set up data and verify\n",
        "df1 = pd.read_csv('SMSSpamCollection', sep='\\t',  header=None, names=['target', 'text'])\n",
        "df1.head()"
      ],
      "execution_count": null,
      "outputs": [
        {
          "output_type": "execute_result",
          "data": {
            "text/plain": [
              "  target                                               text\n",
              "0    ham  Go until jurong point, crazy.. Available only ...\n",
              "1    ham                      Ok lar... Joking wif u oni...\n",
              "2   spam  Free entry in 2 a wkly comp to win FA Cup fina...\n",
              "3    ham  U dun say so early hor... U c already then say...\n",
              "4    ham  Nah I don't think he goes to usf, he lives aro..."
            ],
            "text/html": [
              "\n",
              "  <div id=\"df-9b51473e-c249-4c6e-8c55-6090b86b2698\">\n",
              "    <div class=\"colab-df-container\">\n",
              "      <div>\n",
              "<style scoped>\n",
              "    .dataframe tbody tr th:only-of-type {\n",
              "        vertical-align: middle;\n",
              "    }\n",
              "\n",
              "    .dataframe tbody tr th {\n",
              "        vertical-align: top;\n",
              "    }\n",
              "\n",
              "    .dataframe thead th {\n",
              "        text-align: right;\n",
              "    }\n",
              "</style>\n",
              "<table border=\"1\" class=\"dataframe\">\n",
              "  <thead>\n",
              "    <tr style=\"text-align: right;\">\n",
              "      <th></th>\n",
              "      <th>target</th>\n",
              "      <th>text</th>\n",
              "    </tr>\n",
              "  </thead>\n",
              "  <tbody>\n",
              "    <tr>\n",
              "      <th>0</th>\n",
              "      <td>ham</td>\n",
              "      <td>Go until jurong point, crazy.. Available only ...</td>\n",
              "    </tr>\n",
              "    <tr>\n",
              "      <th>1</th>\n",
              "      <td>ham</td>\n",
              "      <td>Ok lar... Joking wif u oni...</td>\n",
              "    </tr>\n",
              "    <tr>\n",
              "      <th>2</th>\n",
              "      <td>spam</td>\n",
              "      <td>Free entry in 2 a wkly comp to win FA Cup fina...</td>\n",
              "    </tr>\n",
              "    <tr>\n",
              "      <th>3</th>\n",
              "      <td>ham</td>\n",
              "      <td>U dun say so early hor... U c already then say...</td>\n",
              "    </tr>\n",
              "    <tr>\n",
              "      <th>4</th>\n",
              "      <td>ham</td>\n",
              "      <td>Nah I don't think he goes to usf, he lives aro...</td>\n",
              "    </tr>\n",
              "  </tbody>\n",
              "</table>\n",
              "</div>\n",
              "      <button class=\"colab-df-convert\" onclick=\"convertToInteractive('df-9b51473e-c249-4c6e-8c55-6090b86b2698')\"\n",
              "              title=\"Convert this dataframe to an interactive table.\"\n",
              "              style=\"display:none;\">\n",
              "        \n",
              "  <svg xmlns=\"http://www.w3.org/2000/svg\" height=\"24px\"viewBox=\"0 0 24 24\"\n",
              "       width=\"24px\">\n",
              "    <path d=\"M0 0h24v24H0V0z\" fill=\"none\"/>\n",
              "    <path d=\"M18.56 5.44l.94 2.06.94-2.06 2.06-.94-2.06-.94-.94-2.06-.94 2.06-2.06.94zm-11 1L8.5 8.5l.94-2.06 2.06-.94-2.06-.94L8.5 2.5l-.94 2.06-2.06.94zm10 10l.94 2.06.94-2.06 2.06-.94-2.06-.94-.94-2.06-.94 2.06-2.06.94z\"/><path d=\"M17.41 7.96l-1.37-1.37c-.4-.4-.92-.59-1.43-.59-.52 0-1.04.2-1.43.59L10.3 9.45l-7.72 7.72c-.78.78-.78 2.05 0 2.83L4 21.41c.39.39.9.59 1.41.59.51 0 1.02-.2 1.41-.59l7.78-7.78 2.81-2.81c.8-.78.8-2.07 0-2.86zM5.41 20L4 18.59l7.72-7.72 1.47 1.35L5.41 20z\"/>\n",
              "  </svg>\n",
              "      </button>\n",
              "      \n",
              "  <style>\n",
              "    .colab-df-container {\n",
              "      display:flex;\n",
              "      flex-wrap:wrap;\n",
              "      gap: 12px;\n",
              "    }\n",
              "\n",
              "    .colab-df-convert {\n",
              "      background-color: #E8F0FE;\n",
              "      border: none;\n",
              "      border-radius: 50%;\n",
              "      cursor: pointer;\n",
              "      display: none;\n",
              "      fill: #1967D2;\n",
              "      height: 32px;\n",
              "      padding: 0 0 0 0;\n",
              "      width: 32px;\n",
              "    }\n",
              "\n",
              "    .colab-df-convert:hover {\n",
              "      background-color: #E2EBFA;\n",
              "      box-shadow: 0px 1px 2px rgba(60, 64, 67, 0.3), 0px 1px 3px 1px rgba(60, 64, 67, 0.15);\n",
              "      fill: #174EA6;\n",
              "    }\n",
              "\n",
              "    [theme=dark] .colab-df-convert {\n",
              "      background-color: #3B4455;\n",
              "      fill: #D2E3FC;\n",
              "    }\n",
              "\n",
              "    [theme=dark] .colab-df-convert:hover {\n",
              "      background-color: #434B5C;\n",
              "      box-shadow: 0px 1px 3px 1px rgba(0, 0, 0, 0.15);\n",
              "      filter: drop-shadow(0px 1px 2px rgba(0, 0, 0, 0.3));\n",
              "      fill: #FFFFFF;\n",
              "    }\n",
              "  </style>\n",
              "\n",
              "      <script>\n",
              "        const buttonEl =\n",
              "          document.querySelector('#df-9b51473e-c249-4c6e-8c55-6090b86b2698 button.colab-df-convert');\n",
              "        buttonEl.style.display =\n",
              "          google.colab.kernel.accessAllowed ? 'block' : 'none';\n",
              "\n",
              "        async function convertToInteractive(key) {\n",
              "          const element = document.querySelector('#df-9b51473e-c249-4c6e-8c55-6090b86b2698');\n",
              "          const dataTable =\n",
              "            await google.colab.kernel.invokeFunction('convertToInteractive',\n",
              "                                                     [key], {});\n",
              "          if (!dataTable) return;\n",
              "\n",
              "          const docLinkHtml = 'Like what you see? Visit the ' +\n",
              "            '<a target=\"_blank\" href=https://colab.research.google.com/notebooks/data_table.ipynb>data table notebook</a>'\n",
              "            + ' to learn more about interactive tables.';\n",
              "          element.innerHTML = '';\n",
              "          dataTable['output_type'] = 'display_data';\n",
              "          await google.colab.output.renderOutput(dataTable, element);\n",
              "          const docLink = document.createElement('div');\n",
              "          docLink.innerHTML = docLinkHtml;\n",
              "          element.appendChild(docLink);\n",
              "        }\n",
              "      </script>\n",
              "    </div>\n",
              "  </div>\n",
              "  "
            ]
          },
          "metadata": {},
          "execution_count": 5
        }
      ]
    },
    {
      "cell_type": "code",
      "metadata": {
        "id": "rorC2T1yAfWY",
        "colab": {
          "base_uri": "https://localhost:8080/"
        },
        "outputId": "05304ec0-a7e9-489b-a978-303bc4d198ae"
      },
      "source": [
        "# check distribution\n",
        "df1['target'].value_counts()"
      ],
      "execution_count": null,
      "outputs": [
        {
          "output_type": "execute_result",
          "data": {
            "text/plain": [
              "ham     4825\n",
              "spam     747\n",
              "Name: target, dtype: int64"
            ]
          },
          "metadata": {},
          "execution_count": 6
        }
      ]
    },
    {
      "cell_type": "markdown",
      "metadata": {
        "id": "snNazefHQ3yo"
      },
      "source": [
        "Split the data into training and validation datasets."
      ]
    },
    {
      "cell_type": "code",
      "metadata": {
        "id": "i4WuVTDhArhc"
      },
      "source": [
        "# split the data and check dimensions\n",
        "\n",
        "from sklearn.model_selection import train_test_split\n",
        "\n",
        "# split data into training and validation set\n",
        "df_trn, df_val = train_test_split(df1, stratify = df1['target'], test_size = 0.3, random_state = 999)"
      ],
      "execution_count": null,
      "outputs": []
    },
    {
      "cell_type": "code",
      "metadata": {
        "colab": {
          "base_uri": "https://localhost:8080/"
        },
        "id": "uyCkDbTRAyxk",
        "outputId": "d8a886c7-f859-44ea-dd4e-3e0f8aad8f4a"
      },
      "source": [
        "df_trn.shape, df_val.shape"
      ],
      "execution_count": null,
      "outputs": [
        {
          "output_type": "execute_result",
          "data": {
            "text/plain": [
              "((3900, 2), (1672, 2))"
            ]
          },
          "metadata": {},
          "execution_count": 8
        }
      ]
    },
    {
      "cell_type": "markdown",
      "metadata": {
        "id": "kuGx5mebBfEm"
      },
      "source": [
        "### Create the language model\n",
        "Esentially, the language model contains the structure of the language (English in this case), allowing us to quickly use in a classification model, skipping the part of learning the semantics of the language from scratch.\n",
        "\n",
        "Creating a language model from scratch can be intensive due to the sheer size of data. Instead we will download the pre-trained model, which is a neural network (NN) with an AWD_LSTM architecture. By setting pretrained = True we say to fastai to download the weights from the trained model (a corpus of 103 MM of wikipedia articles)."
      ]
    },
    {
      "cell_type": "code",
      "metadata": {
        "id": "S6yWJklsBdPp",
        "colab": {
          "base_uri": "https://localhost:8080/",
          "height": 89
        },
        "outputId": "b058a1eb-0109-4a88-d8fe-a6f62ef68558"
      },
      "source": [
        "# create pretrained language model data\n",
        "\n",
        "data_lm = TextLMDataBunch.from_df(train_df = df_trn, valid_df = df_val, path = \"\")\n",
        "\n",
        "lang_mod = language_model_learner(data_lm, arch = AWD_LSTM, pretrained = True, drop_mult=1.)"
      ],
      "execution_count": null,
      "outputs": [
        {
          "output_type": "display_data",
          "data": {
            "text/plain": [
              "<IPython.core.display.HTML object>"
            ],
            "text/html": [
              "\n",
              "<style>\n",
              "    /* Turns off some styling */\n",
              "    progress {\n",
              "        /* gets rid of default border in Firefox and Opera. */\n",
              "        border: none;\n",
              "        /* Needs to be in here for Safari polyfill so background images work as expected. */\n",
              "        background-size: auto;\n",
              "    }\n",
              "    progress:not([value]), progress:not([value])::-webkit-progress-bar {\n",
              "        background: repeating-linear-gradient(45deg, #7e7e7e, #7e7e7e 10px, #5c5c5c 10px, #5c5c5c 20px);\n",
              "    }\n",
              "    .progress-bar-interrupted, .progress-bar-interrupted::-webkit-progress-bar {\n",
              "        background: #F44336;\n",
              "    }\n",
              "</style>\n"
            ]
          },
          "metadata": {}
        },
        {
          "output_type": "display_data",
          "data": {
            "text/plain": [
              "<IPython.core.display.HTML object>"
            ],
            "text/html": []
          },
          "metadata": {}
        },
        {
          "output_type": "stream",
          "name": "stderr",
          "text": [
            "/usr/local/lib/python3.7/dist-packages/fastai/core.py:302: VisibleDeprecationWarning: Creating an ndarray from ragged nested sequences (which is a list-or-tuple of lists-or-tuples-or ndarrays with different lengths or shapes) is deprecated. If you meant to do this, you must specify 'dtype=object' when creating the ndarray.\n",
            "  return np.array(a, dtype=dtype, **kwargs)\n"
          ]
        },
        {
          "output_type": "display_data",
          "data": {
            "text/plain": [
              "<IPython.core.display.HTML object>"
            ],
            "text/html": [
              "\n",
              "<style>\n",
              "    /* Turns off some styling */\n",
              "    progress {\n",
              "        /* gets rid of default border in Firefox and Opera. */\n",
              "        border: none;\n",
              "        /* Needs to be in here for Safari polyfill so background images work as expected. */\n",
              "        background-size: auto;\n",
              "    }\n",
              "    progress:not([value]), progress:not([value])::-webkit-progress-bar {\n",
              "        background: repeating-linear-gradient(45deg, #7e7e7e, #7e7e7e 10px, #5c5c5c 10px, #5c5c5c 20px);\n",
              "    }\n",
              "    .progress-bar-interrupted, .progress-bar-interrupted::-webkit-progress-bar {\n",
              "        background: #F44336;\n",
              "    }\n",
              "</style>\n"
            ]
          },
          "metadata": {}
        },
        {
          "output_type": "display_data",
          "data": {
            "text/plain": [
              "<IPython.core.display.HTML object>"
            ],
            "text/html": []
          },
          "metadata": {}
        },
        {
          "output_type": "stream",
          "name": "stdout",
          "text": [
            "Downloading https://s3.amazonaws.com/fast-ai-modelzoo/wt103-fwd.tgz\n"
          ]
        },
        {
          "output_type": "display_data",
          "data": {
            "text/plain": [
              "<IPython.core.display.HTML object>"
            ],
            "text/html": [
              "\n",
              "<style>\n",
              "    /* Turns off some styling */\n",
              "    progress {\n",
              "        /* gets rid of default border in Firefox and Opera. */\n",
              "        border: none;\n",
              "        /* Needs to be in here for Safari polyfill so background images work as expected. */\n",
              "        background-size: auto;\n",
              "    }\n",
              "    progress:not([value]), progress:not([value])::-webkit-progress-bar {\n",
              "        background: repeating-linear-gradient(45deg, #7e7e7e, #7e7e7e 10px, #5c5c5c 10px, #5c5c5c 20px);\n",
              "    }\n",
              "    .progress-bar-interrupted, .progress-bar-interrupted::-webkit-progress-bar {\n",
              "        background: #F44336;\n",
              "    }\n",
              "</style>\n"
            ]
          },
          "metadata": {}
        },
        {
          "output_type": "display_data",
          "data": {
            "text/plain": [
              "<IPython.core.display.HTML object>"
            ],
            "text/html": []
          },
          "metadata": {}
        }
      ]
    },
    {
      "cell_type": "markdown",
      "metadata": {
        "id": "lT_aVqCRB8DJ"
      },
      "source": [
        "### Testing the language model\n"
      ]
    },
    {
      "cell_type": "code",
      "metadata": {
        "id": "PlZgAMGbCZXY",
        "colab": {
          "base_uri": "https://localhost:8080/"
        },
        "outputId": "27a7cc11-29a6-4dc1-a777-9557c9d9f209"
      },
      "source": [
        "for i in range(5):\n",
        "  print(lang_mod.predict(\"The problem usually starts when\", n_words=10))"
      ],
      "execution_count": null,
      "outputs": [
        {
          "output_type": "stream",
          "name": "stdout",
          "text": [
            "The problem usually starts when it looks like a mad Christmas . At\n",
            "The problem usually starts when the player is at the main end of a city\n",
            "The problem usually starts when you need to watch fast enough to make clean or\n",
            "The problem usually starts when the largest all of the people in the monthly months\n",
            "The problem usually starts when the main is in \" The Last\n"
          ]
        }
      ]
    },
    {
      "cell_type": "markdown",
      "metadata": {
        "id": "8-9pK9cTCmFP"
      },
      "source": [
        "Each time we excecute the `predict`, we get a different random sentence, completed with the number of choosen words (`n_words`).\n",
        "\n",
        "Try your own sentences!"
      ]
    },
    {
      "cell_type": "markdown",
      "metadata": {
        "id": "Q8-HUwNYCqSO"
      },
      "source": [
        "### Fine-tuning the language model\n",
        "The language model that we have \"loaded\" is great for generating wikipedia-like sentances, but here we're more interested in generating data like our email dataset. \n",
        "\n",
        "Make sure to enable GPU for this step or it make takes several hours to train."
      ]
    },
    {
      "cell_type": "code",
      "metadata": {
        "id": "2Z6lG13vRnbo",
        "colab": {
          "base_uri": "https://localhost:8080/",
          "height": 554
        },
        "outputId": "de435c7f-4256-417c-8ac6-8f45e752a45d"
      },
      "source": [
        "# fine-tune language model data\n",
        "lang_mod.fit_one_cycle(4, max_lr= 5e-02)\n",
        "lang_mod.freeze_to(-1)\n",
        "lang_mod.fit_one_cycle(3, slice(1e-2/(2.6**4), 1e-2))\n",
        "lang_mod.freeze_to(-2)\n",
        "lang_mod.fit_one_cycle(3, slice(3e-3/(2.6**4), 1e-3))\n",
        "lang_mod.unfreeze()\n",
        "lang_mod.fit_one_cycle(3, slice(3e-3/(2.6**4), 1e-3))\n",
        "\n",
        "# save language model\n",
        "lang_mod.save_encoder('my_awsome_encoder')"
      ],
      "execution_count": null,
      "outputs": [
        {
          "output_type": "display_data",
          "data": {
            "text/plain": [
              "<IPython.core.display.HTML object>"
            ],
            "text/html": [
              "\n",
              "<style>\n",
              "    /* Turns off some styling */\n",
              "    progress {\n",
              "        /* gets rid of default border in Firefox and Opera. */\n",
              "        border: none;\n",
              "        /* Needs to be in here for Safari polyfill so background images work as expected. */\n",
              "        background-size: auto;\n",
              "    }\n",
              "    progress:not([value]), progress:not([value])::-webkit-progress-bar {\n",
              "        background: repeating-linear-gradient(45deg, #7e7e7e, #7e7e7e 10px, #5c5c5c 10px, #5c5c5c 20px);\n",
              "    }\n",
              "    .progress-bar-interrupted, .progress-bar-interrupted::-webkit-progress-bar {\n",
              "        background: #F44336;\n",
              "    }\n",
              "</style>\n"
            ]
          },
          "metadata": {}
        },
        {
          "output_type": "display_data",
          "data": {
            "text/plain": [
              "<IPython.core.display.HTML object>"
            ],
            "text/html": [
              "<table border=\"1\" class=\"dataframe\">\n",
              "  <thead>\n",
              "    <tr style=\"text-align: left;\">\n",
              "      <th>epoch</th>\n",
              "      <th>train_loss</th>\n",
              "      <th>valid_loss</th>\n",
              "      <th>accuracy</th>\n",
              "      <th>time</th>\n",
              "    </tr>\n",
              "  </thead>\n",
              "  <tbody>\n",
              "    <tr>\n",
              "      <td>0</td>\n",
              "      <td>5.567632</td>\n",
              "      <td>3.994498</td>\n",
              "      <td>0.285714</td>\n",
              "      <td>00:02</td>\n",
              "    </tr>\n",
              "    <tr>\n",
              "      <td>1</td>\n",
              "      <td>4.834749</td>\n",
              "      <td>3.877780</td>\n",
              "      <td>0.257143</td>\n",
              "      <td>00:02</td>\n",
              "    </tr>\n",
              "    <tr>\n",
              "      <td>2</td>\n",
              "      <td>4.380589</td>\n",
              "      <td>3.881617</td>\n",
              "      <td>0.257143</td>\n",
              "      <td>00:02</td>\n",
              "    </tr>\n",
              "    <tr>\n",
              "      <td>3</td>\n",
              "      <td>4.052392</td>\n",
              "      <td>3.826882</td>\n",
              "      <td>0.257143</td>\n",
              "      <td>00:02</td>\n",
              "    </tr>\n",
              "  </tbody>\n",
              "</table>"
            ]
          },
          "metadata": {}
        },
        {
          "output_type": "display_data",
          "data": {
            "text/plain": [
              "<IPython.core.display.HTML object>"
            ],
            "text/html": [
              "\n",
              "<style>\n",
              "    /* Turns off some styling */\n",
              "    progress {\n",
              "        /* gets rid of default border in Firefox and Opera. */\n",
              "        border: none;\n",
              "        /* Needs to be in here for Safari polyfill so background images work as expected. */\n",
              "        background-size: auto;\n",
              "    }\n",
              "    progress:not([value]), progress:not([value])::-webkit-progress-bar {\n",
              "        background: repeating-linear-gradient(45deg, #7e7e7e, #7e7e7e 10px, #5c5c5c 10px, #5c5c5c 20px);\n",
              "    }\n",
              "    .progress-bar-interrupted, .progress-bar-interrupted::-webkit-progress-bar {\n",
              "        background: #F44336;\n",
              "    }\n",
              "</style>\n"
            ]
          },
          "metadata": {}
        },
        {
          "output_type": "display_data",
          "data": {
            "text/plain": [
              "<IPython.core.display.HTML object>"
            ],
            "text/html": [
              "<table border=\"1\" class=\"dataframe\">\n",
              "  <thead>\n",
              "    <tr style=\"text-align: left;\">\n",
              "      <th>epoch</th>\n",
              "      <th>train_loss</th>\n",
              "      <th>valid_loss</th>\n",
              "      <th>accuracy</th>\n",
              "      <th>time</th>\n",
              "    </tr>\n",
              "  </thead>\n",
              "  <tbody>\n",
              "    <tr>\n",
              "      <td>0</td>\n",
              "      <td>3.571272</td>\n",
              "      <td>3.810156</td>\n",
              "      <td>0.257143</td>\n",
              "      <td>00:02</td>\n",
              "    </tr>\n",
              "    <tr>\n",
              "      <td>1</td>\n",
              "      <td>3.540520</td>\n",
              "      <td>3.802537</td>\n",
              "      <td>0.257143</td>\n",
              "      <td>00:02</td>\n",
              "    </tr>\n",
              "    <tr>\n",
              "      <td>2</td>\n",
              "      <td>3.475986</td>\n",
              "      <td>3.774877</td>\n",
              "      <td>0.242857</td>\n",
              "      <td>00:02</td>\n",
              "    </tr>\n",
              "  </tbody>\n",
              "</table>"
            ]
          },
          "metadata": {}
        },
        {
          "output_type": "display_data",
          "data": {
            "text/plain": [
              "<IPython.core.display.HTML object>"
            ],
            "text/html": [
              "\n",
              "<style>\n",
              "    /* Turns off some styling */\n",
              "    progress {\n",
              "        /* gets rid of default border in Firefox and Opera. */\n",
              "        border: none;\n",
              "        /* Needs to be in here for Safari polyfill so background images work as expected. */\n",
              "        background-size: auto;\n",
              "    }\n",
              "    progress:not([value]), progress:not([value])::-webkit-progress-bar {\n",
              "        background: repeating-linear-gradient(45deg, #7e7e7e, #7e7e7e 10px, #5c5c5c 10px, #5c5c5c 20px);\n",
              "    }\n",
              "    .progress-bar-interrupted, .progress-bar-interrupted::-webkit-progress-bar {\n",
              "        background: #F44336;\n",
              "    }\n",
              "</style>\n"
            ]
          },
          "metadata": {}
        },
        {
          "output_type": "display_data",
          "data": {
            "text/plain": [
              "<IPython.core.display.HTML object>"
            ],
            "text/html": [
              "<table border=\"1\" class=\"dataframe\">\n",
              "  <thead>\n",
              "    <tr style=\"text-align: left;\">\n",
              "      <th>epoch</th>\n",
              "      <th>train_loss</th>\n",
              "      <th>valid_loss</th>\n",
              "      <th>accuracy</th>\n",
              "      <th>time</th>\n",
              "    </tr>\n",
              "  </thead>\n",
              "  <tbody>\n",
              "    <tr>\n",
              "      <td>0</td>\n",
              "      <td>3.400034</td>\n",
              "      <td>3.790210</td>\n",
              "      <td>0.257143</td>\n",
              "      <td>00:02</td>\n",
              "    </tr>\n",
              "    <tr>\n",
              "      <td>1</td>\n",
              "      <td>3.374001</td>\n",
              "      <td>3.786584</td>\n",
              "      <td>0.242857</td>\n",
              "      <td>00:02</td>\n",
              "    </tr>\n",
              "    <tr>\n",
              "      <td>2</td>\n",
              "      <td>3.361855</td>\n",
              "      <td>3.780725</td>\n",
              "      <td>0.242857</td>\n",
              "      <td>00:02</td>\n",
              "    </tr>\n",
              "  </tbody>\n",
              "</table>"
            ]
          },
          "metadata": {}
        },
        {
          "output_type": "display_data",
          "data": {
            "text/plain": [
              "<IPython.core.display.HTML object>"
            ],
            "text/html": [
              "\n",
              "<style>\n",
              "    /* Turns off some styling */\n",
              "    progress {\n",
              "        /* gets rid of default border in Firefox and Opera. */\n",
              "        border: none;\n",
              "        /* Needs to be in here for Safari polyfill so background images work as expected. */\n",
              "        background-size: auto;\n",
              "    }\n",
              "    progress:not([value]), progress:not([value])::-webkit-progress-bar {\n",
              "        background: repeating-linear-gradient(45deg, #7e7e7e, #7e7e7e 10px, #5c5c5c 10px, #5c5c5c 20px);\n",
              "    }\n",
              "    .progress-bar-interrupted, .progress-bar-interrupted::-webkit-progress-bar {\n",
              "        background: #F44336;\n",
              "    }\n",
              "</style>\n"
            ]
          },
          "metadata": {}
        },
        {
          "output_type": "display_data",
          "data": {
            "text/plain": [
              "<IPython.core.display.HTML object>"
            ],
            "text/html": [
              "<table border=\"1\" class=\"dataframe\">\n",
              "  <thead>\n",
              "    <tr style=\"text-align: left;\">\n",
              "      <th>epoch</th>\n",
              "      <th>train_loss</th>\n",
              "      <th>valid_loss</th>\n",
              "      <th>accuracy</th>\n",
              "      <th>time</th>\n",
              "    </tr>\n",
              "  </thead>\n",
              "  <tbody>\n",
              "    <tr>\n",
              "      <td>0</td>\n",
              "      <td>3.352563</td>\n",
              "      <td>3.784400</td>\n",
              "      <td>0.242857</td>\n",
              "      <td>00:03</td>\n",
              "    </tr>\n",
              "    <tr>\n",
              "      <td>1</td>\n",
              "      <td>3.293655</td>\n",
              "      <td>3.810270</td>\n",
              "      <td>0.242857</td>\n",
              "      <td>00:03</td>\n",
              "    </tr>\n",
              "    <tr>\n",
              "      <td>2</td>\n",
              "      <td>3.252882</td>\n",
              "      <td>3.802187</td>\n",
              "      <td>0.257143</td>\n",
              "      <td>00:04</td>\n",
              "    </tr>\n",
              "  </tbody>\n",
              "</table>"
            ]
          },
          "metadata": {}
        }
      ]
    },
    {
      "cell_type": "markdown",
      "metadata": {
        "id": "KT-Y6pB1SrGg"
      },
      "source": [
        "### Classification model\n",
        "Now we can train a classification model that will identify spam and non-spam messages. Since we used a fastai language model, it will be easier to just continue working with the fastai library."
      ]
    },
    {
      "cell_type": "code",
      "metadata": {
        "id": "MIvfaeOfTDZV",
        "colab": {
          "base_uri": "https://localhost:8080/",
          "height": 124
        },
        "outputId": "c79df955-dc59-46b9-fe07-59960300c274"
      },
      "source": [
        "# Classifier model data\n",
        "data_clas = TextClasDataBunch.from_df(path = \"\", train_df = df_trn,  valid_df = df_val, vocab=data_lm.train_ds.vocab, bs=32)"
      ],
      "execution_count": null,
      "outputs": [
        {
          "output_type": "display_data",
          "data": {
            "text/plain": [
              "<IPython.core.display.HTML object>"
            ],
            "text/html": [
              "\n",
              "<style>\n",
              "    /* Turns off some styling */\n",
              "    progress {\n",
              "        /* gets rid of default border in Firefox and Opera. */\n",
              "        border: none;\n",
              "        /* Needs to be in here for Safari polyfill so background images work as expected. */\n",
              "        background-size: auto;\n",
              "    }\n",
              "    progress:not([value]), progress:not([value])::-webkit-progress-bar {\n",
              "        background: repeating-linear-gradient(45deg, #7e7e7e, #7e7e7e 10px, #5c5c5c 10px, #5c5c5c 20px);\n",
              "    }\n",
              "    .progress-bar-interrupted, .progress-bar-interrupted::-webkit-progress-bar {\n",
              "        background: #F44336;\n",
              "    }\n",
              "</style>\n"
            ]
          },
          "metadata": {}
        },
        {
          "output_type": "display_data",
          "data": {
            "text/plain": [
              "<IPython.core.display.HTML object>"
            ],
            "text/html": []
          },
          "metadata": {}
        },
        {
          "output_type": "stream",
          "name": "stderr",
          "text": [
            "/usr/local/lib/python3.7/dist-packages/fastai/core.py:302: VisibleDeprecationWarning: Creating an ndarray from ragged nested sequences (which is a list-or-tuple of lists-or-tuples-or ndarrays with different lengths or shapes) is deprecated. If you meant to do this, you must specify 'dtype=object' when creating the ndarray.\n",
            "  return np.array(a, dtype=dtype, **kwargs)\n"
          ]
        },
        {
          "output_type": "display_data",
          "data": {
            "text/plain": [
              "<IPython.core.display.HTML object>"
            ],
            "text/html": [
              "\n",
              "<style>\n",
              "    /* Turns off some styling */\n",
              "    progress {\n",
              "        /* gets rid of default border in Firefox and Opera. */\n",
              "        border: none;\n",
              "        /* Needs to be in here for Safari polyfill so background images work as expected. */\n",
              "        background-size: auto;\n",
              "    }\n",
              "    progress:not([value]), progress:not([value])::-webkit-progress-bar {\n",
              "        background: repeating-linear-gradient(45deg, #7e7e7e, #7e7e7e 10px, #5c5c5c 10px, #5c5c5c 20px);\n",
              "    }\n",
              "    .progress-bar-interrupted, .progress-bar-interrupted::-webkit-progress-bar {\n",
              "        background: #F44336;\n",
              "    }\n",
              "</style>\n"
            ]
          },
          "metadata": {}
        },
        {
          "output_type": "display_data",
          "data": {
            "text/plain": [
              "<IPython.core.display.HTML object>"
            ],
            "text/html": []
          },
          "metadata": {}
        },
        {
          "output_type": "stream",
          "name": "stderr",
          "text": [
            "/usr/local/lib/python3.7/dist-packages/fastai/text/data.py:124: VisibleDeprecationWarning: Creating an ndarray from ragged nested sequences (which is a list-or-tuple of lists-or-tuples-or ndarrays with different lengths or shapes) is deprecated. If you meant to do this, you must specify 'dtype=object' when creating the ndarray.\n",
            "  sort_idx = np.concatenate(np.random.permutation(ck_idx[1:])) if len(ck_idx) > 1 else np.array([],dtype=np.int)\n",
            "<string>:6: VisibleDeprecationWarning: Creating an ndarray from ragged nested sequences (which is a list-or-tuple of lists-or-tuples-or ndarrays with different lengths or shapes) is deprecated. If you meant to do this, you must specify 'dtype=object' when creating the ndarray.\n"
          ]
        }
      ]
    },
    {
      "cell_type": "code",
      "metadata": {
        "id": "Kc2fiXTCTjHh",
        "colab": {
          "base_uri": "https://localhost:8080/",
          "height": 293
        },
        "outputId": "34c6902a-fbbe-40a2-a45e-43a0bf6d3107"
      },
      "source": [
        "data_clas.show_batch()"
      ],
      "execution_count": null,
      "outputs": [
        {
          "output_type": "display_data",
          "data": {
            "text/plain": [
              "<IPython.core.display.HTML object>"
            ],
            "text/html": [
              "<table border=\"1\" class=\"dataframe\">\n",
              "  <thead>\n",
              "    <tr style=\"text-align: right;\">\n",
              "      <th>text</th>\n",
              "      <th>target</th>\n",
              "    </tr>\n",
              "  </thead>\n",
              "  <tbody>\n",
              "    <tr>\n",
              "      <td>xxbos xxmaj the last thing i ever wanted to do was hurt you . xxmaj and i did n't think it would have . xxmaj you 'd laugh , be embarassed , delete the xxunk and keep going . xxmaj but as far as i knew , it was n't even up . xxmaj the fact that you even felt like i would do it to hurt you shows you</td>\n",
              "      <td>ham</td>\n",
              "    </tr>\n",
              "    <tr>\n",
              "      <td>xxbos xxmaj sad story of a xxmaj man - xxmaj last week was my b'day . xxmaj my xxmaj wife did'nt wish me . xxmaj my xxmaj parents forgot n so did my xxmaj kids . i went to work . xxmaj even my xxmaj colleagues did not wish . xxmaj as i entered my cabin my xxup pa said , '' xxmaj happy xxmaj b'day xxmaj boss ! !</td>\n",
              "      <td>ham</td>\n",
              "    </tr>\n",
              "    <tr>\n",
              "      <td>xxbos xxmaj sad story of a xxmaj man - xxmaj last week was my b'day . xxmaj my xxmaj wife did'nt wish me . xxmaj my xxmaj parents forgot n so did my xxmaj kids . i went to work . xxmaj even my xxmaj colleagues did not wish . xxmaj as i entered my cabin my xxup pa said , '' xxmaj happy xxmaj b'day xxmaj boss ! !</td>\n",
              "      <td>ham</td>\n",
              "    </tr>\n",
              "    <tr>\n",
              "      <td>xxbos xxmaj how to xxmaj make a girl xxmaj happy ? xxmaj it 's not at all difficult to make girls happy . u only need to be ... 1 . a friend 2 . xxmaj xxunk 3 . xxmaj lover 4 . xxmaj xxunk . . . &lt; # &gt; . xxmaj good xxunk &lt; # &gt; . xxmaj xxunk &lt; # &gt; . xxmaj good boyfriend &lt; #</td>\n",
              "      <td>ham</td>\n",
              "    </tr>\n",
              "    <tr>\n",
              "      <td>xxbos &lt; # &gt; is fast xxunk . xxmaj so , xxmaj wish u a very xxmaj happy xxmaj new xxmaj year xxmaj happy xxmaj xxunk xxmaj happy xxunk day xxmaj happy xxmaj valentines xxmaj day xxmaj happy xxmaj xxunk xxmaj happy xxmaj xxunk xxmaj happy xxmaj xxunk day xxmaj happy xxmaj may xxmaj day xxmaj happy xxmaj xxunk xxmaj day , xxmaj happy xxmaj friendship , xxmaj mother ,</td>\n",
              "      <td>ham</td>\n",
              "    </tr>\n",
              "  </tbody>\n",
              "</table>"
            ]
          },
          "metadata": {}
        }
      ]
    },
    {
      "cell_type": "code",
      "metadata": {
        "id": "6sjwotSITjHi"
      },
      "source": [
        "# create the classifier\n",
        "learn_classifier = text_classifier_learner(data_clas, drop_mult=0.7, arch = AWD_LSTM)"
      ],
      "execution_count": null,
      "outputs": []
    },
    {
      "cell_type": "code",
      "metadata": {
        "id": "sfzqId9jTjHi",
        "colab": {
          "base_uri": "https://localhost:8080/"
        },
        "outputId": "87745672-14a4-480f-df60-37bb8d575cd5"
      },
      "source": [
        "# load language model\n",
        "learn_classifier.load_encoder('my_awsome_encoder')"
      ],
      "execution_count": null,
      "outputs": [
        {
          "output_type": "execute_result",
          "data": {
            "text/plain": [
              "RNNLearner(data=TextClasDataBunch;\n",
              "\n",
              "Train: LabelList (3900 items)\n",
              "x: TextList\n",
              "xxbos i liked your new house,xxbos xxmaj xxunk i 'm walking in xxunk now ü faster come down ... xxmaj me very hungry ...,xxbos xxmaj wan2 win a meet+greet with xxmaj westlife 4 u or a m8 ? xxmaj they are currently on what tour ? 1)unbreakable , 2)untamed , 3)unkempt . xxmaj text 1,2 or 3 to 83049 . xxmaj cost 50p + std text,xxbos xxmaj otherwise had part time job na - tuition ..,xxbos xxmaj wait , do you know if xxunk in town ? i bet she does hella drugs !\n",
              "y: CategoryList\n",
              "ham,ham,spam,ham,ham\n",
              "Path: .;\n",
              "\n",
              "Valid: LabelList (1672 items)\n",
              "x: TextList\n",
              "xxbos xxmaj not a lot has happened here . xxmaj feels very xxunk . xxmaj xxunk is at her xxunk and xxunk is working lots . xxmaj just me and xxunk in at the mo . xxmaj how have you been ?,xxbos xxmaj the current xxunk bid is xxunk . xxmaj to xxunk this auction send xxup out . xxmaj customer xxmaj care : xxunk,xxbos xxmaj are you free xxunk i call now ?,xxbos xxmaj cold . xxmaj do nt be sad dear,xxbos xxmaj cool , text me when you 're xxunk\n",
              "y: CategoryList\n",
              "ham,spam,ham,ham,ham\n",
              "Path: .;\n",
              "\n",
              "Test: None, model=SequentialRNN(\n",
              "  (0): MultiBatchEncoder(\n",
              "    (module): AWD_LSTM(\n",
              "      (encoder): Embedding(3552, 400, padding_idx=1)\n",
              "      (encoder_dp): EmbeddingDropout(\n",
              "        (emb): Embedding(3552, 400, padding_idx=1)\n",
              "      )\n",
              "      (rnns): ModuleList(\n",
              "        (0): WeightDropout(\n",
              "          (module): LSTM(400, 1152, batch_first=True)\n",
              "        )\n",
              "        (1): WeightDropout(\n",
              "          (module): LSTM(1152, 1152, batch_first=True)\n",
              "        )\n",
              "        (2): WeightDropout(\n",
              "          (module): LSTM(1152, 400, batch_first=True)\n",
              "        )\n",
              "      )\n",
              "      (input_dp): RNNDropout()\n",
              "      (hidden_dps): ModuleList(\n",
              "        (0): RNNDropout()\n",
              "        (1): RNNDropout()\n",
              "        (2): RNNDropout()\n",
              "      )\n",
              "    )\n",
              "  )\n",
              "  (1): PoolingLinearClassifier(\n",
              "    (layers): Sequential(\n",
              "      (0): BatchNorm1d(1200, eps=1e-05, momentum=0.1, affine=True, track_running_stats=True)\n",
              "      (1): Dropout(p=0.27999999999999997, inplace=False)\n",
              "      (2): Linear(in_features=1200, out_features=50, bias=True)\n",
              "      (3): ReLU(inplace=True)\n",
              "      (4): BatchNorm1d(50, eps=1e-05, momentum=0.1, affine=True, track_running_stats=True)\n",
              "      (5): Dropout(p=0.1, inplace=False)\n",
              "      (6): Linear(in_features=50, out_features=2, bias=True)\n",
              "    )\n",
              "  )\n",
              "), opt_func=functools.partial(<class 'torch.optim.adam.Adam'>, betas=(0.9, 0.99)), loss_func=FlattenedLoss of CrossEntropyLoss(), metrics=[<function accuracy at 0x7f4946bd2cb0>], true_wd=True, bn_wd=True, wd=0.01, train_bn=True, path=PosixPath('.'), model_dir='models', callback_fns=[functools.partial(<class 'fastai.basic_train.Recorder'>, add_time=True, silent=False)], callbacks=[RNNTrainer\n",
              "learn: ...\n",
              "alpha: 2.0\n",
              "beta: 1.0], layer_groups=[Sequential(\n",
              "  (0): Embedding(3552, 400, padding_idx=1)\n",
              "  (1): EmbeddingDropout(\n",
              "    (emb): Embedding(3552, 400, padding_idx=1)\n",
              "  )\n",
              "), Sequential(\n",
              "  (0): WeightDropout(\n",
              "    (module): LSTM(400, 1152, batch_first=True)\n",
              "  )\n",
              "  (1): RNNDropout()\n",
              "), Sequential(\n",
              "  (0): WeightDropout(\n",
              "    (module): LSTM(1152, 1152, batch_first=True)\n",
              "  )\n",
              "  (1): RNNDropout()\n",
              "), Sequential(\n",
              "  (0): WeightDropout(\n",
              "    (module): LSTM(1152, 400, batch_first=True)\n",
              "  )\n",
              "  (1): RNNDropout()\n",
              "), Sequential(\n",
              "  (0): PoolingLinearClassifier(\n",
              "    (layers): Sequential(\n",
              "      (0): BatchNorm1d(1200, eps=1e-05, momentum=0.1, affine=True, track_running_stats=True)\n",
              "      (1): Dropout(p=0.27999999999999997, inplace=False)\n",
              "      (2): Linear(in_features=1200, out_features=50, bias=True)\n",
              "      (3): ReLU(inplace=True)\n",
              "      (4): BatchNorm1d(50, eps=1e-05, momentum=0.1, affine=True, track_running_stats=True)\n",
              "      (5): Dropout(p=0.1, inplace=False)\n",
              "      (6): Linear(in_features=50, out_features=2, bias=True)\n",
              "    )\n",
              "  )\n",
              ")], add_time=True, silent=False)"
            ]
          },
          "metadata": {},
          "execution_count": 15
        }
      ]
    },
    {
      "cell_type": "code",
      "metadata": {
        "id": "yQzxgvqSTjHi",
        "colab": {
          "base_uri": "https://localhost:8080/",
          "height": 481
        },
        "outputId": "79f268db-0006-48d8-ce67-d80028d5660c"
      },
      "source": [
        "# train classifier\n",
        "learn_classifier.lr_find()\n",
        "learn_classifier.recorder.plot(suggestion=True)"
      ],
      "execution_count": null,
      "outputs": [
        {
          "output_type": "display_data",
          "data": {
            "text/plain": [
              "<IPython.core.display.HTML object>"
            ],
            "text/html": [
              "\n",
              "<style>\n",
              "    /* Turns off some styling */\n",
              "    progress {\n",
              "        /* gets rid of default border in Firefox and Opera. */\n",
              "        border: none;\n",
              "        /* Needs to be in here for Safari polyfill so background images work as expected. */\n",
              "        background-size: auto;\n",
              "    }\n",
              "    progress:not([value]), progress:not([value])::-webkit-progress-bar {\n",
              "        background: repeating-linear-gradient(45deg, #7e7e7e, #7e7e7e 10px, #5c5c5c 10px, #5c5c5c 20px);\n",
              "    }\n",
              "    .progress-bar-interrupted, .progress-bar-interrupted::-webkit-progress-bar {\n",
              "        background: #F44336;\n",
              "    }\n",
              "</style>\n"
            ]
          },
          "metadata": {}
        },
        {
          "output_type": "display_data",
          "data": {
            "text/plain": [
              "<IPython.core.display.HTML object>"
            ],
            "text/html": [
              "\n",
              "    <div>\n",
              "      <progress value='0' class='' max='1' style='width:300px; height:20px; vertical-align: middle;'></progress>\n",
              "      0.00% [0/1 00:00&lt;?]\n",
              "    </div>\n",
              "    \n",
              "<table border=\"1\" class=\"dataframe\">\n",
              "  <thead>\n",
              "    <tr style=\"text-align: left;\">\n",
              "      <th>epoch</th>\n",
              "      <th>train_loss</th>\n",
              "      <th>valid_loss</th>\n",
              "      <th>accuracy</th>\n",
              "      <th>time</th>\n",
              "    </tr>\n",
              "  </thead>\n",
              "  <tbody>\n",
              "  </tbody>\n",
              "</table><p>\n",
              "\n",
              "    <div>\n",
              "      <progress value='92' class='' max='121' style='width:300px; height:20px; vertical-align: middle;'></progress>\n",
              "      76.03% [92/121 00:02&lt;00:00 0.8839]\n",
              "    </div>\n",
              "    "
            ]
          },
          "metadata": {}
        },
        {
          "output_type": "stream",
          "name": "stderr",
          "text": [
            "/usr/local/lib/python3.7/dist-packages/fastai/text/data.py:124: VisibleDeprecationWarning: Creating an ndarray from ragged nested sequences (which is a list-or-tuple of lists-or-tuples-or ndarrays with different lengths or shapes) is deprecated. If you meant to do this, you must specify 'dtype=object' when creating the ndarray.\n",
            "  sort_idx = np.concatenate(np.random.permutation(ck_idx[1:])) if len(ck_idx) > 1 else np.array([],dtype=np.int)\n",
            "<string>:6: VisibleDeprecationWarning: Creating an ndarray from ragged nested sequences (which is a list-or-tuple of lists-or-tuples-or ndarrays with different lengths or shapes) is deprecated. If you meant to do this, you must specify 'dtype=object' when creating the ndarray.\n"
          ]
        },
        {
          "output_type": "stream",
          "name": "stdout",
          "text": [
            "LR Finder is complete, type {learner_name}.recorder.plot() to see the graph.\n",
            "Min numerical gradient: 1.45E-01\n",
            "Min loss divided by 10: 1.74E-02\n"
          ]
        },
        {
          "output_type": "display_data",
          "data": {
            "text/plain": [
              "<Figure size 432x288 with 1 Axes>"
            ],
            "image/png": "[encoded data removed]"
          },
          "metadata": {
            "needs_background": "light"
          }
        }
      ]
    },
    {
      "cell_type": "code",
      "metadata": {
        "id": "7boiRtwsTjHi",
        "colab": {
          "base_uri": "https://localhost:8080/",
          "height": 486
        },
        "outputId": "c2094435-dafc-426b-dc5f-59d611e5daa6"
      },
      "source": [
        "learn_classifier.fit_one_cycle(5, max_lr=1e-2, moms=(0.8,0.7))"
      ],
      "execution_count": null,
      "outputs": [
        {
          "output_type": "display_data",
          "data": {
            "text/plain": [
              "<IPython.core.display.HTML object>"
            ],
            "text/html": [
              "\n",
              "<style>\n",
              "    /* Turns off some styling */\n",
              "    progress {\n",
              "        /* gets rid of default border in Firefox and Opera. */\n",
              "        border: none;\n",
              "        /* Needs to be in here for Safari polyfill so background images work as expected. */\n",
              "        background-size: auto;\n",
              "    }\n",
              "    progress:not([value]), progress:not([value])::-webkit-progress-bar {\n",
              "        background: repeating-linear-gradient(45deg, #7e7e7e, #7e7e7e 10px, #5c5c5c 10px, #5c5c5c 20px);\n",
              "    }\n",
              "    .progress-bar-interrupted, .progress-bar-interrupted::-webkit-progress-bar {\n",
              "        background: #F44336;\n",
              "    }\n",
              "</style>\n"
            ]
          },
          "metadata": {}
        },
        {
          "output_type": "display_data",
          "data": {
            "text/plain": [
              "<IPython.core.display.HTML object>"
            ],
            "text/html": [
              "<table border=\"1\" class=\"dataframe\">\n",
              "  <thead>\n",
              "    <tr style=\"text-align: left;\">\n",
              "      <th>epoch</th>\n",
              "      <th>train_loss</th>\n",
              "      <th>valid_loss</th>\n",
              "      <th>accuracy</th>\n",
              "      <th>time</th>\n",
              "    </tr>\n",
              "  </thead>\n",
              "  <tbody>\n",
              "    <tr>\n",
              "      <td>0</td>\n",
              "      <td>0.407212</td>\n",
              "      <td>0.070540</td>\n",
              "      <td>0.977871</td>\n",
              "      <td>00:03</td>\n",
              "    </tr>\n",
              "    <tr>\n",
              "      <td>1</td>\n",
              "      <td>0.203867</td>\n",
              "      <td>0.073522</td>\n",
              "      <td>0.986842</td>\n",
              "      <td>00:03</td>\n",
              "    </tr>\n",
              "    <tr>\n",
              "      <td>2</td>\n",
              "      <td>0.115671</td>\n",
              "      <td>0.058068</td>\n",
              "      <td>0.986842</td>\n",
              "      <td>00:03</td>\n",
              "    </tr>\n",
              "    <tr>\n",
              "      <td>3</td>\n",
              "      <td>0.095909</td>\n",
              "      <td>0.070845</td>\n",
              "      <td>0.983254</td>\n",
              "      <td>00:03</td>\n",
              "    </tr>\n",
              "    <tr>\n",
              "      <td>4</td>\n",
              "      <td>0.077953</td>\n",
              "      <td>0.079577</td>\n",
              "      <td>0.980861</td>\n",
              "      <td>00:03</td>\n",
              "    </tr>\n",
              "  </tbody>\n",
              "</table>"
            ]
          },
          "metadata": {}
        },
        {
          "output_type": "stream",
          "name": "stderr",
          "text": [
            "/usr/local/lib/python3.7/dist-packages/fastai/text/data.py:124: VisibleDeprecationWarning: Creating an ndarray from ragged nested sequences (which is a list-or-tuple of lists-or-tuples-or ndarrays with different lengths or shapes) is deprecated. If you meant to do this, you must specify 'dtype=object' when creating the ndarray.\n",
            "  sort_idx = np.concatenate(np.random.permutation(ck_idx[1:])) if len(ck_idx) > 1 else np.array([],dtype=np.int)\n",
            "<string>:6: VisibleDeprecationWarning: Creating an ndarray from ragged nested sequences (which is a list-or-tuple of lists-or-tuples-or ndarrays with different lengths or shapes) is deprecated. If you meant to do this, you must specify 'dtype=object' when creating the ndarray.\n",
            "/usr/local/lib/python3.7/dist-packages/fastai/text/data.py:124: VisibleDeprecationWarning: Creating an ndarray from ragged nested sequences (which is a list-or-tuple of lists-or-tuples-or ndarrays with different lengths or shapes) is deprecated. If you meant to do this, you must specify 'dtype=object' when creating the ndarray.\n",
            "  sort_idx = np.concatenate(np.random.permutation(ck_idx[1:])) if len(ck_idx) > 1 else np.array([],dtype=np.int)\n",
            "<string>:6: VisibleDeprecationWarning: Creating an ndarray from ragged nested sequences (which is a list-or-tuple of lists-or-tuples-or ndarrays with different lengths or shapes) is deprecated. If you meant to do this, you must specify 'dtype=object' when creating the ndarray.\n",
            "/usr/local/lib/python3.7/dist-packages/fastai/text/data.py:124: VisibleDeprecationWarning: Creating an ndarray from ragged nested sequences (which is a list-or-tuple of lists-or-tuples-or ndarrays with different lengths or shapes) is deprecated. If you meant to do this, you must specify 'dtype=object' when creating the ndarray.\n",
            "  sort_idx = np.concatenate(np.random.permutation(ck_idx[1:])) if len(ck_idx) > 1 else np.array([],dtype=np.int)\n",
            "<string>:6: VisibleDeprecationWarning: Creating an ndarray from ragged nested sequences (which is a list-or-tuple of lists-or-tuples-or ndarrays with different lengths or shapes) is deprecated. If you meant to do this, you must specify 'dtype=object' when creating the ndarray.\n",
            "/usr/local/lib/python3.7/dist-packages/fastai/text/data.py:124: VisibleDeprecationWarning: Creating an ndarray from ragged nested sequences (which is a list-or-tuple of lists-or-tuples-or ndarrays with different lengths or shapes) is deprecated. If you meant to do this, you must specify 'dtype=object' when creating the ndarray.\n",
            "  sort_idx = np.concatenate(np.random.permutation(ck_idx[1:])) if len(ck_idx) > 1 else np.array([],dtype=np.int)\n",
            "<string>:6: VisibleDeprecationWarning: Creating an ndarray from ragged nested sequences (which is a list-or-tuple of lists-or-tuples-or ndarrays with different lengths or shapes) is deprecated. If you meant to do this, you must specify 'dtype=object' when creating the ndarray.\n",
            "/usr/local/lib/python3.7/dist-packages/fastai/text/data.py:124: VisibleDeprecationWarning: Creating an ndarray from ragged nested sequences (which is a list-or-tuple of lists-or-tuples-or ndarrays with different lengths or shapes) is deprecated. If you meant to do this, you must specify 'dtype=object' when creating the ndarray.\n",
            "  sort_idx = np.concatenate(np.random.permutation(ck_idx[1:])) if len(ck_idx) > 1 else np.array([],dtype=np.int)\n",
            "<string>:6: VisibleDeprecationWarning: Creating an ndarray from ragged nested sequences (which is a list-or-tuple of lists-or-tuples-or ndarrays with different lengths or shapes) is deprecated. If you meant to do this, you must specify 'dtype=object' when creating the ndarray.\n"
          ]
        }
      ]
    },
    {
      "cell_type": "code",
      "metadata": {
        "id": "ToR6na02TjHi",
        "colab": {
          "base_uri": "https://localhost:8080/",
          "height": 279
        },
        "outputId": "343c35c1-3d1f-4198-8c7b-589db9a2f6e8"
      },
      "source": [
        "learn_classifier.recorder.plot_losses()"
      ],
      "execution_count": null,
      "outputs": [
        {
          "output_type": "display_data",
          "data": {
            "text/plain": [
              "<Figure size 432x288 with 1 Axes>"
            ],
            "image/png": "[encoded data removed]"
          },
          "metadata": {
            "needs_background": "light"
          }
        }
      ]
    },
    {
      "cell_type": "code",
      "metadata": {
        "id": "BLHJl3oQTjHi",
        "colab": {
          "base_uri": "https://localhost:8080/",
          "height": 481
        },
        "outputId": "db85fc05-3035-4309-9baa-06703fb2e4af"
      },
      "source": [
        "lang_mod.freeze_to(-1)\n",
        "\n",
        "learn_classifier.lr_find()\n",
        "learn_classifier.recorder.plot(suggestion=True)"
      ],
      "execution_count": null,
      "outputs": [
        {
          "output_type": "display_data",
          "data": {
            "text/plain": [
              "<IPython.core.display.HTML object>"
            ],
            "text/html": [
              "\n",
              "<style>\n",
              "    /* Turns off some styling */\n",
              "    progress {\n",
              "        /* gets rid of default border in Firefox and Opera. */\n",
              "        border: none;\n",
              "        /* Needs to be in here for Safari polyfill so background images work as expected. */\n",
              "        background-size: auto;\n",
              "    }\n",
              "    progress:not([value]), progress:not([value])::-webkit-progress-bar {\n",
              "        background: repeating-linear-gradient(45deg, #7e7e7e, #7e7e7e 10px, #5c5c5c 10px, #5c5c5c 20px);\n",
              "    }\n",
              "    .progress-bar-interrupted, .progress-bar-interrupted::-webkit-progress-bar {\n",
              "        background: #F44336;\n",
              "    }\n",
              "</style>\n"
            ]
          },
          "metadata": {}
        },
        {
          "output_type": "display_data",
          "data": {
            "text/plain": [
              "<IPython.core.display.HTML object>"
            ],
            "text/html": [
              "\n",
              "    <div>\n",
              "      <progress value='0' class='' max='1' style='width:300px; height:20px; vertical-align: middle;'></progress>\n",
              "      0.00% [0/1 00:00&lt;?]\n",
              "    </div>\n",
              "    \n",
              "<table border=\"1\" class=\"dataframe\">\n",
              "  <thead>\n",
              "    <tr style=\"text-align: left;\">\n",
              "      <th>epoch</th>\n",
              "      <th>train_loss</th>\n",
              "      <th>valid_loss</th>\n",
              "      <th>accuracy</th>\n",
              "      <th>time</th>\n",
              "    </tr>\n",
              "  </thead>\n",
              "  <tbody>\n",
              "  </tbody>\n",
              "</table><p>\n",
              "\n",
              "    <div>\n",
              "      <progress value='80' class='' max='121' style='width:300px; height:20px; vertical-align: middle;'></progress>\n",
              "      66.12% [80/121 00:02&lt;00:01 0.1726]\n",
              "    </div>\n",
              "    "
            ]
          },
          "metadata": {}
        },
        {
          "output_type": "stream",
          "name": "stderr",
          "text": [
            "/usr/local/lib/python3.7/dist-packages/fastai/text/data.py:124: VisibleDeprecationWarning: Creating an ndarray from ragged nested sequences (which is a list-or-tuple of lists-or-tuples-or ndarrays with different lengths or shapes) is deprecated. If you meant to do this, you must specify 'dtype=object' when creating the ndarray.\n",
            "  sort_idx = np.concatenate(np.random.permutation(ck_idx[1:])) if len(ck_idx) > 1 else np.array([],dtype=np.int)\n",
            "<string>:6: VisibleDeprecationWarning: Creating an ndarray from ragged nested sequences (which is a list-or-tuple of lists-or-tuples-or ndarrays with different lengths or shapes) is deprecated. If you meant to do this, you must specify 'dtype=object' when creating the ndarray.\n"
          ]
        },
        {
          "output_type": "stream",
          "name": "stdout",
          "text": [
            "LR Finder is complete, type {learner_name}.recorder.plot() to see the graph.\n",
            "Min numerical gradient: 6.31E-07\n",
            "Min loss divided by 10: 1.58E-07\n"
          ]
        },
        {
          "output_type": "display_data",
          "data": {
            "text/plain": [
              "<Figure size 432x288 with 1 Axes>"
            ],
            "image/png": "[encoded data removed]"
          },
          "metadata": {
            "needs_background": "light"
          }
        }
      ]
    },
    {
      "cell_type": "markdown",
      "metadata": {
        "id": "ZyADkr6yTyG9"
      },
      "source": [
        "Test out the classification model on spam and non-spam examples."
      ]
    },
    {
      "cell_type": "code",
      "metadata": {
        "colab": {
          "base_uri": "https://localhost:8080/"
        },
        "id": "Y_KKaOnrTjHj",
        "outputId": "752a3a90-5b41-44e9-e56b-ed450561fd3b"
      },
      "source": [
        "# predict\n",
        "learn_classifier.predict('did you buy the groceries for dinner? :)')"
      ],
      "execution_count": null,
      "outputs": [
        {
          "output_type": "execute_result",
          "data": {
            "text/plain": [
              "(Category tensor(0), tensor(0), tensor([9.9957e-01, 4.3219e-04]))"
            ]
          },
          "metadata": {},
          "execution_count": 20
        }
      ]
    },
    {
      "cell_type": "code",
      "metadata": {
        "colab": {
          "base_uri": "https://localhost:8080/"
        },
        "id": "A8Xv4N9STjHj",
        "outputId": "3540d58f-abda-47f8-8c46-34f0b22bd4d6"
      },
      "source": [
        "# predict\n",
        "learn_classifier.predict('Free entry call back now')"
      ],
      "execution_count": null,
      "outputs": [
        {
          "output_type": "execute_result",
          "data": {
            "text/plain": [
              "(Category tensor(1), tensor(1), tensor([0.4046, 0.5954]))"
            ]
          },
          "metadata": {},
          "execution_count": 21
        }
      ]
    },
    {
      "cell_type": "markdown",
      "metadata": {
        "id": "gcUOVjveT8Xu"
      },
      "source": [
        "Next we will evaluate on all of our validation data."
      ]
    },
    {
      "cell_type": "code",
      "metadata": {
        "colab": {
          "base_uri": "https://localhost:8080/",
          "height": 34
        },
        "id": "jkvU1PvTTjHj",
        "outputId": "d3e61bdf-eb84-4ef6-82e3-e2c57661f70e"
      },
      "source": [
        "# get predictions from validation\n",
        "valid_preds, valid_label=learn_classifier.get_preds(ds_type=DatasetType.Valid, ordered=True)\n",
        "valid_preds.shape"
      ],
      "execution_count": null,
      "outputs": [
        {
          "output_type": "display_data",
          "data": {
            "text/plain": [
              "<IPython.core.display.HTML object>"
            ],
            "text/html": [
              "\n",
              "<style>\n",
              "    /* Turns off some styling */\n",
              "    progress {\n",
              "        /* gets rid of default border in Firefox and Opera. */\n",
              "        border: none;\n",
              "        /* Needs to be in here for Safari polyfill so background images work as expected. */\n",
              "        background-size: auto;\n",
              "    }\n",
              "    progress:not([value]), progress:not([value])::-webkit-progress-bar {\n",
              "        background: repeating-linear-gradient(45deg, #7e7e7e, #7e7e7e 10px, #5c5c5c 10px, #5c5c5c 20px);\n",
              "    }\n",
              "    .progress-bar-interrupted, .progress-bar-interrupted::-webkit-progress-bar {\n",
              "        background: #F44336;\n",
              "    }\n",
              "</style>\n"
            ]
          },
          "metadata": {}
        },
        {
          "output_type": "display_data",
          "data": {
            "text/plain": [
              "<IPython.core.display.HTML object>"
            ],
            "text/html": []
          },
          "metadata": {}
        },
        {
          "output_type": "execute_result",
          "data": {
            "text/plain": [
              "torch.Size([1672, 2])"
            ]
          },
          "metadata": {},
          "execution_count": 22
        }
      ]
    },
    {
      "cell_type": "markdown",
      "metadata": {
        "id": "s4UopYcrWw38"
      },
      "source": [
        "## Part 1. Evaluate Performance [10pt]\n",
        "\n",
        "### Part (a) [5pt]\n",
        "\n",
        "Implement the above helper code for spam detection. \n",
        "\n",
        "What is the accuracy obtained with ULMFiT? How does ULMFiT compare to the approach in the first part using only LSTM?"
      ]
    },
    {
      "cell_type": "code",
      "source": [
        "valid_preds[0]"
      ],
      "metadata": {
        "colab": {
          "base_uri": "https://localhost:8080/"
        },
        "id": "wpdXI7XqkpAy",
        "outputId": "e5b73443-b8a6-4164-8a1a-60aff6a333da"
      },
      "execution_count": null,
      "outputs": [
        {
          "output_type": "execute_result",
          "data": {
            "text/plain": [
              "tensor([9.9972e-01, 2.8017e-04])"
            ]
          },
          "metadata": {},
          "execution_count": 33
        }
      ]
    },
    {
      "cell_type": "code",
      "metadata": {
        "id": "hJFv4ywTWw4F"
      },
      "source": [
        "valid_pred_list=[]\n",
        "for i in valid_preds:\n",
        "  _,j = torch.max(i,dim =0)\n",
        "  valid_pred_list.append(j.item())\n",
        "\n",
        "valid_pred_list = torch.tensor(np.array(valid_pred_list))"
      ],
      "execution_count": null,
      "outputs": []
    },
    {
      "cell_type": "code",
      "source": [
        "correct, total = 0,0\n",
        "for i in range(len(valid_preds)):\n",
        "  correct += valid_pred_list.eq(valid_label).sum().item()\n",
        "  total+= valid_label.shape[0]\n",
        "validation_acc = correct/total"
      ],
      "metadata": {
        "id": "_E6Tcru_lcnE"
      },
      "execution_count": null,
      "outputs": []
    },
    {
      "cell_type": "code",
      "source": [
        "validation_acc"
      ],
      "metadata": {
        "colab": {
          "base_uri": "https://localhost:8080/"
        },
        "id": "8kB0fvrXn6Ne",
        "outputId": "caedb774-04e9-4330-c088-e228766f311b"
      },
      "execution_count": null,
      "outputs": [
        {
          "output_type": "execute_result",
          "data": {
            "text/plain": [
              "0.9808612440191388"
            ]
          },
          "metadata": {},
          "execution_count": 40
        }
      ]
    },
    {
      "cell_type": "markdown",
      "source": [
        "ULMfit model has achieved 98% accuracy. ULMfit gives us similar accuracy to the LSTM model for the validation set. We would have to look at the confusion matrix for further inspection."
      ],
      "metadata": {
        "id": "_pA2lus9qO2W"
      }
    },
    {
      "cell_type": "markdown",
      "metadata": {
        "id": "ybdyEKx5Ww4F"
      },
      "source": [
        "### Part (b) [5pt]\n",
        "Provide a confusion matrix of the performance for the two models. How do they compare? Are there any qualitative differences between the performances (i.e. examine the samples for which the models differred)?"
      ]
    },
    {
      "cell_type": "code",
      "source": [
        "!pip install torchmetrics"
      ],
      "metadata": {
        "colab": {
          "base_uri": "https://localhost:8080/"
        },
        "id": "qm4hmlXtsj1Y",
        "outputId": "35c4acf2-c77e-43d5-db6c-a9b83ef8ee18"
      },
      "execution_count": null,
      "outputs": [
        {
          "output_type": "stream",
          "name": "stdout",
          "text": [
            "Looking in indexes: https://pypi.org/simple, https://us-python.pkg.dev/colab-wheels/public/simple/\n",
            "Collecting torchmetrics\n",
            "  Downloading torchmetrics-0.10.3-py3-none-any.whl (529 kB)\n",
            "\u001b[K     |████████████████████████████████| 529 kB 22.5 MB/s \n",
            "\u001b[?25hRequirement already satisfied: numpy>=1.17.2 in /usr/local/lib/python3.7/dist-packages (from torchmetrics) (1.21.6)\n",
            "Requirement already satisfied: torch>=1.3.1 in /usr/local/lib/python3.7/dist-packages (from torchmetrics) (1.12.1)\n",
            "Requirement already satisfied: typing-extensions in /usr/local/lib/python3.7/dist-packages (from torchmetrics) (4.1.1)\n",
            "Requirement already satisfied: packaging in /usr/local/lib/python3.7/dist-packages (from torchmetrics) (21.3)\n",
            "Requirement already satisfied: pyparsing!=3.0.5,>=2.0.2 in /usr/local/lib/python3.7/dist-packages (from packaging->torchmetrics) (3.0.9)\n",
            "Installing collected packages: torchmetrics\n",
            "Successfully installed torchmetrics-0.10.3\n"
          ]
        }
      ]
    },
    {
      "cell_type": "code",
      "metadata": {
        "id": "vuxLCHhFWw4F",
        "colab": {
          "base_uri": "https://localhost:8080/"
        },
        "outputId": "294e25e9-9dab-4477-9d94-ddef81376f9a"
      },
      "source": [
        "from torchmetrics import ConfusionMatrix\n",
        "matrix = ConfusionMatrix(num_classes =2)\n",
        "matrix(valid_pred_list,valid_label)"
      ],
      "execution_count": null,
      "outputs": [
        {
          "output_type": "stream",
          "name": "stderr",
          "text": [
            "/usr/local/lib/python3.7/dist-packages/torchvision/io/image.py:13: UserWarning: Failed to load image Python extension: libtorch_cuda_cu.so: cannot open shared object file: No such file or directory\n",
            "  warn(f\"Failed to load image Python extension: {e}\")\n"
          ]
        },
        {
          "output_type": "execute_result",
          "data": {
            "text/plain": [
              "tensor([[1448,    0],\n",
              "        [  32,  192]])"
            ]
          },
          "metadata": {},
          "execution_count": 44
        }
      ]
    },
    {
      "cell_type": "code",
      "source": [
        "confusion_model_1"
      ],
      "metadata": {
        "colab": {
          "base_uri": "https://localhost:8080/"
        },
        "id": "8-MLxzwmtj0u",
        "outputId": "36f78a3c-6da0-4abc-ab31-95c3df874b66"
      },
      "execution_count": null,
      "outputs": [
        {
          "output_type": "execute_result",
          "data": {
            "text/plain": [
              "tensor([[953,  12],\n",
              "        [  8, 142]])"
            ]
          },
          "metadata": {},
          "execution_count": 38
        }
      ]
    },
    {
      "cell_type": "markdown",
      "source": [
        "Our initial model misclassifies less of the spam messages compared to our umfit model.Umfit has classified all the non spam messages correctly. This means that the umfit would be better as incorrectly classifying non spam messages as spam would mean that the user might miss out on important messages."
      ],
      "metadata": {
        "id": "pmsWGghS4f7S"
      }
    },
    {
      "cell_type": "markdown",
      "metadata": {
        "id": "F9BpSLGBWw4F"
      },
      "source": [
        "## Part 2. Evaluate on New Data [10pt]\n",
        "\n",
        "### Part (a) [4pt]\n",
        "What is your model's prediction of the probability that the SMS message \"machine learning is sooo cool!\" is spam?"
      ]
    },
    {
      "cell_type": "code",
      "metadata": {
        "id": "Ho0F4VMCnzXR",
        "colab": {
          "base_uri": "https://localhost:8080/"
        },
        "outputId": "cf1ed2ba-484f-4057-e693-45b04900f77d"
      },
      "source": [
        "ind = msg_array(msg)\n",
        "ind = torch.tensor(np.array(ind))\n",
        "ind = ind[None,:]\n",
        "output= model(ind)\n",
        "#output = torch.round(output)\n",
        "mod1_1 = output.item()\n",
        "print(\"probability of msg by model 1 =\",mod1_1)"
      ],
      "execution_count": null,
      "outputs": [
        {
          "output_type": "stream",
          "name": "stdout",
          "text": [
            "probability of msg by model 1 = 0.0021182680502533913\n"
          ]
        }
      ]
    },
    {
      "cell_type": "code",
      "source": [
        "msg = \"machine learning is sooo cool!\"\n",
        "learn_classifier.predict(msg)"
      ],
      "metadata": {
        "colab": {
          "base_uri": "https://localhost:8080/"
        },
        "id": "LP1JmMyyVs9e",
        "outputId": "4b86c926-56ef-472b-8bc5-00b8875a6bdf"
      },
      "execution_count": null,
      "outputs": [
        {
          "output_type": "execute_result",
          "data": {
            "text/plain": [
              "(Category tensor(0), tensor(0), tensor([1.0000e+00, 2.4702e-11]))"
            ]
          },
          "metadata": {},
          "execution_count": 23
        }
      ]
    },
    {
      "cell_type": "markdown",
      "source": [
        "The model's prediction of the probability that the SMS message \"machine learning is sooo cool!\" is spam is 2.4702e-11"
      ],
      "metadata": {
        "id": "RBbuzUb1eJct"
      }
    },
    {
      "cell_type": "markdown",
      "metadata": {
        "id": "H4FlSj_Mn2yY"
      },
      "source": [
        "### Part (b) [3 pt] \n",
        "Load 5 sample sentences from your spam mail and test it out out the two models you created. How well do they perform?"
      ]
    },
    {
      "cell_type": "code",
      "metadata": {
        "id": "0OvvnW8OWw4G"
      },
      "source": [
        "msg1 = \"your smart home security offer free installation\"\n",
        "msg2 = \"Take this quiz to find your perfect frames\"\n",
        "msg3 = \"Clinically Proven , Outrageously Effective Whole Body Deodorant\"\n",
        "msg4 = \"Hurry up! Registration open for Company Secretary Executive Entrance Test\"\n",
        "msg5 = \"Loan Disbursal in 30 mins\""
      ],
      "execution_count": null,
      "outputs": []
    },
    {
      "cell_type": "code",
      "source": [
        "def msg_array(msg):\n",
        "  msg_new = msg = list(msg)\n",
        "  msg = [ch for ch in msg]\n",
        "  index = []\n",
        "  for ch in msg:\n",
        "    for a in text_field.vocab.stoi.keys():\n",
        "      if ch == a:\n",
        "        index.append(text_field.vocab.stoi[a])\n",
        "  return index\n",
        "\n",
        "ind = msg_array(msg1)\n",
        "ind = torch.tensor(np.array(ind))\n",
        "ind = ind[None,:]\n",
        "output= model(ind)\n",
        "#output = torch.round(output)\n",
        "mod1_1 = output.item()\n",
        "print(\"probability of msg1 by model 1 =\",mod1_1)\n",
        "\n",
        "ind = msg_array(msg2)\n",
        "ind = torch.tensor(np.array(ind))\n",
        "ind = ind[None,:]\n",
        "output= model(ind)\n",
        "#output = torch.round(output)\n",
        "mod1_2 = output.item()\n",
        "print(\"probability of msg2 by model 1 =\",mod1_2)\n",
        "\n",
        "\n",
        "ind = msg_array(msg3)\n",
        "ind = torch.tensor(np.array(ind))\n",
        "ind = ind[None,:]\n",
        "output= model(ind)\n",
        "#output = torch.round(output)\n",
        "mod1_3 = output.item()\n",
        "print(\"probability of msg3 by model 1 =\",mod1_3)\n",
        "\n",
        "ind = msg_array(msg4)\n",
        "ind = torch.tensor(np.array(ind))\n",
        "ind = ind[None,:]\n",
        "output= model(ind)\n",
        "#output = torch.round(output)\n",
        "mod1_4 = output.item()\n",
        "print(\"probability of msg4 by model 1 =\",mod1_4)\n",
        "\n",
        "\n",
        "ind = msg_array(msg5)\n",
        "ind = torch.tensor(np.array(ind))\n",
        "ind = ind[None,:]\n",
        "output= model(ind)\n",
        "#output = torch.round(output)\n",
        "mod1_5 = output.item()\n",
        "print(\"probability of msg5 by model 1 =\",mod1_5)\n"
      ],
      "metadata": {
        "colab": {
          "base_uri": "https://localhost:8080/"
        },
        "id": "Ws_ZxR-NedjM",
        "outputId": "a67c3ff8-a05c-4861-86d6-11d6257c1484"
      },
      "execution_count": null,
      "outputs": [
        {
          "output_type": "stream",
          "name": "stdout",
          "text": [
            "probability of msg1 by model 1 = 0.027522165328264236\n",
            "probability of msg2 by model 1 = 0.004551276098936796\n",
            "probability of msg3 by model 1 = 0.02776477113366127\n",
            "probability of msg4 by model 1 = 0.0324937142431736\n",
            "probability of msg5 by model 1 = 0.0123796621337533\n"
          ]
        }
      ]
    },
    {
      "cell_type": "code",
      "source": [
        "print(learn_classifier.predict(msg1))\n",
        "print(learn_classifier.predict(msg2))\n",
        "print(learn_classifier.predict(msg3))\n",
        "print(learn_classifier.predict(msg4))\n",
        "print(learn_classifier.predict(msg5))"
      ],
      "metadata": {
        "colab": {
          "base_uri": "https://localhost:8080/"
        },
        "id": "MOhSvXBqUidH",
        "outputId": "0e345e71-2bd2-4581-ef2c-40d54c8397ef"
      },
      "execution_count": null,
      "outputs": [
        {
          "output_type": "stream",
          "name": "stdout",
          "text": [
            "(Category tensor(0), tensor(0), tensor([0.9448, 0.0552]))\n",
            "(Category tensor(0), tensor(0), tensor([0.9939, 0.0061]))\n",
            "(Category tensor(0), tensor(0), tensor([0.9799, 0.0201]))\n",
            "(Category tensor(0), tensor(0), tensor([0.8755, 0.1245]))\n",
            "(Category tensor(0), tensor(0), tensor([0.7111, 0.2889]))\n"
          ]
        }
      ]
    },
    {
      "cell_type": "markdown",
      "source": [
        "Both the model do not perform well on spam messages."
      ],
      "metadata": {
        "id": "KAxXvCgBerLE"
      }
    },
    {
      "cell_type": "markdown",
      "metadata": {
        "id": "646WjsAwWw4F"
      },
      "source": [
        "### Part (c) [3pt]\n",
        "Load 5 sample sentences from your regular mail and test it out out the two models you created. How well do they perform?"
      ]
    },
    {
      "cell_type": "code",
      "source": [
        "msg1 = \"My recovery seems like it will take more time than I was anticipating so I'm giving up my shift\"\n",
        "msg2 = \"I can do it if it's still available \"\n",
        "msg3 = \"Unfortunately, I won't be able to work\"\n",
        "msg4 = \"Great! See you then!\"\n",
        "msg5 = \"Let me know if you can't make a 2pm start time\""
      ],
      "metadata": {
        "id": "aOUt2YpxY5HU"
      },
      "execution_count": null,
      "outputs": []
    },
    {
      "cell_type": "code",
      "source": [
        "def msg_array(msg):\n",
        "  msg_new = msg = list(msg)\n",
        "  msg = [ch for ch in msg]\n",
        "  index = []\n",
        "  for ch in msg:\n",
        "    for a in text_field.vocab.stoi.keys():\n",
        "      if ch == a:\n",
        "        index.append(text_field.vocab.stoi[a])\n",
        "  return index\n",
        "\n",
        "ind = msg_array(msg1)\n",
        "ind = torch.tensor(np.array(ind))\n",
        "ind = ind[None,:]\n",
        "output= model(ind)\n",
        "#output = torch.round(output)\n",
        "mod1_1 = output.item()\n",
        "print(\"probability of msg1 by model 1 =\",mod1_1)\n",
        "\n",
        "ind = msg_array(msg2)\n",
        "ind = torch.tensor(np.array(ind))\n",
        "ind = ind[None,:]\n",
        "output= model(ind)\n",
        "#output = torch.round(output)\n",
        "mod1_2 = output.item()\n",
        "print(\"probability of msg2 by model 1 =\",mod1_2)\n",
        "\n",
        "\n",
        "ind = msg_array(msg3)\n",
        "ind = torch.tensor(np.array(ind))\n",
        "ind = ind[None,:]\n",
        "output= model(ind)\n",
        "#output = torch.round(output)\n",
        "mod1_3 = output.item()\n",
        "print(\"probability of msg3 by model 1 =\",mod1_3)\n",
        "\n",
        "ind = msg_array(msg4)\n",
        "ind = torch.tensor(np.array(ind))\n",
        "ind = ind[None,:]\n",
        "output= model(ind)\n",
        "#output = torch.round(output)\n",
        "mod1_4 = output.item()\n",
        "print(\"probability of msg4 by model 1 =\",mod1_4)\n",
        "\n",
        "\n",
        "ind = msg_array(msg5)\n",
        "ind = torch.tensor(np.array(ind))\n",
        "ind = ind[None,:]\n",
        "output= model(ind)\n",
        "#output = torch.round(output)\n",
        "mod1_5 = output.item()\n",
        "print(\"probability of msg5 by model 1 =\",mod1_5)\n"
      ],
      "metadata": {
        "colab": {
          "base_uri": "https://localhost:8080/"
        },
        "id": "k8RzRhSqY58v",
        "outputId": "c2892cef-5d62-48ed-bb06-6187d349ef12"
      },
      "execution_count": null,
      "outputs": [
        {
          "output_type": "stream",
          "name": "stdout",
          "text": [
            "probability of msg1 by model 1 = 0.0007693347288295627\n",
            "probability of msg2 by model 1 = 6.891010707477108e-05\n",
            "probability of msg3 by model 1 = 0.0014235894195735455\n",
            "probability of msg4 by model 1 = 0.0006270520389080048\n",
            "probability of msg5 by model 1 = 0.0014025424607098103\n"
          ]
        }
      ]
    },
    {
      "cell_type": "code",
      "source": [
        "print(learn_classifier.predict(msg1))\n",
        "print(learn_classifier.predict(msg2))\n",
        "print(learn_classifier.predict(msg3))\n",
        "print(learn_classifier.predict(msg4))\n",
        "print(learn_classifier.predict(msg5))"
      ],
      "metadata": {
        "colab": {
          "base_uri": "https://localhost:8080/"
        },
        "id": "ZYwrnr-dY-Xy",
        "outputId": "22aa0955-2248-4898-9798-3720c5bb8297"
      },
      "execution_count": null,
      "outputs": [
        {
          "output_type": "stream",
          "name": "stdout",
          "text": [
            "(Category tensor(0), tensor(0), tensor([1.0000e+00, 8.5534e-12]))\n",
            "(Category tensor(0), tensor(0), tensor([1.0000e+00, 8.5249e-12]))\n",
            "(Category tensor(0), tensor(0), tensor([1.0000e+00, 1.0924e-10]))\n",
            "(Category tensor(0), tensor(0), tensor([9.9998e-01, 1.7070e-05]))\n",
            "(Category tensor(0), tensor(0), tensor([9.9992e-01, 7.5908e-05]))\n"
          ]
        }
      ]
    },
    {
      "cell_type": "markdown",
      "source": [
        "Both model perform well when classifying non spam messages."
      ],
      "metadata": {
        "id": "ehKyyW4ue3RI"
      }
    },
    {
      "cell_type": "markdown",
      "metadata": {
        "id": "FYwI4RmFS2RB"
      },
      "source": [
        "### Saving to HTML\n",
        "Detailed instructions for saving to HTML can be found <a href=\"https://stackoverflow.com/questions/53460051/convert-ipynb-notebook-to-html-in-google-colab/64487858#64487858\">here</a>. Provided below are a summary of the instructions:\n",
        "\n",
        "(1) download your ipynb file by clicking on File->Download.ipynb\n",
        "\n",
        "(2) reupload your file to the temporary Google Colab storage (you can access the temporary storage from the tab to the left)\n",
        "\n",
        "(3) run the following:"
      ]
    },
    {
      "cell_type": "code",
      "metadata": {
        "id": "2TrsqdNgS5ex",
        "colab": {
          "base_uri": "https://localhost:8080/"
        },
        "outputId": "b31f6b43-1b90-4ef6-d82e-38a765ece298"
      },
      "source": [
        "%%shell\n",
        "jupyter nbconvert --to html LAB_4_Sequential_Data.ipynb"
      ],
      "execution_count": null,
      "outputs": [
        {
          "output_type": "stream",
          "name": "stdout",
          "text": [
            "[NbConvertApp] Converting notebook LAB_4_Sequential_Data.ipynb to html\n",
            "[NbConvertApp] Writing 756615 bytes to LAB_4_Sequential_Data.html\n"
          ]
        },
        {
          "output_type": "execute_result",
          "data": {
            "text/plain": []
          },
          "metadata": {},
          "execution_count": 1
        }
      ]
    },
    {
      "cell_type": "markdown",
      "metadata": {
        "id": "nuXhlFlPTY7F"
      },
      "source": [
        "(4) the html file will be available for download in the temporary Google Colab storage\n",
        "\n",
        "(5) review the html file and make sure all the results are visible before submitting your assignment to Quercus"
      ]
    }
  ]
}
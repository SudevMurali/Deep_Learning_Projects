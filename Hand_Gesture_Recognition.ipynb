{
  "cells": [
    {
      "cell_type": "markdown",
      "metadata": {
        "id": "X6WDvajSqIDs"
      },
      "source": [
        "# Lab 2: Hand Gesture Recognition\n",
        "\n",
        "This lab is based on an assignment developed by Prof. Lisa Zhang.\n",
        "\n",
        "This lab will be completed in two parts. In Part A you will gain experience gathering your own data set (specifically images of hand gestures), and understand the challenges involved in the data cleaning process. In Part B you will train a convolutional neural network to make classifications on different hand gestures. By the end of the lab, you should be able to:\n",
        "\n",
        "1. Generate and preprocess your own data\n",
        "2. Load and split data for training, validation and testing\n",
        "3. Train a Convolutional Neural Network\n",
        "4. Apply transfer learning to improve your model\n",
        "\n",
        "Note that for this lab we will not be providing you with any starter code. You should be able to take the code used in previous labs, tutorials and lectures and modify it accordingly to complete the tasks outlined below.\n",
        "\n",
        "### What to submit\n",
        "\n",
        "**Submission for Part A:**  \n",
        "Submit a zip file containing your images. Three images each of American Sign Language gestures for letters A - I (total of 27 images). You will be required to clean the images before submitting them. Details are provided under Part A of the handout.\n",
        "\n",
        "Individual image file names should follow the convention of student-number_Alphabet_file-number.jpg\n",
        "(e.g. 100343434_A_1.jpg).\n",
        "\n",
        "\n",
        "**Submission for Part B:**  \n",
        "Submit an HTML file containing all your code, outputs, and write-up\n",
        "from parts A and B. You can produce a HTML file directly from Google Colab. The Colab instructions are provided at the end of this document.\n",
        "\n",
        "**Do not submit any other files produced by your code.**\n",
        "\n",
        "Include a link to your colab file in your submission.\n",
        "\n",
        "Please use Google Colab to complete this assignment. If you want to use Jupyter Notebook, please complete the assignment and upload your Jupyter Notebook file to Google Colab for submission. "
      ]
    },
    {
      "cell_type": "markdown",
      "metadata": {
        "id": "LfiFE_WOqIDu"
      },
      "source": [
        "## Colab Link\n",
        "\n",
        "Include a link to your colab file here\n",
        "\n",
        "Colab Link: https://colab.research.google.com/drive/1poSgjNwtto4dukcJ-4yWISvnoSbft9A0#scrollTo=FYwI4RmFS2RB"
      ]
    },
    {
      "cell_type": "markdown",
      "metadata": {
        "id": "kvTXpH_kqIDy"
      },
      "source": [
        "# Part A. Data Collection [10 pt]\n",
        "\n",
        "So far, we have worked with data sets that have been collected, cleaned, and curated by machine learning\n",
        "researchers and practitioners. Datasets like MNIST and CIFAR are often used as toy examples, both by\n",
        "students and by researchers testing new machine learning models.\n",
        "\n",
        "In the real world, getting a clean data set is never that easy. More than half the work in applying machine\n",
        "learning is finding, gathering, cleaning, and formatting your data set.\n",
        "\n",
        "The purpose of this lab is to help you gain experience gathering your own data set, and understand the\n",
        "challenges involved in the data cleaning process.\n",
        "\n",
        "### American Sign Language\n",
        "\n",
        "American Sign Language (ASL) is a complete, complex language that employs signs made by moving the\n",
        "hands combined with facial expressions and postures of the body. It is the primary language of many\n",
        "North Americans who are deaf and is one of several communication options used by people who are deaf or\n",
        "hard-of-hearing.\n",
        "\n",
        "The hand gestures representing English alphabet are shown below. This lab focuses on classifying a subset\n",
        "of these hand gesture images using convolutional neural networks. Specifically, given an image of a hand\n",
        "showing one of the letters A-I, we want to detect which letter is being represented.\n",
        "\n",
        "![alt text](https://www.disabled-world.com/pics/1/asl-alphabet.jpg)\n",
        "\n",
        "\n",
        "### Generating Data\n",
        "We will produce the images required for this lab by ourselves. Each student will collect, clean and submit\n",
        "three images each of Americal Sign Language gestures for letters A - I (total of 27 images)\n",
        "Steps involved in data collection\n",
        "\n",
        "1. Familiarize yourself with American Sign Language gestures for letters from A - I (9 letters).\n",
        "2. Take three pictures at slightly different orientation for each letter gesture using your\n",
        "mobile phone.\n",
        " - Ensure adequate lighting while you are capturing the images.\n",
        " - Use a white wall as your background.\n",
        " - Use your right hand to create gestures (for consistency).\n",
        " - Keep your right hand fairly apart from your body and any other obstructions.\n",
        " - Avoid having shadows on parts of your hand.\n",
        "3. Transfer the images to your laptop for cleaning.\n",
        "\n",
        "### Cleaning Data\n",
        "To simplify the machine learning the task, we will standardize the training images. We will make sure that\n",
        "all our images are of the same size (224 x 224 pixels RGB), and have the hand in the center of the cropped\n",
        "regions.\n",
        "\n",
        "You may use the following applications to crop and resize your images:\n",
        "\n",
        "**Mac**\n",
        "- Use Preview:\n",
        "– Holding down CMD + Shift will keep a square aspect ratio while selecting the hand area.\n",
        "– Resize to 224x224 pixels.\n",
        "\n",
        "**Windows 10**\n",
        "- Use Photos app to edit and crop the image and keep the aspect ratio a square.\n",
        "- Use Paint to resize the image to the final image size of 224x224 pixels.\n",
        "\n",
        "**Linux**\n",
        "- You can use GIMP, imagemagick, or other tools of your choosing.\n",
        "You may also use online tools such as http://picresize.com\n",
        "All the above steps are illustrative only. You need not follow these steps but following these will ensure that\n",
        "you produce a good quality dataset. You will be judged based on the quality of the images alone.\n",
        "Please do not edit your photos in any other way. You should not need to change the aspect ratio of your\n",
        "image. You also should not digitally remove the background or shadows—instead, take photos with a white\n",
        "background and minimal shadows.\n",
        "\n",
        "### Accepted Images\n",
        "Images will be accepted and graded based on the criteria below\n",
        "1. The final image should be size 224x224 pixels (RGB).\n",
        "2. The file format should be a .jpg file.\n",
        "3. The hand should be approximately centered on the frame.\n",
        "4. The hand should not be obscured or cut off.\n",
        "5. The photos follows the ASL gestures posted earlier.\n",
        "6. The photos were not edited in any other way (e.g. no electronic removal of shadows or background).\n",
        "\n",
        "### Submission\n",
        "Submit a zip file containing your images. There should be a total of 27 images (3 for each category)\n",
        "1. Individual image file names should follow the convention of student-number_Alphabet_file-number.jpg\n",
        "(e.g. 100343434_A_1.jpg)\n",
        "2. Zip all the images together and name it with the following convention: last-name_student-number.zip\n",
        "(e.g. last-name_100343434.zip).\n",
        "3. Submit the zipped folder.\n",
        "We will be anonymizing and combining the images that everyone submits. We will announce when the\n",
        "combined data set will be available for download.\n",
        "\n",
        "![alt text](https://github.com/UTNeural/APS360/blob/master/Gesture%20Images.PNG?raw=true)"
      ]
    },
    {
      "cell_type": "markdown",
      "metadata": {
        "id": "bJxMgWGNqID2"
      },
      "source": [
        "# Part B. Building a CNN [40 pt]\n",
        "\n",
        "For this lab, we are not going to give you any starter code. You will be writing a convolutional neural network\n",
        "from scratch. You are welcome to use any code from previous labs, lectures and tutorials. You should also\n",
        "write your own code.\n",
        "\n",
        "You may use the PyTorch documentation freely. You might also find online tutorials helpful. However, all\n",
        "code that you submit must be your own.\n",
        "\n",
        "Make sure that your code is vectorized, and does not contain obvious inefficiencies (for example, unecessary\n",
        "for loops, or unnecessary calls to unsqueeze()). Ensure enough comments are included in the code so that\n",
        "your TA can understand what you are doing. It is your responsibility to show that you understand what you\n",
        "write.\n",
        "\n",
        "**This is much more challenging and time-consuming than the previous labs.** Make sure that you\n",
        "give yourself plenty of time by starting early."
      ]
    },
    {
      "cell_type": "markdown",
      "metadata": {
        "id": "MiDuQaAh56sT"
      },
      "source": [
        "### Part 1. Data Loading and Splitting [5 pt]\n",
        "\n",
        "Download the anonymized data provided on Quercus. Split the data into training, validation, and test sets.\n",
        "\n",
        "Note: Data splitting is not as trivial in this lab. We want our test set to closely resemble the setting in which\n",
        "our model will be used. In particular, our test set should contain hands that are never seen in training!\n",
        "\n",
        "Explain how you split the data, either by describing what you did, or by showing the code that you used.\n",
        "Justify your choice of splitting strategy. How many training, validation, and test images do you have?\n",
        "\n",
        "For loading the data, you can use plt.imread, or any other method that you choose. You may find\n",
        "torchvision.datasets.ImageFolder helpful. (see https://pytorch.org/vision/stable/generated/torchvision.datasets.ImageFolder.html) "
      ]
    },
    {
      "cell_type": "code",
      "source": [
        "from google.colab import files# uploading small dataset that we require to check our model\n",
        "uploaded = files.upload()"
      ],
      "metadata": {
        "colab": {
          "base_uri": "https://localhost:8080/",
          "height": 74
        },
        "id": "-DJdCOKApJ7B",
        "outputId": "d5b52368-94d7-46e1-87c9-5814613fbdac"
      },
      "execution_count": null,
      "outputs": [
        {
          "output_type": "display_data",
          "data": {
            "text/plain": [
              "<IPython.core.display.HTML object>"
            ],
            "text/html": [
              "\n",
              "     <input type=\"file\" id=\"files-644fae15-a8a1-4bbe-999f-bbaa7248c97b\" name=\"files[]\" multiple disabled\n",
              "        style=\"border:none\" />\n",
              "     <output id=\"result-644fae15-a8a1-4bbe-999f-bbaa7248c97b\">\n",
              "      Upload widget is only available when the cell has been executed in the\n",
              "      current browser session. Please rerun this cell to enable.\n",
              "      </output>\n",
              "      <script>// Copyright 2017 Google LLC\n",
              "//\n",
              "// Licensed under the Apache License, Version 2.0 (the \"License\");\n",
              "// you may not use this file except in compliance with the License.\n",
              "// You may obtain a copy of the License at\n",
              "//\n",
              "//      http://www.apache.org/licenses/LICENSE-2.0\n",
              "//\n",
              "// Unless required by applicable law or agreed to in writing, software\n",
              "// distributed under the License is distributed on an \"AS IS\" BASIS,\n",
              "// WITHOUT WARRANTIES OR CONDITIONS OF ANY KIND, either express or implied.\n",
              "// See the License for the specific language governing permissions and\n",
              "// limitations under the License.\n",
              "\n",
              "/**\n",
              " * @fileoverview Helpers for google.colab Python module.\n",
              " */\n",
              "(function(scope) {\n",
              "function span(text, styleAttributes = {}) {\n",
              "  const element = document.createElement('span');\n",
              "  element.textContent = text;\n",
              "  for (const key of Object.keys(styleAttributes)) {\n",
              "    element.style[key] = styleAttributes[key];\n",
              "  }\n",
              "  return element;\n",
              "}\n",
              "\n",
              "// Max number of bytes which will be uploaded at a time.\n",
              "const MAX_PAYLOAD_SIZE = 100 * 1024;\n",
              "\n",
              "function _uploadFiles(inputId, outputId) {\n",
              "  const steps = uploadFilesStep(inputId, outputId);\n",
              "  const outputElement = document.getElementById(outputId);\n",
              "  // Cache steps on the outputElement to make it available for the next call\n",
              "  // to uploadFilesContinue from Python.\n",
              "  outputElement.steps = steps;\n",
              "\n",
              "  return _uploadFilesContinue(outputId);\n",
              "}\n",
              "\n",
              "// This is roughly an async generator (not supported in the browser yet),\n",
              "// where there are multiple asynchronous steps and the Python side is going\n",
              "// to poll for completion of each step.\n",
              "// This uses a Promise to block the python side on completion of each step,\n",
              "// then passes the result of the previous step as the input to the next step.\n",
              "function _uploadFilesContinue(outputId) {\n",
              "  const outputElement = document.getElementById(outputId);\n",
              "  const steps = outputElement.steps;\n",
              "\n",
              "  const next = steps.next(outputElement.lastPromiseValue);\n",
              "  return Promise.resolve(next.value.promise).then((value) => {\n",
              "    // Cache the last promise value to make it available to the next\n",
              "    // step of the generator.\n",
              "    outputElement.lastPromiseValue = value;\n",
              "    return next.value.response;\n",
              "  });\n",
              "}\n",
              "\n",
              "/**\n",
              " * Generator function which is called between each async step of the upload\n",
              " * process.\n",
              " * @param {string} inputId Element ID of the input file picker element.\n",
              " * @param {string} outputId Element ID of the output display.\n",
              " * @return {!Iterable<!Object>} Iterable of next steps.\n",
              " */\n",
              "function* uploadFilesStep(inputId, outputId) {\n",
              "  const inputElement = document.getElementById(inputId);\n",
              "  inputElement.disabled = false;\n",
              "\n",
              "  const outputElement = document.getElementById(outputId);\n",
              "  outputElement.innerHTML = '';\n",
              "\n",
              "  const pickedPromise = new Promise((resolve) => {\n",
              "    inputElement.addEventListener('change', (e) => {\n",
              "      resolve(e.target.files);\n",
              "    });\n",
              "  });\n",
              "\n",
              "  const cancel = document.createElement('button');\n",
              "  inputElement.parentElement.appendChild(cancel);\n",
              "  cancel.textContent = 'Cancel upload';\n",
              "  const cancelPromise = new Promise((resolve) => {\n",
              "    cancel.onclick = () => {\n",
              "      resolve(null);\n",
              "    };\n",
              "  });\n",
              "\n",
              "  // Wait for the user to pick the files.\n",
              "  const files = yield {\n",
              "    promise: Promise.race([pickedPromise, cancelPromise]),\n",
              "    response: {\n",
              "      action: 'starting',\n",
              "    }\n",
              "  };\n",
              "\n",
              "  cancel.remove();\n",
              "\n",
              "  // Disable the input element since further picks are not allowed.\n",
              "  inputElement.disabled = true;\n",
              "\n",
              "  if (!files) {\n",
              "    return {\n",
              "      response: {\n",
              "        action: 'complete',\n",
              "      }\n",
              "    };\n",
              "  }\n",
              "\n",
              "  for (const file of files) {\n",
              "    const li = document.createElement('li');\n",
              "    li.append(span(file.name, {fontWeight: 'bold'}));\n",
              "    li.append(span(\n",
              "        `(${file.type || 'n/a'}) - ${file.size} bytes, ` +\n",
              "        `last modified: ${\n",
              "            file.lastModifiedDate ? file.lastModifiedDate.toLocaleDateString() :\n",
              "                                    'n/a'} - `));\n",
              "    const percent = span('0% done');\n",
              "    li.appendChild(percent);\n",
              "\n",
              "    outputElement.appendChild(li);\n",
              "\n",
              "    const fileDataPromise = new Promise((resolve) => {\n",
              "      const reader = new FileReader();\n",
              "      reader.onload = (e) => {\n",
              "        resolve(e.target.result);\n",
              "      };\n",
              "      reader.readAsArrayBuffer(file);\n",
              "    });\n",
              "    // Wait for the data to be ready.\n",
              "    let fileData = yield {\n",
              "      promise: fileDataPromise,\n",
              "      response: {\n",
              "        action: 'continue',\n",
              "      }\n",
              "    };\n",
              "\n",
              "    // Use a chunked sending to avoid message size limits. See b/62115660.\n",
              "    let position = 0;\n",
              "    do {\n",
              "      const length = Math.min(fileData.byteLength - position, MAX_PAYLOAD_SIZE);\n",
              "      const chunk = new Uint8Array(fileData, position, length);\n",
              "      position += length;\n",
              "\n",
              "      const base64 = btoa(String.fromCharCode.apply(null, chunk));\n",
              "      yield {\n",
              "        response: {\n",
              "          action: 'append',\n",
              "          file: file.name,\n",
              "          data: base64,\n",
              "        },\n",
              "      };\n",
              "\n",
              "      let percentDone = fileData.byteLength === 0 ?\n",
              "          100 :\n",
              "          Math.round((position / fileData.byteLength) * 100);\n",
              "      percent.textContent = `${percentDone}% done`;\n",
              "\n",
              "    } while (position < fileData.byteLength);\n",
              "  }\n",
              "\n",
              "  // All done.\n",
              "  yield {\n",
              "    response: {\n",
              "      action: 'complete',\n",
              "    }\n",
              "  };\n",
              "}\n",
              "\n",
              "scope.google = scope.google || {};\n",
              "scope.google.colab = scope.google.colab || {};\n",
              "scope.google.colab._files = {\n",
              "  _uploadFiles,\n",
              "  _uploadFilesContinue,\n",
              "};\n",
              "})(self);\n",
              "</script> "
            ]
          },
          "metadata": {}
        },
        {
          "output_type": "stream",
          "name": "stdout",
          "text": [
            "Saving small_dataset (2).zip to small_dataset (2).zip\n"
          ]
        }
      ]
    },
    {
      "cell_type": "code",
      "source": [
        "from zipfile import ZipFile # unzip files\n",
        "file_name = \"/content/small_dataset (2).zip\"\n",
        "\n",
        "\n",
        "with ZipFile(file_name, 'r') as zip:\n",
        "  zip.extractall()\n",
        "  print('Done')"
      ],
      "metadata": {
        "colab": {
          "base_uri": "https://localhost:8080/"
        },
        "id": "lDLM8RfGp4_S",
        "outputId": "f92de49f-ad12-4605-8357-faa8a46c2b3a"
      },
      "execution_count": null,
      "outputs": [
        {
          "output_type": "stream",
          "name": "stdout",
          "text": [
            "Done\n"
          ]
        }
      ]
    },
    {
      "cell_type": "code",
      "source": [
        "from google.colab import files # uploading main data file\n",
        "uploaded = files.upload()"
      ],
      "metadata": {
        "colab": {
          "base_uri": "https://localhost:8080/",
          "height": 74
        },
        "id": "Jrh2PnypiCaD",
        "outputId": "78660730-c26d-481e-f16e-578d967db767"
      },
      "execution_count": null,
      "outputs": [
        {
          "output_type": "display_data",
          "data": {
            "text/plain": [
              "<IPython.core.display.HTML object>"
            ],
            "text/html": [
              "\n",
              "     <input type=\"file\" id=\"files-e4971acd-b1c8-4b25-934d-2c658217bf35\" name=\"files[]\" multiple disabled\n",
              "        style=\"border:none\" />\n",
              "     <output id=\"result-e4971acd-b1c8-4b25-934d-2c658217bf35\">\n",
              "      Upload widget is only available when the cell has been executed in the\n",
              "      current browser session. Please rerun this cell to enable.\n",
              "      </output>\n",
              "      <script>// Copyright 2017 Google LLC\n",
              "//\n",
              "// Licensed under the Apache License, Version 2.0 (the \"License\");\n",
              "// you may not use this file except in compliance with the License.\n",
              "// You may obtain a copy of the License at\n",
              "//\n",
              "//      http://www.apache.org/licenses/LICENSE-2.0\n",
              "//\n",
              "// Unless required by applicable law or agreed to in writing, software\n",
              "// distributed under the License is distributed on an \"AS IS\" BASIS,\n",
              "// WITHOUT WARRANTIES OR CONDITIONS OF ANY KIND, either express or implied.\n",
              "// See the License for the specific language governing permissions and\n",
              "// limitations under the License.\n",
              "\n",
              "/**\n",
              " * @fileoverview Helpers for google.colab Python module.\n",
              " */\n",
              "(function(scope) {\n",
              "function span(text, styleAttributes = {}) {\n",
              "  const element = document.createElement('span');\n",
              "  element.textContent = text;\n",
              "  for (const key of Object.keys(styleAttributes)) {\n",
              "    element.style[key] = styleAttributes[key];\n",
              "  }\n",
              "  return element;\n",
              "}\n",
              "\n",
              "// Max number of bytes which will be uploaded at a time.\n",
              "const MAX_PAYLOAD_SIZE = 100 * 1024;\n",
              "\n",
              "function _uploadFiles(inputId, outputId) {\n",
              "  const steps = uploadFilesStep(inputId, outputId);\n",
              "  const outputElement = document.getElementById(outputId);\n",
              "  // Cache steps on the outputElement to make it available for the next call\n",
              "  // to uploadFilesContinue from Python.\n",
              "  outputElement.steps = steps;\n",
              "\n",
              "  return _uploadFilesContinue(outputId);\n",
              "}\n",
              "\n",
              "// This is roughly an async generator (not supported in the browser yet),\n",
              "// where there are multiple asynchronous steps and the Python side is going\n",
              "// to poll for completion of each step.\n",
              "// This uses a Promise to block the python side on completion of each step,\n",
              "// then passes the result of the previous step as the input to the next step.\n",
              "function _uploadFilesContinue(outputId) {\n",
              "  const outputElement = document.getElementById(outputId);\n",
              "  const steps = outputElement.steps;\n",
              "\n",
              "  const next = steps.next(outputElement.lastPromiseValue);\n",
              "  return Promise.resolve(next.value.promise).then((value) => {\n",
              "    // Cache the last promise value to make it available to the next\n",
              "    // step of the generator.\n",
              "    outputElement.lastPromiseValue = value;\n",
              "    return next.value.response;\n",
              "  });\n",
              "}\n",
              "\n",
              "/**\n",
              " * Generator function which is called between each async step of the upload\n",
              " * process.\n",
              " * @param {string} inputId Element ID of the input file picker element.\n",
              " * @param {string} outputId Element ID of the output display.\n",
              " * @return {!Iterable<!Object>} Iterable of next steps.\n",
              " */\n",
              "function* uploadFilesStep(inputId, outputId) {\n",
              "  const inputElement = document.getElementById(inputId);\n",
              "  inputElement.disabled = false;\n",
              "\n",
              "  const outputElement = document.getElementById(outputId);\n",
              "  outputElement.innerHTML = '';\n",
              "\n",
              "  const pickedPromise = new Promise((resolve) => {\n",
              "    inputElement.addEventListener('change', (e) => {\n",
              "      resolve(e.target.files);\n",
              "    });\n",
              "  });\n",
              "\n",
              "  const cancel = document.createElement('button');\n",
              "  inputElement.parentElement.appendChild(cancel);\n",
              "  cancel.textContent = 'Cancel upload';\n",
              "  const cancelPromise = new Promise((resolve) => {\n",
              "    cancel.onclick = () => {\n",
              "      resolve(null);\n",
              "    };\n",
              "  });\n",
              "\n",
              "  // Wait for the user to pick the files.\n",
              "  const files = yield {\n",
              "    promise: Promise.race([pickedPromise, cancelPromise]),\n",
              "    response: {\n",
              "      action: 'starting',\n",
              "    }\n",
              "  };\n",
              "\n",
              "  cancel.remove();\n",
              "\n",
              "  // Disable the input element since further picks are not allowed.\n",
              "  inputElement.disabled = true;\n",
              "\n",
              "  if (!files) {\n",
              "    return {\n",
              "      response: {\n",
              "        action: 'complete',\n",
              "      }\n",
              "    };\n",
              "  }\n",
              "\n",
              "  for (const file of files) {\n",
              "    const li = document.createElement('li');\n",
              "    li.append(span(file.name, {fontWeight: 'bold'}));\n",
              "    li.append(span(\n",
              "        `(${file.type || 'n/a'}) - ${file.size} bytes, ` +\n",
              "        `last modified: ${\n",
              "            file.lastModifiedDate ? file.lastModifiedDate.toLocaleDateString() :\n",
              "                                    'n/a'} - `));\n",
              "    const percent = span('0% done');\n",
              "    li.appendChild(percent);\n",
              "\n",
              "    outputElement.appendChild(li);\n",
              "\n",
              "    const fileDataPromise = new Promise((resolve) => {\n",
              "      const reader = new FileReader();\n",
              "      reader.onload = (e) => {\n",
              "        resolve(e.target.result);\n",
              "      };\n",
              "      reader.readAsArrayBuffer(file);\n",
              "    });\n",
              "    // Wait for the data to be ready.\n",
              "    let fileData = yield {\n",
              "      promise: fileDataPromise,\n",
              "      response: {\n",
              "        action: 'continue',\n",
              "      }\n",
              "    };\n",
              "\n",
              "    // Use a chunked sending to avoid message size limits. See b/62115660.\n",
              "    let position = 0;\n",
              "    do {\n",
              "      const length = Math.min(fileData.byteLength - position, MAX_PAYLOAD_SIZE);\n",
              "      const chunk = new Uint8Array(fileData, position, length);\n",
              "      position += length;\n",
              "\n",
              "      const base64 = btoa(String.fromCharCode.apply(null, chunk));\n",
              "      yield {\n",
              "        response: {\n",
              "          action: 'append',\n",
              "          file: file.name,\n",
              "          data: base64,\n",
              "        },\n",
              "      };\n",
              "\n",
              "      let percentDone = fileData.byteLength === 0 ?\n",
              "          100 :\n",
              "          Math.round((position / fileData.byteLength) * 100);\n",
              "      percent.textContent = `${percentDone}% done`;\n",
              "\n",
              "    } while (position < fileData.byteLength);\n",
              "  }\n",
              "\n",
              "  // All done.\n",
              "  yield {\n",
              "    response: {\n",
              "      action: 'complete',\n",
              "    }\n",
              "  };\n",
              "}\n",
              "\n",
              "scope.google = scope.google || {};\n",
              "scope.google.colab = scope.google.colab || {};\n",
              "scope.google.colab._files = {\n",
              "  _uploadFiles,\n",
              "  _uploadFilesContinue,\n",
              "};\n",
              "})(self);\n",
              "</script> "
            ]
          },
          "metadata": {}
        },
        {
          "output_type": "stream",
          "name": "stdout",
          "text": [
            "Saving data.zip to data.zip\n"
          ]
        }
      ]
    },
    {
      "cell_type": "code",
      "source": [
        "from zipfile import ZipFile\n",
        "file_name = \"/content/data.zip\"\n",
        "\n",
        "\n",
        "with ZipFile(file_name, 'r') as zip:\n",
        "  zip.extractall()\n",
        "  print('Done')"
      ],
      "metadata": {
        "colab": {
          "base_uri": "https://localhost:8080/"
        },
        "id": "NbmKIg6siG7t",
        "outputId": "cbb3bded-ea64-4de0-aeca-4fa37130c1ec"
      },
      "execution_count": null,
      "outputs": [
        {
          "output_type": "stream",
          "name": "stdout",
          "text": [
            "Done\n"
          ]
        }
      ]
    },
    {
      "cell_type": "code",
      "source": [
        "import numpy as np\n",
        "import time\n",
        "import torch\n",
        "import torch.nn as nn\n",
        "import torch.nn.functional as F\n",
        "import torch.optim as optim\n",
        "import torchvision\n",
        "from torch.utils.data.sampler import SubsetRandomSampler\n",
        "import torchvision.transforms as transforms\n",
        "import matplotlib.pyplot as plt\n",
        "\n",
        "import torch\n",
        "from torchvision import datasets, transforms"
      ],
      "metadata": {
        "id": "Ar8MSUa87VG0"
      },
      "execution_count": null,
      "outputs": []
    },
    {
      "cell_type": "code",
      "source": [
        "# we make dataloaders for the large and small datasets respectively\n",
        "def get_data_loader(batch_size):\n",
        "\n",
        "      transform = transforms.Compose([\n",
        "          transforms.Resize((224, 224)), \n",
        "          transforms.ToTensor()\n",
        "          ])\n",
        "      trainset = datasets.ImageFolder('/content/Train', transform=transform)\n",
        "\n",
        "      train_loader = torch.utils.data.DataLoader(trainset, batch_size=batch_size)\n",
        "\n",
        "      validation_set = datasets.ImageFolder('/content/Validation',transform=transform)\n",
        "\n",
        "      validation_loader = torch.utils.data.DataLoader(validation_set, batch_size=batch_size)\n",
        "\n",
        "      testset = datasets.ImageFolder('/content/Test', transform=transform)\n",
        "\n",
        "      test_loader = torch.utils.data.DataLoader(testset, batch_size=batch_size)\n",
        "\n",
        "      return train_loader, validation_loader, test_loader\n",
        "\n",
        "\n",
        "\n",
        "\n",
        "def get_data_loader_small(batch_size):\n",
        "\n",
        "      transform = transforms.Compose([\n",
        "          transforms.Resize((224, 224)), \n",
        "          transforms.ToTensor()\n",
        "          ])\n",
        "      trainset = datasets.ImageFolder('/content/small_dataset', transform=transform)\n",
        "\n",
        "      train_loader = torch.utils.data.DataLoader(trainset, batch_size=batch_size)\n",
        "      \n",
        "\n",
        "      return train_loader\n",
        "\n"
      ],
      "metadata": {
        "id": "Kqwqi8LJodGN"
      },
      "execution_count": null,
      "outputs": []
    },
    {
      "cell_type": "markdown",
      "metadata": {
        "id": "5VWX4DGY5gQE"
      },
      "source": [
        "### Part 2. Model Building and Sanity Checking [9 pt]\n",
        "\n",
        "### Part (a) Convolutional Network - 3 pt\n",
        "\n",
        "Build a convolutional neural network model that takes the (224x224 RGB) image as input, and predicts the gesture\n",
        "letter. Your model should be a subclass of nn.Module. Explain your choice of neural network architecture: how\n",
        "many layers did you choose? What types of layers did you use? Were they fully-connected or convolutional?\n",
        "What about other decisions like pooling layers, activation functions, number of channels / hidden units?"
      ]
    },
    {
      "cell_type": "markdown",
      "source": [
        "I choose a neural network with some dropout layers,convolution layers, batch normalization layers, pooling layers and linear layers.We have both convolution layers and fully connected layers in our model. For the activation, we use Relu and our channels go from 3-->32-->64-->128-->256 in the convolution layers and 1 hidden layer. The details of the model can be seen below under model summary."
      ],
      "metadata": {
        "id": "CG_lweTDlIXQ"
      }
    },
    {
      "cell_type": "code",
      "source": [
        "class CNN_Hand_Gesture(nn.Module):\n",
        "  def __init__(self,drop_rate):\n",
        "    \n",
        "    super(CNN_Hand_Gesture, self).__init__()\n",
        "\n",
        "    self.name = \"CNN_Hand_Gesture\"\n",
        "\n",
        "    # Convolutional Layers\n",
        "    self.conv1 = nn.Conv2d(3,32,kernel_size=3, stride=2, padding=1)\n",
        "    self.conv2 = nn.Conv2d(32,64,kernel_size=3, stride=2, padding=1)\n",
        "    self.conv3 = nn.Conv2d(64,128,kernel_size=3, stride=2, padding=1)\n",
        "    self.conv4 = nn.Conv2d(128,256,kernel_size=3, stride=1, padding=1)\n",
        "\n",
        "    #Max Pool Layer\n",
        "    self.maxpool = nn.MaxPool2d(2,2)\n",
        "\n",
        "    # Batch Normalisation\n",
        "    self.batchnorm1 = nn.BatchNorm2d(64)\n",
        "    self.batchnorm2 = nn.BatchNorm2d(128)\n",
        "\n",
        "    #Dropout\n",
        "    self.dropout = nn.Dropout(p=drop_rate)\n",
        "\n",
        "    #Fully Connected Layers\n",
        "    self.fc1 = nn.Linear(128 * 7 * 7, 512)\n",
        "    self.fc2 = nn.Linear(512, 9)\n",
        "\n",
        "  def forward(self,x):\n",
        "        x = F.relu(self.conv1(x))\n",
        "        x = F.relu(self.conv2(x))\n",
        "        x = self.batchnorm1(x)\n",
        "        x = self.maxpool(x)\n",
        "        x = self.dropout(x)\n",
        "        x = F.relu(self.conv3(x))\n",
        "        x = self.batchnorm2(x)\n",
        "        x = self.maxpool(x)\n",
        "        x = self.dropout(x)\n",
        "        x = x.view(-1, 128 * 7 * 7)\n",
        "        x = self.fc1(x)\n",
        "        x = self.dropout(x)\n",
        "        x = self.fc2(x)\n",
        "        return x\n"
      ],
      "metadata": {
        "id": "dSrIWzDbGjY9"
      },
      "execution_count": null,
      "outputs": []
    },
    {
      "cell_type": "code",
      "source": [
        "# MODEL SUMMARY\n",
        "from torchsummary import summary\n",
        "summary(model=CNN_Hand_Gesture(drop_rate=0.1),input_size=(3,224,224))"
      ],
      "metadata": {
        "colab": {
          "base_uri": "https://localhost:8080/"
        },
        "id": "40jH_VMElzvn",
        "outputId": "a0f63a4c-2796-4ee3-e6da-2673990c1dbf"
      },
      "execution_count": null,
      "outputs": [
        {
          "output_type": "stream",
          "name": "stdout",
          "text": [
            "----------------------------------------------------------------\n",
            "        Layer (type)               Output Shape         Param #\n",
            "================================================================\n",
            "            Conv2d-1         [-1, 32, 112, 112]             896\n",
            "            Conv2d-2           [-1, 64, 56, 56]          18,496\n",
            "       BatchNorm2d-3           [-1, 64, 56, 56]             128\n",
            "         MaxPool2d-4           [-1, 64, 28, 28]               0\n",
            "           Dropout-5           [-1, 64, 28, 28]               0\n",
            "            Conv2d-6          [-1, 128, 14, 14]          73,856\n",
            "       BatchNorm2d-7          [-1, 128, 14, 14]             256\n",
            "         MaxPool2d-8            [-1, 128, 7, 7]               0\n",
            "           Dropout-9            [-1, 128, 7, 7]               0\n",
            "           Linear-10                  [-1, 512]       3,211,776\n",
            "          Dropout-11                  [-1, 512]               0\n",
            "           Linear-12                    [-1, 9]           4,617\n",
            "================================================================\n",
            "Total params: 3,310,025\n",
            "Trainable params: 3,310,025\n",
            "Non-trainable params: 0\n",
            "----------------------------------------------------------------\n",
            "Input size (MB): 0.57\n",
            "Forward/backward pass size (MB): 7.38\n",
            "Params size (MB): 12.63\n",
            "Estimated Total Size (MB): 20.58\n",
            "----------------------------------------------------------------\n"
          ]
        }
      ]
    },
    {
      "cell_type": "code",
      "source": [
        "import tqdm\n",
        "\n",
        "def get_model_name(name, batch_size, learning_rate, num_epochs):\n",
        "    \"\"\" Generate a name for the model consisting of all the hyperparameter values\n",
        "\n",
        "    Args:\n",
        "        config: Configuration object containing the hyperparameters\n",
        "    Returns:\n",
        "        path: A string with the hyperparameter name and value concatenated\n",
        "    \"\"\"\n",
        "    path = \"model_{0}_bs{1}_lr{2}_epoch{3}\".format(name,\n",
        "                                                   batch_size,\n",
        "                                                   learning_rate,\n",
        "                                                   num_epochs)\n",
        "    return path\n",
        "\n",
        "def evaluate(net, loader, criterion):\n",
        "    \"\"\" Evaluate the network on the validation set.\n",
        "\n",
        "     Args:\n",
        "         net: PyTorch neural network object\n",
        "         loader: PyTorch data loader for the validation set\n",
        "         criterion: The loss function\n",
        "     Returns:\n",
        "         err: A scalar for the avg classification error over the validation set\n",
        "         loss: A scalar for the average loss function over the validation set\n",
        "     \"\"\"\n",
        "    total_loss = 0.0\n",
        "    total_err = 0.0\n",
        "    total_epoch = 0\n",
        "    for i, data in enumerate(loader, 0):\n",
        "        inputs, labels = data\n",
        "        if torch.cuda.is_available():\n",
        "              inputs = inputs.cuda()\n",
        "              labels = labels.cuda()\n",
        "        # labels = normalize_label(labels)  # Convert labels to 0/1\n",
        "        outputs = net(inputs)\n",
        "        loss = criterion(outputs, labels)\n",
        "        err  = error_criterion(outputs, labels)\n",
        "        total_err += err\n",
        "        total_loss += loss.item()\n",
        "        total_epoch += len(labels)\n",
        "    err = float(total_err) / total_epoch\n",
        "    loss = float(total_loss) / (i + 1)\n",
        "    return err, loss\n"
      ],
      "metadata": {
        "id": "_cIaB4i32qq1"
      },
      "execution_count": null,
      "outputs": []
    },
    {
      "cell_type": "markdown",
      "metadata": {
        "id": "XeGvelvb515e"
      },
      "source": [
        "### Part (b) Training Code - 3 pt\n",
        "\n",
        "Write code that trains your neural network given some training data. Your training code should make it easy\n",
        "to tweak the usual hyperparameters, like batch size, learning rate, and the model object itself. Make sure\n",
        "that you are checkpointing your models from time to time (the frequency is up to you). Explain your choice\n",
        "of loss function and optimizer."
      ]
    },
    {
      "cell_type": "markdown",
      "source": [
        "We use stochastic gradient descent as our optimizer and Cross entropy loss as our loss function. We use cross entropy as our problem is a classification problem. We use sgd as it is faster and therefore suitable for large datasets.Sgd is also known to have better generalization ability."
      ],
      "metadata": {
        "id": "p97AjR1yplMD"
      }
    },
    {
      "cell_type": "code",
      "source": [
        "def plot_training_curve(path):\n",
        "    \"\"\" Plots the training curve for a model run, given the csv files\n",
        "    containing the train/validation error/loss.\n",
        "\n",
        "    Args:\n",
        "        path: The base path of the csv files produced during training\n",
        "    \"\"\"\n",
        "    import matplotlib.pyplot as plt\n",
        "    train_err = np.loadtxt(\"{}_train_err.csv\".format(path))\n",
        "    val_err = np.loadtxt(\"{}_val_err.csv\".format(path))\n",
        "    train_loss = np.loadtxt(\"{}_train_loss.csv\".format(path))\n",
        "    val_loss = np.loadtxt(\"{}_val_loss.csv\".format(path))\n",
        "    plt.title(\"Train vs Validation Error\")\n",
        "    n = len(train_err) # number of epochs\n",
        "    plt.plot(range(1,n+1), train_err, label=\"Train\")\n",
        "    plt.plot(range(1,n+1), val_err, label=\"Validation\")\n",
        "    plt.xlabel(\"Epoch\")\n",
        "    plt.ylabel(\"Error\")\n",
        "    plt.legend(loc='best')\n",
        "    plt.show()\n",
        "    plt.title(\"Train vs Validation Loss\")\n",
        "    plt.plot(range(1,n+1), train_loss, label=\"Train\")\n",
        "    plt.plot(range(1,n+1), val_loss, label=\"Validation\")\n",
        "    plt.xlabel(\"Epoch\")\n",
        "    plt.ylabel(\"Loss\")\n",
        "    plt.legend(loc='best')\n",
        "    plt.show()"
      ],
      "metadata": {
        "id": "CMuCPNWvnLQI"
      },
      "execution_count": null,
      "outputs": []
    },
    {
      "cell_type": "code",
      "execution_count": null,
      "metadata": {
        "id": "17YTQv4l54W1"
      },
      "outputs": [],
      "source": [
        "def error_criterion(outputs,labels): # calculates error\n",
        "\n",
        "    max_vals, max_indices = torch.max(outputs,1)\n",
        "\n",
        "    train_error = (max_indices != labels).sum()\n",
        "\n",
        "    return train_error\n",
        "\n",
        "def train_net(net, batch_size=32, learning_rate=0.01, num_epochs=30): # Our main training function\n",
        "    ########################################################################\n",
        "    ########################################################################\n",
        "    # Fixed PyTorch random seed for reproducible result\n",
        "    torch.manual_seed(1000)\n",
        "    ########################################################################\n",
        "    # Obtain the PyTorch data loader objects to load batches of the datasets\n",
        "    train_loader, val_loader, test_loader = get_data_loader(batch_size)\n",
        "    ########################################################################\n",
        "    # Define the Loss function and optimizer\n",
        "    # The loss function will be Cross Entropy Loss (CEL).\n",
        "    # Optimizer will be SGD with Momentum.\n",
        "    criterion = nn.CrossEntropyLoss()\n",
        "    optimizer = optim.SGD(net.parameters(), lr=learning_rate, momentum=0.9)\n",
        "    ########################################################################\n",
        "    # Set up some numpy arrays to store the training/test loss/erruracy\n",
        "    train_err = np.zeros(num_epochs)\n",
        "    train_loss = np.zeros(num_epochs)\n",
        "    val_err = np.zeros(num_epochs)\n",
        "    val_loss = np.zeros(num_epochs)\n",
        "    ########################################################################\n",
        "    # Train the network\n",
        "    # Loop over the data iterator and sample a new batch of training data\n",
        "    # Get the output from the network, and optimize our loss function.\n",
        "    start_time = time.time()\n",
        "    for epoch in range(num_epochs):  # loop over the dataset multiple times\n",
        "        total_train_loss = 0.0\n",
        "        total_train_err = 0.0\n",
        "        total_epoch = 0\n",
        "        for i, data in tqdm.tqdm(enumerate(train_loader, 0)):\n",
        "            # Get the inputs\n",
        "            inputs, labels = data\n",
        "            if torch.cuda.is_available():\n",
        "              inputs = inputs.cuda()\n",
        "              labels = labels.cuda()\n",
        "            # Zero the parameter gradients\n",
        "            optimizer.zero_grad()\n",
        "            # Forward pass, backward pass, and optimize\n",
        "            outputs = net(inputs)\n",
        "            loss = criterion(outputs, labels)\n",
        "            loss.backward()\n",
        "            optimizer.step()\n",
        "            # Calculate the statistics\n",
        "            \n",
        "            error = error_criterion(outputs, labels)\n",
        "            total_train_err += error\n",
        "            total_train_loss += loss.item()\n",
        "            total_epoch += len(labels)\n",
        "        \n",
        "        train_err[epoch] = float(total_train_err) / total_epoch\n",
        "        train_loss[epoch] = float(total_train_loss) / (i+1)\n",
        "        \n",
        "        val_err[epoch], val_loss[epoch] = evaluate(net, val_loader, criterion)\n",
        "        print((\"Epoch {}: Train err: {}, Train loss: {} |\"+\n",
        "               \"Validation err: {}, Validation loss: {}\").format(\n",
        "                   epoch + 1,\n",
        "                   train_err[epoch],\n",
        "                   train_loss[epoch],\n",
        "                   val_err[epoch],\n",
        "                   val_loss[epoch]))\n",
        "        # Save the current model (checkpoint) to a file\n",
        "        model_path = get_model_name(net.name, batch_size, learning_rate, epoch)\n",
        "        torch.save(net.state_dict(), model_path)\n",
        "    print('Finished Training')\n",
        "    end_time = time.time()\n",
        "    elapsed_time = end_time - start_time\n",
        "    print(\"Total time elapsed: {:.2f} seconds\".format(elapsed_time))\n",
        "    # Write the train/test loss/err into CSV file for plotting later\n",
        "    epochs = np.arange(1, num_epochs + 1)\n",
        "    np.savetxt(\"{}_train_err.csv\".format(model_path), train_err)\n",
        "    np.savetxt(\"{}_train_loss.csv\".format(model_path), train_loss)\n",
        "    np.savetxt(\"{}_val_err.csv\".format(model_path), val_err)\n",
        "    np.savetxt(\"{}_val_loss.csv\".format(model_path), val_loss)"
      ]
    },
    {
      "cell_type": "code",
      "source": [
        "def train_net_small(net, batch_size=32, learning_rate=0.01, num_epochs=30):  # a training funtion for our small dataset which only has a single batch.\n",
        "    ########################################################################\n",
        "    ########################################################################\n",
        "    # Fixed PyTorch random seed for reproducible result\n",
        "    torch.manual_seed(1000)\n",
        "    ########################################################################\n",
        "    # Obtain the PyTorch data loader objects to load batches of the datasets\n",
        "\n",
        "    #train_loader, val_loader, test_loader = get_data_loader(batch_size)\n",
        "    train_loader = get_data_loader_small(batch_size)\n",
        "    ########################################################################\n",
        "    # Define the Loss function and optimizer\n",
        "    # The loss function will be Cross Entropy (CE).\n",
        "    # Optimizer will be SGD with Momentum.\n",
        "    criterion = nn.CrossEntropyLoss()\n",
        "    optimizer = optim.SGD(net.parameters(), lr=learning_rate, momentum=0.9)\n",
        "    ########################################################################\n",
        "    # We only have train error/accuracy\n",
        "    train_err = np.zeros(num_epochs)\n",
        "    train_loss = np.zeros(num_epochs)\n",
        "\n",
        "    ########################################################################\n",
        "    # Train the network\n",
        "    # Loop over the data iterator and sample a new batch of training data\n",
        "    # Get the output from the network, and optimize our loss function.\n",
        "    start_time = time.time()\n",
        "    for epoch in range(num_epochs):  # loop over the dataset multiple times\n",
        "        total_train_loss = 0.0\n",
        "        total_train_err = 0.0\n",
        "        total_epoch = 0\n",
        "        for i, data in tqdm.tqdm(enumerate(train_loader, 0)):\n",
        "            # Get the inputs\n",
        "            inputs, labels = data\n",
        "            if torch.cuda.is_available():\n",
        "              inputs = inputs.cuda()\n",
        "              labels = labels.cuda()\n",
        "            # Zero the parameter gradients\n",
        "            optimizer.zero_grad()\n",
        "            # Forward pass, backward pass, and optimize\n",
        "            outputs = net(inputs)\n",
        "            loss = criterion(outputs, labels)\n",
        "            loss.backward()\n",
        "            optimizer.step()\n",
        "            # Calculate the statistics\n",
        "            error = error_criterion(outputs, labels)\n",
        "            \n",
        "            total_train_err += error\n",
        "            total_train_loss += loss.item()\n",
        "            total_epoch += len(labels)\n",
        "        \n",
        "        train_err[epoch] = float(total_train_err) / total_epoch\n",
        "        train_loss[epoch] = float(total_train_loss) / len(train_loader)\n",
        "        print(\"now here\")\n",
        "        print((\"Epoch {}: Train err: {}, Train loss: {} |\").format(\n",
        "                   epoch + 1,\n",
        "                   train_err[epoch],\n",
        "                   train_loss[epoch]))\n",
        "        # Save the current model (checkpoint) to a file\n",
        "        model_path = get_model_name(net.name, batch_size, learning_rate, epoch)\n",
        "        torch.save(net.state_dict(), model_path)\n",
        "    print('Finished Training')\n",
        "    end_time = time.time()\n",
        "    elapsed_time = end_time - start_time\n",
        "    print(\"Total time elapsed: {:.2f} seconds\".format(elapsed_time))\n",
        "    # Write the train loss/err into CSV file for plotting later\n",
        "    epochs = np.arange(1, num_epochs + 1)\n",
        "    np.savetxt(\"{}_train_err.csv\".format(model_path), train_err)\n",
        "    np.savetxt(\"{}_train_loss.csv\".format(model_path), train_loss)\n"
      ],
      "metadata": {
        "id": "Pj93FeKaHmuw"
      },
      "execution_count": null,
      "outputs": []
    },
    {
      "cell_type": "markdown",
      "metadata": {
        "id": "bk1RNgAj54rZ"
      },
      "source": [
        "### Part (c) “Overfit” to a Small Dataset - 3 pt\n",
        "\n",
        "One way to sanity check our neural network model and training code is to check whether the model is capable\n",
        "of “overfitting” or “memorizing” a small dataset. A properly constructed CNN with correct training code\n",
        "should be able to memorize the answers to a small number of images quickly.\n",
        "\n",
        "Construct a small dataset (e.g. just the images that you have collected). Then show that your model and\n",
        "training code is capable of memorizing the labels of this small data set.\n",
        "\n",
        "With a large batch size (e.g. the entire small dataset) and learning rate that is not too high, You should be\n",
        "able to obtain a 100% training accuracy on that small dataset relatively quickly (within 200 iterations)."
      ]
    },
    {
      "cell_type": "markdown",
      "source": [
        "We construct a small dataset from our training examples to test the sanity of our model.We have a large batch size(32), low learning rate(0.01) and a high enough number of epochs."
      ],
      "metadata": {
        "id": "jdudr77KtEeQ"
      }
    },
    {
      "cell_type": "code",
      "execution_count": null,
      "metadata": {
        "id": "lXYRBhQO6d3u",
        "colab": {
          "base_uri": "https://localhost:8080/"
        },
        "outputId": "3cc67230-924e-4bc0-9432-cc44cdbbd559"
      },
      "outputs": [
        {
          "output_type": "stream",
          "name": "stderr",
          "text": [
            "2it [00:07,  3.55s/it]\n"
          ]
        },
        {
          "output_type": "stream",
          "name": "stdout",
          "text": [
            "now here\n",
            "Epoch 1: Train err: 0.8478260869565217, Train loss: 3.484043598175049 |\n"
          ]
        },
        {
          "output_type": "stream",
          "name": "stderr",
          "text": [
            "2it [00:00, 15.36it/s]\n"
          ]
        },
        {
          "output_type": "stream",
          "name": "stdout",
          "text": [
            "now here\n",
            "Epoch 2: Train err: 0.8043478260869565, Train loss: 3.253283739089966 |\n"
          ]
        },
        {
          "output_type": "stream",
          "name": "stderr",
          "text": [
            "2it [00:00, 14.64it/s]\n"
          ]
        },
        {
          "output_type": "stream",
          "name": "stdout",
          "text": [
            "now here\n",
            "Epoch 3: Train err: 0.32608695652173914, Train loss: 2.023391008377075 |\n"
          ]
        },
        {
          "output_type": "stream",
          "name": "stderr",
          "text": [
            "2it [00:00, 14.69it/s]\n"
          ]
        },
        {
          "output_type": "stream",
          "name": "stdout",
          "text": [
            "now here\n",
            "Epoch 4: Train err: 0.34782608695652173, Train loss: 1.3382205665111542 |\n"
          ]
        },
        {
          "output_type": "stream",
          "name": "stderr",
          "text": [
            "2it [00:00, 14.69it/s]\n"
          ]
        },
        {
          "output_type": "stream",
          "name": "stdout",
          "text": [
            "now here\n",
            "Epoch 5: Train err: 0.17391304347826086, Train loss: 0.4309769719839096 |\n"
          ]
        },
        {
          "output_type": "stream",
          "name": "stderr",
          "text": [
            "2it [00:00, 14.30it/s]\n"
          ]
        },
        {
          "output_type": "stream",
          "name": "stdout",
          "text": [
            "now here\n",
            "Epoch 6: Train err: 0.06521739130434782, Train loss: 0.2502070590853691 |\n"
          ]
        },
        {
          "output_type": "stream",
          "name": "stderr",
          "text": [
            "2it [00:00, 14.75it/s]\n"
          ]
        },
        {
          "output_type": "stream",
          "name": "stdout",
          "text": [
            "now here\n",
            "Epoch 7: Train err: 0.08695652173913043, Train loss: 0.21456671506166458 |\n"
          ]
        },
        {
          "output_type": "stream",
          "name": "stderr",
          "text": [
            "2it [00:00, 14.32it/s]\n"
          ]
        },
        {
          "output_type": "stream",
          "name": "stdout",
          "text": [
            "now here\n",
            "Epoch 8: Train err: 0.021739130434782608, Train loss: 0.08653365075588226 |\n"
          ]
        },
        {
          "output_type": "stream",
          "name": "stderr",
          "text": [
            "2it [00:00, 10.80it/s]\n"
          ]
        },
        {
          "output_type": "stream",
          "name": "stdout",
          "text": [
            "now here\n",
            "Epoch 9: Train err: 0.0, Train loss: 0.037806520238518715 |\n"
          ]
        },
        {
          "output_type": "stream",
          "name": "stderr",
          "text": [
            "2it [00:00, 14.94it/s]\n"
          ]
        },
        {
          "output_type": "stream",
          "name": "stdout",
          "text": [
            "now here\n",
            "Epoch 10: Train err: 0.0, Train loss: 0.025268397759646177 |\n"
          ]
        },
        {
          "output_type": "stream",
          "name": "stderr",
          "text": [
            "2it [00:00, 15.47it/s]\n"
          ]
        },
        {
          "output_type": "stream",
          "name": "stdout",
          "text": [
            "now here\n",
            "Epoch 11: Train err: 0.0, Train loss: 0.011495286598801613 |\n"
          ]
        },
        {
          "output_type": "stream",
          "name": "stderr",
          "text": [
            "2it [00:00, 14.25it/s]\n"
          ]
        },
        {
          "output_type": "stream",
          "name": "stdout",
          "text": [
            "now here\n",
            "Epoch 12: Train err: 0.0, Train loss: 0.007182813016697764 |\n"
          ]
        },
        {
          "output_type": "stream",
          "name": "stderr",
          "text": [
            "2it [00:00, 15.32it/s]\n"
          ]
        },
        {
          "output_type": "stream",
          "name": "stdout",
          "text": [
            "now here\n",
            "Epoch 13: Train err: 0.0, Train loss: 0.00524851749651134 |\n"
          ]
        },
        {
          "output_type": "stream",
          "name": "stderr",
          "text": [
            "2it [00:00, 11.91it/s]\n"
          ]
        },
        {
          "output_type": "stream",
          "name": "stdout",
          "text": [
            "now here\n",
            "Epoch 14: Train err: 0.0, Train loss: 0.0037244510604068637 |\n"
          ]
        },
        {
          "output_type": "stream",
          "name": "stderr",
          "text": [
            "2it [00:00, 14.76it/s]\n"
          ]
        },
        {
          "output_type": "stream",
          "name": "stdout",
          "text": [
            "now here\n",
            "Epoch 15: Train err: 0.0, Train loss: 0.003004936850629747 |\n"
          ]
        },
        {
          "output_type": "stream",
          "name": "stderr",
          "text": [
            "2it [00:00, 15.15it/s]\n"
          ]
        },
        {
          "output_type": "stream",
          "name": "stdout",
          "text": [
            "now here\n",
            "Epoch 16: Train err: 0.0, Train loss: 0.0023188143968582153 |\n"
          ]
        },
        {
          "output_type": "stream",
          "name": "stderr",
          "text": [
            "2it [00:00, 15.13it/s]\n"
          ]
        },
        {
          "output_type": "stream",
          "name": "stdout",
          "text": [
            "now here\n",
            "Epoch 17: Train err: 0.0, Train loss: 0.0019175249035470188 |\n"
          ]
        },
        {
          "output_type": "stream",
          "name": "stderr",
          "text": [
            "2it [00:00, 14.48it/s]\n"
          ]
        },
        {
          "output_type": "stream",
          "name": "stdout",
          "text": [
            "now here\n",
            "Epoch 18: Train err: 0.0, Train loss: 0.0014407954295165837 |\n"
          ]
        },
        {
          "output_type": "stream",
          "name": "stderr",
          "text": [
            "2it [00:00, 14.83it/s]\n"
          ]
        },
        {
          "output_type": "stream",
          "name": "stdout",
          "text": [
            "now here\n",
            "Epoch 19: Train err: 0.0, Train loss: 0.0011116908281110227 |\n"
          ]
        },
        {
          "output_type": "stream",
          "name": "stderr",
          "text": [
            "2it [00:00, 14.65it/s]\n"
          ]
        },
        {
          "output_type": "stream",
          "name": "stdout",
          "text": [
            "now here\n",
            "Epoch 20: Train err: 0.0, Train loss: 0.0009660336654633284 |\n"
          ]
        },
        {
          "output_type": "stream",
          "name": "stderr",
          "text": [
            "2it [00:00, 11.90it/s]\n"
          ]
        },
        {
          "output_type": "stream",
          "name": "stdout",
          "text": [
            "now here\n",
            "Epoch 21: Train err: 0.0, Train loss: 0.0007825792126823217 |\n"
          ]
        },
        {
          "output_type": "stream",
          "name": "stderr",
          "text": [
            "2it [00:00, 14.93it/s]\n"
          ]
        },
        {
          "output_type": "stream",
          "name": "stdout",
          "text": [
            "now here\n",
            "Epoch 22: Train err: 0.0, Train loss: 0.0006460333679569885 |\n"
          ]
        },
        {
          "output_type": "stream",
          "name": "stderr",
          "text": [
            "2it [00:00, 14.06it/s]\n"
          ]
        },
        {
          "output_type": "stream",
          "name": "stdout",
          "text": [
            "now here\n",
            "Epoch 23: Train err: 0.0, Train loss: 0.0005783202359452844 |\n"
          ]
        },
        {
          "output_type": "stream",
          "name": "stderr",
          "text": [
            "2it [00:00, 13.99it/s]\n"
          ]
        },
        {
          "output_type": "stream",
          "name": "stdout",
          "text": [
            "now here\n",
            "Epoch 24: Train err: 0.0, Train loss: 0.0004938617785228416 |\n"
          ]
        },
        {
          "output_type": "stream",
          "name": "stderr",
          "text": [
            "2it [00:00, 14.55it/s]\n"
          ]
        },
        {
          "output_type": "stream",
          "name": "stdout",
          "text": [
            "now here\n",
            "Epoch 25: Train err: 0.0, Train loss: 0.0004589985910570249 |\n"
          ]
        },
        {
          "output_type": "stream",
          "name": "stderr",
          "text": [
            "2it [00:00, 12.61it/s]\n"
          ]
        },
        {
          "output_type": "stream",
          "name": "stdout",
          "text": [
            "now here\n",
            "Epoch 26: Train err: 0.0, Train loss: 0.00041390807018615305 |\n"
          ]
        },
        {
          "output_type": "stream",
          "name": "stderr",
          "text": [
            "2it [00:00, 14.93it/s]\n"
          ]
        },
        {
          "output_type": "stream",
          "name": "stdout",
          "text": [
            "now here\n",
            "Epoch 27: Train err: 0.0, Train loss: 0.00036383920814841986 |\n"
          ]
        },
        {
          "output_type": "stream",
          "name": "stderr",
          "text": [
            "2it [00:00, 13.21it/s]\n"
          ]
        },
        {
          "output_type": "stream",
          "name": "stdout",
          "text": [
            "now here\n",
            "Epoch 28: Train err: 0.0, Train loss: 0.00035037972702411935 |\n"
          ]
        },
        {
          "output_type": "stream",
          "name": "stderr",
          "text": [
            "2it [00:00, 14.92it/s]\n"
          ]
        },
        {
          "output_type": "stream",
          "name": "stdout",
          "text": [
            "now here\n",
            "Epoch 29: Train err: 0.0, Train loss: 0.00033410459582228214 |\n"
          ]
        },
        {
          "output_type": "stream",
          "name": "stderr",
          "text": [
            "2it [00:00, 14.98it/s]\n"
          ]
        },
        {
          "output_type": "stream",
          "name": "stdout",
          "text": [
            "now here\n",
            "Epoch 30: Train err: 0.0, Train loss: 0.00030278664780780673 |\n",
            "Finished Training\n",
            "Total time elapsed: 12.42 seconds\n"
          ]
        }
      ],
      "source": [
        "cnn_Hand_Gesture = CNN_Hand_Gesture(drop_rate=0.001)\n",
        "cnn_Hand_Gesture = cnn_Hand_Gesture.to(\"cuda\")\n",
        "train_net_small(cnn_Hand_Gesture)"
      ]
    },
    {
      "cell_type": "markdown",
      "source": [
        "We can see that the training error is zero which means that the accuracy has reached 100% and the model is overfitting on the small dataset.This means that our model is working as expected."
      ],
      "metadata": {
        "id": "NH7mojbCmHvG"
      }
    },
    {
      "cell_type": "markdown",
      "metadata": {
        "id": "nvDLw-Vz6eVS"
      },
      "source": [
        "### Part 3. Hyperparameter Search [8 pt]\n",
        "\n",
        "### Part (a) - 2 pt\n",
        "\n",
        "List 3 hyperparameters that you think are most worth tuning. Choose at least one hyperparameter related to\n",
        "the model architecture."
      ]
    },
    {
      "cell_type": "markdown",
      "source": [
        "Batch_size, learning rate, dropout rate are the three hyperparameters that might be worth tuning. Dropout rate is the hyperparameter related to the model architecture."
      ],
      "metadata": {
        "id": "DJlqA9Qql9Ui"
      }
    },
    {
      "cell_type": "markdown",
      "metadata": {
        "id": "zeD6EzPB6kSW"
      },
      "source": [
        "### Part (b) - 2 pt\n",
        "\n",
        "Tune the hyperparameters you listed in Part (a), trying as many values as you need to until you feel satisfied\n",
        "that you are getting a good model. Plot the training curve of at least 4 different hyperparameter settings."
      ]
    },
    {
      "cell_type": "code",
      "execution_count": null,
      "metadata": {
        "id": "UkvdR-cB6nzm",
        "colab": {
          "base_uri": "https://localhost:8080/"
        },
        "outputId": "e39c9ca5-c228-435b-9189-69f62f4653a7"
      },
      "outputs": [
        {
          "output_type": "stream",
          "name": "stderr",
          "text": [
            "26it [00:04,  6.20it/s]\n"
          ]
        },
        {
          "output_type": "stream",
          "name": "stdout",
          "text": [
            "now here\n",
            "Epoch 1: Train err: 0.8329268292682926, Train loss: 5.692714411478776 |Validation err: 0.7994652406417112, Validation loss: 14.096517762790123\n"
          ]
        },
        {
          "output_type": "stream",
          "name": "stderr",
          "text": [
            "26it [00:04,  6.07it/s]\n"
          ]
        },
        {
          "output_type": "stream",
          "name": "stdout",
          "text": [
            "now here\n",
            "Epoch 2: Train err: 0.8945121951219512, Train loss: 10.576995436961834 |Validation err: 0.8823529411764706, Validation loss: 11.393450299898783\n"
          ]
        },
        {
          "output_type": "stream",
          "name": "stderr",
          "text": [
            "26it [00:04,  6.19it/s]\n"
          ]
        },
        {
          "output_type": "stream",
          "name": "stdout",
          "text": [
            "now here\n",
            "Epoch 3: Train err: 0.8536585365853658, Train loss: 7.907719777180598 |Validation err: 0.8262032085561497, Validation loss: 10.837329586346945\n"
          ]
        },
        {
          "output_type": "stream",
          "name": "stderr",
          "text": [
            "26it [00:04,  6.19it/s]\n"
          ]
        },
        {
          "output_type": "stream",
          "name": "stdout",
          "text": [
            "now here\n",
            "Epoch 4: Train err: 0.8060975609756098, Train loss: 8.440841048955917 |Validation err: 0.8529411764705882, Validation loss: 23.28105757633845\n"
          ]
        },
        {
          "output_type": "stream",
          "name": "stderr",
          "text": [
            "26it [00:04,  6.21it/s]\n"
          ]
        },
        {
          "output_type": "stream",
          "name": "stdout",
          "text": [
            "now here\n",
            "Epoch 5: Train err: 0.8213414634146341, Train loss: 14.294554758530397 |Validation err: 0.9385026737967914, Validation loss: 18.515189329783123\n"
          ]
        },
        {
          "output_type": "stream",
          "name": "stderr",
          "text": [
            "26it [00:05,  5.11it/s]\n"
          ]
        },
        {
          "output_type": "stream",
          "name": "stdout",
          "text": [
            "now here\n",
            "Epoch 6: Train err: 0.9323170731707318, Train loss: 19.061100501280563 |Validation err: 0.8155080213903744, Validation loss: 8.14670475323995\n"
          ]
        },
        {
          "output_type": "stream",
          "name": "stderr",
          "text": [
            "26it [00:04,  6.17it/s]\n"
          ]
        },
        {
          "output_type": "stream",
          "name": "stdout",
          "text": [
            "now here\n",
            "Epoch 7: Train err: 0.8835365853658537, Train loss: 10.994068530889658 |Validation err: 0.8663101604278075, Validation loss: 14.397550900777182\n"
          ]
        },
        {
          "output_type": "stream",
          "name": "stderr",
          "text": [
            "26it [00:04,  6.13it/s]\n"
          ]
        },
        {
          "output_type": "stream",
          "name": "stdout",
          "text": [
            "now here\n",
            "Epoch 8: Train err: 0.8634146341463415, Train loss: 8.55926590699416 |Validation err: 0.839572192513369, Validation loss: 10.831202507019043\n"
          ]
        },
        {
          "output_type": "stream",
          "name": "stderr",
          "text": [
            "26it [00:04,  6.22it/s]\n"
          ]
        },
        {
          "output_type": "stream",
          "name": "stdout",
          "text": [
            "now here\n",
            "Epoch 9: Train err: 0.8353658536585366, Train loss: 6.147907353364504 |Validation err: 0.6684491978609626, Validation loss: 5.016983509063721\n"
          ]
        },
        {
          "output_type": "stream",
          "name": "stderr",
          "text": [
            "26it [00:04,  6.20it/s]\n"
          ]
        },
        {
          "output_type": "stream",
          "name": "stdout",
          "text": [
            "now here\n",
            "Epoch 10: Train err: 0.900609756097561, Train loss: 5.524912604918847 |Validation err: 0.6631016042780749, Validation loss: 2.7296064694722495\n"
          ]
        },
        {
          "output_type": "stream",
          "name": "stderr",
          "text": [
            "26it [00:04,  5.77it/s]\n"
          ]
        },
        {
          "output_type": "stream",
          "name": "stdout",
          "text": [
            "now here\n",
            "Epoch 11: Train err: 0.8134146341463414, Train loss: 3.3605128939335165 |Validation err: 0.6417112299465241, Validation loss: 2.097286264101664\n"
          ]
        },
        {
          "output_type": "stream",
          "name": "stderr",
          "text": [
            "26it [00:04,  5.50it/s]\n"
          ]
        },
        {
          "output_type": "stream",
          "name": "stdout",
          "text": [
            "now here\n",
            "Epoch 12: Train err: 0.7432926829268293, Train loss: 2.1586962158863363 |Validation err: 0.5882352941176471, Validation loss: 1.8394854068756104\n"
          ]
        },
        {
          "output_type": "stream",
          "name": "stderr",
          "text": [
            "26it [00:04,  6.13it/s]\n"
          ]
        },
        {
          "output_type": "stream",
          "name": "stdout",
          "text": [
            "now here\n",
            "Epoch 13: Train err: 0.6701219512195122, Train loss: 1.8709578468249395 |Validation err: 0.5374331550802139, Validation loss: 1.5805474917093914\n"
          ]
        },
        {
          "output_type": "stream",
          "name": "stderr",
          "text": [
            "26it [00:04,  6.16it/s]\n"
          ]
        },
        {
          "output_type": "stream",
          "name": "stdout",
          "text": [
            "now here\n",
            "Epoch 14: Train err: 0.6603658536585366, Train loss: 1.652306934961906 |Validation err: 0.5240641711229946, Validation loss: 1.550279974937439\n"
          ]
        },
        {
          "output_type": "stream",
          "name": "stderr",
          "text": [
            "26it [00:04,  6.23it/s]\n"
          ]
        },
        {
          "output_type": "stream",
          "name": "stdout",
          "text": [
            "now here\n",
            "Epoch 15: Train err: 0.6048780487804878, Train loss: 1.6007251372704139 |Validation err: 0.5294117647058824, Validation loss: 1.5452988743782043\n"
          ]
        },
        {
          "output_type": "stream",
          "name": "stderr",
          "text": [
            "26it [00:04,  6.22it/s]\n"
          ]
        },
        {
          "output_type": "stream",
          "name": "stdout",
          "text": [
            "now here\n",
            "Epoch 16: Train err: 0.6048780487804878, Train loss: 1.5481252326415136 |Validation err: 0.5294117647058824, Validation loss: 1.5306049585342407\n"
          ]
        },
        {
          "output_type": "stream",
          "name": "stderr",
          "text": [
            "26it [00:04,  6.22it/s]\n"
          ]
        },
        {
          "output_type": "stream",
          "name": "stdout",
          "text": [
            "now here\n",
            "Epoch 17: Train err: 0.5615853658536586, Train loss: 1.500763475894928 |Validation err: 0.5267379679144385, Validation loss: 1.4947543541590373\n"
          ]
        },
        {
          "output_type": "stream",
          "name": "stderr",
          "text": [
            "26it [00:04,  6.19it/s]\n"
          ]
        },
        {
          "output_type": "stream",
          "name": "stdout",
          "text": [
            "now here\n",
            "Epoch 18: Train err: 0.5542682926829269, Train loss: 1.46804330096795 |Validation err: 0.5213903743315508, Validation loss: 1.50440913438797\n"
          ]
        },
        {
          "output_type": "stream",
          "name": "stderr",
          "text": [
            "26it [00:04,  6.20it/s]\n"
          ]
        },
        {
          "output_type": "stream",
          "name": "stdout",
          "text": [
            "now here\n",
            "Epoch 19: Train err: 0.5274390243902439, Train loss: 1.4400346691791828 |Validation err: 0.5347593582887701, Validation loss: 1.502478023370107\n"
          ]
        },
        {
          "output_type": "stream",
          "name": "stderr",
          "text": [
            "26it [00:04,  6.17it/s]\n"
          ]
        },
        {
          "output_type": "stream",
          "name": "stdout",
          "text": [
            "now here\n",
            "Epoch 20: Train err: 0.501219512195122, Train loss: 1.3782425190393741 |Validation err: 0.5294117647058824, Validation loss: 1.5168689290682476\n"
          ]
        },
        {
          "output_type": "stream",
          "name": "stderr",
          "text": [
            "26it [00:04,  6.22it/s]\n"
          ]
        },
        {
          "output_type": "stream",
          "name": "stdout",
          "text": [
            "now here\n",
            "Epoch 21: Train err: 0.49573170731707317, Train loss: 1.3511839703871653 |Validation err: 0.5187165775401069, Validation loss: 1.5383200446764629\n"
          ]
        },
        {
          "output_type": "stream",
          "name": "stderr",
          "text": [
            "26it [00:04,  6.17it/s]\n"
          ]
        },
        {
          "output_type": "stream",
          "name": "stdout",
          "text": [
            "now here\n",
            "Epoch 22: Train err: 0.46707317073170734, Train loss: 1.3099343856939902 |Validation err: 0.5133689839572193, Validation loss: 1.5051593780517578\n"
          ]
        },
        {
          "output_type": "stream",
          "name": "stderr",
          "text": [
            "26it [00:04,  6.16it/s]\n"
          ]
        },
        {
          "output_type": "stream",
          "name": "stdout",
          "text": [
            "now here\n",
            "Epoch 23: Train err: 0.4554878048780488, Train loss: 1.2940064473794057 |Validation err: 0.49732620320855614, Validation loss: 1.5043785373369853\n"
          ]
        },
        {
          "output_type": "stream",
          "name": "stderr",
          "text": [
            "26it [00:04,  6.19it/s]\n"
          ]
        },
        {
          "output_type": "stream",
          "name": "stdout",
          "text": [
            "now here\n",
            "Epoch 24: Train err: 0.43841463414634146, Train loss: 1.241010228601786 |Validation err: 0.5133689839572193, Validation loss: 1.5001071691513062\n"
          ]
        },
        {
          "output_type": "stream",
          "name": "stderr",
          "text": [
            "26it [00:04,  6.16it/s]\n"
          ]
        },
        {
          "output_type": "stream",
          "name": "stdout",
          "text": [
            "now here\n",
            "Epoch 25: Train err: 0.41524390243902437, Train loss: 1.2026814829844694 |Validation err: 0.4679144385026738, Validation loss: 1.5614252785841625\n"
          ]
        },
        {
          "output_type": "stream",
          "name": "stderr",
          "text": [
            "26it [00:04,  6.16it/s]\n"
          ]
        },
        {
          "output_type": "stream",
          "name": "stdout",
          "text": [
            "now here\n",
            "Epoch 26: Train err: 0.3932926829268293, Train loss: 1.1559149605723529 |Validation err: 0.4919786096256685, Validation loss: 1.55716872215271\n"
          ]
        },
        {
          "output_type": "stream",
          "name": "stderr",
          "text": [
            "26it [00:04,  6.19it/s]\n"
          ]
        },
        {
          "output_type": "stream",
          "name": "stdout",
          "text": [
            "now here\n",
            "Epoch 27: Train err: 0.38597560975609757, Train loss: 1.1307118437611139 |Validation err: 0.4732620320855615, Validation loss: 1.5402537683645885\n"
          ]
        },
        {
          "output_type": "stream",
          "name": "stderr",
          "text": [
            "26it [00:04,  6.17it/s]\n"
          ]
        },
        {
          "output_type": "stream",
          "name": "stdout",
          "text": [
            "now here\n",
            "Epoch 28: Train err: 0.36646341463414633, Train loss: 1.0714414796003928 |Validation err: 0.4572192513368984, Validation loss: 1.5578896800676982\n"
          ]
        },
        {
          "output_type": "stream",
          "name": "stderr",
          "text": [
            "26it [00:04,  6.21it/s]\n"
          ]
        },
        {
          "output_type": "stream",
          "name": "stdout",
          "text": [
            "now here\n",
            "Epoch 29: Train err: 0.36829268292682926, Train loss: 1.0584223929506082 |Validation err: 0.4679144385026738, Validation loss: 1.5813272794087727\n"
          ]
        },
        {
          "output_type": "stream",
          "name": "stderr",
          "text": [
            "26it [00:04,  6.18it/s]\n"
          ]
        },
        {
          "output_type": "stream",
          "name": "stdout",
          "text": [
            "now here\n",
            "Epoch 30: Train err: 0.3597560975609756, Train loss: 1.0432269372619116 |Validation err: 0.4572192513368984, Validation loss: 1.5674861470858257\n"
          ]
        },
        {
          "output_type": "stream",
          "name": "stderr",
          "text": [
            "26it [00:04,  6.18it/s]\n"
          ]
        },
        {
          "output_type": "stream",
          "name": "stdout",
          "text": [
            "now here\n",
            "Epoch 31: Train err: 0.35, Train loss: 1.0018762688224132 |Validation err: 0.44919786096256686, Validation loss: 1.6155017018318176\n"
          ]
        },
        {
          "output_type": "stream",
          "name": "stderr",
          "text": [
            "26it [00:04,  6.13it/s]\n"
          ]
        },
        {
          "output_type": "stream",
          "name": "stdout",
          "text": [
            "now here\n",
            "Epoch 32: Train err: 0.3408536585365854, Train loss: 0.9711174024985387 |Validation err: 0.44385026737967914, Validation loss: 1.5944091975688934\n"
          ]
        },
        {
          "output_type": "stream",
          "name": "stderr",
          "text": [
            "26it [00:04,  6.25it/s]\n"
          ]
        },
        {
          "output_type": "stream",
          "name": "stdout",
          "text": [
            "now here\n",
            "Epoch 33: Train err: 0.33475609756097563, Train loss: 0.9333110061975626 |Validation err: 0.44385026737967914, Validation loss: 1.6935178339481354\n"
          ]
        },
        {
          "output_type": "stream",
          "name": "stderr",
          "text": [
            "26it [00:04,  6.15it/s]\n"
          ]
        },
        {
          "output_type": "stream",
          "name": "stdout",
          "text": [
            "now here\n",
            "Epoch 34: Train err: 0.3310975609756098, Train loss: 0.9244600396889907 |Validation err: 0.42780748663101603, Validation loss: 1.6660957137743633\n"
          ]
        },
        {
          "output_type": "stream",
          "name": "stderr",
          "text": [
            "26it [00:04,  6.18it/s]\n"
          ]
        },
        {
          "output_type": "stream",
          "name": "stdout",
          "text": [
            "now here\n",
            "Epoch 35: Train err: 0.3298780487804878, Train loss: 0.9154868696171504 |Validation err: 0.4144385026737968, Validation loss: 1.6901966830094655\n"
          ]
        },
        {
          "output_type": "stream",
          "name": "stderr",
          "text": [
            "26it [00:04,  6.22it/s]\n"
          ]
        },
        {
          "output_type": "stream",
          "name": "stdout",
          "text": [
            "now here\n",
            "Epoch 36: Train err: 0.3024390243902439, Train loss: 0.8691215750116569 |Validation err: 0.4197860962566845, Validation loss: 1.6443809966246288\n"
          ]
        },
        {
          "output_type": "stream",
          "name": "stderr",
          "text": [
            "26it [00:04,  6.27it/s]\n"
          ]
        },
        {
          "output_type": "stream",
          "name": "stdout",
          "text": [
            "now here\n",
            "Epoch 37: Train err: 0.2951219512195122, Train loss: 0.8547443074102585 |Validation err: 0.41711229946524064, Validation loss: 1.6782061755657196\n"
          ]
        },
        {
          "output_type": "stream",
          "name": "stderr",
          "text": [
            "26it [00:04,  6.07it/s]\n"
          ]
        },
        {
          "output_type": "stream",
          "name": "stdout",
          "text": [
            "now here\n",
            "Epoch 38: Train err: 0.28841463414634144, Train loss: 0.8190485021242728 |Validation err: 0.4090909090909091, Validation loss: 1.6600723961989086\n"
          ]
        },
        {
          "output_type": "stream",
          "name": "stderr",
          "text": [
            "26it [00:04,  6.21it/s]\n"
          ]
        },
        {
          "output_type": "stream",
          "name": "stdout",
          "text": [
            "now here\n",
            "Epoch 39: Train err: 0.275609756097561, Train loss: 0.7920537954912736 |Validation err: 0.42780748663101603, Validation loss: 1.74807674686114\n"
          ]
        },
        {
          "output_type": "stream",
          "name": "stderr",
          "text": [
            "26it [00:04,  6.19it/s]\n"
          ]
        },
        {
          "output_type": "stream",
          "name": "stdout",
          "text": [
            "now here\n",
            "Epoch 40: Train err: 0.28536585365853656, Train loss: 0.7812867588721789 |Validation err: 0.4037433155080214, Validation loss: 1.837625910838445\n"
          ]
        },
        {
          "output_type": "stream",
          "name": "stderr",
          "text": [
            "26it [00:04,  6.09it/s]\n"
          ]
        },
        {
          "output_type": "stream",
          "name": "stdout",
          "text": [
            "now here\n",
            "Epoch 41: Train err: 0.2597560975609756, Train loss: 0.7556687209468621 |Validation err: 0.3877005347593583, Validation loss: 1.6898343960444133\n"
          ]
        },
        {
          "output_type": "stream",
          "name": "stderr",
          "text": [
            "26it [00:04,  6.20it/s]\n"
          ]
        },
        {
          "output_type": "stream",
          "name": "stdout",
          "text": [
            "now here\n",
            "Epoch 42: Train err: 0.2548780487804878, Train loss: 0.7244772226191484 |Validation err: 0.40641711229946526, Validation loss: 1.8130362530549367\n"
          ]
        },
        {
          "output_type": "stream",
          "name": "stderr",
          "text": [
            "26it [00:04,  5.50it/s]\n"
          ]
        },
        {
          "output_type": "stream",
          "name": "stdout",
          "text": [
            "now here\n",
            "Epoch 43: Train err: 0.2475609756097561, Train loss: 0.7052978469202151 |Validation err: 0.3877005347593583, Validation loss: 1.7939726213614147\n"
          ]
        },
        {
          "output_type": "stream",
          "name": "stderr",
          "text": [
            "26it [00:04,  6.02it/s]\n"
          ]
        },
        {
          "output_type": "stream",
          "name": "stdout",
          "text": [
            "now here\n",
            "Epoch 44: Train err: 0.25, Train loss: 0.7090394015495594 |Validation err: 0.393048128342246, Validation loss: 1.8404487172762554\n"
          ]
        },
        {
          "output_type": "stream",
          "name": "stderr",
          "text": [
            "26it [00:04,  5.93it/s]\n"
          ]
        },
        {
          "output_type": "stream",
          "name": "stdout",
          "text": [
            "now here\n",
            "Epoch 45: Train err: 0.24024390243902438, Train loss: 0.6828131303191185 |Validation err: 0.39037433155080214, Validation loss: 1.9411344130833943\n"
          ]
        },
        {
          "output_type": "stream",
          "name": "stderr",
          "text": [
            "26it [00:04,  6.07it/s]\n"
          ]
        },
        {
          "output_type": "stream",
          "name": "stdout",
          "text": [
            "now here\n",
            "Epoch 46: Train err: 0.23414634146341465, Train loss: 0.6954841510607646 |Validation err: 0.3877005347593583, Validation loss: 1.8102019429206848\n"
          ]
        },
        {
          "output_type": "stream",
          "name": "stderr",
          "text": [
            "26it [00:04,  6.12it/s]\n"
          ]
        },
        {
          "output_type": "stream",
          "name": "stdout",
          "text": [
            "now here\n",
            "Epoch 47: Train err: 0.23109756097560977, Train loss: 0.6598374737569919 |Validation err: 0.39037433155080214, Validation loss: 1.938212364912033\n"
          ]
        },
        {
          "output_type": "stream",
          "name": "stderr",
          "text": [
            "26it [00:04,  6.13it/s]\n"
          ]
        },
        {
          "output_type": "stream",
          "name": "stdout",
          "text": [
            "now here\n",
            "Epoch 48: Train err: 0.2176829268292683, Train loss: 0.6210920506945024 |Validation err: 0.40641711229946526, Validation loss: 1.9622861444950104\n"
          ]
        },
        {
          "output_type": "stream",
          "name": "stderr",
          "text": [
            "26it [00:04,  5.42it/s]\n"
          ]
        },
        {
          "output_type": "stream",
          "name": "stdout",
          "text": [
            "now here\n",
            "Epoch 49: Train err: 0.20426829268292682, Train loss: 0.5983577399299695 |Validation err: 0.39572192513368987, Validation loss: 1.9878631830215454\n"
          ]
        },
        {
          "output_type": "stream",
          "name": "stderr",
          "text": [
            "26it [00:04,  6.16it/s]\n"
          ]
        },
        {
          "output_type": "stream",
          "name": "stdout",
          "text": [
            "now here\n",
            "Epoch 50: Train err: 0.2, Train loss: 0.5966131996649963 |Validation err: 0.4090909090909091, Validation loss: 2.0393870174884796\n"
          ]
        },
        {
          "output_type": "stream",
          "name": "stderr",
          "text": [
            "26it [00:04,  6.16it/s]\n"
          ]
        },
        {
          "output_type": "stream",
          "name": "stdout",
          "text": [
            "now here\n",
            "Epoch 51: Train err: 0.18658536585365854, Train loss: 0.563282202069576 |Validation err: 0.4090909090909091, Validation loss: 2.033225158850352\n"
          ]
        },
        {
          "output_type": "stream",
          "name": "stderr",
          "text": [
            "26it [00:04,  6.19it/s]\n"
          ]
        },
        {
          "output_type": "stream",
          "name": "stdout",
          "text": [
            "now here\n",
            "Epoch 52: Train err: 0.18536585365853658, Train loss: 0.5514832096031079 |Validation err: 0.3983957219251337, Validation loss: 2.103225310643514\n"
          ]
        },
        {
          "output_type": "stream",
          "name": "stderr",
          "text": [
            "26it [00:04,  6.18it/s]\n"
          ]
        },
        {
          "output_type": "stream",
          "name": "stdout",
          "text": [
            "now here\n",
            "Epoch 53: Train err: 0.19817073170731708, Train loss: 0.5547003501023238 |Validation err: 0.39572192513368987, Validation loss: 1.975800136725108\n"
          ]
        },
        {
          "output_type": "stream",
          "name": "stderr",
          "text": [
            "26it [00:04,  6.12it/s]\n"
          ]
        },
        {
          "output_type": "stream",
          "name": "stdout",
          "text": [
            "now here\n",
            "Epoch 54: Train err: 0.18841463414634146, Train loss: 0.5308425910770893 |Validation err: 0.393048128342246, Validation loss: 2.1317016879717507\n"
          ]
        },
        {
          "output_type": "stream",
          "name": "stderr",
          "text": [
            "26it [00:04,  6.06it/s]\n"
          ]
        },
        {
          "output_type": "stream",
          "name": "stdout",
          "text": [
            "now here\n",
            "Epoch 55: Train err: 0.17865853658536585, Train loss: 0.49945823289453983 |Validation err: 0.42245989304812837, Validation loss: 2.1800505022207894\n"
          ]
        },
        {
          "output_type": "stream",
          "name": "stderr",
          "text": [
            "26it [00:04,  6.01it/s]\n"
          ]
        },
        {
          "output_type": "stream",
          "name": "stdout",
          "text": [
            "now here\n",
            "Epoch 56: Train err: 0.18841463414634146, Train loss: 0.521265319476907 |Validation err: 0.4037433155080214, Validation loss: 2.2204010089238486\n"
          ]
        },
        {
          "output_type": "stream",
          "name": "stderr",
          "text": [
            "26it [00:04,  6.07it/s]\n"
          ]
        },
        {
          "output_type": "stream",
          "name": "stdout",
          "text": [
            "now here\n",
            "Epoch 57: Train err: 0.16585365853658537, Train loss: 0.47391033057983106 |Validation err: 0.4197860962566845, Validation loss: 2.2411917646725974\n"
          ]
        },
        {
          "output_type": "stream",
          "name": "stderr",
          "text": [
            "26it [00:04,  6.13it/s]\n"
          ]
        },
        {
          "output_type": "stream",
          "name": "stdout",
          "text": [
            "now here\n",
            "Epoch 58: Train err: 0.1628048780487805, Train loss: 0.46852884943095535 |Validation err: 0.42780748663101603, Validation loss: 2.28299472729365\n"
          ]
        },
        {
          "output_type": "stream",
          "name": "stderr",
          "text": [
            "26it [00:04,  6.16it/s]\n"
          ]
        },
        {
          "output_type": "stream",
          "name": "stdout",
          "text": [
            "now here\n",
            "Epoch 59: Train err: 0.15609756097560976, Train loss: 0.43963666159946185 |Validation err: 0.393048128342246, Validation loss: 2.222711443901062\n"
          ]
        },
        {
          "output_type": "stream",
          "name": "stderr",
          "text": [
            "26it [00:04,  6.13it/s]\n"
          ]
        },
        {
          "output_type": "stream",
          "name": "stdout",
          "text": [
            "now here\n",
            "Epoch 60: Train err: 0.15, Train loss: 0.42546839410295856 |Validation err: 0.40641711229946526, Validation loss: 2.2048533856868744\n",
            "Finished Training\n",
            "Total time elapsed: 305.84 seconds\n"
          ]
        }
      ],
      "source": [
        "cnn_Hand_Gesture = CNN_Hand_Gesture(drop_rate=0.1)\n",
        "cnn_Hand_Gesture = cnn_Hand_Gesture.to(\"cuda\")\n",
        "train_net(cnn_Hand_Gesture,batch_size=64, learning_rate=0.001,num_epochs = 60)"
      ]
    },
    {
      "cell_type": "code",
      "source": [
        "model_path = get_model_name(\"CNN_Hand_Gesture\", batch_size=64, learning_rate=0.001, num_epochs=59)\n",
        "plot_training_curve(model_path)"
      ],
      "metadata": {
        "colab": {
          "base_uri": "https://localhost:8080/",
          "height": 573
        },
        "id": "fVxZpU8xm35a",
        "outputId": "7dc48995-6c1d-4c62-9300-9a827c43b206"
      },
      "execution_count": null,
      "outputs": [
        {
          "output_type": "display_data",
          "data": {
            "text/plain": [
              "<Figure size 432x288 with 1 Axes>"
            ],
            "image/png": "[encoded data removed]"
          },
          "metadata": {
            "needs_background": "light"
          }
        },
        {
          "output_type": "display_data",
          "data": {
            "text/plain": [
              "<Figure size 432x288 with 1 Axes>"
            ],
            "image/png": "[encoded data removed]"
          },
          "metadata": {
            "needs_background": "light"
          }
        }
      ]
    },
    {
      "cell_type": "code",
      "source": [
        "cnn_Hand_Gesture = CNN_Hand_Gesture(drop_rate=0.3)\n",
        "cnn_Hand_Gesture = cnn_Hand_Gesture.to(\"cuda\")\n",
        "train_net(cnn_Hand_Gesture,batch_size=64, learning_rate=0.001,num_epochs = 60)\n",
        "model_path = get_model_name(\"CNN_Hand_Gesture\", batch_size=64, learning_rate=0.001, num_epochs=59)\n",
        "plot_training_curve(model_path)"
      ],
      "metadata": {
        "colab": {
          "base_uri": "https://localhost:8080/",
          "height": 1000
        },
        "id": "cj0JZFF7qkRO",
        "outputId": "78c8eda7-3c54-4cd8-aa8c-66526c2d7e03"
      },
      "execution_count": null,
      "outputs": [
        {
          "output_type": "stream",
          "name": "stderr",
          "text": [
            "26it [00:04,  6.00it/s]\n"
          ]
        },
        {
          "output_type": "stream",
          "name": "stdout",
          "text": [
            "now here\n",
            "Epoch 1: Train err: 0.8317073170731707, Train loss: 6.540810002730443 |Validation err: 0.8475935828877005, Validation loss: 18.006463155150414\n"
          ]
        },
        {
          "output_type": "stream",
          "name": "stderr",
          "text": [
            "26it [00:04,  6.31it/s]\n"
          ]
        },
        {
          "output_type": "stream",
          "name": "stdout",
          "text": [
            "now here\n",
            "Epoch 2: Train err: 0.899390243902439, Train loss: 13.22377640238175 |Validation err: 0.8636363636363636, Validation loss: 25.4680938522021\n"
          ]
        },
        {
          "output_type": "stream",
          "name": "stderr",
          "text": [
            "26it [00:04,  6.26it/s]\n"
          ]
        },
        {
          "output_type": "stream",
          "name": "stdout",
          "text": [
            "now here\n",
            "Epoch 3: Train err: 0.8457317073170731, Train loss: 17.09946864728744 |Validation err: 0.8823529411764706, Validation loss: 57.70189448197683\n"
          ]
        },
        {
          "output_type": "stream",
          "name": "stderr",
          "text": [
            "26it [00:04,  6.23it/s]\n"
          ]
        },
        {
          "output_type": "stream",
          "name": "stdout",
          "text": [
            "now here\n",
            "Epoch 4: Train err: 0.8884146341463415, Train loss: 19.282157338582554 |Validation err: 0.8770053475935828, Validation loss: 47.077184200286865\n"
          ]
        },
        {
          "output_type": "stream",
          "name": "stderr",
          "text": [
            "26it [00:04,  6.23it/s]\n"
          ]
        },
        {
          "output_type": "stream",
          "name": "stdout",
          "text": [
            "now here\n",
            "Epoch 5: Train err: 0.9707317073170731, Train loss: 23.868742869450497 |Validation err: 0.8823529411764706, Validation loss: 32.483334382375084\n"
          ]
        },
        {
          "output_type": "stream",
          "name": "stderr",
          "text": [
            "26it [00:04,  5.92it/s]\n"
          ]
        },
        {
          "output_type": "stream",
          "name": "stdout",
          "text": [
            "now here\n",
            "Epoch 6: Train err: 0.8859756097560976, Train loss: 44.22788846951265 |Validation err: 0.8449197860962567, Validation loss: 25.199131568272907\n"
          ]
        },
        {
          "output_type": "stream",
          "name": "stderr",
          "text": [
            "26it [00:04,  5.92it/s]\n"
          ]
        },
        {
          "output_type": "stream",
          "name": "stdout",
          "text": [
            "now here\n",
            "Epoch 7: Train err: 0.8310975609756097, Train loss: 24.43895699427678 |Validation err: 0.9090909090909091, Validation loss: 14.771888017654419\n"
          ]
        },
        {
          "output_type": "stream",
          "name": "stderr",
          "text": [
            "26it [00:04,  6.25it/s]\n"
          ]
        },
        {
          "output_type": "stream",
          "name": "stdout",
          "text": [
            "now here\n",
            "Epoch 8: Train err: 0.9390243902439024, Train loss: 14.359346887240044 |Validation err: 0.8582887700534759, Validation loss: 12.924200554688772\n"
          ]
        },
        {
          "output_type": "stream",
          "name": "stderr",
          "text": [
            "26it [00:04,  6.26it/s]\n"
          ]
        },
        {
          "output_type": "stream",
          "name": "stdout",
          "text": [
            "now here\n",
            "Epoch 9: Train err: 0.9225609756097561, Train loss: 9.292227093990032 |Validation err: 0.8663101604278075, Validation loss: 6.9231782754262285\n"
          ]
        },
        {
          "output_type": "stream",
          "name": "stderr",
          "text": [
            "26it [00:04,  6.28it/s]\n"
          ]
        },
        {
          "output_type": "stream",
          "name": "stdout",
          "text": [
            "now here\n",
            "Epoch 10: Train err: 0.8957317073170732, Train loss: 6.469116907853347 |Validation err: 0.7513368983957219, Validation loss: 3.1700953443845115\n"
          ]
        },
        {
          "output_type": "stream",
          "name": "stderr",
          "text": [
            "26it [00:04,  6.27it/s]\n"
          ]
        },
        {
          "output_type": "stream",
          "name": "stdout",
          "text": [
            "now here\n",
            "Epoch 11: Train err: 0.8798780487804878, Train loss: 3.121654157455151 |Validation err: 0.6283422459893048, Validation loss: 1.8141229550043743\n"
          ]
        },
        {
          "output_type": "stream",
          "name": "stderr",
          "text": [
            "26it [00:04,  5.53it/s]\n"
          ]
        },
        {
          "output_type": "stream",
          "name": "stdout",
          "text": [
            "now here\n",
            "Epoch 12: Train err: 0.7646341463414634, Train loss: 1.9128042872135456 |Validation err: 0.5508021390374331, Validation loss: 1.5341811577479045\n"
          ]
        },
        {
          "output_type": "stream",
          "name": "stderr",
          "text": [
            "26it [00:04,  6.25it/s]\n"
          ]
        },
        {
          "output_type": "stream",
          "name": "stdout",
          "text": [
            "now here\n",
            "Epoch 13: Train err: 0.6884146341463414, Train loss: 1.7233219009179335 |Validation err: 0.5347593582887701, Validation loss: 1.4840614398320515\n"
          ]
        },
        {
          "output_type": "stream",
          "name": "stderr",
          "text": [
            "26it [00:04,  6.28it/s]\n"
          ]
        },
        {
          "output_type": "stream",
          "name": "stdout",
          "text": [
            "now here\n",
            "Epoch 14: Train err: 0.6792682926829269, Train loss: 1.6555086374282837 |Validation err: 0.5508021390374331, Validation loss: 1.4547975560029347\n"
          ]
        },
        {
          "output_type": "stream",
          "name": "stderr",
          "text": [
            "26it [00:04,  6.23it/s]\n"
          ]
        },
        {
          "output_type": "stream",
          "name": "stdout",
          "text": [
            "now here\n",
            "Epoch 15: Train err: 0.651829268292683, Train loss: 1.622690471319052 |Validation err: 0.5053475935828877, Validation loss: 1.4251821637153625\n"
          ]
        },
        {
          "output_type": "stream",
          "name": "stderr",
          "text": [
            "26it [00:04,  6.27it/s]\n"
          ]
        },
        {
          "output_type": "stream",
          "name": "stdout",
          "text": [
            "now here\n",
            "Epoch 16: Train err: 0.6182926829268293, Train loss: 1.5747022078587458 |Validation err: 0.5347593582887701, Validation loss: 1.416474978129069\n"
          ]
        },
        {
          "output_type": "stream",
          "name": "stderr",
          "text": [
            "26it [00:04,  6.28it/s]\n"
          ]
        },
        {
          "output_type": "stream",
          "name": "stdout",
          "text": [
            "now here\n",
            "Epoch 17: Train err: 0.6, Train loss: 1.5783911530788128 |Validation err: 0.4786096256684492, Validation loss: 1.3939248224099476\n"
          ]
        },
        {
          "output_type": "stream",
          "name": "stderr",
          "text": [
            "26it [00:04,  6.29it/s]\n"
          ]
        },
        {
          "output_type": "stream",
          "name": "stdout",
          "text": [
            "now here\n",
            "Epoch 18: Train err: 0.5951219512195122, Train loss: 1.5314119641597455 |Validation err: 0.5080213903743316, Validation loss: 1.3927294711271923\n"
          ]
        },
        {
          "output_type": "stream",
          "name": "stderr",
          "text": [
            "26it [00:04,  6.23it/s]\n"
          ]
        },
        {
          "output_type": "stream",
          "name": "stdout",
          "text": [
            "now here\n",
            "Epoch 19: Train err: 0.5932926829268292, Train loss: 1.5338036968157842 |Validation err: 0.5187165775401069, Validation loss: 1.3871928254763286\n"
          ]
        },
        {
          "output_type": "stream",
          "name": "stderr",
          "text": [
            "26it [00:04,  6.21it/s]\n"
          ]
        },
        {
          "output_type": "stream",
          "name": "stdout",
          "text": [
            "now here\n",
            "Epoch 20: Train err: 0.5670731707317073, Train loss: 1.4946994483470917 |Validation err: 0.516042780748663, Validation loss: 1.340953807036082\n"
          ]
        },
        {
          "output_type": "stream",
          "name": "stderr",
          "text": [
            "26it [00:04,  6.20it/s]\n"
          ]
        },
        {
          "output_type": "stream",
          "name": "stdout",
          "text": [
            "now here\n",
            "Epoch 21: Train err: 0.5652439024390243, Train loss: 1.4916046857833862 |Validation err: 0.4946524064171123, Validation loss: 1.3384439547856648\n"
          ]
        },
        {
          "output_type": "stream",
          "name": "stderr",
          "text": [
            "26it [00:04,  6.32it/s]\n"
          ]
        },
        {
          "output_type": "stream",
          "name": "stdout",
          "text": [
            "now here\n",
            "Epoch 22: Train err: 0.5347560975609756, Train loss: 1.4572566862289722 |Validation err: 0.5, Validation loss: 1.3605026106039684\n"
          ]
        },
        {
          "output_type": "stream",
          "name": "stderr",
          "text": [
            "26it [00:04,  6.31it/s]\n"
          ]
        },
        {
          "output_type": "stream",
          "name": "stdout",
          "text": [
            "now here\n",
            "Epoch 23: Train err: 0.5329268292682927, Train loss: 1.4398983464791224 |Validation err: 0.5053475935828877, Validation loss: 1.3320841789245605\n"
          ]
        },
        {
          "output_type": "stream",
          "name": "stderr",
          "text": [
            "26it [00:04,  6.25it/s]\n"
          ]
        },
        {
          "output_type": "stream",
          "name": "stdout",
          "text": [
            "now here\n",
            "Epoch 24: Train err: 0.5085365853658537, Train loss: 1.4194044310313005 |Validation err: 0.48128342245989303, Validation loss: 1.3238011002540588\n"
          ]
        },
        {
          "output_type": "stream",
          "name": "stderr",
          "text": [
            "26it [00:04,  6.24it/s]\n"
          ]
        },
        {
          "output_type": "stream",
          "name": "stdout",
          "text": [
            "now here\n",
            "Epoch 25: Train err: 0.5219512195121951, Train loss: 1.4017743399510016 |Validation err: 0.4893048128342246, Validation loss: 1.3173846701780956\n"
          ]
        },
        {
          "output_type": "stream",
          "name": "stderr",
          "text": [
            "26it [00:04,  6.32it/s]\n"
          ]
        },
        {
          "output_type": "stream",
          "name": "stdout",
          "text": [
            "now here\n",
            "Epoch 26: Train err: 0.48902439024390243, Train loss: 1.3742943222706134 |Validation err: 0.5133689839572193, Validation loss: 1.3233456214269002\n"
          ]
        },
        {
          "output_type": "stream",
          "name": "stderr",
          "text": [
            "26it [00:04,  6.31it/s]\n"
          ]
        },
        {
          "output_type": "stream",
          "name": "stdout",
          "text": [
            "now here\n",
            "Epoch 27: Train err: 0.49817073170731707, Train loss: 1.360659998196822 |Validation err: 0.5, Validation loss: 1.3184007704257965\n"
          ]
        },
        {
          "output_type": "stream",
          "name": "stderr",
          "text": [
            "26it [00:04,  6.32it/s]\n"
          ]
        },
        {
          "output_type": "stream",
          "name": "stdout",
          "text": [
            "now here\n",
            "Epoch 28: Train err: 0.4658536585365854, Train loss: 1.3423193440987513 |Validation err: 0.5240641711229946, Validation loss: 1.3061768611272175\n"
          ]
        },
        {
          "output_type": "stream",
          "name": "stderr",
          "text": [
            "26it [00:04,  6.22it/s]\n"
          ]
        },
        {
          "output_type": "stream",
          "name": "stdout",
          "text": [
            "now here\n",
            "Epoch 29: Train err: 0.4719512195121951, Train loss: 1.337845999460954 |Validation err: 0.4893048128342246, Validation loss: 1.3222994804382324\n"
          ]
        },
        {
          "output_type": "stream",
          "name": "stderr",
          "text": [
            "26it [00:04,  6.29it/s]\n"
          ]
        },
        {
          "output_type": "stream",
          "name": "stdout",
          "text": [
            "now here\n",
            "Epoch 30: Train err: 0.45, Train loss: 1.3095120260348687 |Validation err: 0.5080213903743316, Validation loss: 1.3126955231030781\n"
          ]
        },
        {
          "output_type": "stream",
          "name": "stderr",
          "text": [
            "26it [00:04,  6.28it/s]\n"
          ]
        },
        {
          "output_type": "stream",
          "name": "stdout",
          "text": [
            "now here\n",
            "Epoch 31: Train err: 0.4609756097560976, Train loss: 1.299996554851532 |Validation err: 0.5026737967914439, Validation loss: 1.3129566311836243\n"
          ]
        },
        {
          "output_type": "stream",
          "name": "stderr",
          "text": [
            "26it [00:04,  6.23it/s]\n"
          ]
        },
        {
          "output_type": "stream",
          "name": "stdout",
          "text": [
            "now here\n",
            "Epoch 32: Train err: 0.4292682926829268, Train loss: 1.2709777355194092 |Validation err: 0.5026737967914439, Validation loss: 1.310702125231425\n"
          ]
        },
        {
          "output_type": "stream",
          "name": "stderr",
          "text": [
            "26it [00:04,  6.19it/s]\n"
          ]
        },
        {
          "output_type": "stream",
          "name": "stdout",
          "text": [
            "now here\n",
            "Epoch 33: Train err: 0.4323170731707317, Train loss: 1.2624877530794878 |Validation err: 0.4732620320855615, Validation loss: 1.2917151649792988\n"
          ]
        },
        {
          "output_type": "stream",
          "name": "stderr",
          "text": [
            "26it [00:04,  5.92it/s]\n"
          ]
        },
        {
          "output_type": "stream",
          "name": "stdout",
          "text": [
            "now here\n",
            "Epoch 34: Train err: 0.42865853658536585, Train loss: 1.2492649257183075 |Validation err: 0.4732620320855615, Validation loss: 1.3178443014621735\n"
          ]
        },
        {
          "output_type": "stream",
          "name": "stderr",
          "text": [
            "26it [00:04,  6.25it/s]\n"
          ]
        },
        {
          "output_type": "stream",
          "name": "stdout",
          "text": [
            "now here\n",
            "Epoch 35: Train err: 0.42378048780487804, Train loss: 1.2469602204286134 |Validation err: 0.4893048128342246, Validation loss: 1.3151173988978069\n"
          ]
        },
        {
          "output_type": "stream",
          "name": "stderr",
          "text": [
            "26it [00:04,  6.24it/s]\n"
          ]
        },
        {
          "output_type": "stream",
          "name": "stdout",
          "text": [
            "now here\n",
            "Epoch 36: Train err: 0.4030487804878049, Train loss: 1.2246491519304423 |Validation err: 0.516042780748663, Validation loss: 1.347079833348592\n"
          ]
        },
        {
          "output_type": "stream",
          "name": "stderr",
          "text": [
            "26it [00:04,  6.22it/s]\n"
          ]
        },
        {
          "output_type": "stream",
          "name": "stdout",
          "text": [
            "now here\n",
            "Epoch 37: Train err: 0.4170731707317073, Train loss: 1.2016397508291097 |Validation err: 0.48663101604278075, Validation loss: 1.3737052877744038\n"
          ]
        },
        {
          "output_type": "stream",
          "name": "stderr",
          "text": [
            "26it [00:04,  6.09it/s]\n"
          ]
        },
        {
          "output_type": "stream",
          "name": "stdout",
          "text": [
            "now here\n",
            "Epoch 38: Train err: 0.41097560975609754, Train loss: 1.1954121520886054 |Validation err: 0.4946524064171123, Validation loss: 1.3493343194325764\n"
          ]
        },
        {
          "output_type": "stream",
          "name": "stderr",
          "text": [
            "26it [00:04,  6.11it/s]\n"
          ]
        },
        {
          "output_type": "stream",
          "name": "stdout",
          "text": [
            "now here\n",
            "Epoch 39: Train err: 0.4121951219512195, Train loss: 1.1972405727093036 |Validation err: 0.48663101604278075, Validation loss: 1.3597545127073924\n"
          ]
        },
        {
          "output_type": "stream",
          "name": "stderr",
          "text": [
            "26it [00:04,  6.17it/s]\n"
          ]
        },
        {
          "output_type": "stream",
          "name": "stdout",
          "text": [
            "now here\n",
            "Epoch 40: Train err: 0.375609756097561, Train loss: 1.1623416543006897 |Validation err: 0.4893048128342246, Validation loss: 1.3721941312154133\n"
          ]
        },
        {
          "output_type": "stream",
          "name": "stderr",
          "text": [
            "26it [00:04,  6.25it/s]\n"
          ]
        },
        {
          "output_type": "stream",
          "name": "stdout",
          "text": [
            "now here\n",
            "Epoch 41: Train err: 0.3884146341463415, Train loss: 1.1579081920477061 |Validation err: 0.516042780748663, Validation loss: 1.3799989819526672\n"
          ]
        },
        {
          "output_type": "stream",
          "name": "stderr",
          "text": [
            "26it [00:04,  6.19it/s]\n"
          ]
        },
        {
          "output_type": "stream",
          "name": "stdout",
          "text": [
            "now here\n",
            "Epoch 42: Train err: 0.3926829268292683, Train loss: 1.1422055271955638 |Validation err: 0.47058823529411764, Validation loss: 1.4128086864948273\n"
          ]
        },
        {
          "output_type": "stream",
          "name": "stderr",
          "text": [
            "26it [00:04,  6.21it/s]\n"
          ]
        },
        {
          "output_type": "stream",
          "name": "stdout",
          "text": [
            "now here\n",
            "Epoch 43: Train err: 0.375609756097561, Train loss: 1.1167431680055766 |Validation err: 0.4679144385026738, Validation loss: 1.4352498352527618\n"
          ]
        },
        {
          "output_type": "stream",
          "name": "stderr",
          "text": [
            "26it [00:04,  6.18it/s]\n"
          ]
        },
        {
          "output_type": "stream",
          "name": "stdout",
          "text": [
            "now here\n",
            "Epoch 44: Train err: 0.36829268292682926, Train loss: 1.1210193634033203 |Validation err: 0.4946524064171123, Validation loss: 1.425511082013448\n"
          ]
        },
        {
          "output_type": "stream",
          "name": "stderr",
          "text": [
            "26it [00:04,  6.19it/s]\n"
          ]
        },
        {
          "output_type": "stream",
          "name": "stdout",
          "text": [
            "now here\n",
            "Epoch 45: Train err: 0.3701219512195122, Train loss: 1.1161162371818836 |Validation err: 0.4919786096256685, Validation loss: 1.4230792423089345\n"
          ]
        },
        {
          "output_type": "stream",
          "name": "stderr",
          "text": [
            "26it [00:04,  6.23it/s]\n"
          ]
        },
        {
          "output_type": "stream",
          "name": "stdout",
          "text": [
            "now here\n",
            "Epoch 46: Train err: 0.37134146341463414, Train loss: 1.1036783754825592 |Validation err: 0.5080213903743316, Validation loss: 1.5042527119318645\n"
          ]
        },
        {
          "output_type": "stream",
          "name": "stderr",
          "text": [
            "26it [00:04,  6.25it/s]\n"
          ]
        },
        {
          "output_type": "stream",
          "name": "stdout",
          "text": [
            "now here\n",
            "Epoch 47: Train err: 0.3676829268292683, Train loss: 1.0751660191095793 |Validation err: 0.4946524064171123, Validation loss: 1.484774221976598\n"
          ]
        },
        {
          "output_type": "stream",
          "name": "stderr",
          "text": [
            "26it [00:04,  6.29it/s]\n"
          ]
        },
        {
          "output_type": "stream",
          "name": "stdout",
          "text": [
            "now here\n",
            "Epoch 48: Train err: 0.3597560975609756, Train loss: 1.0681920853944926 |Validation err: 0.4919786096256685, Validation loss: 1.512359658877055\n"
          ]
        },
        {
          "output_type": "stream",
          "name": "stderr",
          "text": [
            "26it [00:04,  5.57it/s]\n"
          ]
        },
        {
          "output_type": "stream",
          "name": "stdout",
          "text": [
            "now here\n",
            "Epoch 49: Train err: 0.3524390243902439, Train loss: 1.0578061158840473 |Validation err: 0.48663101604278075, Validation loss: 1.4752875864505768\n"
          ]
        },
        {
          "output_type": "stream",
          "name": "stderr",
          "text": [
            "26it [00:04,  6.28it/s]\n"
          ]
        },
        {
          "output_type": "stream",
          "name": "stdout",
          "text": [
            "now here\n",
            "Epoch 50: Train err: 0.3603658536585366, Train loss: 1.0500924438238144 |Validation err: 0.46524064171123, Validation loss: 1.4452256560325623\n"
          ]
        },
        {
          "output_type": "stream",
          "name": "stderr",
          "text": [
            "26it [00:04,  6.23it/s]\n"
          ]
        },
        {
          "output_type": "stream",
          "name": "stdout",
          "text": [
            "now here\n",
            "Epoch 51: Train err: 0.348780487804878, Train loss: 1.0546363523373237 |Validation err: 0.5026737967914439, Validation loss: 1.486130565404892\n"
          ]
        },
        {
          "output_type": "stream",
          "name": "stderr",
          "text": [
            "26it [00:04,  6.16it/s]\n"
          ]
        },
        {
          "output_type": "stream",
          "name": "stdout",
          "text": [
            "now here\n",
            "Epoch 52: Train err: 0.3548780487804878, Train loss: 1.040101191172233 |Validation err: 0.4839572192513369, Validation loss: 1.5249504745006561\n"
          ]
        },
        {
          "output_type": "stream",
          "name": "stderr",
          "text": [
            "26it [00:04,  6.22it/s]\n"
          ]
        },
        {
          "output_type": "stream",
          "name": "stdout",
          "text": [
            "now here\n",
            "Epoch 53: Train err: 0.3329268292682927, Train loss: 1.0278005439501543 |Validation err: 0.4839572192513369, Validation loss: 1.574609359105428\n"
          ]
        },
        {
          "output_type": "stream",
          "name": "stderr",
          "text": [
            "26it [00:04,  6.21it/s]\n"
          ]
        },
        {
          "output_type": "stream",
          "name": "stdout",
          "text": [
            "now here\n",
            "Epoch 54: Train err: 0.3432926829268293, Train loss: 1.014458561172852 |Validation err: 0.4679144385026738, Validation loss: 1.5110740164915721\n"
          ]
        },
        {
          "output_type": "stream",
          "name": "stderr",
          "text": [
            "26it [00:04,  6.26it/s]\n"
          ]
        },
        {
          "output_type": "stream",
          "name": "stdout",
          "text": [
            "now here\n",
            "Epoch 55: Train err: 0.33170731707317075, Train loss: 0.9978082420734259 |Validation err: 0.48663101604278075, Validation loss: 1.5863759020964305\n"
          ]
        },
        {
          "output_type": "stream",
          "name": "stderr",
          "text": [
            "26it [00:04,  6.24it/s]\n"
          ]
        },
        {
          "output_type": "stream",
          "name": "stdout",
          "text": [
            "now here\n",
            "Epoch 56: Train err: 0.33414634146341465, Train loss: 0.9930020467593119 |Validation err: 0.5213903743315508, Validation loss: 1.6030085285504658\n"
          ]
        },
        {
          "output_type": "stream",
          "name": "stderr",
          "text": [
            "26it [00:04,  6.24it/s]\n"
          ]
        },
        {
          "output_type": "stream",
          "name": "stdout",
          "text": [
            "now here\n",
            "Epoch 57: Train err: 0.33658536585365856, Train loss: 0.9951745707255143 |Validation err: 0.4679144385026738, Validation loss: 1.5833186705907185\n"
          ]
        },
        {
          "output_type": "stream",
          "name": "stderr",
          "text": [
            "26it [00:04,  6.25it/s]\n"
          ]
        },
        {
          "output_type": "stream",
          "name": "stdout",
          "text": [
            "now here\n",
            "Epoch 58: Train err: 0.3225609756097561, Train loss: 0.9597779535330259 |Validation err: 0.46524064171123, Validation loss: 1.6009531021118164\n"
          ]
        },
        {
          "output_type": "stream",
          "name": "stderr",
          "text": [
            "26it [00:04,  6.28it/s]\n"
          ]
        },
        {
          "output_type": "stream",
          "name": "stdout",
          "text": [
            "now here\n",
            "Epoch 59: Train err: 0.31890243902439025, Train loss: 0.9568103551864624 |Validation err: 0.4786096256684492, Validation loss: 1.6229693094889324\n"
          ]
        },
        {
          "output_type": "stream",
          "name": "stderr",
          "text": [
            "26it [00:04,  6.31it/s]\n"
          ]
        },
        {
          "output_type": "stream",
          "name": "stdout",
          "text": [
            "now here\n",
            "Epoch 60: Train err: 0.30365853658536585, Train loss: 0.9383776566156974 |Validation err: 0.4919786096256685, Validation loss: 1.6391124228636424\n",
            "Finished Training\n",
            "Total time elapsed: 301.49 seconds\n"
          ]
        },
        {
          "output_type": "display_data",
          "data": {
            "text/plain": [
              "<Figure size 432x288 with 1 Axes>"
            ],
            "image/png": "[encoded data removed]"
          },
          "metadata": {
            "needs_background": "light"
          }
        },
        {
          "output_type": "display_data",
          "data": {
            "text/plain": [
              "<Figure size 432x288 with 1 Axes>"
            ],
            "image/png": "[encoded data removed]"
          },
          "metadata": {
            "needs_background": "light"
          }
        }
      ]
    },
    {
      "cell_type": "code",
      "source": [
        "cnn_Hand_Gesture = CNN_Hand_Gesture(drop_rate=0.5)\n",
        "cnn_Hand_Gesture = cnn_Hand_Gesture.to(\"cuda\")\n",
        "train_net(cnn_Hand_Gesture,batch_size=64, learning_rate=0.001,num_epochs = 40)\n",
        "model_path = get_model_name(\"CNN_Hand_Gesture\", batch_size=64, learning_rate=0.001, num_epochs=39)\n",
        "plot_training_curve(model_path)"
      ],
      "metadata": {
        "colab": {
          "base_uri": "https://localhost:8080/",
          "height": 1000
        },
        "id": "TtYAags2stsm",
        "outputId": "46698751-7b0d-43a6-c722-40b3650bdad4"
      },
      "execution_count": null,
      "outputs": [
        {
          "output_type": "stream",
          "name": "stderr",
          "text": [
            "26it [00:04,  5.72it/s]\n"
          ]
        },
        {
          "output_type": "stream",
          "name": "stdout",
          "text": [
            "now here\n",
            "Epoch 1: Train err: 0.848170731707317, Train loss: 7.64864807174756 |Validation err: 0.8636363636363636, Validation loss: 20.09527386724949\n"
          ]
        },
        {
          "output_type": "stream",
          "name": "stderr",
          "text": [
            "26it [00:04,  6.19it/s]\n"
          ]
        },
        {
          "output_type": "stream",
          "name": "stdout",
          "text": [
            "now here\n",
            "Epoch 2: Train err: 0.9091463414634147, Train loss: 15.471458279169523 |Validation err: 0.9037433155080213, Validation loss: 16.893566370010376\n"
          ]
        },
        {
          "output_type": "stream",
          "name": "stderr",
          "text": [
            "26it [00:04,  5.62it/s]\n"
          ]
        },
        {
          "output_type": "stream",
          "name": "stdout",
          "text": [
            "now here\n",
            "Epoch 3: Train err: 0.8170731707317073, Train loss: 14.759639020149525 |Validation err: 0.8877005347593583, Validation loss: 38.01349067687988\n"
          ]
        },
        {
          "output_type": "stream",
          "name": "stderr",
          "text": [
            "26it [00:04,  5.70it/s]\n"
          ]
        },
        {
          "output_type": "stream",
          "name": "stdout",
          "text": [
            "now here\n",
            "Epoch 4: Train err: 0.8371951219512195, Train loss: 19.481405838750877 |Validation err: 0.8903743315508021, Validation loss: 64.29151439666748\n"
          ]
        },
        {
          "output_type": "stream",
          "name": "stderr",
          "text": [
            "26it [00:04,  6.19it/s]\n"
          ]
        },
        {
          "output_type": "stream",
          "name": "stdout",
          "text": [
            "now here\n",
            "Epoch 5: Train err: 0.9524390243902439, Train loss: 26.387361178031334 |Validation err: 0.8235294117647058, Validation loss: 39.44377589225769\n"
          ]
        },
        {
          "output_type": "stream",
          "name": "stderr",
          "text": [
            "26it [00:04,  6.22it/s]\n"
          ]
        },
        {
          "output_type": "stream",
          "name": "stdout",
          "text": [
            "now here\n",
            "Epoch 6: Train err: 0.9585365853658536, Train loss: 27.428836785829983 |Validation err: 0.7727272727272727, Validation loss: 15.042722821235657\n"
          ]
        },
        {
          "output_type": "stream",
          "name": "stderr",
          "text": [
            "26it [00:04,  6.15it/s]\n"
          ]
        },
        {
          "output_type": "stream",
          "name": "stdout",
          "text": [
            "now here\n",
            "Epoch 7: Train err: 0.875609756097561, Train loss: 14.78086349597344 |Validation err: 0.7647058823529411, Validation loss: 4.297308484713237\n"
          ]
        },
        {
          "output_type": "stream",
          "name": "stderr",
          "text": [
            "26it [00:04,  6.20it/s]\n"
          ]
        },
        {
          "output_type": "stream",
          "name": "stdout",
          "text": [
            "now here\n",
            "Epoch 8: Train err: 0.8786585365853659, Train loss: 4.883021528904255 |Validation err: 0.6711229946524064, Validation loss: 2.8829410870869956\n"
          ]
        },
        {
          "output_type": "stream",
          "name": "stderr",
          "text": [
            "26it [00:04,  6.25it/s]\n"
          ]
        },
        {
          "output_type": "stream",
          "name": "stdout",
          "text": [
            "now here\n",
            "Epoch 9: Train err: 0.8280487804878048, Train loss: 3.267454440777118 |Validation err: 0.6577540106951871, Validation loss: 2.5157146652539573\n"
          ]
        },
        {
          "output_type": "stream",
          "name": "stderr",
          "text": [
            "26it [00:04,  6.27it/s]\n"
          ]
        },
        {
          "output_type": "stream",
          "name": "stdout",
          "text": [
            "now here\n",
            "Epoch 10: Train err: 0.6865853658536586, Train loss: 2.2647501734586863 |Validation err: 0.6122994652406417, Validation loss: 2.4836400747299194\n"
          ]
        },
        {
          "output_type": "stream",
          "name": "stderr",
          "text": [
            "26it [00:04,  6.22it/s]\n"
          ]
        },
        {
          "output_type": "stream",
          "name": "stdout",
          "text": [
            "now here\n",
            "Epoch 11: Train err: 0.6567073170731708, Train loss: 2.051514373375819 |Validation err: 0.5775401069518716, Validation loss: 2.3260645667711892\n"
          ]
        },
        {
          "output_type": "stream",
          "name": "stderr",
          "text": [
            "26it [00:04,  6.27it/s]\n"
          ]
        },
        {
          "output_type": "stream",
          "name": "stdout",
          "text": [
            "now here\n",
            "Epoch 12: Train err: 0.6042682926829268, Train loss: 1.8098711004624 |Validation err: 0.5882352941176471, Validation loss: 2.2549100319544473\n"
          ]
        },
        {
          "output_type": "stream",
          "name": "stderr",
          "text": [
            "26it [00:04,  5.81it/s]\n"
          ]
        },
        {
          "output_type": "stream",
          "name": "stdout",
          "text": [
            "now here\n",
            "Epoch 13: Train err: 0.5951219512195122, Train loss: 1.8630168758905852 |Validation err: 0.5855614973262032, Validation loss: 2.2058708469072976\n"
          ]
        },
        {
          "output_type": "stream",
          "name": "stderr",
          "text": [
            "26it [00:04,  6.29it/s]\n"
          ]
        },
        {
          "output_type": "stream",
          "name": "stdout",
          "text": [
            "now here\n",
            "Epoch 14: Train err: 0.5701219512195121, Train loss: 1.725483802648691 |Validation err: 0.5935828877005348, Validation loss: 2.3326785564422607\n"
          ]
        },
        {
          "output_type": "stream",
          "name": "stderr",
          "text": [
            "26it [00:04,  6.26it/s]\n"
          ]
        },
        {
          "output_type": "stream",
          "name": "stdout",
          "text": [
            "now here\n",
            "Epoch 15: Train err: 0.5359756097560976, Train loss: 1.6830925872692695 |Validation err: 0.5828877005347594, Validation loss: 2.134103020032247\n"
          ]
        },
        {
          "output_type": "stream",
          "name": "stderr",
          "text": [
            "26it [00:04,  6.28it/s]\n"
          ]
        },
        {
          "output_type": "stream",
          "name": "stdout",
          "text": [
            "now here\n",
            "Epoch 16: Train err: 0.5353658536585366, Train loss: 1.6836343591029828 |Validation err: 0.5481283422459893, Validation loss: 1.9898526668548584\n"
          ]
        },
        {
          "output_type": "stream",
          "name": "stderr",
          "text": [
            "26it [00:04,  6.17it/s]\n"
          ]
        },
        {
          "output_type": "stream",
          "name": "stdout",
          "text": [
            "now here\n",
            "Epoch 17: Train err: 0.5195121951219512, Train loss: 1.6431793364194722 |Validation err: 0.5802139037433155, Validation loss: 2.2150829235712686\n"
          ]
        },
        {
          "output_type": "stream",
          "name": "stderr",
          "text": [
            "26it [00:04,  6.20it/s]\n"
          ]
        },
        {
          "output_type": "stream",
          "name": "stdout",
          "text": [
            "now here\n",
            "Epoch 18: Train err: 0.5176829268292683, Train loss: 1.5804022183785071 |Validation err: 0.5614973262032086, Validation loss: 2.0616739988327026\n"
          ]
        },
        {
          "output_type": "stream",
          "name": "stderr",
          "text": [
            "26it [00:05,  5.04it/s]\n"
          ]
        },
        {
          "output_type": "stream",
          "name": "stdout",
          "text": [
            "now here\n",
            "Epoch 19: Train err: 0.48597560975609755, Train loss: 1.4886331260204315 |Validation err: 0.5668449197860963, Validation loss: 2.1915758649508157\n"
          ]
        },
        {
          "output_type": "stream",
          "name": "stderr",
          "text": [
            "26it [00:04,  6.26it/s]\n"
          ]
        },
        {
          "output_type": "stream",
          "name": "stdout",
          "text": [
            "now here\n",
            "Epoch 20: Train err: 0.4853658536585366, Train loss: 1.5805134085508494 |Validation err: 0.5454545454545454, Validation loss: 2.231575151284536\n"
          ]
        },
        {
          "output_type": "stream",
          "name": "stderr",
          "text": [
            "26it [00:04,  6.28it/s]\n"
          ]
        },
        {
          "output_type": "stream",
          "name": "stdout",
          "text": [
            "now here\n",
            "Epoch 21: Train err: 0.4695121951219512, Train loss: 1.4699990153312683 |Validation err: 0.5588235294117647, Validation loss: 2.3834158182144165\n"
          ]
        },
        {
          "output_type": "stream",
          "name": "stderr",
          "text": [
            "26it [00:04,  6.25it/s]\n"
          ]
        },
        {
          "output_type": "stream",
          "name": "stdout",
          "text": [
            "now here\n",
            "Epoch 22: Train err: 0.46219512195121953, Train loss: 1.4612224858540754 |Validation err: 0.5641711229946524, Validation loss: 2.5658650199572244\n"
          ]
        },
        {
          "output_type": "stream",
          "name": "stderr",
          "text": [
            "26it [00:04,  5.54it/s]\n"
          ]
        },
        {
          "output_type": "stream",
          "name": "stdout",
          "text": [
            "now here\n",
            "Epoch 23: Train err: 0.45121951219512196, Train loss: 1.4641855083979094 |Validation err: 0.5561497326203209, Validation loss: 2.624431769053141\n"
          ]
        },
        {
          "output_type": "stream",
          "name": "stderr",
          "text": [
            "26it [00:04,  6.21it/s]\n"
          ]
        },
        {
          "output_type": "stream",
          "name": "stdout",
          "text": [
            "now here\n",
            "Epoch 24: Train err: 0.44390243902439025, Train loss: 1.4047550879991972 |Validation err: 0.5427807486631016, Validation loss: 2.38147509098053\n"
          ]
        },
        {
          "output_type": "stream",
          "name": "stderr",
          "text": [
            "26it [00:04,  6.25it/s]\n"
          ]
        },
        {
          "output_type": "stream",
          "name": "stdout",
          "text": [
            "now here\n",
            "Epoch 25: Train err: 0.4603658536585366, Train loss: 1.404229815189655 |Validation err: 0.5668449197860963, Validation loss: 2.502257446448008\n"
          ]
        },
        {
          "output_type": "stream",
          "name": "stderr",
          "text": [
            "26it [00:04,  6.31it/s]\n"
          ]
        },
        {
          "output_type": "stream",
          "name": "stdout",
          "text": [
            "now here\n",
            "Epoch 26: Train err: 0.4420731707317073, Train loss: 1.3874177726415486 |Validation err: 0.56951871657754, Validation loss: 2.3961540261904397\n"
          ]
        },
        {
          "output_type": "stream",
          "name": "stderr",
          "text": [
            "26it [00:04,  6.26it/s]\n"
          ]
        },
        {
          "output_type": "stream",
          "name": "stdout",
          "text": [
            "now here\n",
            "Epoch 27: Train err: 0.4347560975609756, Train loss: 1.4249455940264921 |Validation err: 0.5588235294117647, Validation loss: 2.2592431704203286\n"
          ]
        },
        {
          "output_type": "stream",
          "name": "stderr",
          "text": [
            "26it [00:04,  6.22it/s]\n"
          ]
        },
        {
          "output_type": "stream",
          "name": "stdout",
          "text": [
            "now here\n",
            "Epoch 28: Train err: 0.42073170731707316, Train loss: 1.291377182190235 |Validation err: 0.5347593582887701, Validation loss: 2.3750957449277244\n"
          ]
        },
        {
          "output_type": "stream",
          "name": "stderr",
          "text": [
            "26it [00:04,  6.23it/s]\n"
          ]
        },
        {
          "output_type": "stream",
          "name": "stdout",
          "text": [
            "now here\n",
            "Epoch 29: Train err: 0.43109756097560975, Train loss: 1.322067923270739 |Validation err: 0.5454545454545454, Validation loss: 2.4179835120836892\n"
          ]
        },
        {
          "output_type": "stream",
          "name": "stderr",
          "text": [
            "26it [00:04,  6.21it/s]\n"
          ]
        },
        {
          "output_type": "stream",
          "name": "stdout",
          "text": [
            "now here\n",
            "Epoch 30: Train err: 0.4140243902439024, Train loss: 1.2885039792611048 |Validation err: 0.5401069518716578, Validation loss: 2.964448114236196\n"
          ]
        },
        {
          "output_type": "stream",
          "name": "stderr",
          "text": [
            "26it [00:04,  6.27it/s]\n"
          ]
        },
        {
          "output_type": "stream",
          "name": "stdout",
          "text": [
            "now here\n",
            "Epoch 31: Train err: 0.41036585365853656, Train loss: 1.3378652127889485 |Validation err: 0.5561497326203209, Validation loss: 2.758241673310598\n"
          ]
        },
        {
          "output_type": "stream",
          "name": "stderr",
          "text": [
            "26it [00:04,  6.25it/s]\n"
          ]
        },
        {
          "output_type": "stream",
          "name": "stdout",
          "text": [
            "now here\n",
            "Epoch 32: Train err: 0.38658536585365855, Train loss: 1.2129434645175934 |Validation err: 0.5748663101604278, Validation loss: 2.829574783643087\n"
          ]
        },
        {
          "output_type": "stream",
          "name": "stderr",
          "text": [
            "26it [00:04,  6.20it/s]\n"
          ]
        },
        {
          "output_type": "stream",
          "name": "stdout",
          "text": [
            "now here\n",
            "Epoch 33: Train err: 0.3951219512195122, Train loss: 1.2014381541655614 |Validation err: 0.5561497326203209, Validation loss: 2.7990813652674356\n"
          ]
        },
        {
          "output_type": "stream",
          "name": "stderr",
          "text": [
            "26it [00:04,  6.17it/s]\n"
          ]
        },
        {
          "output_type": "stream",
          "name": "stdout",
          "text": [
            "now here\n",
            "Epoch 34: Train err: 0.3896341463414634, Train loss: 1.2297683289417853 |Validation err: 0.5401069518716578, Validation loss: 3.098758021990458\n"
          ]
        },
        {
          "output_type": "stream",
          "name": "stderr",
          "text": [
            "26it [00:04,  6.22it/s]\n"
          ]
        },
        {
          "output_type": "stream",
          "name": "stdout",
          "text": [
            "now here\n",
            "Epoch 35: Train err: 0.39390243902439026, Train loss: 1.2267129467083857 |Validation err: 0.516042780748663, Validation loss: 2.7588228583335876\n"
          ]
        },
        {
          "output_type": "stream",
          "name": "stderr",
          "text": [
            "26it [00:04,  6.30it/s]\n"
          ]
        },
        {
          "output_type": "stream",
          "name": "stdout",
          "text": [
            "now here\n",
            "Epoch 36: Train err: 0.40853658536585363, Train loss: 1.2416977274876375 |Validation err: 0.5508021390374331, Validation loss: 3.290033241113027\n"
          ]
        },
        {
          "output_type": "stream",
          "name": "stderr",
          "text": [
            "26it [00:04,  6.28it/s]\n"
          ]
        },
        {
          "output_type": "stream",
          "name": "stdout",
          "text": [
            "now here\n",
            "Epoch 37: Train err: 0.3780487804878049, Train loss: 1.160901807821714 |Validation err: 0.48663101604278075, Validation loss: 2.631530116001765\n"
          ]
        },
        {
          "output_type": "stream",
          "name": "stderr",
          "text": [
            "26it [00:04,  6.24it/s]\n"
          ]
        },
        {
          "output_type": "stream",
          "name": "stdout",
          "text": [
            "now here\n",
            "Epoch 38: Train err: 0.3780487804878049, Train loss: 1.1383947707139528 |Validation err: 0.553475935828877, Validation loss: 2.8371898333231607\n"
          ]
        },
        {
          "output_type": "stream",
          "name": "stderr",
          "text": [
            "26it [00:04,  6.31it/s]\n"
          ]
        },
        {
          "output_type": "stream",
          "name": "stdout",
          "text": [
            "now here\n",
            "Epoch 39: Train err: 0.38353658536585367, Train loss: 1.1714539906153312 |Validation err: 0.553475935828877, Validation loss: 2.763712763786316\n"
          ]
        },
        {
          "output_type": "stream",
          "name": "stderr",
          "text": [
            "26it [00:04,  6.20it/s]\n"
          ]
        },
        {
          "output_type": "stream",
          "name": "stdout",
          "text": [
            "now here\n",
            "Epoch 40: Train err: 0.3695121951219512, Train loss: 1.1329892782064586 |Validation err: 0.5374331550802139, Validation loss: 2.881727377573649\n",
            "Finished Training\n",
            "Total time elapsed: 203.08 seconds\n"
          ]
        },
        {
          "output_type": "display_data",
          "data": {
            "text/plain": [
              "<Figure size 432x288 with 1 Axes>"
            ],
            "image/png": "[encoded data removed]"
          },
          "metadata": {
            "needs_background": "light"
          }
        },
        {
          "output_type": "display_data",
          "data": {
            "text/plain": [
              "<Figure size 432x288 with 1 Axes>"
            ],
            "image/png": "[encoded data removed]"
          },
          "metadata": {
            "needs_background": "light"
          }
        }
      ]
    },
    {
      "cell_type": "code",
      "source": [
        "cnn_Hand_Gesture = CNN_Hand_Gesture(drop_rate=0.1)\n",
        "cnn_Hand_Gesture = cnn_Hand_Gesture.to(\"cuda\")\n",
        "train_net(cnn_Hand_Gesture,batch_size=64, learning_rate=0.01,num_epochs = 40)\n",
        "model_path = get_model_name(\"CNN_Hand_Gesture\", batch_size=64, learning_rate=0.01, num_epochs=39)\n",
        "plot_training_curve(model_path)"
      ],
      "metadata": {
        "colab": {
          "base_uri": "https://localhost:8080/",
          "height": 1000
        },
        "id": "_mK0qhOQxeQA",
        "outputId": "98c5e319-b008-47ed-bf9d-4ab2077f18c0"
      },
      "execution_count": null,
      "outputs": [
        {
          "output_type": "stream",
          "name": "stderr",
          "text": [
            "26it [00:04,  5.55it/s]\n"
          ]
        },
        {
          "output_type": "stream",
          "name": "stdout",
          "text": [
            "now here\n",
            "Epoch 1: Train err: 0.6884146341463414, Train loss: 87.32673797491967 |Validation err: 0.8689839572192514, Validation loss: 87.05386225382487\n"
          ]
        },
        {
          "output_type": "stream",
          "name": "stderr",
          "text": [
            "26it [00:04,  6.20it/s]\n"
          ]
        },
        {
          "output_type": "stream",
          "name": "stdout",
          "text": [
            "now here\n",
            "Epoch 2: Train err: 0.49634146341463414, Train loss: 21097857397999.05 |Validation err: 0.8957219251336899, Validation loss: 8.882891565560017e+25\n"
          ]
        },
        {
          "output_type": "stream",
          "name": "stderr",
          "text": [
            "26it [00:04,  6.25it/s]\n"
          ]
        },
        {
          "output_type": "stream",
          "name": "stdout",
          "text": [
            "now here\n",
            "Epoch 3: Train err: 0.927439024390244, Train loss: nan |Validation err: 0.8903743315508021, Validation loss: nan\n"
          ]
        },
        {
          "output_type": "stream",
          "name": "stderr",
          "text": [
            "26it [00:04,  6.18it/s]\n"
          ]
        },
        {
          "output_type": "stream",
          "name": "stdout",
          "text": [
            "now here\n",
            "Epoch 4: Train err: 0.8884146341463415, Train loss: nan |Validation err: 0.8903743315508021, Validation loss: nan\n"
          ]
        },
        {
          "output_type": "stream",
          "name": "stderr",
          "text": [
            "26it [00:04,  6.27it/s]\n"
          ]
        },
        {
          "output_type": "stream",
          "name": "stdout",
          "text": [
            "now here\n",
            "Epoch 5: Train err: 0.8884146341463415, Train loss: nan |Validation err: 0.8903743315508021, Validation loss: nan\n"
          ]
        },
        {
          "output_type": "stream",
          "name": "stderr",
          "text": [
            "26it [00:04,  6.18it/s]\n"
          ]
        },
        {
          "output_type": "stream",
          "name": "stdout",
          "text": [
            "now here\n",
            "Epoch 6: Train err: 0.8884146341463415, Train loss: nan |Validation err: 0.8903743315508021, Validation loss: nan\n"
          ]
        },
        {
          "output_type": "stream",
          "name": "stderr",
          "text": [
            "26it [00:04,  6.22it/s]\n"
          ]
        },
        {
          "output_type": "stream",
          "name": "stdout",
          "text": [
            "now here\n",
            "Epoch 7: Train err: 0.8884146341463415, Train loss: nan |Validation err: 0.8903743315508021, Validation loss: nan\n"
          ]
        },
        {
          "output_type": "stream",
          "name": "stderr",
          "text": [
            "26it [00:04,  6.20it/s]\n"
          ]
        },
        {
          "output_type": "stream",
          "name": "stdout",
          "text": [
            "now here\n",
            "Epoch 8: Train err: 0.8884146341463415, Train loss: nan |Validation err: 0.8903743315508021, Validation loss: nan\n"
          ]
        },
        {
          "output_type": "stream",
          "name": "stderr",
          "text": [
            "26it [00:04,  6.27it/s]\n"
          ]
        },
        {
          "output_type": "stream",
          "name": "stdout",
          "text": [
            "now here\n",
            "Epoch 9: Train err: 0.8884146341463415, Train loss: nan |Validation err: 0.8903743315508021, Validation loss: nan\n"
          ]
        },
        {
          "output_type": "stream",
          "name": "stderr",
          "text": [
            "26it [00:04,  6.27it/s]\n"
          ]
        },
        {
          "output_type": "stream",
          "name": "stdout",
          "text": [
            "now here\n",
            "Epoch 10: Train err: 0.8884146341463415, Train loss: nan |Validation err: 0.8903743315508021, Validation loss: nan\n"
          ]
        },
        {
          "output_type": "stream",
          "name": "stderr",
          "text": [
            "26it [00:04,  6.24it/s]\n"
          ]
        },
        {
          "output_type": "stream",
          "name": "stdout",
          "text": [
            "now here\n",
            "Epoch 11: Train err: 0.8884146341463415, Train loss: nan |Validation err: 0.8903743315508021, Validation loss: nan\n"
          ]
        },
        {
          "output_type": "stream",
          "name": "stderr",
          "text": [
            "26it [00:04,  6.26it/s]\n"
          ]
        },
        {
          "output_type": "stream",
          "name": "stdout",
          "text": [
            "now here\n",
            "Epoch 12: Train err: 0.8884146341463415, Train loss: nan |Validation err: 0.8903743315508021, Validation loss: nan\n"
          ]
        },
        {
          "output_type": "stream",
          "name": "stderr",
          "text": [
            "26it [00:04,  5.54it/s]\n"
          ]
        },
        {
          "output_type": "stream",
          "name": "stdout",
          "text": [
            "now here\n",
            "Epoch 13: Train err: 0.8884146341463415, Train loss: nan |Validation err: 0.8903743315508021, Validation loss: nan\n"
          ]
        },
        {
          "output_type": "stream",
          "name": "stderr",
          "text": [
            "26it [00:04,  6.26it/s]\n"
          ]
        },
        {
          "output_type": "stream",
          "name": "stdout",
          "text": [
            "now here\n",
            "Epoch 14: Train err: 0.8884146341463415, Train loss: nan |Validation err: 0.8903743315508021, Validation loss: nan\n"
          ]
        },
        {
          "output_type": "stream",
          "name": "stderr",
          "text": [
            "26it [00:04,  6.28it/s]\n"
          ]
        },
        {
          "output_type": "stream",
          "name": "stdout",
          "text": [
            "now here\n",
            "Epoch 15: Train err: 0.8884146341463415, Train loss: nan |Validation err: 0.8903743315508021, Validation loss: nan\n"
          ]
        },
        {
          "output_type": "stream",
          "name": "stderr",
          "text": [
            "26it [00:04,  6.24it/s]\n"
          ]
        },
        {
          "output_type": "stream",
          "name": "stdout",
          "text": [
            "now here\n",
            "Epoch 16: Train err: 0.8884146341463415, Train loss: nan |Validation err: 0.8903743315508021, Validation loss: nan\n"
          ]
        },
        {
          "output_type": "stream",
          "name": "stderr",
          "text": [
            "26it [00:04,  6.26it/s]\n"
          ]
        },
        {
          "output_type": "stream",
          "name": "stdout",
          "text": [
            "now here\n",
            "Epoch 17: Train err: 0.8884146341463415, Train loss: nan |Validation err: 0.8903743315508021, Validation loss: nan\n"
          ]
        },
        {
          "output_type": "stream",
          "name": "stderr",
          "text": [
            "26it [00:04,  6.23it/s]\n"
          ]
        },
        {
          "output_type": "stream",
          "name": "stdout",
          "text": [
            "now here\n",
            "Epoch 18: Train err: 0.8884146341463415, Train loss: nan |Validation err: 0.8903743315508021, Validation loss: nan\n"
          ]
        },
        {
          "output_type": "stream",
          "name": "stderr",
          "text": [
            "26it [00:04,  6.22it/s]\n"
          ]
        },
        {
          "output_type": "stream",
          "name": "stdout",
          "text": [
            "now here\n",
            "Epoch 19: Train err: 0.8884146341463415, Train loss: nan |Validation err: 0.8903743315508021, Validation loss: nan\n"
          ]
        },
        {
          "output_type": "stream",
          "name": "stderr",
          "text": [
            "26it [00:04,  6.18it/s]\n"
          ]
        },
        {
          "output_type": "stream",
          "name": "stdout",
          "text": [
            "now here\n",
            "Epoch 20: Train err: 0.8884146341463415, Train loss: nan |Validation err: 0.8903743315508021, Validation loss: nan\n"
          ]
        },
        {
          "output_type": "stream",
          "name": "stderr",
          "text": [
            "26it [00:04,  6.26it/s]\n"
          ]
        },
        {
          "output_type": "stream",
          "name": "stdout",
          "text": [
            "now here\n",
            "Epoch 21: Train err: 0.8884146341463415, Train loss: nan |Validation err: 0.8903743315508021, Validation loss: nan\n"
          ]
        },
        {
          "output_type": "stream",
          "name": "stderr",
          "text": [
            "26it [00:04,  6.17it/s]\n"
          ]
        },
        {
          "output_type": "stream",
          "name": "stdout",
          "text": [
            "now here\n",
            "Epoch 22: Train err: 0.8884146341463415, Train loss: nan |Validation err: 0.8903743315508021, Validation loss: nan\n"
          ]
        },
        {
          "output_type": "stream",
          "name": "stderr",
          "text": [
            "26it [00:04,  6.25it/s]\n"
          ]
        },
        {
          "output_type": "stream",
          "name": "stdout",
          "text": [
            "now here\n",
            "Epoch 23: Train err: 0.8884146341463415, Train loss: nan |Validation err: 0.8903743315508021, Validation loss: nan\n"
          ]
        },
        {
          "output_type": "stream",
          "name": "stderr",
          "text": [
            "26it [00:04,  6.25it/s]\n"
          ]
        },
        {
          "output_type": "stream",
          "name": "stdout",
          "text": [
            "now here\n",
            "Epoch 24: Train err: 0.8884146341463415, Train loss: nan |Validation err: 0.8903743315508021, Validation loss: nan\n"
          ]
        },
        {
          "output_type": "stream",
          "name": "stderr",
          "text": [
            "26it [00:04,  6.20it/s]\n"
          ]
        },
        {
          "output_type": "stream",
          "name": "stdout",
          "text": [
            "now here\n",
            "Epoch 25: Train err: 0.8884146341463415, Train loss: nan |Validation err: 0.8903743315508021, Validation loss: nan\n"
          ]
        },
        {
          "output_type": "stream",
          "name": "stderr",
          "text": [
            "26it [00:04,  6.18it/s]\n"
          ]
        },
        {
          "output_type": "stream",
          "name": "stdout",
          "text": [
            "now here\n",
            "Epoch 26: Train err: 0.8884146341463415, Train loss: nan |Validation err: 0.8903743315508021, Validation loss: nan\n"
          ]
        },
        {
          "output_type": "stream",
          "name": "stderr",
          "text": [
            "26it [00:04,  6.32it/s]\n"
          ]
        },
        {
          "output_type": "stream",
          "name": "stdout",
          "text": [
            "now here\n",
            "Epoch 27: Train err: 0.8884146341463415, Train loss: nan |Validation err: 0.8903743315508021, Validation loss: nan\n"
          ]
        },
        {
          "output_type": "stream",
          "name": "stderr",
          "text": [
            "26it [00:04,  6.22it/s]\n"
          ]
        },
        {
          "output_type": "stream",
          "name": "stdout",
          "text": [
            "now here\n",
            "Epoch 28: Train err: 0.8884146341463415, Train loss: nan |Validation err: 0.8903743315508021, Validation loss: nan\n"
          ]
        },
        {
          "output_type": "stream",
          "name": "stderr",
          "text": [
            "26it [00:04,  6.29it/s]\n"
          ]
        },
        {
          "output_type": "stream",
          "name": "stdout",
          "text": [
            "now here\n",
            "Epoch 29: Train err: 0.8884146341463415, Train loss: nan |Validation err: 0.8903743315508021, Validation loss: nan\n"
          ]
        },
        {
          "output_type": "stream",
          "name": "stderr",
          "text": [
            "26it [00:04,  6.29it/s]\n"
          ]
        },
        {
          "output_type": "stream",
          "name": "stdout",
          "text": [
            "now here\n",
            "Epoch 30: Train err: 0.8884146341463415, Train loss: nan |Validation err: 0.8903743315508021, Validation loss: nan\n"
          ]
        },
        {
          "output_type": "stream",
          "name": "stderr",
          "text": [
            "26it [00:04,  6.26it/s]\n"
          ]
        },
        {
          "output_type": "stream",
          "name": "stdout",
          "text": [
            "now here\n",
            "Epoch 31: Train err: 0.8884146341463415, Train loss: nan |Validation err: 0.8903743315508021, Validation loss: nan\n"
          ]
        },
        {
          "output_type": "stream",
          "name": "stderr",
          "text": [
            "26it [00:04,  6.15it/s]\n"
          ]
        },
        {
          "output_type": "stream",
          "name": "stdout",
          "text": [
            "now here\n",
            "Epoch 32: Train err: 0.8884146341463415, Train loss: nan |Validation err: 0.8903743315508021, Validation loss: nan\n"
          ]
        },
        {
          "output_type": "stream",
          "name": "stderr",
          "text": [
            "26it [00:04,  6.25it/s]\n"
          ]
        },
        {
          "output_type": "stream",
          "name": "stdout",
          "text": [
            "now here\n",
            "Epoch 33: Train err: 0.8884146341463415, Train loss: nan |Validation err: 0.8903743315508021, Validation loss: nan\n"
          ]
        },
        {
          "output_type": "stream",
          "name": "stderr",
          "text": [
            "26it [00:04,  6.28it/s]\n"
          ]
        },
        {
          "output_type": "stream",
          "name": "stdout",
          "text": [
            "now here\n",
            "Epoch 34: Train err: 0.8884146341463415, Train loss: nan |Validation err: 0.8903743315508021, Validation loss: nan\n"
          ]
        },
        {
          "output_type": "stream",
          "name": "stderr",
          "text": [
            "26it [00:04,  6.19it/s]\n"
          ]
        },
        {
          "output_type": "stream",
          "name": "stdout",
          "text": [
            "now here\n",
            "Epoch 35: Train err: 0.8884146341463415, Train loss: nan |Validation err: 0.8903743315508021, Validation loss: nan\n"
          ]
        },
        {
          "output_type": "stream",
          "name": "stderr",
          "text": [
            "26it [00:04,  5.87it/s]\n"
          ]
        },
        {
          "output_type": "stream",
          "name": "stdout",
          "text": [
            "now here\n",
            "Epoch 36: Train err: 0.8884146341463415, Train loss: nan |Validation err: 0.8903743315508021, Validation loss: nan\n"
          ]
        },
        {
          "output_type": "stream",
          "name": "stderr",
          "text": [
            "26it [00:04,  6.24it/s]\n"
          ]
        },
        {
          "output_type": "stream",
          "name": "stdout",
          "text": [
            "now here\n",
            "Epoch 37: Train err: 0.8884146341463415, Train loss: nan |Validation err: 0.8903743315508021, Validation loss: nan\n"
          ]
        },
        {
          "output_type": "stream",
          "name": "stderr",
          "text": [
            "26it [00:04,  6.16it/s]\n"
          ]
        },
        {
          "output_type": "stream",
          "name": "stdout",
          "text": [
            "now here\n",
            "Epoch 38: Train err: 0.8884146341463415, Train loss: nan |Validation err: 0.8903743315508021, Validation loss: nan\n"
          ]
        },
        {
          "output_type": "stream",
          "name": "stderr",
          "text": [
            "26it [00:04,  6.19it/s]\n"
          ]
        },
        {
          "output_type": "stream",
          "name": "stdout",
          "text": [
            "now here\n",
            "Epoch 39: Train err: 0.8884146341463415, Train loss: nan |Validation err: 0.8903743315508021, Validation loss: nan\n"
          ]
        },
        {
          "output_type": "stream",
          "name": "stderr",
          "text": [
            "26it [00:04,  6.28it/s]\n"
          ]
        },
        {
          "output_type": "stream",
          "name": "stdout",
          "text": [
            "now here\n",
            "Epoch 40: Train err: 0.8884146341463415, Train loss: nan |Validation err: 0.8903743315508021, Validation loss: nan\n",
            "Finished Training\n",
            "Total time elapsed: 200.67 seconds\n"
          ]
        },
        {
          "output_type": "display_data",
          "data": {
            "text/plain": [
              "<Figure size 432x288 with 1 Axes>"
            ],
            "image/png": "[encoded data removed]"
          },
          "metadata": {
            "needs_background": "light"
          }
        },
        {
          "output_type": "display_data",
          "data": {
            "text/plain": [
              "<Figure size 432x288 with 1 Axes>"
            ],
            "image/png": "[encoded data removed]"
          },
          "metadata": {
            "needs_background": "light"
          }
        }
      ]
    },
    {
      "cell_type": "code",
      "source": [
        "cnn_Hand_Gesture = CNN_Hand_Gesture(drop_rate=0.1)\n",
        "cnn_Hand_Gesture = cnn_Hand_Gesture.to(\"cuda\")\n",
        "train_net(cnn_Hand_Gesture,batch_size=256, learning_rate=0.001,num_epochs = 40)\n",
        "model_path = get_model_name(\"CNN_Hand_Gesture\", batch_size=256, learning_rate=0.001, num_epochs=39)\n",
        "plot_training_curve(model_path)"
      ],
      "metadata": {
        "colab": {
          "base_uri": "https://localhost:8080/",
          "height": 1000
        },
        "id": "fQ-kbIS50KOG",
        "outputId": "b4f9f5d6-21bb-4d81-c2e5-924f0af2df58"
      },
      "execution_count": null,
      "outputs": [
        {
          "output_type": "stream",
          "name": "stderr",
          "text": [
            "7it [00:04,  1.75it/s]\n"
          ]
        },
        {
          "output_type": "stream",
          "name": "stdout",
          "text": [
            "now here\n",
            "Epoch 1: Train err: 0.975609756097561, Train loss: 3.3976268427712575 |Validation err: 0.7486631016042781, Validation loss: 2.191632628440857\n"
          ]
        },
        {
          "output_type": "stream",
          "name": "stderr",
          "text": [
            "7it [00:03,  1.79it/s]\n"
          ]
        },
        {
          "output_type": "stream",
          "name": "stdout",
          "text": [
            "now here\n",
            "Epoch 2: Train err: 0.9640243902439024, Train loss: 3.4186358962740218 |Validation err: 0.5802139037433155, Validation loss: 1.6334317326545715\n"
          ]
        },
        {
          "output_type": "stream",
          "name": "stderr",
          "text": [
            "7it [00:03,  1.81it/s]\n"
          ]
        },
        {
          "output_type": "stream",
          "name": "stdout",
          "text": [
            "now here\n",
            "Epoch 3: Train err: 0.6579268292682927, Train loss: 1.8243370992796761 |Validation err: 0.5267379679144385, Validation loss: 1.2745045721530914\n"
          ]
        },
        {
          "output_type": "stream",
          "name": "stderr",
          "text": [
            "7it [00:03,  1.85it/s]\n"
          ]
        },
        {
          "output_type": "stream",
          "name": "stdout",
          "text": [
            "now here\n",
            "Epoch 4: Train err: 0.5908536585365853, Train loss: 1.5468923194067818 |Validation err: 0.4117647058823529, Validation loss: 1.113644003868103\n"
          ]
        },
        {
          "output_type": "stream",
          "name": "stderr",
          "text": [
            "7it [00:03,  1.84it/s]\n"
          ]
        },
        {
          "output_type": "stream",
          "name": "stdout",
          "text": [
            "now here\n",
            "Epoch 5: Train err: 0.4841463414634146, Train loss: 1.3510549068450928 |Validation err: 0.3342245989304813, Validation loss: 0.9744083285331726\n"
          ]
        },
        {
          "output_type": "stream",
          "name": "stderr",
          "text": [
            "7it [00:03,  1.80it/s]\n"
          ]
        },
        {
          "output_type": "stream",
          "name": "stdout",
          "text": [
            "now here\n",
            "Epoch 6: Train err: 0.4378048780487805, Train loss: 1.2434702004705156 |Validation err: 0.35294117647058826, Validation loss: 0.9603747427463531\n"
          ]
        },
        {
          "output_type": "stream",
          "name": "stderr",
          "text": [
            "7it [00:03,  1.81it/s]\n"
          ]
        },
        {
          "output_type": "stream",
          "name": "stdout",
          "text": [
            "now here\n",
            "Epoch 7: Train err: 0.4067073170731707, Train loss: 1.1747574721063887 |Validation err: 0.2967914438502674, Validation loss: 0.9163772463798523\n"
          ]
        },
        {
          "output_type": "stream",
          "name": "stderr",
          "text": [
            "7it [00:03,  1.84it/s]\n"
          ]
        },
        {
          "output_type": "stream",
          "name": "stdout",
          "text": [
            "now here\n",
            "Epoch 8: Train err: 0.3573170731707317, Train loss: 1.0589512544018882 |Validation err: 0.2807486631016043, Validation loss: 0.8591194748878479\n"
          ]
        },
        {
          "output_type": "stream",
          "name": "stderr",
          "text": [
            "7it [00:03,  1.79it/s]\n"
          ]
        },
        {
          "output_type": "stream",
          "name": "stdout",
          "text": [
            "now here\n",
            "Epoch 9: Train err: 0.32195121951219513, Train loss: 0.9639676000390734 |Validation err: 0.3048128342245989, Validation loss: 0.9011150300502777\n"
          ]
        },
        {
          "output_type": "stream",
          "name": "stderr",
          "text": [
            "7it [00:03,  1.80it/s]\n"
          ]
        },
        {
          "output_type": "stream",
          "name": "stdout",
          "text": [
            "now here\n",
            "Epoch 10: Train err: 0.2969512195121951, Train loss: 0.9085830705506461 |Validation err: 0.27540106951871657, Validation loss: 0.8156968653202057\n"
          ]
        },
        {
          "output_type": "stream",
          "name": "stderr",
          "text": [
            "7it [00:03,  1.82it/s]\n"
          ]
        },
        {
          "output_type": "stream",
          "name": "stdout",
          "text": [
            "now here\n",
            "Epoch 11: Train err: 0.2652439024390244, Train loss: 0.8366782750402179 |Validation err: 0.2807486631016043, Validation loss: 0.8406636714935303\n"
          ]
        },
        {
          "output_type": "stream",
          "name": "stderr",
          "text": [
            "7it [00:03,  1.81it/s]\n"
          ]
        },
        {
          "output_type": "stream",
          "name": "stdout",
          "text": [
            "now here\n",
            "Epoch 12: Train err: 0.2628048780487805, Train loss: 0.7952985763549805 |Validation err: 0.2647058823529412, Validation loss: 0.8191969990730286\n"
          ]
        },
        {
          "output_type": "stream",
          "name": "stderr",
          "text": [
            "7it [00:03,  1.82it/s]\n"
          ]
        },
        {
          "output_type": "stream",
          "name": "stdout",
          "text": [
            "now here\n",
            "Epoch 13: Train err: 0.24939024390243902, Train loss: 0.764959488596235 |Validation err: 0.27540106951871657, Validation loss: 0.827226310968399\n"
          ]
        },
        {
          "output_type": "stream",
          "name": "stderr",
          "text": [
            "7it [00:04,  1.69it/s]\n"
          ]
        },
        {
          "output_type": "stream",
          "name": "stdout",
          "text": [
            "now here\n",
            "Epoch 14: Train err: 0.2274390243902439, Train loss: 0.7303952830178397 |Validation err: 0.2727272727272727, Validation loss: 0.8233574330806732\n"
          ]
        },
        {
          "output_type": "stream",
          "name": "stderr",
          "text": [
            "7it [00:04,  1.66it/s]\n"
          ]
        },
        {
          "output_type": "stream",
          "name": "stdout",
          "text": [
            "now here\n",
            "Epoch 15: Train err: 0.2371951219512195, Train loss: 0.7089473903179169 |Validation err: 0.2620320855614973, Validation loss: 0.8137012422084808\n"
          ]
        },
        {
          "output_type": "stream",
          "name": "stderr",
          "text": [
            "7it [00:03,  1.80it/s]\n"
          ]
        },
        {
          "output_type": "stream",
          "name": "stdout",
          "text": [
            "now here\n",
            "Epoch 16: Train err: 0.2176829268292683, Train loss: 0.6798364009175982 |Validation err: 0.2700534759358289, Validation loss: 0.8269443809986115\n"
          ]
        },
        {
          "output_type": "stream",
          "name": "stderr",
          "text": [
            "7it [00:03,  1.84it/s]\n"
          ]
        },
        {
          "output_type": "stream",
          "name": "stdout",
          "text": [
            "now here\n",
            "Epoch 17: Train err: 0.21036585365853658, Train loss: 0.6560435763427189 |Validation err: 0.2620320855614973, Validation loss: 0.8028946220874786\n"
          ]
        },
        {
          "output_type": "stream",
          "name": "stderr",
          "text": [
            "7it [00:03,  1.84it/s]\n"
          ]
        },
        {
          "output_type": "stream",
          "name": "stdout",
          "text": [
            "now here\n",
            "Epoch 18: Train err: 0.19451219512195123, Train loss: 0.6234827914408275 |Validation err: 0.25935828877005346, Validation loss: 0.829143762588501\n"
          ]
        },
        {
          "output_type": "stream",
          "name": "stderr",
          "text": [
            "7it [00:03,  1.82it/s]\n"
          ]
        },
        {
          "output_type": "stream",
          "name": "stdout",
          "text": [
            "now here\n",
            "Epoch 19: Train err: 0.19146341463414634, Train loss: 0.6033524359975543 |Validation err: 0.24866310160427807, Validation loss: 0.7911568880081177\n"
          ]
        },
        {
          "output_type": "stream",
          "name": "stderr",
          "text": [
            "7it [00:03,  1.79it/s]\n"
          ]
        },
        {
          "output_type": "stream",
          "name": "stdout",
          "text": [
            "now here\n",
            "Epoch 20: Train err: 0.17865853658536585, Train loss: 0.582393154501915 |Validation err: 0.2887700534759358, Validation loss: 0.8119871914386749\n"
          ]
        },
        {
          "output_type": "stream",
          "name": "stderr",
          "text": [
            "7it [00:03,  1.82it/s]\n"
          ]
        },
        {
          "output_type": "stream",
          "name": "stdout",
          "text": [
            "now here\n",
            "Epoch 21: Train err: 0.16402439024390245, Train loss: 0.5576009218181882 |Validation err: 0.2647058823529412, Validation loss: 0.8107633888721466\n"
          ]
        },
        {
          "output_type": "stream",
          "name": "stderr",
          "text": [
            "7it [00:03,  1.81it/s]\n"
          ]
        },
        {
          "output_type": "stream",
          "name": "stdout",
          "text": [
            "now here\n",
            "Epoch 22: Train err: 0.16829268292682928, Train loss: 0.5473041981458664 |Validation err: 0.2727272727272727, Validation loss: 0.8276079893112183\n"
          ]
        },
        {
          "output_type": "stream",
          "name": "stderr",
          "text": [
            "7it [00:03,  1.78it/s]\n"
          ]
        },
        {
          "output_type": "stream",
          "name": "stdout",
          "text": [
            "now here\n",
            "Epoch 23: Train err: 0.1603658536585366, Train loss: 0.5198477464062827 |Validation err: 0.2807486631016043, Validation loss: 0.8117232918739319\n"
          ]
        },
        {
          "output_type": "stream",
          "name": "stderr",
          "text": [
            "7it [00:03,  1.82it/s]\n"
          ]
        },
        {
          "output_type": "stream",
          "name": "stdout",
          "text": [
            "now here\n",
            "Epoch 24: Train err: 0.15426829268292683, Train loss: 0.504166209271976 |Validation err: 0.24866310160427807, Validation loss: 0.8014209866523743\n"
          ]
        },
        {
          "output_type": "stream",
          "name": "stderr",
          "text": [
            "7it [00:03,  1.82it/s]\n"
          ]
        },
        {
          "output_type": "stream",
          "name": "stdout",
          "text": [
            "now here\n",
            "Epoch 25: Train err: 0.1445121951219512, Train loss: 0.4848484524658748 |Validation err: 0.22994652406417113, Validation loss: 0.8003796935081482\n"
          ]
        },
        {
          "output_type": "stream",
          "name": "stderr",
          "text": [
            "7it [00:03,  1.82it/s]\n"
          ]
        },
        {
          "output_type": "stream",
          "name": "stdout",
          "text": [
            "now here\n",
            "Epoch 26: Train err: 0.13841463414634148, Train loss: 0.4692960594381605 |Validation err: 0.26737967914438504, Validation loss: 0.8326040208339691\n"
          ]
        },
        {
          "output_type": "stream",
          "name": "stderr",
          "text": [
            "7it [00:03,  1.82it/s]\n"
          ]
        },
        {
          "output_type": "stream",
          "name": "stdout",
          "text": [
            "now here\n",
            "Epoch 27: Train err: 0.13170731707317074, Train loss: 0.45148044398852755 |Validation err: 0.26737967914438504, Validation loss: 0.8071103394031525\n"
          ]
        },
        {
          "output_type": "stream",
          "name": "stderr",
          "text": [
            "7it [00:03,  1.80it/s]\n"
          ]
        },
        {
          "output_type": "stream",
          "name": "stdout",
          "text": [
            "now here\n",
            "Epoch 28: Train err: 0.12378048780487805, Train loss: 0.4343594525541578 |Validation err: 0.2540106951871658, Validation loss: 0.8125968277454376\n"
          ]
        },
        {
          "output_type": "stream",
          "name": "stderr",
          "text": [
            "7it [00:03,  1.81it/s]\n"
          ]
        },
        {
          "output_type": "stream",
          "name": "stdout",
          "text": [
            "now here\n",
            "Epoch 29: Train err: 0.11463414634146342, Train loss: 0.422939338854381 |Validation err: 0.2700534759358289, Validation loss: 0.8118517100811005\n"
          ]
        },
        {
          "output_type": "stream",
          "name": "stderr",
          "text": [
            "7it [00:03,  1.82it/s]\n"
          ]
        },
        {
          "output_type": "stream",
          "name": "stdout",
          "text": [
            "now here\n",
            "Epoch 30: Train err: 0.11646341463414635, Train loss: 0.4106153537120138 |Validation err: 0.2620320855614973, Validation loss: 0.8136165142059326\n"
          ]
        },
        {
          "output_type": "stream",
          "name": "stderr",
          "text": [
            "7it [00:03,  1.85it/s]\n"
          ]
        },
        {
          "output_type": "stream",
          "name": "stdout",
          "text": [
            "now here\n",
            "Epoch 31: Train err: 0.10670731707317073, Train loss: 0.3898974508047104 |Validation err: 0.2540106951871658, Validation loss: 0.8108049929141998\n"
          ]
        },
        {
          "output_type": "stream",
          "name": "stderr",
          "text": [
            "7it [00:03,  1.85it/s]\n"
          ]
        },
        {
          "output_type": "stream",
          "name": "stdout",
          "text": [
            "now here\n",
            "Epoch 32: Train err: 0.10670731707317073, Train loss: 0.38553322000162943 |Validation err: 0.2540106951871658, Validation loss: 0.8114450573921204\n"
          ]
        },
        {
          "output_type": "stream",
          "name": "stderr",
          "text": [
            "7it [00:03,  1.84it/s]\n"
          ]
        },
        {
          "output_type": "stream",
          "name": "stdout",
          "text": [
            "now here\n",
            "Epoch 33: Train err: 0.09878048780487805, Train loss: 0.36255166466747013 |Validation err: 0.2620320855614973, Validation loss: 0.8230507373809814\n"
          ]
        },
        {
          "output_type": "stream",
          "name": "stderr",
          "text": [
            "7it [00:04,  1.61it/s]\n"
          ]
        },
        {
          "output_type": "stream",
          "name": "stdout",
          "text": [
            "now here\n",
            "Epoch 34: Train err: 0.09085365853658536, Train loss: 0.35262856419597355 |Validation err: 0.25133689839572193, Validation loss: 0.8276998698711395\n"
          ]
        },
        {
          "output_type": "stream",
          "name": "stderr",
          "text": [
            "7it [00:03,  1.83it/s]\n"
          ]
        },
        {
          "output_type": "stream",
          "name": "stdout",
          "text": [
            "now here\n",
            "Epoch 35: Train err: 0.09390243902439024, Train loss: 0.34284299292734693 |Validation err: 0.25133689839572193, Validation loss: 0.8088449835777283\n"
          ]
        },
        {
          "output_type": "stream",
          "name": "stderr",
          "text": [
            "7it [00:03,  1.78it/s]\n"
          ]
        },
        {
          "output_type": "stream",
          "name": "stdout",
          "text": [
            "now here\n",
            "Epoch 36: Train err: 0.07865853658536585, Train loss: 0.327706298657826 |Validation err: 0.25935828877005346, Validation loss: 0.8267656862735748\n"
          ]
        },
        {
          "output_type": "stream",
          "name": "stderr",
          "text": [
            "7it [00:03,  1.80it/s]\n"
          ]
        },
        {
          "output_type": "stream",
          "name": "stdout",
          "text": [
            "now here\n",
            "Epoch 37: Train err: 0.075, Train loss: 0.3118437188012259 |Validation err: 0.24064171122994651, Validation loss: 0.8322747945785522\n"
          ]
        },
        {
          "output_type": "stream",
          "name": "stderr",
          "text": [
            "7it [00:03,  1.83it/s]\n"
          ]
        },
        {
          "output_type": "stream",
          "name": "stdout",
          "text": [
            "now here\n",
            "Epoch 38: Train err: 0.08292682926829269, Train loss: 0.3052611191357885 |Validation err: 0.25935828877005346, Validation loss: 0.8435918986797333\n"
          ]
        },
        {
          "output_type": "stream",
          "name": "stderr",
          "text": [
            "7it [00:03,  1.78it/s]\n"
          ]
        },
        {
          "output_type": "stream",
          "name": "stdout",
          "text": [
            "now here\n",
            "Epoch 39: Train err: 0.07134146341463414, Train loss: 0.29709217697381973 |Validation err: 0.24331550802139038, Validation loss: 0.819899320602417\n"
          ]
        },
        {
          "output_type": "stream",
          "name": "stderr",
          "text": [
            "7it [00:03,  1.83it/s]\n"
          ]
        },
        {
          "output_type": "stream",
          "name": "stdout",
          "text": [
            "now here\n",
            "Epoch 40: Train err: 0.060365853658536583, Train loss: 0.2825045372758593 |Validation err: 0.25133689839572193, Validation loss: 0.8381978273391724\n",
            "Finished Training\n",
            "Total time elapsed: 187.84 seconds\n"
          ]
        },
        {
          "output_type": "display_data",
          "data": {
            "text/plain": [
              "<Figure size 432x288 with 1 Axes>"
            ],
            "image/png": "[encoded data removed]"
          },
          "metadata": {
            "needs_background": "light"
          }
        },
        {
          "output_type": "display_data",
          "data": {
            "text/plain": [
              "<Figure size 432x288 with 1 Axes>"
            ],
            "image/png": "[encoded data removed]"
          },
          "metadata": {
            "needs_background": "light"
          }
        }
      ]
    },
    {
      "cell_type": "markdown",
      "metadata": {
        "id": "H93iN5_l60BO"
      },
      "source": [
        "### Part (c) - 2 pt\n",
        "Choose the best model out of all the ones that you have trained. Justify your choice."
      ]
    },
    {
      "cell_type": "markdown",
      "source": [
        "The best model is the one with the following parameters:\n",
        "batch_size = 256, learning rate = 0.001 and dropout rate = 0.1. A change in drop out rate did not give much improvement and increasing the learning rate only increased the error. Only increasing the batch size gave us better results for the validation error.We also got a smoother curve.I chose the parameters that gave the lowest validation error."
      ],
      "metadata": {
        "id": "1B1Ajtlu1TFy"
      }
    },
    {
      "cell_type": "markdown",
      "metadata": {
        "id": "QzNA5oup67JO"
      },
      "source": [
        "### Part (d) - 2 pt\n",
        "Report the test accuracy of your best model. You should only do this step once and prior to this step you should have only used the training and validation data."
      ]
    },
    {
      "cell_type": "code",
      "execution_count": null,
      "metadata": {
        "id": "2eJ7AbVl6-ax",
        "colab": {
          "base_uri": "https://localhost:8080/"
        },
        "outputId": "53c03b69-1664-419f-b49f-efc78b19d94d"
      },
      "outputs": [
        {
          "output_type": "execute_result",
          "data": {
            "text/plain": [
              "<All keys matched successfully>"
            ]
          },
          "metadata": {},
          "execution_count": 53
        }
      ],
      "source": [
        "net = CNN_Hand_Gesture(drop_rate=0.1) # we use our trained model to make predictions.\n",
        "net = net.to(\"cuda\")\n",
        "model_path = get_model_name(net.name, batch_size=256, learning_rate=0.001, num_epochs=25)\n",
        "state = torch.load(model_path)\n",
        "net.load_state_dict(state)"
      ]
    },
    {
      "cell_type": "code",
      "source": [
        "train_loader, val_loader, test_loader = get_data_loader(batch_size=256)\n",
        "    "
      ],
      "metadata": {
        "id": "i0IxjLCD5Tw-"
      },
      "execution_count": null,
      "outputs": []
    },
    {
      "cell_type": "code",
      "source": [
        "err, loss = evaluate(net, test_loader, nn.CrossEntropyLoss())"
      ],
      "metadata": {
        "id": "HnCqQK3S5veo"
      },
      "execution_count": null,
      "outputs": []
    },
    {
      "cell_type": "code",
      "source": [
        "err # We get an error of 0.244"
      ],
      "metadata": {
        "colab": {
          "base_uri": "https://localhost:8080/"
        },
        "id": "gezUxcSK59hW",
        "outputId": "b76f378e-b66b-4b77-b6b0-a9b0e5aac7b6"
      },
      "execution_count": null,
      "outputs": [
        {
          "output_type": "execute_result",
          "data": {
            "text/plain": [
              "0.2446043165467626"
            ]
          },
          "metadata": {},
          "execution_count": 56
        }
      ]
    },
    {
      "cell_type": "markdown",
      "source": [
        "Our test accuracy is 75.54"
      ],
      "metadata": {
        "id": "2H_NEbCm6CBy"
      }
    },
    {
      "cell_type": "markdown",
      "metadata": {
        "id": "Wrem-iXV6_Bz"
      },
      "source": [
        "### Part 4. Transfer Learning [8 pt]\n",
        "For many image classification tasks, it is generally not a good idea to train a very large deep neural network\n",
        "model from scratch due to the enormous compute requirements and lack of sufficient amounts of training\n",
        "data.\n",
        "\n",
        "One of the better options is to try using an existing model that performs a similar task to the one you need\n",
        "to solve. This method of utilizing a pre-trained network for other similar tasks is broadly termed **Transfer\n",
        "Learning**. In this assignment, we will use Transfer Learning to extract features from the hand gesture\n",
        "images. Then, train a smaller network to use these features as input and classify the hand gestures.\n",
        "\n",
        "As you have learned from the CNN lecture, convolution layers extract various features from the images which\n",
        "get utilized by the fully connected layers for correct classification. AlexNet architecture played a pivotal\n",
        "role in establishing Deep Neural Nets as a go-to tool for image classification problems and we will use an\n",
        "ImageNet pre-trained AlexNet model to extract features in this assignment."
      ]
    },
    {
      "cell_type": "markdown",
      "metadata": {
        "id": "rWdQJz4Q7O2F"
      },
      "source": [
        "### Part (a) - 2 pt\n",
        "Here is the code to load the AlexNet network, with pretrained weights. When you first run the code, PyTorch\n",
        "will download the pretrained weights from the internet."
      ]
    },
    {
      "cell_type": "code",
      "execution_count": null,
      "metadata": {
        "id": "BJKcTW9C7TZk",
        "colab": {
          "base_uri": "https://localhost:8080/"
        },
        "outputId": "e852b42e-95a3-491b-8c78-a2d56704becb"
      },
      "outputs": [
        {
          "output_type": "stream",
          "name": "stderr",
          "text": [
            "/usr/local/lib/python3.7/dist-packages/torchvision/models/_utils.py:209: UserWarning: The parameter 'pretrained' is deprecated since 0.13 and will be removed in 0.15, please use 'weights' instead.\n",
            "  f\"The parameter '{pretrained_param}' is deprecated since 0.13 and will be removed in 0.15, \"\n",
            "/usr/local/lib/python3.7/dist-packages/torchvision/models/_utils.py:223: UserWarning: Arguments other than a weight enum or `None` for 'weights' are deprecated since 0.13 and will be removed in 0.15. The current behavior is equivalent to passing `weights=AlexNet_Weights.IMAGENET1K_V1`. You can also use `weights=AlexNet_Weights.DEFAULT` to get the most up-to-date weights.\n",
            "  warnings.warn(msg)\n"
          ]
        }
      ],
      "source": [
        "import torchvision.models\n",
        "alexnet = torchvision.models.alexnet(pretrained=True)"
      ]
    },
    {
      "cell_type": "code",
      "source": [
        "alexnet # just checking the features"
      ],
      "metadata": {
        "colab": {
          "base_uri": "https://localhost:8080/"
        },
        "id": "7LX-9Q3PQJRx",
        "outputId": "05549032-4929-4482-b618-a1ad8735daa1"
      },
      "execution_count": null,
      "outputs": [
        {
          "output_type": "execute_result",
          "data": {
            "text/plain": [
              "AlexNet(\n",
              "  (features): Sequential(\n",
              "    (0): Conv2d(3, 64, kernel_size=(11, 11), stride=(4, 4), padding=(2, 2))\n",
              "    (1): ReLU(inplace=True)\n",
              "    (2): MaxPool2d(kernel_size=3, stride=2, padding=0, dilation=1, ceil_mode=False)\n",
              "    (3): Conv2d(64, 192, kernel_size=(5, 5), stride=(1, 1), padding=(2, 2))\n",
              "    (4): ReLU(inplace=True)\n",
              "    (5): MaxPool2d(kernel_size=3, stride=2, padding=0, dilation=1, ceil_mode=False)\n",
              "    (6): Conv2d(192, 384, kernel_size=(3, 3), stride=(1, 1), padding=(1, 1))\n",
              "    (7): ReLU(inplace=True)\n",
              "    (8): Conv2d(384, 256, kernel_size=(3, 3), stride=(1, 1), padding=(1, 1))\n",
              "    (9): ReLU(inplace=True)\n",
              "    (10): Conv2d(256, 256, kernel_size=(3, 3), stride=(1, 1), padding=(1, 1))\n",
              "    (11): ReLU(inplace=True)\n",
              "    (12): MaxPool2d(kernel_size=3, stride=2, padding=0, dilation=1, ceil_mode=False)\n",
              "  )\n",
              "  (avgpool): AdaptiveAvgPool2d(output_size=(6, 6))\n",
              "  (classifier): Sequential(\n",
              "    (0): Dropout(p=0.5, inplace=False)\n",
              "    (1): Linear(in_features=9216, out_features=4096, bias=True)\n",
              "    (2): ReLU(inplace=True)\n",
              "    (3): Dropout(p=0.5, inplace=False)\n",
              "    (4): Linear(in_features=4096, out_features=4096, bias=True)\n",
              "    (5): ReLU(inplace=True)\n",
              "    (6): Linear(in_features=4096, out_features=1000, bias=True)\n",
              "  )\n",
              ")"
            ]
          },
          "metadata": {},
          "execution_count": 13
        }
      ]
    },
    {
      "cell_type": "markdown",
      "metadata": {
        "id": "NQ0GZYaP7VAR"
      },
      "source": [
        "The alexnet model is split up into two components: *alexnet.features* and *alexnet.classifier*. The\n",
        "first neural network component, *alexnet.features*, is used to compute convolutional features, which are\n",
        "taken as input in *alexnet.classifier*.\n",
        "\n",
        "The neural network alexnet.features expects an image tensor of shape Nx3x224x224 as input and it will\n",
        "output a tensor of shape Nx256x6x6 . (N = batch size).\n",
        "\n",
        "Compute the AlexNet features for each of your training, validation, and test data. Here is an example code\n",
        "snippet showing how you can compute the AlexNet features for some images (your actual code might be\n",
        "different):"
      ]
    },
    {
      "cell_type": "code",
      "source": [
        "\n",
        "alexNet = torchvision.models.alexnet(pretrained=True)\n"
      ],
      "metadata": {
        "id": "PUuiJ3G_-foJ"
      },
      "execution_count": null,
      "outputs": []
    },
    {
      "cell_type": "code",
      "execution_count": null,
      "metadata": {
        "id": "oX7SjVdB7XAE"
      },
      "outputs": [],
      "source": [
        "# do not run\n",
        "# we get the images, run it through the alexnet features and store these new images as our data for our model\n",
        "# we repeat the same process for validation and test set below\n",
        "\n",
        "ll = []\n",
        "lab =[]\n",
        "train_loader,validation_loader,test_loader =get_data_loader(1)\n",
        "for imgs, labels in iter(train_loader):\n",
        "          \n",
        "            imgs = features = alexNet.features(imgs) \n",
        "            \n",
        "            ll.append(imgs.tolist())\n",
        "            lab.append(labels.tolist())\n",
        "            \n",
        "train_data = []\n",
        "for i in range(len(ll)):\n",
        "   train_data.append([ll[i], lab[i]])\n",
        "\n",
        "df_train = pd.DataFrame(train_data)"
      ]
    },
    {
      "cell_type": "code",
      "source": [
        "df_train.to_csv('df_train.csv') #Saving images that have been processed using alexnet which will be the inputs to our model # do not run"
      ],
      "metadata": {
        "id": "he0XaOZhoATT"
      },
      "execution_count": null,
      "outputs": []
    },
    {
      "cell_type": "code",
      "source": [
        "ll = [] # do not run \n",
        "lab =[]\n",
        "\n",
        "for imgs, labels in iter(validation_loader):\n",
        "          \n",
        "            imgs = features = alexNet.features(imgs) #SLOW\n",
        "            \n",
        "            ll.append(imgs.tolist())\n",
        "            lab.append(labels.tolist())\n",
        "            \n",
        "val_data = []\n",
        "for i in range(len(ll)):\n",
        "   val_data.append([ll[i], lab[i]])\n",
        "\n",
        "df_val = pd.DataFrame(val_data)"
      ],
      "metadata": {
        "id": "hm4zYdBG5Nj_"
      },
      "execution_count": null,
      "outputs": []
    },
    {
      "cell_type": "code",
      "source": [
        "df_val.to_csv('df_val.csv') #Saving images that have been processed using alexnet which will be the inputs to our model # do not run"
      ],
      "metadata": {
        "id": "Qrb9RGSqomwu"
      },
      "execution_count": null,
      "outputs": []
    },
    {
      "cell_type": "code",
      "source": [
        "ll = [] # do not run\n",
        "lab =[]\n",
        "\n",
        "for imgs, labels in iter(test_loader):\n",
        "          \n",
        "            imgs = features = alexNet.features(imgs) #SLOW\n",
        "            \n",
        "            ll.append(imgs.tolist())\n",
        "            lab.append(labels.tolist())\n",
        "            \n",
        "test_data = []\n",
        "for i in range(len(ll)):\n",
        "   test_data.append([ll[i], lab[i]])\n",
        "\n",
        "df_test = pd.DataFrame(test_data)"
      ],
      "metadata": {
        "id": "tk0ilAbMd97t"
      },
      "execution_count": null,
      "outputs": []
    },
    {
      "cell_type": "code",
      "source": [
        "df_test.to_csv('df_test.csv') #Saving images that have been processed using alexnet which will be the inputs to our model # do not run"
      ],
      "metadata": {
        "id": "zzSgMkMco8fe"
      },
      "execution_count": null,
      "outputs": []
    },
    {
      "cell_type": "code",
      "source": [
        "# we create a dataloader for the transformed data\n",
        "def dataloader(train,val,test, batch_size):\n",
        "\n",
        "  trainloader = torch.utils.data.DataLoader(train, batch_size=batch_size)\n",
        "  val_loader = torch.utils.data.DataLoader(val, batch_size=batch_size)\n",
        "  test_loader = torch.utils.data.DataLoader(test, batch_size=batch_size)\n",
        "\n",
        "  return trainloader,val_loader,test_loader"
      ],
      "metadata": {
        "id": "F9ClQPV7pPfC"
      },
      "execution_count": null,
      "outputs": []
    },
    {
      "cell_type": "markdown",
      "metadata": {
        "id": "DYcjHg_A7cCM"
      },
      "source": [
        "**Save the computed features**. You will be using these features as input to your neural network in Part\n",
        "(b), and you do not want to re-compute the features every time. Instead, run *alexnet.features* once for\n",
        "each image, and save the result."
      ]
    },
    {
      "cell_type": "markdown",
      "metadata": {
        "id": "OFWvvhFN73qY"
      },
      "source": [
        "### Part (b) - 2 pt\n",
        "Build a convolutional neural network model that takes as input these AlexNet features, and makes a\n",
        "prediction. Your model should be a subclass of nn.Module.\n",
        "\n",
        "Explain your choice of neural network architecture: how many layers did you choose? What types of layers\n",
        "did you use: fully-connected or convolutional? What about other decisions like pooling layers, activation\n",
        "functions, number of channels / hidden units in each layer?\n",
        "\n",
        "Here is an example of how your model may be called:"
      ]
    },
    {
      "cell_type": "markdown",
      "source": [
        "We build a network that is fully connected to be our classifier.We have the alexnet with the convolution layers. We use relu activations and dropout layers in the fully connected layers.We have 4 hidden layers in our network."
      ],
      "metadata": {
        "id": "goVxTh6jxogY"
      }
    },
    {
      "cell_type": "code",
      "source": [
        "import pandas as pd"
      ],
      "metadata": {
        "id": "R-v97sGw0BV2"
      },
      "execution_count": null,
      "outputs": []
    },
    {
      "cell_type": "code",
      "source": [
        "# we upload the previously saved data\n",
        "\n",
        "df_train = pd.read_csv('df_train.csv')\n",
        "df_val = pd.read_csv('df_val.csv')\n",
        "df_test = pd.read_csv('df_test.csv')"
      ],
      "metadata": {
        "id": "22AUzFi7-imJ"
      },
      "execution_count": null,
      "outputs": []
    },
    {
      "cell_type": "code",
      "source": [
        "import ast"
      ],
      "metadata": {
        "id": "-0yq2Md4DeC0"
      },
      "execution_count": null,
      "outputs": []
    },
    {
      "cell_type": "code",
      "source": [
        "# Here we convert the dataframe of the processed images into a tuple of tensor and label since it is required by the dataloader\n",
        "\n",
        "df_train.drop('Unnamed: 0',axis =1,inplace = True)\n",
        "df_train.iloc[:,0] = df_train.iloc[:,0].apply(lambda s: torch.tensor(ast.literal_eval(s)[0]))# string ---> list---> tensor\n",
        "df_train.iloc[:,1] = df_train.iloc[:,1].apply(lambda s: ast.literal_eval(s)[0])\n",
        "df_train = df_train.apply(tuple, axis=1)# change to tuple \n",
        "\n",
        "df_val.drop('Unnamed: 0',axis =1,inplace = True)\n",
        "df_val.iloc[:,0] = df_val.iloc[:,0].apply(lambda s: torch.tensor(ast.literal_eval(s)[0]))\n",
        "df_val.iloc[:,1] = df_val.iloc[:,1].apply(lambda s: ast.literal_eval(s)[0])\n",
        "df_val = df_val.apply(tuple, axis=1)# change to tuple\n",
        "\n",
        "df_test.drop('Unnamed: 0',axis =1,inplace = True)\n",
        "df_test.iloc[:,0] = df_test.iloc[:,0].apply(lambda s: torch.tensor(ast.literal_eval(s)[0]))\n",
        "df_test.iloc[:,1] = df_test.iloc[:,1].apply(lambda s: ast.literal_eval(s)[0])\n",
        "df_test = df_test.apply(tuple, axis=1) #change to tuple\n"
      ],
      "metadata": {
        "id": "cMWwZlmgBAgm"
      },
      "execution_count": null,
      "outputs": []
    },
    {
      "cell_type": "code",
      "source": [
        "#torch.tensor(ast.literal_eval(s))\n",
        "df_train.shape"
      ],
      "metadata": {
        "colab": {
          "base_uri": "https://localhost:8080/"
        },
        "id": "fBkMtFkLGJ8d",
        "outputId": "12d044be-3adb-4b5c-c29e-d92133858671"
      },
      "execution_count": null,
      "outputs": [
        {
          "output_type": "execute_result",
          "data": {
            "text/plain": [
              "(1640,)"
            ]
          },
          "metadata": {},
          "execution_count": 158
        }
      ]
    },
    {
      "cell_type": "code",
      "source": [
        "#Neural Network Architecture\n",
        "class Classifier(nn.Module):\n",
        "    def __init__(self,drop_rate):\n",
        "        super(Classifier, self).__init__()\n",
        "        self.name = \"Classifier\"\n",
        "        self.fc1 = nn.Linear(256 * 6 * 6, 512)\n",
        "        self.fc2 = nn.Linear(512, 256)\n",
        "        self.fc3 = nn.Linear(256, 64)\n",
        "        self.fc4 = nn.Linear(64, 32)\n",
        "        self.fc5 = nn.Linear(32, 9)\n",
        "\n",
        "        self.dropout = nn.Dropout(p=drop_rate)\n",
        "\n",
        "    def forward(self, x):\n",
        "        x = x.view(-1, 256 * 6 * 6) #flatten feature data\n",
        "        x = F.relu(self.fc1(x))\n",
        "        x = F.relu(self.fc2(x))\n",
        "        x = self.dropout(x)\n",
        "        x = F.relu(self.fc3(x))\n",
        "        x = self.dropout(x)\n",
        "        x = F.relu(self.fc4(x))\n",
        "        x = self.dropout(x)\n",
        "        x = self.fc5(x)\n",
        "        return x"
      ],
      "metadata": {
        "id": "O0ACkAc8iI0e"
      },
      "execution_count": null,
      "outputs": []
    },
    {
      "cell_type": "code",
      "source": [
        "def train_net(train_data,val_data,test_data,net, batch_size=32, learning_rate=0.01, num_epochs=30):\n",
        "    ########################################################################\n",
        "    # Train a classifier on cars vs trucks\n",
        "    #target_classes = [\"car\", \"truck\"]\n",
        "    ########################################################################\n",
        "    # Fixed PyTorch random seed for reproducible result\n",
        "    torch.manual_seed(1000)\n",
        "    ########################################################################\n",
        "    # Obtain the PyTorch data loader objects to load batches of the datasets\n",
        "    train_loader, val_loader, test_loader = dataloader(train_data,val_data,test_data,batch_size=batch_size)\n",
        "    ########################################################################\n",
        "    # Define the Loss function and optimizer\n",
        "    # The loss function will be Binary Cross Entropy (BCE). In this case we\n",
        "    # will use the BCEWithLogitsLoss which takes unnormalized output from\n",
        "    # the neural network and scalar label.\n",
        "    # Optimizer will be SGD with Momentum.\n",
        "    criterion = nn.CrossEntropyLoss()\n",
        "    optimizer = optim.SGD(net.parameters(), lr=learning_rate, momentum=0.9)\n",
        "    ########################################################################\n",
        "    # Set up some numpy arrays to store the training/test loss/erruracy\n",
        "    train_err = np.zeros(num_epochs)\n",
        "    train_loss = np.zeros(num_epochs)\n",
        "    val_err = np.zeros(num_epochs)\n",
        "    val_loss = np.zeros(num_epochs)\n",
        "    ########################################################################\n",
        "    # Train the network\n",
        "    # Loop over the data iterator and sample a new batch of training data\n",
        "    # Get the output from the network, and optimize our loss function.\n",
        "    start_time = time.time()\n",
        "    for epoch in range(num_epochs):  # loop over the dataset multiple times\n",
        "        total_train_loss = 0.0\n",
        "        total_train_err = 0.0\n",
        "        total_epoch = 0\n",
        "        for i, data in tqdm.tqdm(enumerate(train_loader, 0)):\n",
        "            # Get the inputs\n",
        "            inputs, labels = data\n",
        "            if torch.cuda.is_available():\n",
        "              inputs = inputs.cuda()\n",
        "              labels = labels.cuda()\n",
        "            # labels = normalize_label(labels) # Convert labels to 0/1\n",
        "            # Zero the parameter gradients\n",
        "            optimizer.zero_grad()\n",
        "            # Forward pass, backward pass, and optimize\n",
        "            outputs = net(inputs)\n",
        "            loss = criterion(outputs, labels)\n",
        "            loss.backward()\n",
        "            optimizer.step()\n",
        "            # Calculate the statistics\n",
        "            \n",
        "            error = error_criterion(outputs, labels)\n",
        "            total_train_err += error\n",
        "            total_train_loss += loss.item()\n",
        "            total_epoch += len(labels)\n",
        "        \n",
        "        train_err[epoch] = float(total_train_err) / total_epoch\n",
        "        train_loss[epoch] = float(total_train_loss) / (i+1)\n",
        "        \n",
        "        val_err[epoch], val_loss[epoch] = evaluate(net, val_loader, criterion)\n",
        "        print((\"Epoch {}: Train err: {}, Train loss: {} |\"+\n",
        "               \"Validation err: {}, Validation loss: {}\").format(\n",
        "                   epoch + 1,\n",
        "                   train_err[epoch],\n",
        "                   train_loss[epoch],\n",
        "                   val_err[epoch],\n",
        "                   val_loss[epoch]))\n",
        "        # Save the current model (checkpoint) to a file\n",
        "        model_path = get_model_name(net.name, batch_size, learning_rate, epoch)\n",
        "        torch.save(net.state_dict(), model_path)\n",
        "    print('Finished Training')\n",
        "    end_time = time.time()\n",
        "    elapsed_time = end_time - start_time\n",
        "    print(\"Total time elapsed: {:.2f} seconds\".format(elapsed_time))\n",
        "    # Write the train/test loss/err into CSV file for plotting later\n",
        "    epochs = np.arange(1, num_epochs + 1)\n",
        "    np.savetxt(\"{}_train_err.csv\".format(model_path), train_err)\n",
        "    np.savetxt(\"{}_train_loss.csv\".format(model_path), train_loss)\n",
        "    np.savetxt(\"{}_val_err.csv\".format(model_path), val_err)\n",
        "    np.savetxt(\"{}_val_loss.csv\".format(model_path), val_loss)\n",
        "\n",
        "\n",
        "    "
      ],
      "metadata": {
        "id": "2vK8h6NIiK8-"
      },
      "execution_count": null,
      "outputs": []
    },
    {
      "cell_type": "code",
      "source": [
        "use_cuda = True\n",
        "\n",
        "net = Classifier(drop_rate = 0.4)\n",
        "\n",
        "if use_cuda and torch.cuda.is_available():\n",
        "  net.cuda()\n",
        "  print('CUDA is available!  Training on GPU ...')\n",
        "else:\n",
        "  print('CUDA is not available.  Training on CPU ...')\n",
        " \n",
        " \n",
        "train_net(df_train,df_val,df_test,net, batch_size=512, learning_rate=0.007, num_epochs=200)\n"
      ],
      "metadata": {
        "colab": {
          "base_uri": "https://localhost:8080/"
        },
        "id": "b-w4ZQppjNMt",
        "outputId": "c83e52a7-5c1b-4990-ff88-d9e5433bef06"
      },
      "execution_count": null,
      "outputs": [
        {
          "output_type": "stream",
          "name": "stdout",
          "text": [
            "CUDA is available!  Training on GPU ...\n"
          ]
        },
        {
          "output_type": "stream",
          "name": "stderr",
          "text": [
            "4it [00:00, 75.59it/s]\n"
          ]
        },
        {
          "output_type": "stream",
          "name": "stdout",
          "text": [
            "Epoch 1: Train err: 0.8969512195121951, Train loss: 2.21157044172287 |Validation err: 0.8823529411764706, Validation loss: 2.202057123184204\n"
          ]
        },
        {
          "output_type": "stream",
          "name": "stderr",
          "text": [
            "4it [00:00, 74.27it/s]"
          ]
        },
        {
          "output_type": "stream",
          "name": "stdout",
          "text": [
            "Epoch 2: Train err: 0.8939024390243903, Train loss: 2.199874460697174 |Validation err: 0.8770053475935828, Validation loss: 2.2003889083862305\n"
          ]
        },
        {
          "output_type": "stream",
          "name": "stderr",
          "text": [
            "\n",
            "4it [00:00, 70.39it/s]\n"
          ]
        },
        {
          "output_type": "stream",
          "name": "stdout",
          "text": [
            "Epoch 3: Train err: 0.8829268292682927, Train loss: 2.1856390237808228 |Validation err: 0.8502673796791443, Validation loss: 2.194993734359741\n"
          ]
        },
        {
          "output_type": "stream",
          "name": "stderr",
          "text": [
            "4it [00:00, 65.34it/s]\n"
          ]
        },
        {
          "output_type": "stream",
          "name": "stdout",
          "text": [
            "Epoch 4: Train err: 0.8670731707317073, Train loss: 2.1702444553375244 |Validation err: 0.8609625668449198, Validation loss: 2.1911282539367676\n"
          ]
        },
        {
          "output_type": "stream",
          "name": "stderr",
          "text": [
            "4it [00:00, 66.62it/s]\n"
          ]
        },
        {
          "output_type": "stream",
          "name": "stdout",
          "text": [
            "Epoch 5: Train err: 0.8402439024390244, Train loss: 2.1494336426258087 |Validation err: 0.8770053475935828, Validation loss: 2.188537359237671\n"
          ]
        },
        {
          "output_type": "stream",
          "name": "stderr",
          "text": [
            "4it [00:00, 69.10it/s]\n"
          ]
        },
        {
          "output_type": "stream",
          "name": "stdout",
          "text": [
            "Epoch 6: Train err: 0.873780487804878, Train loss: 2.1347746551036835 |Validation err: 0.8850267379679144, Validation loss: 2.188337802886963\n"
          ]
        },
        {
          "output_type": "stream",
          "name": "stderr",
          "text": [
            "4it [00:00, 69.26it/s]\n"
          ]
        },
        {
          "output_type": "stream",
          "name": "stdout",
          "text": [
            "Epoch 7: Train err: 0.8878048780487805, Train loss: 2.1052607595920563 |Validation err: 0.893048128342246, Validation loss: 2.1899070739746094\n"
          ]
        },
        {
          "output_type": "stream",
          "name": "stderr",
          "text": [
            "4it [00:00, 54.91it/s]\n"
          ]
        },
        {
          "output_type": "stream",
          "name": "stdout",
          "text": [
            "Epoch 8: Train err: 0.8908536585365854, Train loss: 2.0840754210948944 |Validation err: 0.893048128342246, Validation loss: 2.193411350250244\n"
          ]
        },
        {
          "output_type": "stream",
          "name": "stderr",
          "text": [
            "4it [00:00, 70.10it/s]\n"
          ]
        },
        {
          "output_type": "stream",
          "name": "stdout",
          "text": [
            "Epoch 9: Train err: 0.8920731707317073, Train loss: 2.0595462322235107 |Validation err: 0.8903743315508021, Validation loss: 2.191912889480591\n"
          ]
        },
        {
          "output_type": "stream",
          "name": "stderr",
          "text": [
            "4it [00:00, 65.44it/s]\n"
          ]
        },
        {
          "output_type": "stream",
          "name": "stdout",
          "text": [
            "Epoch 10: Train err: 0.8920731707317073, Train loss: 2.0329205095767975 |Validation err: 0.8957219251336899, Validation loss: 2.2023491859436035\n"
          ]
        },
        {
          "output_type": "stream",
          "name": "stderr",
          "text": [
            "4it [00:00, 66.33it/s]\n"
          ]
        },
        {
          "output_type": "stream",
          "name": "stdout",
          "text": [
            "Epoch 11: Train err: 0.8914634146341464, Train loss: 2.011141359806061 |Validation err: 0.8850267379679144, Validation loss: 2.163882255554199\n"
          ]
        },
        {
          "output_type": "stream",
          "name": "stderr",
          "text": [
            "4it [00:00, 64.85it/s]\n"
          ]
        },
        {
          "output_type": "stream",
          "name": "stdout",
          "text": [
            "Epoch 12: Train err: 0.8902439024390244, Train loss: 1.9809062480926514 |Validation err: 0.893048128342246, Validation loss: 2.128021001815796\n"
          ]
        },
        {
          "output_type": "stream",
          "name": "stderr",
          "text": [
            "4it [00:00, 66.12it/s]\n"
          ]
        },
        {
          "output_type": "stream",
          "name": "stdout",
          "text": [
            "Epoch 13: Train err: 0.8878048780487805, Train loss: 1.9212353229522705 |Validation err: 0.8903743315508021, Validation loss: 2.116814613342285\n"
          ]
        },
        {
          "output_type": "stream",
          "name": "stderr",
          "text": [
            "4it [00:00, 70.06it/s]\n"
          ]
        },
        {
          "output_type": "stream",
          "name": "stdout",
          "text": [
            "Epoch 14: Train err: 0.8859756097560976, Train loss: 1.9013152420520782 |Validation err: 0.8796791443850267, Validation loss: 2.060877561569214\n"
          ]
        },
        {
          "output_type": "stream",
          "name": "stderr",
          "text": [
            "4it [00:00, 62.67it/s]\n"
          ]
        },
        {
          "output_type": "stream",
          "name": "stdout",
          "text": [
            "Epoch 15: Train err: 0.8798780487804878, Train loss: 1.8150050789117813 |Validation err: 0.8743315508021391, Validation loss: 2.011613368988037\n"
          ]
        },
        {
          "output_type": "stream",
          "name": "stderr",
          "text": [
            "4it [00:00, 64.87it/s]\n"
          ]
        },
        {
          "output_type": "stream",
          "name": "stdout",
          "text": [
            "Epoch 16: Train err: 0.8676829268292683, Train loss: 1.7512135803699493 |Validation err: 0.820855614973262, Validation loss: 1.9401918649673462\n"
          ]
        },
        {
          "output_type": "stream",
          "name": "stderr",
          "text": [
            "4it [00:00, 69.93it/s]\n"
          ]
        },
        {
          "output_type": "stream",
          "name": "stdout",
          "text": [
            "Epoch 17: Train err: 0.8420731707317073, Train loss: 1.700555756688118 |Validation err: 0.8181818181818182, Validation loss: 1.9215742349624634\n"
          ]
        },
        {
          "output_type": "stream",
          "name": "stderr",
          "text": [
            "4it [00:00, 64.42it/s]\n"
          ]
        },
        {
          "output_type": "stream",
          "name": "stdout",
          "text": [
            "Epoch 18: Train err: 0.8030487804878049, Train loss: 1.6260195299983025 |Validation err: 0.7566844919786097, Validation loss: 1.8461369276046753\n"
          ]
        },
        {
          "output_type": "stream",
          "name": "stderr",
          "text": [
            "4it [00:00, 67.21it/s]\n"
          ]
        },
        {
          "output_type": "stream",
          "name": "stdout",
          "text": [
            "Epoch 19: Train err: 0.7634146341463415, Train loss: 1.6085574999451637 |Validation err: 0.6737967914438503, Validation loss: 1.7731536626815796\n"
          ]
        },
        {
          "output_type": "stream",
          "name": "stderr",
          "text": [
            "4it [00:00, 65.71it/s]\n"
          ]
        },
        {
          "output_type": "stream",
          "name": "stdout",
          "text": [
            "Epoch 20: Train err: 0.7182926829268292, Train loss: 1.4945106357336044 |Validation err: 0.6844919786096256, Validation loss: 1.737104892730713\n"
          ]
        },
        {
          "output_type": "stream",
          "name": "stderr",
          "text": [
            "4it [00:00, 61.86it/s]\n"
          ]
        },
        {
          "output_type": "stream",
          "name": "stdout",
          "text": [
            "Epoch 21: Train err: 0.6890243902439024, Train loss: 1.4874752014875412 |Validation err: 0.6550802139037433, Validation loss: 1.671342372894287\n"
          ]
        },
        {
          "output_type": "stream",
          "name": "stderr",
          "text": [
            "4it [00:00, 66.45it/s]\n"
          ]
        },
        {
          "output_type": "stream",
          "name": "stdout",
          "text": [
            "Epoch 22: Train err: 0.6737804878048781, Train loss: 1.437454715371132 |Validation err: 0.6844919786096256, Validation loss: 1.634647011756897\n"
          ]
        },
        {
          "output_type": "stream",
          "name": "stderr",
          "text": [
            "4it [00:00, 73.06it/s]\n"
          ]
        },
        {
          "output_type": "stream",
          "name": "stdout",
          "text": [
            "Epoch 23: Train err: 0.6560975609756098, Train loss: 1.3838949277997017 |Validation err: 0.6096256684491979, Validation loss: 1.5818095207214355\n"
          ]
        },
        {
          "output_type": "stream",
          "name": "stderr",
          "text": [
            "4it [00:00, 64.06it/s]\n"
          ]
        },
        {
          "output_type": "stream",
          "name": "stdout",
          "text": [
            "Epoch 24: Train err: 0.6164634146341463, Train loss: 1.3276831582188606 |Validation err: 0.5802139037433155, Validation loss: 1.4736707210540771\n"
          ]
        },
        {
          "output_type": "stream",
          "name": "stderr",
          "text": [
            "4it [00:00, 69.22it/s]\n"
          ]
        },
        {
          "output_type": "stream",
          "name": "stdout",
          "text": [
            "Epoch 25: Train err: 0.6054878048780488, Train loss: 1.2936015203595161 |Validation err: 0.5882352941176471, Validation loss: 1.4404792785644531\n"
          ]
        },
        {
          "output_type": "stream",
          "name": "stderr",
          "text": [
            "4it [00:00, 66.23it/s]\n"
          ]
        },
        {
          "output_type": "stream",
          "name": "stdout",
          "text": [
            "Epoch 26: Train err: 0.5902439024390244, Train loss: 1.2591209784150124 |Validation err: 0.5748663101604278, Validation loss: 1.4043567180633545\n"
          ]
        },
        {
          "output_type": "stream",
          "name": "stderr",
          "text": [
            "4it [00:00, 63.73it/s]\n"
          ]
        },
        {
          "output_type": "stream",
          "name": "stdout",
          "text": [
            "Epoch 27: Train err: 0.5664634146341463, Train loss: 1.2218978628516197 |Validation err: 0.5454545454545454, Validation loss: 1.3466845750808716\n"
          ]
        },
        {
          "output_type": "stream",
          "name": "stderr",
          "text": [
            "4it [00:00, 66.16it/s]\n"
          ]
        },
        {
          "output_type": "stream",
          "name": "stdout",
          "text": [
            "Epoch 28: Train err: 0.5542682926829269, Train loss: 1.1932553425431252 |Validation err: 0.5187165775401069, Validation loss: 1.2969063520431519\n"
          ]
        },
        {
          "output_type": "stream",
          "name": "stderr",
          "text": [
            "4it [00:00, 60.39it/s]\n"
          ]
        },
        {
          "output_type": "stream",
          "name": "stdout",
          "text": [
            "Epoch 29: Train err: 0.552439024390244, Train loss: 1.1442847810685635 |Validation err: 0.5401069518716578, Validation loss: 1.3081055879592896\n"
          ]
        },
        {
          "output_type": "stream",
          "name": "stderr",
          "text": [
            "4it [00:00, 61.45it/s]\n"
          ]
        },
        {
          "output_type": "stream",
          "name": "stdout",
          "text": [
            "Epoch 30: Train err: 0.5286585365853659, Train loss: 1.1043322682380676 |Validation err: 0.516042780748663, Validation loss: 1.2500581741333008\n"
          ]
        },
        {
          "output_type": "stream",
          "name": "stderr",
          "text": [
            "4it [00:00, 64.08it/s]\n"
          ]
        },
        {
          "output_type": "stream",
          "name": "stdout",
          "text": [
            "Epoch 31: Train err: 0.5231707317073171, Train loss: 1.0803454034030437 |Validation err: 0.4919786096256685, Validation loss: 1.247015118598938\n"
          ]
        },
        {
          "output_type": "stream",
          "name": "stderr",
          "text": [
            "4it [00:00, 66.39it/s]\n"
          ]
        },
        {
          "output_type": "stream",
          "name": "stdout",
          "text": [
            "Epoch 32: Train err: 0.5201219512195122, Train loss: 1.0589028671383858 |Validation err: 0.5080213903743316, Validation loss: 1.1720304489135742\n"
          ]
        },
        {
          "output_type": "stream",
          "name": "stderr",
          "text": [
            "4it [00:00, 65.20it/s]\n"
          ]
        },
        {
          "output_type": "stream",
          "name": "stdout",
          "text": [
            "Epoch 33: Train err: 0.4841463414634146, Train loss: 1.0219999998807907 |Validation err: 0.4625668449197861, Validation loss: 1.1457213163375854\n"
          ]
        },
        {
          "output_type": "stream",
          "name": "stderr",
          "text": [
            "4it [00:00, 70.94it/s]\n"
          ]
        },
        {
          "output_type": "stream",
          "name": "stdout",
          "text": [
            "Epoch 34: Train err: 0.4902439024390244, Train loss: 1.00393670424819 |Validation err: 0.4893048128342246, Validation loss: 1.187363624572754\n"
          ]
        },
        {
          "output_type": "stream",
          "name": "stderr",
          "text": [
            "4it [00:00, 69.43it/s]\n"
          ]
        },
        {
          "output_type": "stream",
          "name": "stdout",
          "text": [
            "Epoch 35: Train err: 0.4682926829268293, Train loss: 0.9745131060481071 |Validation err: 0.44385026737967914, Validation loss: 1.1056323051452637\n"
          ]
        },
        {
          "output_type": "stream",
          "name": "stderr",
          "text": [
            "4it [00:00, 67.81it/s]\n"
          ]
        },
        {
          "output_type": "stream",
          "name": "stdout",
          "text": [
            "Epoch 36: Train err: 0.45426829268292684, Train loss: 0.963067427277565 |Validation err: 0.4411764705882353, Validation loss: 1.113429069519043\n"
          ]
        },
        {
          "output_type": "stream",
          "name": "stderr",
          "text": [
            "4it [00:00, 64.79it/s]\n"
          ]
        },
        {
          "output_type": "stream",
          "name": "stdout",
          "text": [
            "Epoch 37: Train err: 0.44634146341463415, Train loss: 0.905762080103159 |Validation err: 0.4037433155080214, Validation loss: 1.0531373023986816\n"
          ]
        },
        {
          "output_type": "stream",
          "name": "stderr",
          "text": [
            "4it [00:00, 64.32it/s]\n"
          ]
        },
        {
          "output_type": "stream",
          "name": "stdout",
          "text": [
            "Epoch 38: Train err: 0.4445121951219512, Train loss: 0.9002432003617287 |Validation err: 0.3877005347593583, Validation loss: 1.0113309621810913\n"
          ]
        },
        {
          "output_type": "stream",
          "name": "stderr",
          "text": [
            "4it [00:00, 69.34it/s]\n"
          ]
        },
        {
          "output_type": "stream",
          "name": "stdout",
          "text": [
            "Epoch 39: Train err: 0.4176829268292683, Train loss: 0.8723968639969826 |Validation err: 0.4117647058823529, Validation loss: 1.0279593467712402\n"
          ]
        },
        {
          "output_type": "stream",
          "name": "stderr",
          "text": [
            "4it [00:00, 67.67it/s]\n"
          ]
        },
        {
          "output_type": "stream",
          "name": "stdout",
          "text": [
            "Epoch 40: Train err: 0.40182926829268295, Train loss: 0.8444447964429855 |Validation err: 0.36363636363636365, Validation loss: 1.0065549612045288\n"
          ]
        },
        {
          "output_type": "stream",
          "name": "stderr",
          "text": [
            "4it [00:00, 47.01it/s]\n"
          ]
        },
        {
          "output_type": "stream",
          "name": "stdout",
          "text": [
            "Epoch 41: Train err: 0.39634146341463417, Train loss: 0.8412141837179661 |Validation err: 0.3716577540106952, Validation loss: 0.9754680395126343\n"
          ]
        },
        {
          "output_type": "stream",
          "name": "stderr",
          "text": [
            "4it [00:00, 60.16it/s]\n"
          ]
        },
        {
          "output_type": "stream",
          "name": "stdout",
          "text": [
            "Epoch 42: Train err: 0.3896341463414634, Train loss: 0.8077296353876591 |Validation err: 0.3449197860962567, Validation loss: 0.9931624531745911\n"
          ]
        },
        {
          "output_type": "stream",
          "name": "stderr",
          "text": [
            "4it [00:00, 70.40it/s]\n"
          ]
        },
        {
          "output_type": "stream",
          "name": "stdout",
          "text": [
            "Epoch 43: Train err: 0.3829268292682927, Train loss: 0.8092914037406445 |Validation err: 0.42245989304812837, Validation loss: 1.026782751083374\n"
          ]
        },
        {
          "output_type": "stream",
          "name": "stderr",
          "text": [
            "4it [00:00, 67.73it/s]\n"
          ]
        },
        {
          "output_type": "stream",
          "name": "stdout",
          "text": [
            "Epoch 44: Train err: 0.36585365853658536, Train loss: 0.7562043704092503 |Validation err: 0.34759358288770054, Validation loss: 0.9001274108886719\n"
          ]
        },
        {
          "output_type": "stream",
          "name": "stderr",
          "text": [
            "4it [00:00, 67.29it/s]\n"
          ]
        },
        {
          "output_type": "stream",
          "name": "stdout",
          "text": [
            "Epoch 45: Train err: 0.3591463414634146, Train loss: 0.7640879265964031 |Validation err: 0.3770053475935829, Validation loss: 0.9425123929977417\n"
          ]
        },
        {
          "output_type": "stream",
          "name": "stderr",
          "text": [
            "4it [00:00, 64.30it/s]\n"
          ]
        },
        {
          "output_type": "stream",
          "name": "stdout",
          "text": [
            "Epoch 46: Train err: 0.35609756097560974, Train loss: 0.7263137847185135 |Validation err: 0.3449197860962567, Validation loss: 0.8848958015441895\n"
          ]
        },
        {
          "output_type": "stream",
          "name": "stderr",
          "text": [
            "4it [00:00, 68.01it/s]\n"
          ]
        },
        {
          "output_type": "stream",
          "name": "stdout",
          "text": [
            "Epoch 47: Train err: 0.3524390243902439, Train loss: 0.7130165956914425 |Validation err: 0.35294117647058826, Validation loss: 0.9277439117431641\n"
          ]
        },
        {
          "output_type": "stream",
          "name": "stderr",
          "text": [
            "4it [00:00, 64.09it/s]\n"
          ]
        },
        {
          "output_type": "stream",
          "name": "stdout",
          "text": [
            "Epoch 48: Train err: 0.3359756097560976, Train loss: 0.6998633109033108 |Validation err: 0.3422459893048128, Validation loss: 0.8559711575508118\n"
          ]
        },
        {
          "output_type": "stream",
          "name": "stderr",
          "text": [
            "4it [00:00, 64.26it/s]\n"
          ]
        },
        {
          "output_type": "stream",
          "name": "stdout",
          "text": [
            "Epoch 49: Train err: 0.3298780487804878, Train loss: 0.6734135411679745 |Validation err: 0.31283422459893045, Validation loss: 0.7954066395759583\n"
          ]
        },
        {
          "output_type": "stream",
          "name": "stderr",
          "text": [
            "4it [00:00, 63.81it/s]\n"
          ]
        },
        {
          "output_type": "stream",
          "name": "stdout",
          "text": [
            "Epoch 50: Train err: 0.32195121951219513, Train loss: 0.6502030603587627 |Validation err: 0.33689839572192515, Validation loss: 0.8569628000259399\n"
          ]
        },
        {
          "output_type": "stream",
          "name": "stderr",
          "text": [
            "4it [00:00, 66.46it/s]\n"
          ]
        },
        {
          "output_type": "stream",
          "name": "stdout",
          "text": [
            "Epoch 51: Train err: 0.3024390243902439, Train loss: 0.6014985274523497 |Validation err: 0.31016042780748665, Validation loss: 0.7864092588424683\n"
          ]
        },
        {
          "output_type": "stream",
          "name": "stderr",
          "text": [
            "4it [00:00, 69.21it/s]\n"
          ]
        },
        {
          "output_type": "stream",
          "name": "stdout",
          "text": [
            "Epoch 52: Train err: 0.32621951219512196, Train loss: 0.6441378630697727 |Validation err: 0.35294117647058826, Validation loss: 0.8842592835426331\n"
          ]
        },
        {
          "output_type": "stream",
          "name": "stderr",
          "text": [
            "4it [00:00, 69.46it/s]\n"
          ]
        },
        {
          "output_type": "stream",
          "name": "stdout",
          "text": [
            "Epoch 53: Train err: 0.2920731707317073, Train loss: 0.6034314017742872 |Validation err: 0.29411764705882354, Validation loss: 0.7625886797904968\n"
          ]
        },
        {
          "output_type": "stream",
          "name": "stderr",
          "text": [
            "4it [00:00, 64.94it/s]\n"
          ]
        },
        {
          "output_type": "stream",
          "name": "stdout",
          "text": [
            "Epoch 54: Train err: 0.3079268292682927, Train loss: 0.6143441554158926 |Validation err: 0.3048128342245989, Validation loss: 0.8212717771530151\n"
          ]
        },
        {
          "output_type": "stream",
          "name": "stderr",
          "text": [
            "4it [00:00, 58.06it/s]\n"
          ]
        },
        {
          "output_type": "stream",
          "name": "stdout",
          "text": [
            "Epoch 55: Train err: 0.275, Train loss: 0.5765094179660082 |Validation err: 0.3235294117647059, Validation loss: 0.7677833437919617\n"
          ]
        },
        {
          "output_type": "stream",
          "name": "stderr",
          "text": [
            "4it [00:00, 67.79it/s]\n"
          ]
        },
        {
          "output_type": "stream",
          "name": "stdout",
          "text": [
            "Epoch 56: Train err: 0.28597560975609754, Train loss: 0.5607433449476957 |Validation err: 0.3502673796791444, Validation loss: 0.8109641671180725\n"
          ]
        },
        {
          "output_type": "stream",
          "name": "stderr",
          "text": [
            "4it [00:00, 64.08it/s]\n"
          ]
        },
        {
          "output_type": "stream",
          "name": "stdout",
          "text": [
            "Epoch 57: Train err: 0.27439024390243905, Train loss: 0.5537302102893591 |Validation err: 0.32085561497326204, Validation loss: 0.734621524810791\n"
          ]
        },
        {
          "output_type": "stream",
          "name": "stderr",
          "text": [
            "4it [00:00, 67.00it/s]\n"
          ]
        },
        {
          "output_type": "stream",
          "name": "stdout",
          "text": [
            "Epoch 58: Train err: 0.27378048780487807, Train loss: 0.5130320768803358 |Validation err: 0.2914438502673797, Validation loss: 0.7733355760574341\n"
          ]
        },
        {
          "output_type": "stream",
          "name": "stderr",
          "text": [
            "4it [00:00, 66.34it/s]\n"
          ]
        },
        {
          "output_type": "stream",
          "name": "stdout",
          "text": [
            "Epoch 59: Train err: 0.26890243902439026, Train loss: 0.5190689098089933 |Validation err: 0.31283422459893045, Validation loss: 0.7290306687355042\n"
          ]
        },
        {
          "output_type": "stream",
          "name": "stderr",
          "text": [
            "4it [00:00, 68.90it/s]\n"
          ]
        },
        {
          "output_type": "stream",
          "name": "stdout",
          "text": [
            "Epoch 60: Train err: 0.2628048780487805, Train loss: 0.5047918567433953 |Validation err: 0.2914438502673797, Validation loss: 0.7231969833374023\n"
          ]
        },
        {
          "output_type": "stream",
          "name": "stderr",
          "text": [
            "4it [00:00, 65.18it/s]\n"
          ]
        },
        {
          "output_type": "stream",
          "name": "stdout",
          "text": [
            "Epoch 61: Train err: 0.2634146341463415, Train loss: 0.5296307001262903 |Validation err: 0.3181818181818182, Validation loss: 0.7783704400062561\n"
          ]
        },
        {
          "output_type": "stream",
          "name": "stderr",
          "text": [
            "4it [00:00, 61.48it/s]\n"
          ]
        },
        {
          "output_type": "stream",
          "name": "stdout",
          "text": [
            "Epoch 62: Train err: 0.25670731707317074, Train loss: 0.5000051576644182 |Validation err: 0.2620320855614973, Validation loss: 0.7382737994194031\n"
          ]
        },
        {
          "output_type": "stream",
          "name": "stderr",
          "text": [
            "4it [00:00, 64.12it/s]\n"
          ]
        },
        {
          "output_type": "stream",
          "name": "stdout",
          "text": [
            "Epoch 63: Train err: 0.2652439024390244, Train loss: 0.495776136405766 |Validation err: 0.31016042780748665, Validation loss: 0.7570533156394958\n"
          ]
        },
        {
          "output_type": "stream",
          "name": "stderr",
          "text": [
            "4it [00:00, 69.51it/s]\n"
          ]
        },
        {
          "output_type": "stream",
          "name": "stdout",
          "text": [
            "Epoch 64: Train err: 0.24695121951219512, Train loss: 0.48628443107008934 |Validation err: 0.29411764705882354, Validation loss: 0.7770723700523376\n"
          ]
        },
        {
          "output_type": "stream",
          "name": "stderr",
          "text": [
            "4it [00:00, 67.32it/s]\n"
          ]
        },
        {
          "output_type": "stream",
          "name": "stdout",
          "text": [
            "Epoch 65: Train err: 0.21890243902439024, Train loss: 0.43203811161220074 |Validation err: 0.2620320855614973, Validation loss: 0.6949083209037781\n"
          ]
        },
        {
          "output_type": "stream",
          "name": "stderr",
          "text": [
            "4it [00:00, 71.98it/s]\n"
          ]
        },
        {
          "output_type": "stream",
          "name": "stdout",
          "text": [
            "Epoch 66: Train err: 0.2451219512195122, Train loss: 0.4794016666710377 |Validation err: 0.25935828877005346, Validation loss: 0.703292191028595\n"
          ]
        },
        {
          "output_type": "stream",
          "name": "stderr",
          "text": [
            "4it [00:00, 68.07it/s]\n"
          ]
        },
        {
          "output_type": "stream",
          "name": "stdout",
          "text": [
            "Epoch 67: Train err: 0.22987804878048781, Train loss: 0.4358524717390537 |Validation err: 0.28609625668449196, Validation loss: 0.7172053456306458\n"
          ]
        },
        {
          "output_type": "stream",
          "name": "stderr",
          "text": [
            "4it [00:00, 70.97it/s]\n"
          ]
        },
        {
          "output_type": "stream",
          "name": "stdout",
          "text": [
            "Epoch 68: Train err: 0.2371951219512195, Train loss: 0.44696731586009264 |Validation err: 0.2620320855614973, Validation loss: 0.6206291913986206\n"
          ]
        },
        {
          "output_type": "stream",
          "name": "stderr",
          "text": [
            "4it [00:00, 66.70it/s]\n"
          ]
        },
        {
          "output_type": "stream",
          "name": "stdout",
          "text": [
            "Epoch 69: Train err: 0.22865853658536586, Train loss: 0.44006772665306926 |Validation err: 0.2807486631016043, Validation loss: 0.6811593174934387\n"
          ]
        },
        {
          "output_type": "stream",
          "name": "stderr",
          "text": [
            "4it [00:00, 59.69it/s]\n"
          ]
        },
        {
          "output_type": "stream",
          "name": "stdout",
          "text": [
            "Epoch 70: Train err: 0.2146341463414634, Train loss: 0.4069438949227333 |Validation err: 0.26737967914438504, Validation loss: 0.657128632068634\n"
          ]
        },
        {
          "output_type": "stream",
          "name": "stderr",
          "text": [
            "4it [00:00, 66.85it/s]\n"
          ]
        },
        {
          "output_type": "stream",
          "name": "stdout",
          "text": [
            "Epoch 71: Train err: 0.19390243902439025, Train loss: 0.38555205101147294 |Validation err: 0.22727272727272727, Validation loss: 0.6108783483505249\n"
          ]
        },
        {
          "output_type": "stream",
          "name": "stderr",
          "text": [
            "4it [00:00, 63.59it/s]\n"
          ]
        },
        {
          "output_type": "stream",
          "name": "stdout",
          "text": [
            "Epoch 72: Train err: 0.20365853658536584, Train loss: 0.3810888873413205 |Validation err: 0.22994652406417113, Validation loss: 0.6326261758804321\n"
          ]
        },
        {
          "output_type": "stream",
          "name": "stderr",
          "text": [
            "4it [00:00, 67.47it/s]\n"
          ]
        },
        {
          "output_type": "stream",
          "name": "stdout",
          "text": [
            "Epoch 73: Train err: 0.20548780487804877, Train loss: 0.39415303245186806 |Validation err: 0.25935828877005346, Validation loss: 0.6854879856109619\n"
          ]
        },
        {
          "output_type": "stream",
          "name": "stderr",
          "text": [
            "4it [00:00, 71.52it/s]\n"
          ]
        },
        {
          "output_type": "stream",
          "name": "stdout",
          "text": [
            "Epoch 74: Train err: 0.20609756097560974, Train loss: 0.38451128639280796 |Validation err: 0.2647058823529412, Validation loss: 0.7574144601821899\n"
          ]
        },
        {
          "output_type": "stream",
          "name": "stderr",
          "text": [
            "4it [00:00, 67.35it/s]\n"
          ]
        },
        {
          "output_type": "stream",
          "name": "stdout",
          "text": [
            "Epoch 75: Train err: 0.2, Train loss: 0.3957528444007039 |Validation err: 0.2914438502673797, Validation loss: 0.793973982334137\n"
          ]
        },
        {
          "output_type": "stream",
          "name": "stderr",
          "text": [
            "4it [00:00, 64.87it/s]\n"
          ]
        },
        {
          "output_type": "stream",
          "name": "stdout",
          "text": [
            "Epoch 76: Train err: 0.20670731707317072, Train loss: 0.4231584779918194 |Validation err: 0.2887700534759358, Validation loss: 0.7659108638763428\n"
          ]
        },
        {
          "output_type": "stream",
          "name": "stderr",
          "text": [
            "4it [00:00, 63.41it/s]\n"
          ]
        },
        {
          "output_type": "stream",
          "name": "stdout",
          "text": [
            "Epoch 77: Train err: 0.2274390243902439, Train loss: 0.4147220700979233 |Validation err: 0.232620320855615, Validation loss: 0.6324459910392761\n"
          ]
        },
        {
          "output_type": "stream",
          "name": "stderr",
          "text": [
            "4it [00:00, 68.77it/s]\n"
          ]
        },
        {
          "output_type": "stream",
          "name": "stdout",
          "text": [
            "Epoch 78: Train err: 0.20182926829268294, Train loss: 0.41284592542797327 |Validation err: 0.24598930481283424, Validation loss: 0.6971700191497803\n"
          ]
        },
        {
          "output_type": "stream",
          "name": "stderr",
          "text": [
            "4it [00:00, 64.40it/s]\n"
          ]
        },
        {
          "output_type": "stream",
          "name": "stdout",
          "text": [
            "Epoch 79: Train err: 0.23353658536585367, Train loss: 0.4162492770701647 |Validation err: 0.25935828877005346, Validation loss: 0.7098302841186523\n"
          ]
        },
        {
          "output_type": "stream",
          "name": "stderr",
          "text": [
            "4it [00:00, 69.11it/s]\n"
          ]
        },
        {
          "output_type": "stream",
          "name": "stdout",
          "text": [
            "Epoch 80: Train err: 0.1823170731707317, Train loss: 0.3904478885233402 |Validation err: 0.22459893048128343, Validation loss: 0.6349608302116394\n"
          ]
        },
        {
          "output_type": "stream",
          "name": "stderr",
          "text": [
            "4it [00:00, 70.23it/s]\n"
          ]
        },
        {
          "output_type": "stream",
          "name": "stdout",
          "text": [
            "Epoch 81: Train err: 0.20670731707317072, Train loss: 0.39657552633434534 |Validation err: 0.24866310160427807, Validation loss: 0.6914423704147339\n"
          ]
        },
        {
          "output_type": "stream",
          "name": "stderr",
          "text": [
            "4it [00:00, 69.67it/s]\n"
          ]
        },
        {
          "output_type": "stream",
          "name": "stdout",
          "text": [
            "Epoch 82: Train err: 0.17073170731707318, Train loss: 0.3510451130568981 |Validation err: 0.23796791443850268, Validation loss: 0.650608479976654\n"
          ]
        },
        {
          "output_type": "stream",
          "name": "stderr",
          "text": [
            "4it [00:00, 70.33it/s]\n"
          ]
        },
        {
          "output_type": "stream",
          "name": "stdout",
          "text": [
            "Epoch 83: Train err: 0.1774390243902439, Train loss: 0.34194492921233177 |Validation err: 0.22459893048128343, Validation loss: 0.6072009801864624\n"
          ]
        },
        {
          "output_type": "stream",
          "name": "stderr",
          "text": [
            "4it [00:00, 63.11it/s]\n"
          ]
        },
        {
          "output_type": "stream",
          "name": "stdout",
          "text": [
            "Epoch 84: Train err: 0.1676829268292683, Train loss: 0.3258666731417179 |Validation err: 0.22994652406417113, Validation loss: 0.6842095851898193\n"
          ]
        },
        {
          "output_type": "stream",
          "name": "stderr",
          "text": [
            "4it [00:00, 64.64it/s]\n"
          ]
        },
        {
          "output_type": "stream",
          "name": "stdout",
          "text": [
            "Epoch 85: Train err: 0.1871951219512195, Train loss: 0.3572641834616661 |Validation err: 0.232620320855615, Validation loss: 0.7085677981376648\n"
          ]
        },
        {
          "output_type": "stream",
          "name": "stderr",
          "text": [
            "4it [00:00, 64.15it/s]\n"
          ]
        },
        {
          "output_type": "stream",
          "name": "stdout",
          "text": [
            "Epoch 86: Train err: 0.18597560975609756, Train loss: 0.34494753321632743 |Validation err: 0.25668449197860965, Validation loss: 0.7453405857086182\n"
          ]
        },
        {
          "output_type": "stream",
          "name": "stderr",
          "text": [
            "4it [00:00, 67.84it/s]\n"
          ]
        },
        {
          "output_type": "stream",
          "name": "stdout",
          "text": [
            "Epoch 87: Train err: 0.17134146341463416, Train loss: 0.3431091886013746 |Validation err: 0.2192513368983957, Validation loss: 0.5453856587409973\n"
          ]
        },
        {
          "output_type": "stream",
          "name": "stderr",
          "text": [
            "4it [00:00, 68.01it/s]\n"
          ]
        },
        {
          "output_type": "stream",
          "name": "stdout",
          "text": [
            "Epoch 88: Train err: 0.1548780487804878, Train loss: 0.3289049188606441 |Validation err: 0.18449197860962566, Validation loss: 0.5365090370178223\n"
          ]
        },
        {
          "output_type": "stream",
          "name": "stderr",
          "text": [
            "4it [00:00, 65.55it/s]\n"
          ]
        },
        {
          "output_type": "stream",
          "name": "stdout",
          "text": [
            "Epoch 89: Train err: 0.15121951219512195, Train loss: 0.29585892520844936 |Validation err: 0.18983957219251338, Validation loss: 0.6359015703201294\n"
          ]
        },
        {
          "output_type": "stream",
          "name": "stderr",
          "text": [
            "4it [00:00, 68.90it/s]\n"
          ]
        },
        {
          "output_type": "stream",
          "name": "stdout",
          "text": [
            "Epoch 90: Train err: 0.14390243902439023, Train loss: 0.2932150913402438 |Validation err: 0.232620320855615, Validation loss: 0.6406846046447754\n"
          ]
        },
        {
          "output_type": "stream",
          "name": "stderr",
          "text": [
            "4it [00:00, 71.98it/s]\n"
          ]
        },
        {
          "output_type": "stream",
          "name": "stdout",
          "text": [
            "Epoch 91: Train err: 0.15, Train loss: 0.2922217412851751 |Validation err: 0.22994652406417113, Validation loss: 0.6388624310493469\n"
          ]
        },
        {
          "output_type": "stream",
          "name": "stderr",
          "text": [
            "4it [00:00, 63.02it/s]\n"
          ]
        },
        {
          "output_type": "stream",
          "name": "stdout",
          "text": [
            "Epoch 92: Train err: 0.15182926829268292, Train loss: 0.2941707232967019 |Validation err: 0.18983957219251338, Validation loss: 0.5672597885131836\n"
          ]
        },
        {
          "output_type": "stream",
          "name": "stderr",
          "text": [
            "4it [00:00, 63.02it/s]\n"
          ]
        },
        {
          "output_type": "stream",
          "name": "stdout",
          "text": [
            "Epoch 93: Train err: 0.1469512195121951, Train loss: 0.27985150227323174 |Validation err: 0.23529411764705882, Validation loss: 0.6284604668617249\n"
          ]
        },
        {
          "output_type": "stream",
          "name": "stderr",
          "text": [
            "4it [00:00, 64.69it/s]\n"
          ]
        },
        {
          "output_type": "stream",
          "name": "stdout",
          "text": [
            "Epoch 94: Train err: 0.13414634146341464, Train loss: 0.26606611371971667 |Validation err: 0.23796791443850268, Validation loss: 0.6332960724830627\n"
          ]
        },
        {
          "output_type": "stream",
          "name": "stderr",
          "text": [
            "4it [00:00, 68.11it/s]\n"
          ]
        },
        {
          "output_type": "stream",
          "name": "stdout",
          "text": [
            "Epoch 95: Train err: 0.1353658536585366, Train loss: 0.27718486450612545 |Validation err: 0.21390374331550802, Validation loss: 0.618952751159668\n"
          ]
        },
        {
          "output_type": "stream",
          "name": "stderr",
          "text": [
            "4it [00:00, 66.97it/s]\n"
          ]
        },
        {
          "output_type": "stream",
          "name": "stdout",
          "text": [
            "Epoch 96: Train err: 0.12012195121951219, Train loss: 0.24978156108409166 |Validation err: 0.19518716577540107, Validation loss: 0.6283676028251648\n"
          ]
        },
        {
          "output_type": "stream",
          "name": "stderr",
          "text": [
            "4it [00:00, 58.49it/s]\n"
          ]
        },
        {
          "output_type": "stream",
          "name": "stdout",
          "text": [
            "Epoch 97: Train err: 0.10975609756097561, Train loss: 0.23205591668374836 |Validation err: 0.18983957219251338, Validation loss: 0.58296799659729\n"
          ]
        },
        {
          "output_type": "stream",
          "name": "stderr",
          "text": [
            "4it [00:00, 62.73it/s]\n"
          ]
        },
        {
          "output_type": "stream",
          "name": "stdout",
          "text": [
            "Epoch 98: Train err: 0.1274390243902439, Train loss: 0.24159582238644361 |Validation err: 0.18983957219251338, Validation loss: 0.5786307454109192\n"
          ]
        },
        {
          "output_type": "stream",
          "name": "stderr",
          "text": [
            "4it [00:00, 63.75it/s]\n"
          ]
        },
        {
          "output_type": "stream",
          "name": "stdout",
          "text": [
            "Epoch 99: Train err: 0.125, Train loss: 0.24697183398529887 |Validation err: 0.18716577540106952, Validation loss: 0.6285949349403381\n"
          ]
        },
        {
          "output_type": "stream",
          "name": "stderr",
          "text": [
            "4it [00:00, 68.96it/s]\n"
          ]
        },
        {
          "output_type": "stream",
          "name": "stdout",
          "text": [
            "Epoch 100: Train err: 0.1274390243902439, Train loss: 0.24582224432379007 |Validation err: 0.20855614973262032, Validation loss: 0.6065000891685486\n"
          ]
        },
        {
          "output_type": "stream",
          "name": "stderr",
          "text": [
            "4it [00:00, 70.35it/s]\n"
          ]
        },
        {
          "output_type": "stream",
          "name": "stdout",
          "text": [
            "Epoch 101: Train err: 0.11646341463414635, Train loss: 0.24939833115786314 |Validation err: 0.17379679144385027, Validation loss: 0.6525956392288208\n"
          ]
        },
        {
          "output_type": "stream",
          "name": "stderr",
          "text": [
            "4it [00:00, 59.68it/s]\n"
          ]
        },
        {
          "output_type": "stream",
          "name": "stdout",
          "text": [
            "Epoch 102: Train err: 0.12682926829268293, Train loss: 0.2466820131521672 |Validation err: 0.21657754010695188, Validation loss: 0.71277916431427\n"
          ]
        },
        {
          "output_type": "stream",
          "name": "stderr",
          "text": [
            "4it [00:00, 73.95it/s]\n"
          ]
        },
        {
          "output_type": "stream",
          "name": "stdout",
          "text": [
            "Epoch 103: Train err: 0.12682926829268293, Train loss: 0.2640316095203161 |Validation err: 0.19786096256684493, Validation loss: 0.5845806002616882\n"
          ]
        },
        {
          "output_type": "stream",
          "name": "stderr",
          "text": [
            "4it [00:00, 65.67it/s]\n"
          ]
        },
        {
          "output_type": "stream",
          "name": "stdout",
          "text": [
            "Epoch 104: Train err: 0.1353658536585366, Train loss: 0.2669396293349564 |Validation err: 0.25935828877005346, Validation loss: 0.7940546274185181\n"
          ]
        },
        {
          "output_type": "stream",
          "name": "stderr",
          "text": [
            "4it [00:00, 63.48it/s]\n"
          ]
        },
        {
          "output_type": "stream",
          "name": "stdout",
          "text": [
            "Epoch 105: Train err: 0.14573170731707316, Train loss: 0.30767321586608887 |Validation err: 0.21657754010695188, Validation loss: 0.6851497292518616\n"
          ]
        },
        {
          "output_type": "stream",
          "name": "stderr",
          "text": [
            "4it [00:00, 65.49it/s]\n"
          ]
        },
        {
          "output_type": "stream",
          "name": "stdout",
          "text": [
            "Epoch 106: Train err: 0.16097560975609757, Train loss: 0.3067800011485815 |Validation err: 0.2967914438502674, Validation loss: 0.9880952835083008\n"
          ]
        },
        {
          "output_type": "stream",
          "name": "stderr",
          "text": [
            "4it [00:00, 67.99it/s]\n"
          ]
        },
        {
          "output_type": "stream",
          "name": "stdout",
          "text": [
            "Epoch 107: Train err: 0.20670731707317072, Train loss: 0.4096210123389028 |Validation err: 0.25668449197860965, Validation loss: 0.6900018453598022\n"
          ]
        },
        {
          "output_type": "stream",
          "name": "stderr",
          "text": [
            "4it [00:00, 66.41it/s]\n"
          ]
        },
        {
          "output_type": "stream",
          "name": "stdout",
          "text": [
            "Epoch 108: Train err: 0.2201219512195122, Train loss: 0.4329989741090685 |Validation err: 0.18716577540106952, Validation loss: 0.5539675354957581\n"
          ]
        },
        {
          "output_type": "stream",
          "name": "stderr",
          "text": [
            "4it [00:00, 69.13it/s]\n"
          ]
        },
        {
          "output_type": "stream",
          "name": "stdout",
          "text": [
            "Epoch 109: Train err: 0.1298780487804878, Train loss: 0.3398122410289943 |Validation err: 0.22994652406417113, Validation loss: 0.683021068572998\n"
          ]
        },
        {
          "output_type": "stream",
          "name": "stderr",
          "text": [
            "4it [00:00, 63.98it/s]\n"
          ]
        },
        {
          "output_type": "stream",
          "name": "stdout",
          "text": [
            "Epoch 110: Train err: 0.11463414634146342, Train loss: 0.2780440403148532 |Validation err: 0.18983957219251338, Validation loss: 0.5830010175704956\n"
          ]
        },
        {
          "output_type": "stream",
          "name": "stderr",
          "text": [
            "4it [00:00, 65.39it/s]\n"
          ]
        },
        {
          "output_type": "stream",
          "name": "stdout",
          "text": [
            "Epoch 111: Train err: 0.12804878048780488, Train loss: 0.2635470163077116 |Validation err: 0.20855614973262032, Validation loss: 0.6112449169158936\n"
          ]
        },
        {
          "output_type": "stream",
          "name": "stderr",
          "text": [
            "4it [00:00, 65.19it/s]\n"
          ]
        },
        {
          "output_type": "stream",
          "name": "stdout",
          "text": [
            "Epoch 112: Train err: 0.14390243902439023, Train loss: 0.31813640519976616 |Validation err: 0.25935828877005346, Validation loss: 0.8480958342552185\n"
          ]
        },
        {
          "output_type": "stream",
          "name": "stderr",
          "text": [
            "4it [00:00, 64.90it/s]\n"
          ]
        },
        {
          "output_type": "stream",
          "name": "stdout",
          "text": [
            "Epoch 113: Train err: 0.15853658536585366, Train loss: 0.3275979710742831 |Validation err: 0.25668449197860965, Validation loss: 0.9074435234069824\n"
          ]
        },
        {
          "output_type": "stream",
          "name": "stderr",
          "text": [
            "4it [00:00, 63.06it/s]\n"
          ]
        },
        {
          "output_type": "stream",
          "name": "stdout",
          "text": [
            "Epoch 114: Train err: 0.1719512195121951, Train loss: 0.358309012837708 |Validation err: 0.29411764705882354, Validation loss: 0.9341326355934143\n"
          ]
        },
        {
          "output_type": "stream",
          "name": "stderr",
          "text": [
            "4it [00:00, 66.64it/s]\n"
          ]
        },
        {
          "output_type": "stream",
          "name": "stdout",
          "text": [
            "Epoch 115: Train err: 0.19390243902439025, Train loss: 0.4300046097487211 |Validation err: 0.2727272727272727, Validation loss: 0.8927196264266968\n"
          ]
        },
        {
          "output_type": "stream",
          "name": "stderr",
          "text": [
            "4it [00:00, 62.76it/s]\n"
          ]
        },
        {
          "output_type": "stream",
          "name": "stdout",
          "text": [
            "Epoch 116: Train err: 0.1847560975609756, Train loss: 0.4039968359284103 |Validation err: 0.26737967914438504, Validation loss: 0.8353172540664673\n"
          ]
        },
        {
          "output_type": "stream",
          "name": "stderr",
          "text": [
            "4it [00:00, 71.57it/s]\n"
          ]
        },
        {
          "output_type": "stream",
          "name": "stdout",
          "text": [
            "Epoch 117: Train err: 0.16951219512195123, Train loss: 0.4149688947945833 |Validation err: 0.25133689839572193, Validation loss: 0.8555294871330261\n"
          ]
        },
        {
          "output_type": "stream",
          "name": "stderr",
          "text": [
            "4it [00:00, 61.42it/s]\n"
          ]
        },
        {
          "output_type": "stream",
          "name": "stdout",
          "text": [
            "Epoch 118: Train err: 0.1445121951219512, Train loss: 0.3559994278475642 |Validation err: 0.232620320855615, Validation loss: 0.644404947757721\n"
          ]
        },
        {
          "output_type": "stream",
          "name": "stderr",
          "text": [
            "4it [00:00, 66.92it/s]\n"
          ]
        },
        {
          "output_type": "stream",
          "name": "stdout",
          "text": [
            "Epoch 119: Train err: 0.16829268292682928, Train loss: 0.3662882447242737 |Validation err: 0.1711229946524064, Validation loss: 0.5420893430709839\n"
          ]
        },
        {
          "output_type": "stream",
          "name": "stderr",
          "text": [
            "4it [00:00, 54.05it/s]\n"
          ]
        },
        {
          "output_type": "stream",
          "name": "stdout",
          "text": [
            "Epoch 120: Train err: 0.1353658536585366, Train loss: 0.2736837128177285 |Validation err: 0.20855614973262032, Validation loss: 0.6340060830116272\n"
          ]
        },
        {
          "output_type": "stream",
          "name": "stderr",
          "text": [
            "4it [00:00, 66.45it/s]\n"
          ]
        },
        {
          "output_type": "stream",
          "name": "stdout",
          "text": [
            "Epoch 121: Train err: 0.11036585365853659, Train loss: 0.24700234550982714 |Validation err: 0.18716577540106952, Validation loss: 0.6455830335617065\n"
          ]
        },
        {
          "output_type": "stream",
          "name": "stderr",
          "text": [
            "4it [00:00, 71.61it/s]\n"
          ]
        },
        {
          "output_type": "stream",
          "name": "stdout",
          "text": [
            "Epoch 122: Train err: 0.12621951219512195, Train loss: 0.250944497063756 |Validation err: 0.18716577540106952, Validation loss: 0.6560431122779846\n"
          ]
        },
        {
          "output_type": "stream",
          "name": "stderr",
          "text": [
            "4it [00:00, 67.49it/s]\n"
          ]
        },
        {
          "output_type": "stream",
          "name": "stdout",
          "text": [
            "Epoch 123: Train err: 0.0975609756097561, Train loss: 0.24927106872200966 |Validation err: 0.18181818181818182, Validation loss: 0.6185798048973083\n"
          ]
        },
        {
          "output_type": "stream",
          "name": "stderr",
          "text": [
            "4it [00:00, 67.86it/s]\n"
          ]
        },
        {
          "output_type": "stream",
          "name": "stdout",
          "text": [
            "Epoch 124: Train err: 0.10670731707317073, Train loss: 0.23046523076482117 |Validation err: 0.1657754010695187, Validation loss: 0.5986801981925964\n"
          ]
        },
        {
          "output_type": "stream",
          "name": "stderr",
          "text": [
            "4it [00:00, 68.92it/s]\n"
          ]
        },
        {
          "output_type": "stream",
          "name": "stdout",
          "text": [
            "Epoch 125: Train err: 0.1048780487804878, Train loss: 0.23074182402342558 |Validation err: 0.1657754010695187, Validation loss: 0.5229026079177856\n"
          ]
        },
        {
          "output_type": "stream",
          "name": "stderr",
          "text": [
            "4it [00:00, 59.29it/s]\n"
          ]
        },
        {
          "output_type": "stream",
          "name": "stdout",
          "text": [
            "Epoch 126: Train err: 0.06951219512195123, Train loss: 0.19210163690149784 |Validation err: 0.16310160427807488, Validation loss: 0.5550314784049988\n"
          ]
        },
        {
          "output_type": "stream",
          "name": "stderr",
          "text": [
            "4it [00:00, 71.97it/s]\n"
          ]
        },
        {
          "output_type": "stream",
          "name": "stdout",
          "text": [
            "Epoch 127: Train err: 0.09024390243902439, Train loss: 0.20068894606083632 |Validation err: 0.1443850267379679, Validation loss: 0.56415855884552\n"
          ]
        },
        {
          "output_type": "stream",
          "name": "stderr",
          "text": [
            "4it [00:00, 68.04it/s]\n"
          ]
        },
        {
          "output_type": "stream",
          "name": "stdout",
          "text": [
            "Epoch 128: Train err: 0.0871951219512195, Train loss: 0.182563996873796 |Validation err: 0.1497326203208556, Validation loss: 0.5414780378341675\n"
          ]
        },
        {
          "output_type": "stream",
          "name": "stderr",
          "text": [
            "4it [00:00, 65.44it/s]\n"
          ]
        },
        {
          "output_type": "stream",
          "name": "stdout",
          "text": [
            "Epoch 129: Train err: 0.06341463414634146, Train loss: 0.1712976696435362 |Validation err: 0.15775401069518716, Validation loss: 0.5532041192054749\n"
          ]
        },
        {
          "output_type": "stream",
          "name": "stderr",
          "text": [
            "4it [00:00, 67.55it/s]\n"
          ]
        },
        {
          "output_type": "stream",
          "name": "stdout",
          "text": [
            "Epoch 130: Train err: 0.06890243902439025, Train loss: 0.18254850897938013 |Validation err: 0.1497326203208556, Validation loss: 0.5865042209625244\n"
          ]
        },
        {
          "output_type": "stream",
          "name": "stderr",
          "text": [
            "4it [00:00, 70.70it/s]\n"
          ]
        },
        {
          "output_type": "stream",
          "name": "stdout",
          "text": [
            "Epoch 131: Train err: 0.054878048780487805, Train loss: 0.1554854172281921 |Validation err: 0.12834224598930483, Validation loss: 0.5198783278465271\n"
          ]
        },
        {
          "output_type": "stream",
          "name": "stderr",
          "text": [
            "4it [00:00, 67.40it/s]\n"
          ]
        },
        {
          "output_type": "stream",
          "name": "stdout",
          "text": [
            "Epoch 132: Train err: 0.06402439024390244, Train loss: 0.15006046532653272 |Validation err: 0.1497326203208556, Validation loss: 0.5885829925537109\n"
          ]
        },
        {
          "output_type": "stream",
          "name": "stderr",
          "text": [
            "4it [00:00, 67.15it/s]\n"
          ]
        },
        {
          "output_type": "stream",
          "name": "stdout",
          "text": [
            "Epoch 133: Train err: 0.06707317073170732, Train loss: 0.1519931573420763 |Validation err: 0.18716577540106952, Validation loss: 0.5477491617202759\n"
          ]
        },
        {
          "output_type": "stream",
          "name": "stderr",
          "text": [
            "4it [00:00, 67.26it/s]\n"
          ]
        },
        {
          "output_type": "stream",
          "name": "stdout",
          "text": [
            "Epoch 134: Train err: 0.06707317073170732, Train loss: 0.14997305814176798 |Validation err: 0.12299465240641712, Validation loss: 0.4842914938926697\n"
          ]
        },
        {
          "output_type": "stream",
          "name": "stderr",
          "text": [
            "4it [00:00, 66.55it/s]\n"
          ]
        },
        {
          "output_type": "stream",
          "name": "stdout",
          "text": [
            "Epoch 135: Train err: 0.06097560975609756, Train loss: 0.14176047360524535 |Validation err: 0.1497326203208556, Validation loss: 0.5670642256736755\n"
          ]
        },
        {
          "output_type": "stream",
          "name": "stderr",
          "text": [
            "4it [00:00, 63.41it/s]\n"
          ]
        },
        {
          "output_type": "stream",
          "name": "stdout",
          "text": [
            "Epoch 136: Train err: 0.060365853658536583, Train loss: 0.14991101482883096 |Validation err: 0.16042780748663102, Validation loss: 0.5979453325271606\n"
          ]
        },
        {
          "output_type": "stream",
          "name": "stderr",
          "text": [
            "4it [00:00, 65.99it/s]\n"
          ]
        },
        {
          "output_type": "stream",
          "name": "stdout",
          "text": [
            "Epoch 137: Train err: 0.05975609756097561, Train loss: 0.13829819159582257 |Validation err: 0.13903743315508021, Validation loss: 0.5304808616638184\n"
          ]
        },
        {
          "output_type": "stream",
          "name": "stderr",
          "text": [
            "4it [00:00, 71.04it/s]\n"
          ]
        },
        {
          "output_type": "stream",
          "name": "stdout",
          "text": [
            "Epoch 138: Train err: 0.04878048780487805, Train loss: 0.1371279659215361 |Validation err: 0.1443850267379679, Validation loss: 0.5539724230766296\n"
          ]
        },
        {
          "output_type": "stream",
          "name": "stderr",
          "text": [
            "4it [00:00, 72.88it/s]\n"
          ]
        },
        {
          "output_type": "stream",
          "name": "stdout",
          "text": [
            "Epoch 139: Train err: 0.046341463414634146, Train loss: 0.11915949825197458 |Validation err: 0.12834224598930483, Validation loss: 0.4910613000392914\n"
          ]
        },
        {
          "output_type": "stream",
          "name": "stderr",
          "text": [
            "4it [00:00, 66.90it/s]\n"
          ]
        },
        {
          "output_type": "stream",
          "name": "stdout",
          "text": [
            "Epoch 140: Train err: 0.0524390243902439, Train loss: 0.13327340967953205 |Validation err: 0.14171122994652408, Validation loss: 0.5035545825958252\n"
          ]
        },
        {
          "output_type": "stream",
          "name": "stderr",
          "text": [
            "4it [00:00, 65.96it/s]\n"
          ]
        },
        {
          "output_type": "stream",
          "name": "stdout",
          "text": [
            "Epoch 141: Train err: 0.05304878048780488, Train loss: 0.11776948720216751 |Validation err: 0.13368983957219252, Validation loss: 0.5241442322731018\n"
          ]
        },
        {
          "output_type": "stream",
          "name": "stderr",
          "text": [
            "4it [00:00, 64.21it/s]\n"
          ]
        },
        {
          "output_type": "stream",
          "name": "stdout",
          "text": [
            "Epoch 142: Train err: 0.0475609756097561, Train loss: 0.11504884203895926 |Validation err: 0.15508021390374332, Validation loss: 0.6059502363204956\n"
          ]
        },
        {
          "output_type": "stream",
          "name": "stderr",
          "text": [
            "4it [00:00, 65.42it/s]\n"
          ]
        },
        {
          "output_type": "stream",
          "name": "stdout",
          "text": [
            "Epoch 143: Train err: 0.057926829268292686, Train loss: 0.12118213955545798 |Validation err: 0.13636363636363635, Validation loss: 0.5404313802719116\n"
          ]
        },
        {
          "output_type": "stream",
          "name": "stderr",
          "text": [
            "4it [00:00, 66.61it/s]\n"
          ]
        },
        {
          "output_type": "stream",
          "name": "stdout",
          "text": [
            "Epoch 144: Train err: 0.05365853658536585, Train loss: 0.1262494926340878 |Validation err: 0.15508021390374332, Validation loss: 0.6112428307533264\n"
          ]
        },
        {
          "output_type": "stream",
          "name": "stderr",
          "text": [
            "4it [00:00, 67.88it/s]\n"
          ]
        },
        {
          "output_type": "stream",
          "name": "stdout",
          "text": [
            "Epoch 145: Train err: 0.06524390243902439, Train loss: 0.14719846087973565 |Validation err: 0.1443850267379679, Validation loss: 0.6026212573051453\n"
          ]
        },
        {
          "output_type": "stream",
          "name": "stderr",
          "text": [
            "4it [00:00, 67.27it/s]\n"
          ]
        },
        {
          "output_type": "stream",
          "name": "stdout",
          "text": [
            "Epoch 146: Train err: 0.08536585365853659, Train loss: 0.18259858200326562 |Validation err: 0.15775401069518716, Validation loss: 0.5780141353607178\n"
          ]
        },
        {
          "output_type": "stream",
          "name": "stderr",
          "text": [
            "4it [00:00, 68.31it/s]\n"
          ]
        },
        {
          "output_type": "stream",
          "name": "stdout",
          "text": [
            "Epoch 147: Train err: 0.09329268292682927, Train loss: 0.2024467932060361 |Validation err: 0.13101604278074866, Validation loss: 0.5500032305717468\n"
          ]
        },
        {
          "output_type": "stream",
          "name": "stderr",
          "text": [
            "4it [00:00, 67.40it/s]\n"
          ]
        },
        {
          "output_type": "stream",
          "name": "stdout",
          "text": [
            "Epoch 148: Train err: 0.09451219512195122, Train loss: 0.18745221477001905 |Validation err: 0.16844919786096257, Validation loss: 0.574434220790863\n"
          ]
        },
        {
          "output_type": "stream",
          "name": "stderr",
          "text": [
            "4it [00:00, 72.96it/s]\n"
          ]
        },
        {
          "output_type": "stream",
          "name": "stdout",
          "text": [
            "Epoch 149: Train err: 0.07073170731707316, Train loss: 0.15325022116303444 |Validation err: 0.17379679144385027, Validation loss: 0.5850695967674255\n"
          ]
        },
        {
          "output_type": "stream",
          "name": "stderr",
          "text": [
            "4it [00:00, 63.76it/s]\n"
          ]
        },
        {
          "output_type": "stream",
          "name": "stdout",
          "text": [
            "Epoch 150: Train err: 0.05548780487804878, Train loss: 0.1408926758740563 |Validation err: 0.13903743315508021, Validation loss: 0.5715086460113525\n"
          ]
        },
        {
          "output_type": "stream",
          "name": "stderr",
          "text": [
            "4it [00:00, 67.81it/s]\n"
          ]
        },
        {
          "output_type": "stream",
          "name": "stdout",
          "text": [
            "Epoch 151: Train err: 0.0676829268292683, Train loss: 0.1461034637177363 |Validation err: 0.12299465240641712, Validation loss: 0.4726546108722687\n"
          ]
        },
        {
          "output_type": "stream",
          "name": "stderr",
          "text": [
            "4it [00:00, 68.32it/s]\n"
          ]
        },
        {
          "output_type": "stream",
          "name": "stdout",
          "text": [
            "Epoch 152: Train err: 0.042682926829268296, Train loss: 0.12189870560541749 |Validation err: 0.1497326203208556, Validation loss: 0.5126290321350098\n"
          ]
        },
        {
          "output_type": "stream",
          "name": "stderr",
          "text": [
            "4it [00:00, 64.22it/s]\n"
          ]
        },
        {
          "output_type": "stream",
          "name": "stdout",
          "text": [
            "Epoch 153: Train err: 0.036585365853658534, Train loss: 0.11105889535974711 |Validation err: 0.1497326203208556, Validation loss: 0.6291748881340027\n"
          ]
        },
        {
          "output_type": "stream",
          "name": "stderr",
          "text": [
            "4it [00:00, 66.21it/s]\n"
          ]
        },
        {
          "output_type": "stream",
          "name": "stdout",
          "text": [
            "Epoch 154: Train err: 0.04207317073170732, Train loss: 0.1050261752679944 |Validation err: 0.1497326203208556, Validation loss: 0.566070556640625\n"
          ]
        },
        {
          "output_type": "stream",
          "name": "stderr",
          "text": [
            "4it [00:00, 67.46it/s]\n"
          ]
        },
        {
          "output_type": "stream",
          "name": "stdout",
          "text": [
            "Epoch 155: Train err: 0.032926829268292684, Train loss: 0.09738461207598448 |Validation err: 0.12566844919786097, Validation loss: 0.6288910508155823\n"
          ]
        },
        {
          "output_type": "stream",
          "name": "stderr",
          "text": [
            "4it [00:00, 59.46it/s]\n"
          ]
        },
        {
          "output_type": "stream",
          "name": "stdout",
          "text": [
            "Epoch 156: Train err: 0.05, Train loss: 0.11259968159720302 |Validation err: 0.1443850267379679, Validation loss: 0.5428900718688965\n"
          ]
        },
        {
          "output_type": "stream",
          "name": "stderr",
          "text": [
            "4it [00:00, 72.15it/s]\n"
          ]
        },
        {
          "output_type": "stream",
          "name": "stdout",
          "text": [
            "Epoch 157: Train err: 0.03353658536585366, Train loss: 0.09097825293429196 |Validation err: 0.11764705882352941, Validation loss: 0.5767061114311218\n"
          ]
        },
        {
          "output_type": "stream",
          "name": "stderr",
          "text": [
            "4it [00:00, 69.16it/s]\n"
          ]
        },
        {
          "output_type": "stream",
          "name": "stdout",
          "text": [
            "Epoch 158: Train err: 0.045121951219512194, Train loss: 0.10580733302049339 |Validation err: 0.15775401069518716, Validation loss: 0.5057213306427002\n"
          ]
        },
        {
          "output_type": "stream",
          "name": "stderr",
          "text": [
            "4it [00:00, 70.36it/s]\n"
          ]
        },
        {
          "output_type": "stream",
          "name": "stdout",
          "text": [
            "Epoch 159: Train err: 0.03414634146341464, Train loss: 0.08820906083565205 |Validation err: 0.13903743315508021, Validation loss: 0.5343363285064697\n"
          ]
        },
        {
          "output_type": "stream",
          "name": "stderr",
          "text": [
            "4it [00:00, 67.80it/s]\n"
          ]
        },
        {
          "output_type": "stream",
          "name": "stdout",
          "text": [
            "Epoch 160: Train err: 0.03414634146341464, Train loss: 0.09357115114107728 |Validation err: 0.1443850267379679, Validation loss: 0.5607860088348389\n"
          ]
        },
        {
          "output_type": "stream",
          "name": "stderr",
          "text": [
            "4it [00:00, 73.37it/s]\n"
          ]
        },
        {
          "output_type": "stream",
          "name": "stdout",
          "text": [
            "Epoch 161: Train err: 0.02926829268292683, Train loss: 0.07899539332720451 |Validation err: 0.14171122994652408, Validation loss: 0.5534583330154419\n"
          ]
        },
        {
          "output_type": "stream",
          "name": "stderr",
          "text": [
            "4it [00:00, 69.36it/s]\n"
          ]
        },
        {
          "output_type": "stream",
          "name": "stdout",
          "text": [
            "Epoch 162: Train err: 0.03719512195121951, Train loss: 0.0879595554433763 |Validation err: 0.14171122994652408, Validation loss: 0.5582536458969116\n"
          ]
        },
        {
          "output_type": "stream",
          "name": "stderr",
          "text": [
            "4it [00:00, 67.58it/s]\n"
          ]
        },
        {
          "output_type": "stream",
          "name": "stdout",
          "text": [
            "Epoch 163: Train err: 0.03170731707317073, Train loss: 0.07798111252486706 |Validation err: 0.13903743315508021, Validation loss: 0.5845291018486023\n"
          ]
        },
        {
          "output_type": "stream",
          "name": "stderr",
          "text": [
            "4it [00:00, 58.58it/s]\n"
          ]
        },
        {
          "output_type": "stream",
          "name": "stdout",
          "text": [
            "Epoch 164: Train err: 0.028658536585365855, Train loss: 0.07376199029386044 |Validation err: 0.12032085561497326, Validation loss: 0.5449395179748535\n"
          ]
        },
        {
          "output_type": "stream",
          "name": "stderr",
          "text": [
            "4it [00:00, 68.38it/s]\n"
          ]
        },
        {
          "output_type": "stream",
          "name": "stdout",
          "text": [
            "Epoch 165: Train err: 0.03597560975609756, Train loss: 0.08908601431176066 |Validation err: 0.13636363636363635, Validation loss: 0.5955421328544617\n"
          ]
        },
        {
          "output_type": "stream",
          "name": "stderr",
          "text": [
            "4it [00:00, 59.55it/s]\n"
          ]
        },
        {
          "output_type": "stream",
          "name": "stdout",
          "text": [
            "Epoch 166: Train err: 0.03048780487804878, Train loss: 0.07966226298594847 |Validation err: 0.12834224598930483, Validation loss: 0.5311126708984375\n"
          ]
        },
        {
          "output_type": "stream",
          "name": "stderr",
          "text": [
            "4it [00:00, 66.03it/s]\n"
          ]
        },
        {
          "output_type": "stream",
          "name": "stdout",
          "text": [
            "Epoch 167: Train err: 0.04024390243902439, Train loss: 0.08936282619833946 |Validation err: 0.12299465240641712, Validation loss: 0.5099756121635437\n"
          ]
        },
        {
          "output_type": "stream",
          "name": "stderr",
          "text": [
            "4it [00:00, 67.47it/s]\n"
          ]
        },
        {
          "output_type": "stream",
          "name": "stdout",
          "text": [
            "Epoch 168: Train err: 0.031097560975609756, Train loss: 0.07980578672140837 |Validation err: 0.1443850267379679, Validation loss: 0.6115776300430298\n"
          ]
        },
        {
          "output_type": "stream",
          "name": "stderr",
          "text": [
            "4it [00:00, 65.51it/s]\n"
          ]
        },
        {
          "output_type": "stream",
          "name": "stdout",
          "text": [
            "Epoch 169: Train err: 0.03841463414634146, Train loss: 0.08662828896194696 |Validation err: 0.1443850267379679, Validation loss: 0.6755645871162415\n"
          ]
        },
        {
          "output_type": "stream",
          "name": "stderr",
          "text": [
            "4it [00:00, 67.21it/s]\n"
          ]
        },
        {
          "output_type": "stream",
          "name": "stdout",
          "text": [
            "Epoch 170: Train err: 0.03048780487804878, Train loss: 0.08781052101403475 |Validation err: 0.12299465240641712, Validation loss: 0.5111631751060486\n"
          ]
        },
        {
          "output_type": "stream",
          "name": "stderr",
          "text": [
            "4it [00:00, 68.65it/s]\n"
          ]
        },
        {
          "output_type": "stream",
          "name": "stdout",
          "text": [
            "Epoch 171: Train err: 0.032926829268292684, Train loss: 0.07771688047796488 |Validation err: 0.14705882352941177, Validation loss: 0.6927192211151123\n"
          ]
        },
        {
          "output_type": "stream",
          "name": "stderr",
          "text": [
            "4it [00:00, 67.65it/s]\n"
          ]
        },
        {
          "output_type": "stream",
          "name": "stdout",
          "text": [
            "Epoch 172: Train err: 0.029878048780487804, Train loss: 0.08803890994749963 |Validation err: 0.11229946524064172, Validation loss: 0.5566644072532654\n"
          ]
        },
        {
          "output_type": "stream",
          "name": "stderr",
          "text": [
            "4it [00:00, 66.17it/s]\n"
          ]
        },
        {
          "output_type": "stream",
          "name": "stdout",
          "text": [
            "Epoch 173: Train err: 0.043292682926829265, Train loss: 0.09252975514391437 |Validation err: 0.11497326203208556, Validation loss: 0.593250036239624\n"
          ]
        },
        {
          "output_type": "stream",
          "name": "stderr",
          "text": [
            "4it [00:00, 61.05it/s]\n"
          ]
        },
        {
          "output_type": "stream",
          "name": "stdout",
          "text": [
            "Epoch 174: Train err: 0.03902439024390244, Train loss: 0.09176469699013978 |Validation err: 0.12834224598930483, Validation loss: 0.5486002564430237\n"
          ]
        },
        {
          "output_type": "stream",
          "name": "stderr",
          "text": [
            "4it [00:00, 69.86it/s]\n"
          ]
        },
        {
          "output_type": "stream",
          "name": "stdout",
          "text": [
            "Epoch 175: Train err: 0.028658536585365855, Train loss: 0.07978900824673474 |Validation err: 0.1443850267379679, Validation loss: 0.5922433137893677\n"
          ]
        },
        {
          "output_type": "stream",
          "name": "stderr",
          "text": [
            "4it [00:00, 66.31it/s]\n"
          ]
        },
        {
          "output_type": "stream",
          "name": "stdout",
          "text": [
            "Epoch 176: Train err: 0.02621951219512195, Train loss: 0.06973912823013961 |Validation err: 0.13101604278074866, Validation loss: 0.610775887966156\n"
          ]
        },
        {
          "output_type": "stream",
          "name": "stderr",
          "text": [
            "4it [00:00, 67.51it/s]\n"
          ]
        },
        {
          "output_type": "stream",
          "name": "stdout",
          "text": [
            "Epoch 177: Train err: 0.025, Train loss: 0.07043945486657321 |Validation err: 0.13636363636363635, Validation loss: 0.6142174005508423\n"
          ]
        },
        {
          "output_type": "stream",
          "name": "stderr",
          "text": [
            "4it [00:00, 66.52it/s]\n"
          ]
        },
        {
          "output_type": "stream",
          "name": "stdout",
          "text": [
            "Epoch 178: Train err: 0.03231707317073171, Train loss: 0.08681517606601119 |Validation err: 0.14171122994652408, Validation loss: 0.6590290665626526\n"
          ]
        },
        {
          "output_type": "stream",
          "name": "stderr",
          "text": [
            "4it [00:00, 66.66it/s]\n"
          ]
        },
        {
          "output_type": "stream",
          "name": "stdout",
          "text": [
            "Epoch 179: Train err: 0.02195121951219512, Train loss: 0.06985276751220226 |Validation err: 0.11764705882352941, Validation loss: 0.49938201904296875\n"
          ]
        },
        {
          "output_type": "stream",
          "name": "stderr",
          "text": [
            "4it [00:00, 69.89it/s]\n"
          ]
        },
        {
          "output_type": "stream",
          "name": "stdout",
          "text": [
            "Epoch 180: Train err: 0.02378048780487805, Train loss: 0.07365074288100004 |Validation err: 0.14171122994652408, Validation loss: 0.5435666441917419\n"
          ]
        },
        {
          "output_type": "stream",
          "name": "stderr",
          "text": [
            "4it [00:00, 68.31it/s]\n"
          ]
        },
        {
          "output_type": "stream",
          "name": "stdout",
          "text": [
            "Epoch 181: Train err: 0.018292682926829267, Train loss: 0.058893427485600114 |Validation err: 0.13368983957219252, Validation loss: 0.566476047039032\n"
          ]
        },
        {
          "output_type": "stream",
          "name": "stderr",
          "text": [
            "4it [00:00, 66.16it/s]\n"
          ]
        },
        {
          "output_type": "stream",
          "name": "stdout",
          "text": [
            "Epoch 182: Train err: 0.02926829268292683, Train loss: 0.0661706902901642 |Validation err: 0.12566844919786097, Validation loss: 0.7026219367980957\n"
          ]
        },
        {
          "output_type": "stream",
          "name": "stderr",
          "text": [
            "4it [00:00, 62.77it/s]\n"
          ]
        },
        {
          "output_type": "stream",
          "name": "stdout",
          "text": [
            "Epoch 183: Train err: 0.020121951219512196, Train loss: 0.07138354238122702 |Validation err: 0.12566844919786097, Validation loss: 0.6931103467941284\n"
          ]
        },
        {
          "output_type": "stream",
          "name": "stderr",
          "text": [
            "4it [00:00, 67.70it/s]\n"
          ]
        },
        {
          "output_type": "stream",
          "name": "stdout",
          "text": [
            "Epoch 184: Train err: 0.028658536585365855, Train loss: 0.0759096362744458 |Validation err: 0.13636363636363635, Validation loss: 0.5545217990875244\n"
          ]
        },
        {
          "output_type": "stream",
          "name": "stderr",
          "text": [
            "4it [00:00, 58.43it/s]\n"
          ]
        },
        {
          "output_type": "stream",
          "name": "stdout",
          "text": [
            "Epoch 185: Train err: 0.029878048780487804, Train loss: 0.07048303540796041 |Validation err: 0.14705882352941177, Validation loss: 0.6101495623588562\n"
          ]
        },
        {
          "output_type": "stream",
          "name": "stderr",
          "text": [
            "4it [00:00, 65.31it/s]\n"
          ]
        },
        {
          "output_type": "stream",
          "name": "stdout",
          "text": [
            "Epoch 186: Train err: 0.025, Train loss: 0.06566391978412867 |Validation err: 0.16310160427807488, Validation loss: 0.558962345123291\n"
          ]
        },
        {
          "output_type": "stream",
          "name": "stderr",
          "text": [
            "4it [00:00, 66.44it/s]\n"
          ]
        },
        {
          "output_type": "stream",
          "name": "stdout",
          "text": [
            "Epoch 187: Train err: 0.024390243902439025, Train loss: 0.06564267235808074 |Validation err: 0.11229946524064172, Validation loss: 0.6206907629966736\n"
          ]
        },
        {
          "output_type": "stream",
          "name": "stderr",
          "text": [
            "4it [00:00, 67.79it/s]\n"
          ]
        },
        {
          "output_type": "stream",
          "name": "stdout",
          "text": [
            "Epoch 188: Train err: 0.022560975609756097, Train loss: 0.0625180909410119 |Validation err: 0.12566844919786097, Validation loss: 0.6229941248893738\n"
          ]
        },
        {
          "output_type": "stream",
          "name": "stderr",
          "text": [
            "4it [00:00, 68.13it/s]\n"
          ]
        },
        {
          "output_type": "stream",
          "name": "stdout",
          "text": [
            "Epoch 189: Train err: 0.02378048780487805, Train loss: 0.06572435365524143 |Validation err: 0.12299465240641712, Validation loss: 0.49318504333496094\n"
          ]
        },
        {
          "output_type": "stream",
          "name": "stderr",
          "text": [
            "4it [00:00, 60.43it/s]\n"
          ]
        },
        {
          "output_type": "stream",
          "name": "stdout",
          "text": [
            "Epoch 190: Train err: 0.01707317073170732, Train loss: 0.05265302932821214 |Validation err: 0.13101604278074866, Validation loss: 0.5424574613571167\n"
          ]
        },
        {
          "output_type": "stream",
          "name": "stderr",
          "text": [
            "4it [00:00, 63.45it/s]\n"
          ]
        },
        {
          "output_type": "stream",
          "name": "stdout",
          "text": [
            "Epoch 191: Train err: 0.02621951219512195, Train loss: 0.06394110692781396 |Validation err: 0.13368983957219252, Validation loss: 0.5639380216598511\n"
          ]
        },
        {
          "output_type": "stream",
          "name": "stderr",
          "text": [
            "4it [00:00, 71.08it/s]\n"
          ]
        },
        {
          "output_type": "stream",
          "name": "stdout",
          "text": [
            "Epoch 192: Train err: 0.02195121951219512, Train loss: 0.0661367941647768 |Validation err: 0.13636363636363635, Validation loss: 0.5454834699630737\n"
          ]
        },
        {
          "output_type": "stream",
          "name": "stderr",
          "text": [
            "4it [00:00, 65.51it/s]\n"
          ]
        },
        {
          "output_type": "stream",
          "name": "stdout",
          "text": [
            "Epoch 193: Train err: 0.024390243902439025, Train loss: 0.06187466805567965 |Validation err: 0.14171122994652408, Validation loss: 0.6343043446540833\n"
          ]
        },
        {
          "output_type": "stream",
          "name": "stderr",
          "text": [
            "4it [00:00, 67.66it/s]\n"
          ]
        },
        {
          "output_type": "stream",
          "name": "stdout",
          "text": [
            "Epoch 194: Train err: 0.01951219512195122, Train loss: 0.05873840395361185 |Validation err: 0.13368983957219252, Validation loss: 0.7249315977096558\n"
          ]
        },
        {
          "output_type": "stream",
          "name": "stderr",
          "text": [
            "4it [00:00, 69.62it/s]\n"
          ]
        },
        {
          "output_type": "stream",
          "name": "stdout",
          "text": [
            "Epoch 195: Train err: 0.023170731707317073, Train loss: 0.061599708860740066 |Validation err: 0.15508021390374332, Validation loss: 0.7389696836471558\n"
          ]
        },
        {
          "output_type": "stream",
          "name": "stderr",
          "text": [
            "4it [00:00, 65.38it/s]\n"
          ]
        },
        {
          "output_type": "stream",
          "name": "stdout",
          "text": [
            "Epoch 196: Train err: 0.025, Train loss: 0.059539358131587505 |Validation err: 0.10695187165775401, Validation loss: 0.5343267917633057\n"
          ]
        },
        {
          "output_type": "stream",
          "name": "stderr",
          "text": [
            "4it [00:00, 72.16it/s]\n"
          ]
        },
        {
          "output_type": "stream",
          "name": "stdout",
          "text": [
            "Epoch 197: Train err: 0.01707317073170732, Train loss: 0.053811047691851854 |Validation err: 0.12834224598930483, Validation loss: 0.568484365940094\n"
          ]
        },
        {
          "output_type": "stream",
          "name": "stderr",
          "text": [
            "4it [00:00, 65.60it/s]\n"
          ]
        },
        {
          "output_type": "stream",
          "name": "stdout",
          "text": [
            "Epoch 198: Train err: 0.023170731707317073, Train loss: 0.06164476182311773 |Validation err: 0.12299465240641712, Validation loss: 0.5595115423202515\n"
          ]
        },
        {
          "output_type": "stream",
          "name": "stderr",
          "text": [
            "4it [00:00, 69.90it/s]\n"
          ]
        },
        {
          "output_type": "stream",
          "name": "stdout",
          "text": [
            "Epoch 199: Train err: 0.020121951219512196, Train loss: 0.05377515661530197 |Validation err: 0.1443850267379679, Validation loss: 0.6617777347564697\n"
          ]
        },
        {
          "output_type": "stream",
          "name": "stderr",
          "text": [
            "4it [00:00, 71.17it/s]\n"
          ]
        },
        {
          "output_type": "stream",
          "name": "stdout",
          "text": [
            "Epoch 200: Train err: 0.021341463414634148, Train loss: 0.05062704882584512 |Validation err: 0.12299465240641712, Validation loss: 0.6015381217002869\n",
            "Finished Training\n",
            "Total time elapsed: 25.55 seconds\n"
          ]
        }
      ]
    },
    {
      "cell_type": "markdown",
      "metadata": {
        "id": "wVAGuURu7-9q"
      },
      "source": [
        "### Part (c) - 2 pt\n",
        "Train your new network, including any hyperparameter tuning. Plot and submit the training curve of your\n",
        "best model only.\n",
        "\n",
        "Note: Depending on how you are caching (saving) your AlexNet features, PyTorch might still be tracking\n",
        "updates to the **AlexNet weights**, which we are not tuning. One workaround is to convert your AlexNet\n",
        "feature tensor into a numpy array, and then back into a PyTorch tensor."
      ]
    },
    {
      "cell_type": "code",
      "source": [
        "use_cuda = True\n",
        "\n",
        "net = Classifier(drop_rate = 0.1)\n",
        "\n",
        "if use_cuda and torch.cuda.is_available():\n",
        "  net.cuda()\n",
        "  print('CUDA is available!  Training on GPU ...')\n",
        "else:\n",
        "  print('CUDA is not available.  Training on CPU ...')\n",
        " \n",
        " \n",
        "train_net(df_train,df_val,df_test,net, batch_size=512, learning_rate=0.005, num_epochs=150)\n",
        "model_path = get_model_name(\"Classifier\", batch_size=512, learning_rate=0.005, num_epochs=149)\n",
        "plot_training_curve(model_path)"
      ],
      "metadata": {
        "colab": {
          "base_uri": "https://localhost:8080/",
          "height": 1000
        },
        "id": "ICX1QjimkNhB",
        "outputId": "bd07a890-e9e4-4598-c28a-72c96a547292"
      },
      "execution_count": null,
      "outputs": [
        {
          "output_type": "stream",
          "name": "stdout",
          "text": [
            "CUDA is available!  Training on GPU ...\n"
          ]
        },
        {
          "output_type": "stream",
          "name": "stderr",
          "text": [
            "4it [00:00, 33.58it/s]"
          ]
        },
        {
          "output_type": "stream",
          "name": "stdout",
          "text": [
            "Epoch 1: Train err: 0.8884146341463415, Train loss: 2.2225011587142944 |Validation err: 0.8903743315508021, Validation loss: 2.2033636569976807\n"
          ]
        },
        {
          "output_type": "stream",
          "name": "stderr",
          "text": [
            "\n",
            "4it [00:00, 70.67it/s]\n"
          ]
        },
        {
          "output_type": "stream",
          "name": "stdout",
          "text": [
            "Epoch 2: Train err: 0.8884146341463415, Train loss: 2.214216649532318 |Validation err: 0.8903743315508021, Validation loss: 2.20159912109375\n"
          ]
        },
        {
          "output_type": "stream",
          "name": "stderr",
          "text": [
            "4it [00:00, 69.48it/s]\n"
          ]
        },
        {
          "output_type": "stream",
          "name": "stdout",
          "text": [
            "Epoch 3: Train err: 0.8884146341463415, Train loss: 2.201932430267334 |Validation err: 0.8903743315508021, Validation loss: 2.2008941173553467\n"
          ]
        },
        {
          "output_type": "stream",
          "name": "stderr",
          "text": [
            "4it [00:00, 67.46it/s]\n"
          ]
        },
        {
          "output_type": "stream",
          "name": "stdout",
          "text": [
            "Epoch 4: Train err: 0.8884146341463415, Train loss: 2.1863008737564087 |Validation err: 0.8903743315508021, Validation loss: 2.196704626083374\n"
          ]
        },
        {
          "output_type": "stream",
          "name": "stderr",
          "text": [
            "4it [00:00, 72.84it/s]\n"
          ]
        },
        {
          "output_type": "stream",
          "name": "stdout",
          "text": [
            "Epoch 5: Train err: 0.8835365853658537, Train loss: 2.1709885597229004 |Validation err: 0.8903743315508021, Validation loss: 2.1985065937042236\n"
          ]
        },
        {
          "output_type": "stream",
          "name": "stderr",
          "text": [
            "4it [00:00, 69.21it/s]\n"
          ]
        },
        {
          "output_type": "stream",
          "name": "stdout",
          "text": [
            "Epoch 6: Train err: 0.8189024390243902, Train loss: 2.1504589319229126 |Validation err: 0.8796791443850267, Validation loss: 2.2011194229125977\n"
          ]
        },
        {
          "output_type": "stream",
          "name": "stderr",
          "text": [
            "4it [00:00, 66.32it/s]\n"
          ]
        },
        {
          "output_type": "stream",
          "name": "stdout",
          "text": [
            "Epoch 7: Train err: 0.875, Train loss: 2.12696573138237 |Validation err: 0.893048128342246, Validation loss: 2.2049551010131836\n"
          ]
        },
        {
          "output_type": "stream",
          "name": "stderr",
          "text": [
            "4it [00:00, 62.93it/s]\n"
          ]
        },
        {
          "output_type": "stream",
          "name": "stdout",
          "text": [
            "Epoch 8: Train err: 0.8884146341463415, Train loss: 2.099083662033081 |Validation err: 0.8957219251336899, Validation loss: 2.218136787414551\n"
          ]
        },
        {
          "output_type": "stream",
          "name": "stderr",
          "text": [
            "4it [00:00, 71.34it/s]\n"
          ]
        },
        {
          "output_type": "stream",
          "name": "stdout",
          "text": [
            "Epoch 9: Train err: 0.8920731707317073, Train loss: 2.0710349678993225 |Validation err: 0.8957219251336899, Validation loss: 2.2354061603546143\n"
          ]
        },
        {
          "output_type": "stream",
          "name": "stderr",
          "text": [
            "4it [00:00, 62.70it/s]\n"
          ]
        },
        {
          "output_type": "stream",
          "name": "stdout",
          "text": [
            "Epoch 10: Train err: 0.8920731707317073, Train loss: 2.0567928552627563 |Validation err: 0.8957219251336899, Validation loss: 2.264761209487915\n"
          ]
        },
        {
          "output_type": "stream",
          "name": "stderr",
          "text": [
            "4it [00:00, 67.17it/s]\n"
          ]
        },
        {
          "output_type": "stream",
          "name": "stdout",
          "text": [
            "Epoch 11: Train err: 0.8920731707317073, Train loss: 2.04629784822464 |Validation err: 0.8957219251336899, Validation loss: 2.2659695148468018\n"
          ]
        },
        {
          "output_type": "stream",
          "name": "stderr",
          "text": [
            "4it [00:00, 67.33it/s]\n"
          ]
        },
        {
          "output_type": "stream",
          "name": "stdout",
          "text": [
            "Epoch 12: Train err: 0.8920731707317073, Train loss: 2.036132723093033 |Validation err: 0.8957219251336899, Validation loss: 2.243718147277832\n"
          ]
        },
        {
          "output_type": "stream",
          "name": "stderr",
          "text": [
            "4it [00:00, 70.09it/s]\n"
          ]
        },
        {
          "output_type": "stream",
          "name": "stdout",
          "text": [
            "Epoch 13: Train err: 0.8920731707317073, Train loss: 2.0195305943489075 |Validation err: 0.8957219251336899, Validation loss: 2.209017753601074\n"
          ]
        },
        {
          "output_type": "stream",
          "name": "stderr",
          "text": [
            "4it [00:00, 68.64it/s]\n"
          ]
        },
        {
          "output_type": "stream",
          "name": "stdout",
          "text": [
            "Epoch 14: Train err: 0.8920731707317073, Train loss: 1.9853723049163818 |Validation err: 0.8957219251336899, Validation loss: 2.1848225593566895\n"
          ]
        },
        {
          "output_type": "stream",
          "name": "stderr",
          "text": [
            "4it [00:00, 69.05it/s]\n"
          ]
        },
        {
          "output_type": "stream",
          "name": "stdout",
          "text": [
            "Epoch 15: Train err: 0.8920731707317073, Train loss: 1.9471920728683472 |Validation err: 0.8957219251336899, Validation loss: 2.1637966632843018\n"
          ]
        },
        {
          "output_type": "stream",
          "name": "stderr",
          "text": [
            "4it [00:00, 67.75it/s]\n"
          ]
        },
        {
          "output_type": "stream",
          "name": "stdout",
          "text": [
            "Epoch 16: Train err: 0.8920731707317073, Train loss: 1.9007586687803268 |Validation err: 0.8957219251336899, Validation loss: 2.1386525630950928\n"
          ]
        },
        {
          "output_type": "stream",
          "name": "stderr",
          "text": [
            "4it [00:00, 60.43it/s]\n"
          ]
        },
        {
          "output_type": "stream",
          "name": "stdout",
          "text": [
            "Epoch 17: Train err: 0.8920731707317073, Train loss: 1.861228957772255 |Validation err: 0.8957219251336899, Validation loss: 2.0937633514404297\n"
          ]
        },
        {
          "output_type": "stream",
          "name": "stderr",
          "text": [
            "4it [00:00, 63.34it/s]\n"
          ]
        },
        {
          "output_type": "stream",
          "name": "stdout",
          "text": [
            "Epoch 18: Train err: 0.8920731707317073, Train loss: 1.8113693743944168 |Validation err: 0.8903743315508021, Validation loss: 2.0567574501037598\n"
          ]
        },
        {
          "output_type": "stream",
          "name": "stderr",
          "text": [
            "4it [00:00, 70.36it/s]\n"
          ]
        },
        {
          "output_type": "stream",
          "name": "stdout",
          "text": [
            "Epoch 19: Train err: 0.8878048780487805, Train loss: 1.75018510222435 |Validation err: 0.8770053475935828, Validation loss: 2.0211477279663086\n"
          ]
        },
        {
          "output_type": "stream",
          "name": "stderr",
          "text": [
            "4it [00:00, 66.47it/s]\n"
          ]
        },
        {
          "output_type": "stream",
          "name": "stdout",
          "text": [
            "Epoch 20: Train err: 0.874390243902439, Train loss: 1.6985822096467018 |Validation err: 0.8342245989304813, Validation loss: 1.9817454814910889\n"
          ]
        },
        {
          "output_type": "stream",
          "name": "stderr",
          "text": [
            "4it [00:00, 66.93it/s]\n"
          ]
        },
        {
          "output_type": "stream",
          "name": "stdout",
          "text": [
            "Epoch 21: Train err: 0.8317073170731707, Train loss: 1.6576273068785667 |Validation err: 0.7620320855614974, Validation loss: 1.9359512329101562\n"
          ]
        },
        {
          "output_type": "stream",
          "name": "stderr",
          "text": [
            "4it [00:00, 71.30it/s]\n"
          ]
        },
        {
          "output_type": "stream",
          "name": "stdout",
          "text": [
            "Epoch 22: Train err: 0.7689024390243903, Train loss: 1.6196733489632607 |Validation err: 0.6818181818181818, Validation loss: 1.9068584442138672\n"
          ]
        },
        {
          "output_type": "stream",
          "name": "stderr",
          "text": [
            "4it [00:00, 66.23it/s]\n"
          ]
        },
        {
          "output_type": "stream",
          "name": "stdout",
          "text": [
            "Epoch 23: Train err: 0.6725609756097561, Train loss: 1.5801268741488457 |Validation err: 0.5828877005347594, Validation loss: 1.873294711112976\n"
          ]
        },
        {
          "output_type": "stream",
          "name": "stderr",
          "text": [
            "4it [00:00, 67.61it/s]\n"
          ]
        },
        {
          "output_type": "stream",
          "name": "stdout",
          "text": [
            "Epoch 24: Train err: 0.6201219512195122, Train loss: 1.5307125225663185 |Validation err: 0.5721925133689839, Validation loss: 1.8172705173492432\n"
          ]
        },
        {
          "output_type": "stream",
          "name": "stderr",
          "text": [
            "4it [00:00, 65.02it/s]\n"
          ]
        },
        {
          "output_type": "stream",
          "name": "stdout",
          "text": [
            "Epoch 25: Train err: 0.6079268292682927, Train loss: 1.5038607604801655 |Validation err: 0.5588235294117647, Validation loss: 1.7637426853179932\n"
          ]
        },
        {
          "output_type": "stream",
          "name": "stderr",
          "text": [
            "4it [00:00, 59.50it/s]\n"
          ]
        },
        {
          "output_type": "stream",
          "name": "stdout",
          "text": [
            "Epoch 26: Train err: 0.5689024390243902, Train loss: 1.4498950093984604 |Validation err: 0.5508021390374331, Validation loss: 1.6977269649505615\n"
          ]
        },
        {
          "output_type": "stream",
          "name": "stderr",
          "text": [
            "4it [00:00, 69.79it/s]\n"
          ]
        },
        {
          "output_type": "stream",
          "name": "stdout",
          "text": [
            "Epoch 27: Train err: 0.5908536585365853, Train loss: 1.4012724682688713 |Validation err: 0.5026737967914439, Validation loss: 1.6070836782455444\n"
          ]
        },
        {
          "output_type": "stream",
          "name": "stderr",
          "text": [
            "4it [00:00, 67.90it/s]\n"
          ]
        },
        {
          "output_type": "stream",
          "name": "stdout",
          "text": [
            "Epoch 28: Train err: 0.5457317073170732, Train loss: 1.3381237909197807 |Validation err: 0.5106951871657754, Validation loss: 1.5294946432113647\n"
          ]
        },
        {
          "output_type": "stream",
          "name": "stderr",
          "text": [
            "4it [00:00, 68.68it/s]\n"
          ]
        },
        {
          "output_type": "stream",
          "name": "stdout",
          "text": [
            "Epoch 29: Train err: 0.5182926829268293, Train loss: 1.2800230830907822 |Validation err: 0.44919786096256686, Validation loss: 1.4313141107559204\n"
          ]
        },
        {
          "output_type": "stream",
          "name": "stderr",
          "text": [
            "4it [00:00, 65.83it/s]\n"
          ]
        },
        {
          "output_type": "stream",
          "name": "stdout",
          "text": [
            "Epoch 30: Train err: 0.5018292682926829, Train loss: 1.2093199416995049 |Validation err: 0.40641711229946526, Validation loss: 1.3294742107391357\n"
          ]
        },
        {
          "output_type": "stream",
          "name": "stderr",
          "text": [
            "4it [00:00, 66.65it/s]\n"
          ]
        },
        {
          "output_type": "stream",
          "name": "stdout",
          "text": [
            "Epoch 31: Train err: 0.4847560975609756, Train loss: 1.146449699997902 |Validation err: 0.3877005347593583, Validation loss: 1.2540128231048584\n"
          ]
        },
        {
          "output_type": "stream",
          "name": "stderr",
          "text": [
            "4it [00:00, 64.44it/s]\n"
          ]
        },
        {
          "output_type": "stream",
          "name": "stdout",
          "text": [
            "Epoch 32: Train err: 0.47073170731707314, Train loss: 1.0836993679404259 |Validation err: 0.393048128342246, Validation loss: 1.1746556758880615\n"
          ]
        },
        {
          "output_type": "stream",
          "name": "stderr",
          "text": [
            "4it [00:00, 66.17it/s]\n"
          ]
        },
        {
          "output_type": "stream",
          "name": "stdout",
          "text": [
            "Epoch 33: Train err: 0.46707317073170734, Train loss: 1.0374039113521576 |Validation err: 0.34759358288770054, Validation loss: 1.0945581197738647\n"
          ]
        },
        {
          "output_type": "stream",
          "name": "stderr",
          "text": [
            "4it [00:00, 64.68it/s]\n"
          ]
        },
        {
          "output_type": "stream",
          "name": "stdout",
          "text": [
            "Epoch 34: Train err: 0.40182926829268295, Train loss: 0.9561337046325207 |Validation err: 0.3609625668449198, Validation loss: 1.030899167060852\n"
          ]
        },
        {
          "output_type": "stream",
          "name": "stderr",
          "text": [
            "4it [00:00, 69.70it/s]\n"
          ]
        },
        {
          "output_type": "stream",
          "name": "stdout",
          "text": [
            "Epoch 35: Train err: 0.4024390243902439, Train loss: 0.9281237330287695 |Validation err: 0.3422459893048128, Validation loss: 0.9886149168014526\n"
          ]
        },
        {
          "output_type": "stream",
          "name": "stderr",
          "text": [
            "4it [00:00, 69.31it/s]\n"
          ]
        },
        {
          "output_type": "stream",
          "name": "stdout",
          "text": [
            "Epoch 36: Train err: 0.38658536585365855, Train loss: 0.9001565501093864 |Validation err: 0.3155080213903743, Validation loss: 0.9475469589233398\n"
          ]
        },
        {
          "output_type": "stream",
          "name": "stderr",
          "text": [
            "4it [00:00, 69.15it/s]\n"
          ]
        },
        {
          "output_type": "stream",
          "name": "stdout",
          "text": [
            "Epoch 37: Train err: 0.3646341463414634, Train loss: 0.8232559859752655 |Validation err: 0.3315508021390374, Validation loss: 0.9141018390655518\n"
          ]
        },
        {
          "output_type": "stream",
          "name": "stderr",
          "text": [
            "4it [00:00, 68.27it/s]\n"
          ]
        },
        {
          "output_type": "stream",
          "name": "stdout",
          "text": [
            "Epoch 38: Train err: 0.3591463414634146, Train loss: 0.8481971360743046 |Validation err: 0.3074866310160428, Validation loss: 0.856992244720459\n"
          ]
        },
        {
          "output_type": "stream",
          "name": "stderr",
          "text": [
            "4it [00:00, 73.89it/s]\n"
          ]
        },
        {
          "output_type": "stream",
          "name": "stdout",
          "text": [
            "Epoch 39: Train err: 0.33963414634146344, Train loss: 0.7413934264332056 |Validation err: 0.3048128342245989, Validation loss: 0.8747857809066772\n"
          ]
        },
        {
          "output_type": "stream",
          "name": "stderr",
          "text": [
            "4it [00:00, 72.15it/s]\n"
          ]
        },
        {
          "output_type": "stream",
          "name": "stdout",
          "text": [
            "Epoch 40: Train err: 0.35365853658536583, Train loss: 0.7720820382237434 |Validation err: 0.25935828877005346, Validation loss: 0.7787767648696899\n"
          ]
        },
        {
          "output_type": "stream",
          "name": "stderr",
          "text": [
            "4it [00:00, 71.38it/s]\n"
          ]
        },
        {
          "output_type": "stream",
          "name": "stdout",
          "text": [
            "Epoch 41: Train err: 0.29817073170731706, Train loss: 0.685958459507674 |Validation err: 0.3155080213903743, Validation loss: 0.8038670420646667\n"
          ]
        },
        {
          "output_type": "stream",
          "name": "stderr",
          "text": [
            "4it [00:00, 68.57it/s]\n"
          ]
        },
        {
          "output_type": "stream",
          "name": "stdout",
          "text": [
            "Epoch 42: Train err: 0.3054878048780488, Train loss: 0.6888504046946764 |Validation err: 0.25668449197860965, Validation loss: 0.7663702368736267\n"
          ]
        },
        {
          "output_type": "stream",
          "name": "stderr",
          "text": [
            "4it [00:00, 57.25it/s]\n"
          ]
        },
        {
          "output_type": "stream",
          "name": "stdout",
          "text": [
            "Epoch 43: Train err: 0.2865853658536585, Train loss: 0.6413899948820472 |Validation err: 0.33689839572192515, Validation loss: 0.8113403916358948\n"
          ]
        },
        {
          "output_type": "stream",
          "name": "stderr",
          "text": [
            "4it [00:00, 65.54it/s]\n"
          ]
        },
        {
          "output_type": "stream",
          "name": "stdout",
          "text": [
            "Epoch 44: Train err: 0.31646341463414634, Train loss: 0.7321316339075565 |Validation err: 0.2807486631016043, Validation loss: 0.7759620547294617\n"
          ]
        },
        {
          "output_type": "stream",
          "name": "stderr",
          "text": [
            "4it [00:00, 69.04it/s]\n"
          ]
        },
        {
          "output_type": "stream",
          "name": "stdout",
          "text": [
            "Epoch 45: Train err: 0.2731707317073171, Train loss: 0.6093734782189131 |Validation err: 0.2540106951871658, Validation loss: 0.7666778564453125\n"
          ]
        },
        {
          "output_type": "stream",
          "name": "stderr",
          "text": [
            "4it [00:00, 68.12it/s]\n"
          ]
        },
        {
          "output_type": "stream",
          "name": "stdout",
          "text": [
            "Epoch 46: Train err: 0.30060975609756097, Train loss: 0.6604101937264204 |Validation err: 0.3235294117647059, Validation loss: 0.8359078168869019\n"
          ]
        },
        {
          "output_type": "stream",
          "name": "stderr",
          "text": [
            "4it [00:00, 69.44it/s]\n"
          ]
        },
        {
          "output_type": "stream",
          "name": "stdout",
          "text": [
            "Epoch 47: Train err: 0.2530487804878049, Train loss: 0.5820368654094636 |Validation err: 0.40641711229946526, Validation loss: 1.0576214790344238\n"
          ]
        },
        {
          "output_type": "stream",
          "name": "stderr",
          "text": [
            "4it [00:00, 68.12it/s]\n"
          ]
        },
        {
          "output_type": "stream",
          "name": "stdout",
          "text": [
            "Epoch 48: Train err: 0.35121951219512193, Train loss: 0.8307560235261917 |Validation err: 0.3155080213903743, Validation loss: 0.8700888752937317\n"
          ]
        },
        {
          "output_type": "stream",
          "name": "stderr",
          "text": [
            "4it [00:00, 68.80it/s]\n"
          ]
        },
        {
          "output_type": "stream",
          "name": "stdout",
          "text": [
            "Epoch 49: Train err: 0.25365853658536586, Train loss: 0.6078902065055445 |Validation err: 0.29411764705882354, Validation loss: 0.8510926365852356\n"
          ]
        },
        {
          "output_type": "stream",
          "name": "stderr",
          "text": [
            "4it [00:00, 68.76it/s]\n"
          ]
        },
        {
          "output_type": "stream",
          "name": "stdout",
          "text": [
            "Epoch 50: Train err: 0.27134146341463417, Train loss: 0.6635559797286987 |Validation err: 0.40106951871657753, Validation loss: 1.0211366415023804\n"
          ]
        },
        {
          "output_type": "stream",
          "name": "stderr",
          "text": [
            "4it [00:00, 62.51it/s]\n"
          ]
        },
        {
          "output_type": "stream",
          "name": "stdout",
          "text": [
            "Epoch 51: Train err: 0.3170731707317073, Train loss: 0.6699781669303775 |Validation err: 0.3689839572192513, Validation loss: 0.9348593950271606\n"
          ]
        },
        {
          "output_type": "stream",
          "name": "stderr",
          "text": [
            "4it [00:00, 72.34it/s]\n"
          ]
        },
        {
          "output_type": "stream",
          "name": "stdout",
          "text": [
            "Epoch 52: Train err: 0.34817073170731705, Train loss: 0.7201115256175399 |Validation err: 0.2967914438502674, Validation loss: 0.775383710861206\n"
          ]
        },
        {
          "output_type": "stream",
          "name": "stderr",
          "text": [
            "4it [00:00, 68.00it/s]\n"
          ]
        },
        {
          "output_type": "stream",
          "name": "stdout",
          "text": [
            "Epoch 53: Train err: 0.32195121951219513, Train loss: 0.6941306740045547 |Validation err: 0.23529411764705882, Validation loss: 0.6561214327812195\n"
          ]
        },
        {
          "output_type": "stream",
          "name": "stderr",
          "text": [
            "4it [00:00, 69.27it/s]\n"
          ]
        },
        {
          "output_type": "stream",
          "name": "stdout",
          "text": [
            "Epoch 54: Train err: 0.23841463414634145, Train loss: 0.5351095455698669 |Validation err: 0.29411764705882354, Validation loss: 0.8505651354789734\n"
          ]
        },
        {
          "output_type": "stream",
          "name": "stderr",
          "text": [
            "4it [00:00, 69.80it/s]\n"
          ]
        },
        {
          "output_type": "stream",
          "name": "stdout",
          "text": [
            "Epoch 55: Train err: 0.2823170731707317, Train loss: 0.6253203507512808 |Validation err: 0.3582887700534759, Validation loss: 0.9217127561569214\n"
          ]
        },
        {
          "output_type": "stream",
          "name": "stderr",
          "text": [
            "4it [00:00, 66.55it/s]\n"
          ]
        },
        {
          "output_type": "stream",
          "name": "stdout",
          "text": [
            "Epoch 56: Train err: 0.32621951219512196, Train loss: 0.7028610780835152 |Validation err: 0.19786096256684493, Validation loss: 0.5947121381759644\n"
          ]
        },
        {
          "output_type": "stream",
          "name": "stderr",
          "text": [
            "4it [00:00, 65.76it/s]\n"
          ]
        },
        {
          "output_type": "stream",
          "name": "stdout",
          "text": [
            "Epoch 57: Train err: 0.20609756097560974, Train loss: 0.4698616457171738 |Validation err: 0.3181818181818182, Validation loss: 0.8498193025588989\n"
          ]
        },
        {
          "output_type": "stream",
          "name": "stderr",
          "text": [
            "4it [00:00, 66.56it/s]\n"
          ]
        },
        {
          "output_type": "stream",
          "name": "stdout",
          "text": [
            "Epoch 58: Train err: 0.27134146341463417, Train loss: 0.606591921299696 |Validation err: 0.22459893048128343, Validation loss: 0.6482502818107605\n"
          ]
        },
        {
          "output_type": "stream",
          "name": "stderr",
          "text": [
            "4it [00:00, 63.10it/s]\n"
          ]
        },
        {
          "output_type": "stream",
          "name": "stdout",
          "text": [
            "Epoch 59: Train err: 0.24878048780487805, Train loss: 0.5473427660763264 |Validation err: 0.22459893048128343, Validation loss: 0.6397905945777893\n"
          ]
        },
        {
          "output_type": "stream",
          "name": "stderr",
          "text": [
            "4it [00:00, 61.98it/s]\n"
          ]
        },
        {
          "output_type": "stream",
          "name": "stdout",
          "text": [
            "Epoch 60: Train err: 0.18658536585365854, Train loss: 0.4331083493307233 |Validation err: 0.21657754010695188, Validation loss: 0.6444244384765625\n"
          ]
        },
        {
          "output_type": "stream",
          "name": "stderr",
          "text": [
            "4it [00:00, 62.63it/s]\n"
          ]
        },
        {
          "output_type": "stream",
          "name": "stdout",
          "text": [
            "Epoch 61: Train err: 0.23414634146341465, Train loss: 0.50529376976192 |Validation err: 0.17379679144385027, Validation loss: 0.5316307544708252\n"
          ]
        },
        {
          "output_type": "stream",
          "name": "stderr",
          "text": [
            "4it [00:00, 66.77it/s]\n"
          ]
        },
        {
          "output_type": "stream",
          "name": "stdout",
          "text": [
            "Epoch 62: Train err: 0.16951219512195123, Train loss: 0.41978192515671253 |Validation err: 0.1925133689839572, Validation loss: 0.6036521196365356\n"
          ]
        },
        {
          "output_type": "stream",
          "name": "stderr",
          "text": [
            "4it [00:00, 71.49it/s]\n"
          ]
        },
        {
          "output_type": "stream",
          "name": "stdout",
          "text": [
            "Epoch 63: Train err: 0.15609756097560976, Train loss: 0.3937755534425378 |Validation err: 0.1711229946524064, Validation loss: 0.5005975961685181\n"
          ]
        },
        {
          "output_type": "stream",
          "name": "stderr",
          "text": [
            "4it [00:00, 68.96it/s]\n"
          ]
        },
        {
          "output_type": "stream",
          "name": "stdout",
          "text": [
            "Epoch 64: Train err: 0.16585365853658537, Train loss: 0.3744797268882394 |Validation err: 0.17914438502673796, Validation loss: 0.5445597171783447\n"
          ]
        },
        {
          "output_type": "stream",
          "name": "stderr",
          "text": [
            "4it [00:00, 65.48it/s]\n"
          ]
        },
        {
          "output_type": "stream",
          "name": "stdout",
          "text": [
            "Epoch 65: Train err: 0.16463414634146342, Train loss: 0.3766314834356308 |Validation err: 0.1925133689839572, Validation loss: 0.5583431720733643\n"
          ]
        },
        {
          "output_type": "stream",
          "name": "stderr",
          "text": [
            "4it [00:00, 67.11it/s]\n"
          ]
        },
        {
          "output_type": "stream",
          "name": "stdout",
          "text": [
            "Epoch 66: Train err: 0.15548780487804878, Train loss: 0.35394675377756357 |Validation err: 0.17914438502673796, Validation loss: 0.5781013369560242\n"
          ]
        },
        {
          "output_type": "stream",
          "name": "stderr",
          "text": [
            "4it [00:00, 63.76it/s]\n"
          ]
        },
        {
          "output_type": "stream",
          "name": "stdout",
          "text": [
            "Epoch 67: Train err: 0.14268292682926828, Train loss: 0.3382958327420056 |Validation err: 0.16844919786096257, Validation loss: 0.5037736892700195\n"
          ]
        },
        {
          "output_type": "stream",
          "name": "stderr",
          "text": [
            "4it [00:00, 63.09it/s]\n"
          ]
        },
        {
          "output_type": "stream",
          "name": "stdout",
          "text": [
            "Epoch 68: Train err: 0.16463414634146342, Train loss: 0.34759573568589985 |Validation err: 0.16042780748663102, Validation loss: 0.5148488283157349\n"
          ]
        },
        {
          "output_type": "stream",
          "name": "stderr",
          "text": [
            "4it [00:00, 65.24it/s]\n"
          ]
        },
        {
          "output_type": "stream",
          "name": "stdout",
          "text": [
            "Epoch 69: Train err: 0.13658536585365855, Train loss: 0.3166089365258813 |Validation err: 0.16042780748663102, Validation loss: 0.5003453493118286\n"
          ]
        },
        {
          "output_type": "stream",
          "name": "stderr",
          "text": [
            "4it [00:00, 71.57it/s]\n"
          ]
        },
        {
          "output_type": "stream",
          "name": "stdout",
          "text": [
            "Epoch 70: Train err: 0.14878048780487804, Train loss: 0.3178835909347981 |Validation err: 0.18181818181818182, Validation loss: 0.518376350402832\n"
          ]
        },
        {
          "output_type": "stream",
          "name": "stderr",
          "text": [
            "4it [00:00, 67.93it/s]\n"
          ]
        },
        {
          "output_type": "stream",
          "name": "stdout",
          "text": [
            "Epoch 71: Train err: 0.12560975609756098, Train loss: 0.3034221795387566 |Validation err: 0.18181818181818182, Validation loss: 0.5506011843681335\n"
          ]
        },
        {
          "output_type": "stream",
          "name": "stderr",
          "text": [
            "4it [00:00, 68.05it/s]\n"
          ]
        },
        {
          "output_type": "stream",
          "name": "stdout",
          "text": [
            "Epoch 72: Train err: 0.14390243902439023, Train loss: 0.31980390567332506 |Validation err: 0.20053475935828877, Validation loss: 0.5766940712928772\n"
          ]
        },
        {
          "output_type": "stream",
          "name": "stderr",
          "text": [
            "4it [00:00, 63.18it/s]\n"
          ]
        },
        {
          "output_type": "stream",
          "name": "stdout",
          "text": [
            "Epoch 73: Train err: 0.1475609756097561, Train loss: 0.323915402055718 |Validation err: 0.18716577540106952, Validation loss: 0.5314021110534668\n"
          ]
        },
        {
          "output_type": "stream",
          "name": "stderr",
          "text": [
            "4it [00:00, 67.71it/s]\n"
          ]
        },
        {
          "output_type": "stream",
          "name": "stdout",
          "text": [
            "Epoch 74: Train err: 0.1719512195121951, Train loss: 0.3388537906575948 |Validation err: 0.22192513368983957, Validation loss: 0.6258673071861267\n"
          ]
        },
        {
          "output_type": "stream",
          "name": "stderr",
          "text": [
            "4it [00:00, 58.27it/s]\n"
          ]
        },
        {
          "output_type": "stream",
          "name": "stdout",
          "text": [
            "Epoch 75: Train err: 0.17134146341463416, Train loss: 0.36277653835713863 |Validation err: 0.22727272727272727, Validation loss: 0.6070415377616882\n"
          ]
        },
        {
          "output_type": "stream",
          "name": "stderr",
          "text": [
            "4it [00:00, 69.34it/s]\n"
          ]
        },
        {
          "output_type": "stream",
          "name": "stdout",
          "text": [
            "Epoch 76: Train err: 0.20426829268292682, Train loss: 0.3844093116931617 |Validation err: 0.18983957219251338, Validation loss: 0.5858300924301147\n"
          ]
        },
        {
          "output_type": "stream",
          "name": "stderr",
          "text": [
            "4it [00:00, 61.26it/s]\n"
          ]
        },
        {
          "output_type": "stream",
          "name": "stdout",
          "text": [
            "Epoch 77: Train err: 0.18048780487804877, Train loss: 0.3739013154990971 |Validation err: 0.15240641711229946, Validation loss: 0.4844621419906616\n"
          ]
        },
        {
          "output_type": "stream",
          "name": "stderr",
          "text": [
            "4it [00:00, 62.08it/s]\n"
          ]
        },
        {
          "output_type": "stream",
          "name": "stdout",
          "text": [
            "Epoch 78: Train err: 0.14817073170731707, Train loss: 0.3095340118743479 |Validation err: 0.16844919786096257, Validation loss: 0.5016716718673706\n"
          ]
        },
        {
          "output_type": "stream",
          "name": "stderr",
          "text": [
            "4it [00:00, 71.59it/s]\n"
          ]
        },
        {
          "output_type": "stream",
          "name": "stdout",
          "text": [
            "Epoch 79: Train err: 0.08231707317073171, Train loss: 0.23496361589059234 |Validation err: 0.13101604278074866, Validation loss: 0.48289954662323\n"
          ]
        },
        {
          "output_type": "stream",
          "name": "stderr",
          "text": [
            "4it [00:00, 68.30it/s]\n"
          ]
        },
        {
          "output_type": "stream",
          "name": "stdout",
          "text": [
            "Epoch 80: Train err: 0.09146341463414634, Train loss: 0.24609129456803203 |Validation err: 0.13636363636363635, Validation loss: 0.4614271819591522\n"
          ]
        },
        {
          "output_type": "stream",
          "name": "stderr",
          "text": [
            "4it [00:00, 62.05it/s]\n"
          ]
        },
        {
          "output_type": "stream",
          "name": "stdout",
          "text": [
            "Epoch 81: Train err: 0.10182926829268292, Train loss: 0.24259093822911382 |Validation err: 0.13903743315508021, Validation loss: 0.4722432494163513\n"
          ]
        },
        {
          "output_type": "stream",
          "name": "stderr",
          "text": [
            "4it [00:00, 71.81it/s]\n"
          ]
        },
        {
          "output_type": "stream",
          "name": "stdout",
          "text": [
            "Epoch 82: Train err: 0.07317073170731707, Train loss: 0.20884899445809424 |Validation err: 0.13903743315508021, Validation loss: 0.4923134744167328\n"
          ]
        },
        {
          "output_type": "stream",
          "name": "stderr",
          "text": [
            "4it [00:00, 67.84it/s]\n"
          ]
        },
        {
          "output_type": "stream",
          "name": "stdout",
          "text": [
            "Epoch 83: Train err: 0.07926829268292683, Train loss: 0.20713048661127687 |Validation err: 0.1443850267379679, Validation loss: 0.46294665336608887\n"
          ]
        },
        {
          "output_type": "stream",
          "name": "stderr",
          "text": [
            "4it [00:00, 70.95it/s]\n"
          ]
        },
        {
          "output_type": "stream",
          "name": "stdout",
          "text": [
            "Epoch 84: Train err: 0.07865853658536585, Train loss: 0.19155222130939364 |Validation err: 0.14171122994652408, Validation loss: 0.4592348337173462\n"
          ]
        },
        {
          "output_type": "stream",
          "name": "stderr",
          "text": [
            "4it [00:00, 72.39it/s]\n"
          ]
        },
        {
          "output_type": "stream",
          "name": "stdout",
          "text": [
            "Epoch 85: Train err: 0.07073170731707316, Train loss: 0.1911248390097171 |Validation err: 0.16042780748663102, Validation loss: 0.44733890891075134\n"
          ]
        },
        {
          "output_type": "stream",
          "name": "stderr",
          "text": [
            "4it [00:00, 63.45it/s]\n"
          ]
        },
        {
          "output_type": "stream",
          "name": "stdout",
          "text": [
            "Epoch 86: Train err: 0.0798780487804878, Train loss: 0.18674222665140405 |Validation err: 0.13636363636363635, Validation loss: 0.48807284235954285\n"
          ]
        },
        {
          "output_type": "stream",
          "name": "stderr",
          "text": [
            "4it [00:00, 67.69it/s]\n"
          ]
        },
        {
          "output_type": "stream",
          "name": "stdout",
          "text": [
            "Epoch 87: Train err: 0.0701219512195122, Train loss: 0.1768587864935398 |Validation err: 0.13636363636363635, Validation loss: 0.454891562461853\n"
          ]
        },
        {
          "output_type": "stream",
          "name": "stderr",
          "text": [
            "4it [00:00, 62.14it/s]\n"
          ]
        },
        {
          "output_type": "stream",
          "name": "stdout",
          "text": [
            "Epoch 88: Train err: 0.075, Train loss: 0.1781966087874025 |Validation err: 0.14705882352941177, Validation loss: 0.47230076789855957\n"
          ]
        },
        {
          "output_type": "stream",
          "name": "stderr",
          "text": [
            "4it [00:00, 61.80it/s]\n"
          ]
        },
        {
          "output_type": "stream",
          "name": "stdout",
          "text": [
            "Epoch 89: Train err: 0.0701219512195122, Train loss: 0.17419864097610116 |Validation err: 0.13101604278074866, Validation loss: 0.481637567281723\n"
          ]
        },
        {
          "output_type": "stream",
          "name": "stderr",
          "text": [
            "4it [00:00, 62.54it/s]\n"
          ]
        },
        {
          "output_type": "stream",
          "name": "stdout",
          "text": [
            "Epoch 90: Train err: 0.06280487804878049, Train loss: 0.1660455991514027 |Validation err: 0.12834224598930483, Validation loss: 0.4241768717765808\n"
          ]
        },
        {
          "output_type": "stream",
          "name": "stderr",
          "text": [
            "4it [00:00, 67.75it/s]\n"
          ]
        },
        {
          "output_type": "stream",
          "name": "stdout",
          "text": [
            "Epoch 91: Train err: 0.05609756097560976, Train loss: 0.16349626751616597 |Validation err: 0.13903743315508021, Validation loss: 0.46532249450683594\n"
          ]
        },
        {
          "output_type": "stream",
          "name": "stderr",
          "text": [
            "4it [00:00, 70.78it/s]\n"
          ]
        },
        {
          "output_type": "stream",
          "name": "stdout",
          "text": [
            "Epoch 92: Train err: 0.05853658536585366, Train loss: 0.15626713179517537 |Validation err: 0.13101604278074866, Validation loss: 0.48584383726119995\n"
          ]
        },
        {
          "output_type": "stream",
          "name": "stderr",
          "text": [
            "4it [00:00, 69.06it/s]\n"
          ]
        },
        {
          "output_type": "stream",
          "name": "stdout",
          "text": [
            "Epoch 93: Train err: 0.057926829268292686, Train loss: 0.151734211074654 |Validation err: 0.1443850267379679, Validation loss: 0.4796583652496338\n"
          ]
        },
        {
          "output_type": "stream",
          "name": "stderr",
          "text": [
            "4it [00:00, 69.75it/s]\n"
          ]
        },
        {
          "output_type": "stream",
          "name": "stdout",
          "text": [
            "Epoch 94: Train err: 0.061585365853658536, Train loss: 0.15792276128195226 |Validation err: 0.13636363636363635, Validation loss: 0.47918814420700073\n"
          ]
        },
        {
          "output_type": "stream",
          "name": "stderr",
          "text": [
            "4it [00:00, 60.41it/s]\n"
          ]
        },
        {
          "output_type": "stream",
          "name": "stdout",
          "text": [
            "Epoch 95: Train err: 0.060365853658536583, Train loss: 0.1528874728246592 |Validation err: 0.1443850267379679, Validation loss: 0.472799688577652\n"
          ]
        },
        {
          "output_type": "stream",
          "name": "stderr",
          "text": [
            "4it [00:00, 73.27it/s]\n"
          ]
        },
        {
          "output_type": "stream",
          "name": "stdout",
          "text": [
            "Epoch 96: Train err: 0.06829268292682927, Train loss: 0.16374639829155058 |Validation err: 0.1443850267379679, Validation loss: 0.49367091059684753\n"
          ]
        },
        {
          "output_type": "stream",
          "name": "stderr",
          "text": [
            "4it [00:00, 70.16it/s]\n"
          ]
        },
        {
          "output_type": "stream",
          "name": "stdout",
          "text": [
            "Epoch 97: Train err: 0.054878048780487805, Train loss: 0.15021246270043775 |Validation err: 0.13101604278074866, Validation loss: 0.4450593888759613\n"
          ]
        },
        {
          "output_type": "stream",
          "name": "stderr",
          "text": [
            "4it [00:00, 67.22it/s]\n"
          ]
        },
        {
          "output_type": "stream",
          "name": "stdout",
          "text": [
            "Epoch 98: Train err: 0.06585365853658537, Train loss: 0.15368066588416696 |Validation err: 0.13368983957219252, Validation loss: 0.48921602964401245\n"
          ]
        },
        {
          "output_type": "stream",
          "name": "stderr",
          "text": [
            "4it [00:00, 72.35it/s]\n"
          ]
        },
        {
          "output_type": "stream",
          "name": "stdout",
          "text": [
            "Epoch 99: Train err: 0.042682926829268296, Train loss: 0.13089266081806272 |Validation err: 0.12566844919786097, Validation loss: 0.43385395407676697\n"
          ]
        },
        {
          "output_type": "stream",
          "name": "stderr",
          "text": [
            "4it [00:00, 68.24it/s]\n"
          ]
        },
        {
          "output_type": "stream",
          "name": "stdout",
          "text": [
            "Epoch 100: Train err: 0.0475609756097561, Train loss: 0.1354952824767679 |Validation err: 0.13368983957219252, Validation loss: 0.4315429925918579\n"
          ]
        },
        {
          "output_type": "stream",
          "name": "stderr",
          "text": [
            "4it [00:00, 69.05it/s]\n"
          ]
        },
        {
          "output_type": "stream",
          "name": "stdout",
          "text": [
            "Epoch 101: Train err: 0.04085365853658537, Train loss: 0.12054361309856176 |Validation err: 0.12299465240641712, Validation loss: 0.45711785554885864\n"
          ]
        },
        {
          "output_type": "stream",
          "name": "stderr",
          "text": [
            "4it [00:00, 70.17it/s]\n"
          ]
        },
        {
          "output_type": "stream",
          "name": "stdout",
          "text": [
            "Epoch 102: Train err: 0.03780487804878049, Train loss: 0.11605145526118577 |Validation err: 0.13636363636363635, Validation loss: 0.4806714653968811\n"
          ]
        },
        {
          "output_type": "stream",
          "name": "stderr",
          "text": [
            "4it [00:00, 74.15it/s]\n"
          ]
        },
        {
          "output_type": "stream",
          "name": "stdout",
          "text": [
            "Epoch 103: Train err: 0.036585365853658534, Train loss: 0.11893069848883897 |Validation err: 0.12032085561497326, Validation loss: 0.4819324016571045\n"
          ]
        },
        {
          "output_type": "stream",
          "name": "stderr",
          "text": [
            "4it [00:00, 48.21it/s]\n"
          ]
        },
        {
          "output_type": "stream",
          "name": "stdout",
          "text": [
            "Epoch 104: Train err: 0.04085365853658537, Train loss: 0.1139042864087969 |Validation err: 0.12299465240641712, Validation loss: 0.4464050233364105\n"
          ]
        },
        {
          "output_type": "stream",
          "name": "stderr",
          "text": [
            "4it [00:00, 66.27it/s]\n"
          ]
        },
        {
          "output_type": "stream",
          "name": "stdout",
          "text": [
            "Epoch 105: Train err: 0.03414634146341464, Train loss: 0.10343522840412334 |Validation err: 0.11497326203208556, Validation loss: 0.489978164434433\n"
          ]
        },
        {
          "output_type": "stream",
          "name": "stderr",
          "text": [
            "4it [00:00, 69.75it/s]\n"
          ]
        },
        {
          "output_type": "stream",
          "name": "stdout",
          "text": [
            "Epoch 106: Train err: 0.04024390243902439, Train loss: 0.11031979121617042 |Validation err: 0.1443850267379679, Validation loss: 0.5094741582870483\n"
          ]
        },
        {
          "output_type": "stream",
          "name": "stderr",
          "text": [
            "4it [00:00, 69.60it/s]\n"
          ]
        },
        {
          "output_type": "stream",
          "name": "stdout",
          "text": [
            "Epoch 107: Train err: 0.03536585365853658, Train loss: 0.10676712010172196 |Validation err: 0.12032085561497326, Validation loss: 0.47139599919319153\n"
          ]
        },
        {
          "output_type": "stream",
          "name": "stderr",
          "text": [
            "4it [00:00, 68.36it/s]\n"
          ]
        },
        {
          "output_type": "stream",
          "name": "stdout",
          "text": [
            "Epoch 108: Train err: 0.04024390243902439, Train loss: 0.10759916887036525 |Validation err: 0.13368983957219252, Validation loss: 0.48074066638946533\n"
          ]
        },
        {
          "output_type": "stream",
          "name": "stderr",
          "text": [
            "4it [00:00, 72.01it/s]\n"
          ]
        },
        {
          "output_type": "stream",
          "name": "stdout",
          "text": [
            "Epoch 109: Train err: 0.03841463414634146, Train loss: 0.10459382651606575 |Validation err: 0.12566844919786097, Validation loss: 0.47357475757598877\n"
          ]
        },
        {
          "output_type": "stream",
          "name": "stderr",
          "text": [
            "4it [00:00, 54.08it/s]\n"
          ]
        },
        {
          "output_type": "stream",
          "name": "stdout",
          "text": [
            "Epoch 110: Train err: 0.03841463414634146, Train loss: 0.10157067596446723 |Validation err: 0.13101604278074866, Validation loss: 0.5000292658805847\n"
          ]
        },
        {
          "output_type": "stream",
          "name": "stderr",
          "text": [
            "4it [00:00, 61.24it/s]\n"
          ]
        },
        {
          "output_type": "stream",
          "name": "stdout",
          "text": [
            "Epoch 111: Train err: 0.041463414634146344, Train loss: 0.1019873087934684 |Validation err: 0.13636363636363635, Validation loss: 0.4876357316970825\n"
          ]
        },
        {
          "output_type": "stream",
          "name": "stderr",
          "text": [
            "4it [00:00, 72.21it/s]\n"
          ]
        },
        {
          "output_type": "stream",
          "name": "stdout",
          "text": [
            "Epoch 112: Train err: 0.05609756097560976, Train loss: 0.12552954582497478 |Validation err: 0.16310160427807488, Validation loss: 0.5794515609741211\n"
          ]
        },
        {
          "output_type": "stream",
          "name": "stderr",
          "text": [
            "4it [00:00, 70.39it/s]\n"
          ]
        },
        {
          "output_type": "stream",
          "name": "stdout",
          "text": [
            "Epoch 113: Train err: 0.07134146341463414, Train loss: 0.15268585761077702 |Validation err: 0.16310160427807488, Validation loss: 0.569866955280304\n"
          ]
        },
        {
          "output_type": "stream",
          "name": "stderr",
          "text": [
            "4it [00:00, 70.98it/s]\n"
          ]
        },
        {
          "output_type": "stream",
          "name": "stdout",
          "text": [
            "Epoch 114: Train err: 0.13841463414634148, Train loss: 0.27257417514920235 |Validation err: 0.3235294117647059, Validation loss: 1.3102985620498657\n"
          ]
        },
        {
          "output_type": "stream",
          "name": "stderr",
          "text": [
            "4it [00:00, 48.85it/s]\n"
          ]
        },
        {
          "output_type": "stream",
          "name": "stdout",
          "text": [
            "Epoch 115: Train err: 0.20121951219512196, Train loss: 0.5659178891219199 |Validation err: 0.39037433155080214, Validation loss: 1.2344260215759277\n"
          ]
        },
        {
          "output_type": "stream",
          "name": "stderr",
          "text": [
            "4it [00:00, 70.84it/s]\n"
          ]
        },
        {
          "output_type": "stream",
          "name": "stdout",
          "text": [
            "Epoch 116: Train err: 0.35609756097560974, Train loss: 0.851032292470336 |Validation err: 0.2887700534759358, Validation loss: 0.7434086799621582\n"
          ]
        },
        {
          "output_type": "stream",
          "name": "stderr",
          "text": [
            "4it [00:00, 71.75it/s]\n"
          ]
        },
        {
          "output_type": "stream",
          "name": "stdout",
          "text": [
            "Epoch 117: Train err: 0.2280487804878049, Train loss: 0.5029076065402478 |Validation err: 0.35561497326203206, Validation loss: 0.9597305655479431\n"
          ]
        },
        {
          "output_type": "stream",
          "name": "stderr",
          "text": [
            "4it [00:00, 60.12it/s]\n"
          ]
        },
        {
          "output_type": "stream",
          "name": "stdout",
          "text": [
            "Epoch 118: Train err: 0.2530487804878049, Train loss: 0.5708701079711318 |Validation err: 0.32887700534759357, Validation loss: 0.9651387929916382\n"
          ]
        },
        {
          "output_type": "stream",
          "name": "stderr",
          "text": [
            "4it [00:00, 67.54it/s]\n"
          ]
        },
        {
          "output_type": "stream",
          "name": "stdout",
          "text": [
            "Epoch 119: Train err: 0.2530487804878049, Train loss: 0.5533333071507514 |Validation err: 0.2994652406417112, Validation loss: 0.7340115904808044\n"
          ]
        },
        {
          "output_type": "stream",
          "name": "stderr",
          "text": [
            "4it [00:00, 70.89it/s]\n"
          ]
        },
        {
          "output_type": "stream",
          "name": "stdout",
          "text": [
            "Epoch 120: Train err: 0.2371951219512195, Train loss: 0.4584466991946101 |Validation err: 0.16042780748663102, Validation loss: 0.5680172443389893\n"
          ]
        },
        {
          "output_type": "stream",
          "name": "stderr",
          "text": [
            "4it [00:00, 69.77it/s]\n"
          ]
        },
        {
          "output_type": "stream",
          "name": "stdout",
          "text": [
            "Epoch 121: Train err: 0.10670731707317073, Train loss: 0.3474331833422184 |Validation err: 0.16042780748663102, Validation loss: 0.5030030608177185\n"
          ]
        },
        {
          "output_type": "stream",
          "name": "stderr",
          "text": [
            "4it [00:00, 72.45it/s]\n"
          ]
        },
        {
          "output_type": "stream",
          "name": "stdout",
          "text": [
            "Epoch 122: Train err: 0.06829268292682927, Train loss: 0.23872423777356744 |Validation err: 0.12299465240641712, Validation loss: 0.5031391382217407\n"
          ]
        },
        {
          "output_type": "stream",
          "name": "stderr",
          "text": [
            "4it [00:00, 34.45it/s]\n"
          ]
        },
        {
          "output_type": "stream",
          "name": "stdout",
          "text": [
            "Epoch 123: Train err: 0.061585365853658536, Train loss: 0.18083897116594017 |Validation err: 0.17914438502673796, Validation loss: 0.5400075912475586\n"
          ]
        },
        {
          "output_type": "stream",
          "name": "stderr",
          "text": [
            "4it [00:00, 70.17it/s]\n"
          ]
        },
        {
          "output_type": "stream",
          "name": "stdout",
          "text": [
            "Epoch 124: Train err: 0.08658536585365853, Train loss: 0.19150424655526876 |Validation err: 0.13636363636363635, Validation loss: 0.5041607022285461\n"
          ]
        },
        {
          "output_type": "stream",
          "name": "stderr",
          "text": [
            "4it [00:00, 69.30it/s]\n"
          ]
        },
        {
          "output_type": "stream",
          "name": "stdout",
          "text": [
            "Epoch 125: Train err: 0.06707317073170732, Train loss: 0.16206821307423525 |Validation err: 0.13903743315508021, Validation loss: 0.517178475856781\n"
          ]
        },
        {
          "output_type": "stream",
          "name": "stderr",
          "text": [
            "4it [00:00, 72.28it/s]\n"
          ]
        },
        {
          "output_type": "stream",
          "name": "stdout",
          "text": [
            "Epoch 126: Train err: 0.0524390243902439, Train loss: 0.13439316977746785 |Validation err: 0.14171122994652408, Validation loss: 0.495678573846817\n"
          ]
        },
        {
          "output_type": "stream",
          "name": "stderr",
          "text": [
            "4it [00:00, 71.38it/s]\n"
          ]
        },
        {
          "output_type": "stream",
          "name": "stdout",
          "text": [
            "Epoch 127: Train err: 0.042682926829268296, Train loss: 0.11601725869695656 |Validation err: 0.14171122994652408, Validation loss: 0.47350841760635376\n"
          ]
        },
        {
          "output_type": "stream",
          "name": "stderr",
          "text": [
            "4it [00:00, 58.72it/s]\n"
          ]
        },
        {
          "output_type": "stream",
          "name": "stdout",
          "text": [
            "Epoch 128: Train err: 0.05060975609756098, Train loss: 0.12277216883376241 |Validation err: 0.13101604278074866, Validation loss: 0.5367559194564819\n"
          ]
        },
        {
          "output_type": "stream",
          "name": "stderr",
          "text": [
            "4it [00:00, 71.08it/s]\n"
          ]
        },
        {
          "output_type": "stream",
          "name": "stdout",
          "text": [
            "Epoch 129: Train err: 0.04085365853658537, Train loss: 0.10637237050104886 |Validation err: 0.12299465240641712, Validation loss: 0.4927805960178375\n"
          ]
        },
        {
          "output_type": "stream",
          "name": "stderr",
          "text": [
            "4it [00:00, 72.09it/s]\n"
          ]
        },
        {
          "output_type": "stream",
          "name": "stdout",
          "text": [
            "Epoch 130: Train err: 0.039634146341463415, Train loss: 0.10655103146564215 |Validation err: 0.11764705882352941, Validation loss: 0.48453211784362793\n"
          ]
        },
        {
          "output_type": "stream",
          "name": "stderr",
          "text": [
            "4it [00:00, 50.66it/s]\n"
          ]
        },
        {
          "output_type": "stream",
          "name": "stdout",
          "text": [
            "Epoch 131: Train err: 0.03414634146341464, Train loss: 0.09430737723596394 |Validation err: 0.11229946524064172, Validation loss: 0.47548964619636536\n"
          ]
        },
        {
          "output_type": "stream",
          "name": "stderr",
          "text": [
            "4it [00:00, 73.25it/s]\n"
          ]
        },
        {
          "output_type": "stream",
          "name": "stdout",
          "text": [
            "Epoch 132: Train err: 0.032926829268292684, Train loss: 0.09302983531961218 |Validation err: 0.13368983957219252, Validation loss: 0.5265211462974548\n"
          ]
        },
        {
          "output_type": "stream",
          "name": "stderr",
          "text": [
            "4it [00:00, 73.29it/s]\n"
          ]
        },
        {
          "output_type": "stream",
          "name": "stdout",
          "text": [
            "Epoch 133: Train err: 0.027439024390243903, Train loss: 0.08651491095224628 |Validation err: 0.10962566844919786, Validation loss: 0.4216804802417755\n"
          ]
        },
        {
          "output_type": "stream",
          "name": "stderr",
          "text": [
            "4it [00:00, 72.45it/s]\n"
          ]
        },
        {
          "output_type": "stream",
          "name": "stdout",
          "text": [
            "Epoch 134: Train err: 0.02804878048780488, Train loss: 0.08678212319500744 |Validation err: 0.13101604278074866, Validation loss: 0.4890139102935791\n"
          ]
        },
        {
          "output_type": "stream",
          "name": "stderr",
          "text": [
            "4it [00:00, 61.83it/s]\n"
          ]
        },
        {
          "output_type": "stream",
          "name": "stdout",
          "text": [
            "Epoch 135: Train err: 0.031097560975609756, Train loss: 0.08565410907613114 |Validation err: 0.11229946524064172, Validation loss: 0.480395644903183\n"
          ]
        },
        {
          "output_type": "stream",
          "name": "stderr",
          "text": [
            "4it [00:00, 72.75it/s]\n"
          ]
        },
        {
          "output_type": "stream",
          "name": "stdout",
          "text": [
            "Epoch 136: Train err: 0.023170731707317073, Train loss: 0.07265127135906368 |Validation err: 0.10962566844919786, Validation loss: 0.4752054810523987\n"
          ]
        },
        {
          "output_type": "stream",
          "name": "stderr",
          "text": [
            "4it [00:00, 47.17it/s]\n"
          ]
        },
        {
          "output_type": "stream",
          "name": "stdout",
          "text": [
            "Epoch 137: Train err: 0.023170731707317073, Train loss: 0.07280850785900839 |Validation err: 0.10962566844919786, Validation loss: 0.5010085701942444\n"
          ]
        },
        {
          "output_type": "stream",
          "name": "stderr",
          "text": [
            "4it [00:00, 72.12it/s]\n"
          ]
        },
        {
          "output_type": "stream",
          "name": "stdout",
          "text": [
            "Epoch 138: Train err: 0.025, Train loss: 0.06583339010830969 |Validation err: 0.12032085561497326, Validation loss: 0.4970332682132721\n"
          ]
        },
        {
          "output_type": "stream",
          "name": "stderr",
          "text": [
            "4it [00:00, 62.62it/s]\n"
          ]
        },
        {
          "output_type": "stream",
          "name": "stdout",
          "text": [
            "Epoch 139: Train err: 0.026829268292682926, Train loss: 0.07198521328973584 |Validation err: 0.12834224598930483, Validation loss: 0.5238927602767944\n"
          ]
        },
        {
          "output_type": "stream",
          "name": "stderr",
          "text": [
            "4it [00:00, 71.05it/s]\n"
          ]
        },
        {
          "output_type": "stream",
          "name": "stdout",
          "text": [
            "Epoch 140: Train err: 0.020121951219512196, Train loss: 0.06659415987087414 |Validation err: 0.10695187165775401, Validation loss: 0.45677465200424194\n"
          ]
        },
        {
          "output_type": "stream",
          "name": "stderr",
          "text": [
            "4it [00:00, 71.74it/s]\n"
          ]
        },
        {
          "output_type": "stream",
          "name": "stdout",
          "text": [
            "Epoch 141: Train err: 0.01951219512195122, Train loss: 0.06866932674893178 |Validation err: 0.11764705882352941, Validation loss: 0.48548653721809387\n"
          ]
        },
        {
          "output_type": "stream",
          "name": "stderr",
          "text": [
            "4it [00:00, 73.16it/s]\n"
          ]
        },
        {
          "output_type": "stream",
          "name": "stdout",
          "text": [
            "Epoch 142: Train err: 0.018292682926829267, Train loss: 0.06486662814859301 |Validation err: 0.12032085561497326, Validation loss: 0.48241835832595825\n"
          ]
        },
        {
          "output_type": "stream",
          "name": "stderr",
          "text": [
            "4it [00:00, 66.08it/s]\n"
          ]
        },
        {
          "output_type": "stream",
          "name": "stdout",
          "text": [
            "Epoch 143: Train err: 0.01524390243902439, Train loss: 0.05922757985536009 |Validation err: 0.10695187165775401, Validation loss: 0.48844316601753235\n"
          ]
        },
        {
          "output_type": "stream",
          "name": "stderr",
          "text": [
            "4it [00:00, 72.55it/s]\n"
          ]
        },
        {
          "output_type": "stream",
          "name": "stdout",
          "text": [
            "Epoch 144: Train err: 0.01524390243902439, Train loss: 0.05220099538564682 |Validation err: 0.12032085561497326, Validation loss: 0.5032097697257996\n"
          ]
        },
        {
          "output_type": "stream",
          "name": "stderr",
          "text": [
            "4it [00:00, 70.49it/s]\n"
          ]
        },
        {
          "output_type": "stream",
          "name": "stdout",
          "text": [
            "Epoch 145: Train err: 0.020121951219512196, Train loss: 0.059529253441723995 |Validation err: 0.12566844919786097, Validation loss: 0.46226081252098083\n"
          ]
        },
        {
          "output_type": "stream",
          "name": "stderr",
          "text": [
            "4it [00:00, 70.99it/s]\n"
          ]
        },
        {
          "output_type": "stream",
          "name": "stdout",
          "text": [
            "Epoch 146: Train err: 0.01951219512195122, Train loss: 0.05591818341054022 |Validation err: 0.12834224598930483, Validation loss: 0.5522934794425964\n"
          ]
        },
        {
          "output_type": "stream",
          "name": "stderr",
          "text": [
            "4it [00:00, 70.01it/s]\n"
          ]
        },
        {
          "output_type": "stream",
          "name": "stdout",
          "text": [
            "Epoch 147: Train err: 0.012195121951219513, Train loss: 0.05009605933446437 |Validation err: 0.10695187165775401, Validation loss: 0.4673987329006195\n"
          ]
        },
        {
          "output_type": "stream",
          "name": "stderr",
          "text": [
            "4it [00:00, 47.74it/s]\n"
          ]
        },
        {
          "output_type": "stream",
          "name": "stdout",
          "text": [
            "Epoch 148: Train err: 0.02195121951219512, Train loss: 0.05516312224790454 |Validation err: 0.12032085561497326, Validation loss: 0.5365480780601501\n"
          ]
        },
        {
          "output_type": "stream",
          "name": "stderr",
          "text": [
            "4it [00:00, 68.87it/s]\n"
          ]
        },
        {
          "output_type": "stream",
          "name": "stdout",
          "text": [
            "Epoch 149: Train err: 0.01402439024390244, Train loss: 0.05072473388281651 |Validation err: 0.12834224598930483, Validation loss: 0.5163212418556213\n"
          ]
        },
        {
          "output_type": "stream",
          "name": "stderr",
          "text": [
            "4it [00:00, 70.13it/s]\n"
          ]
        },
        {
          "output_type": "stream",
          "name": "stdout",
          "text": [
            "Epoch 150: Train err: 0.01524390243902439, Train loss: 0.05143253615824506 |Validation err: 0.11229946524064172, Validation loss: 0.48733529448509216\n",
            "Finished Training\n",
            "Total time elapsed: 19.28 seconds\n"
          ]
        },
        {
          "output_type": "display_data",
          "data": {
            "text/plain": [
              "<Figure size 432x288 with 1 Axes>"
            ],
            "image/png": "[encoded data removed]"
          },
          "metadata": {
            "needs_background": "light"
          }
        },
        {
          "output_type": "display_data",
          "data": {
            "text/plain": [
              "<Figure size 432x288 with 1 Axes>"
            ],
            "image/png": "[encoded data removed]"
          },
          "metadata": {
            "needs_background": "light"
          }
        }
      ]
    },
    {
      "cell_type": "markdown",
      "metadata": {
        "id": "hQ2tvqJ68Mqb"
      },
      "source": [
        "### Part (d) - 2 pt\n",
        "Report the test accuracy of your best model. How does the test accuracy compare to Part 3(d) without transfer learning?"
      ]
    },
    {
      "cell_type": "code",
      "execution_count": null,
      "metadata": {
        "id": "yCp_kFSg8Q2T",
        "colab": {
          "base_uri": "https://localhost:8080/"
        },
        "outputId": "931fc2f6-9fa0-4f0a-e29b-7c9c00aed1ec"
      },
      "outputs": [
        {
          "output_type": "execute_result",
          "data": {
            "text/plain": [
              "<All keys matched successfully>"
            ]
          },
          "metadata": {},
          "execution_count": 35
        }
      ],
      "source": [
        "net = Classifier(drop_rate=0.1)\n",
        "net = net.to(\"cuda\")\n",
        "model_path = get_model_name(net.name, batch_size=512, learning_rate=0.005, num_epochs=143)\n",
        "state = torch.load(model_path)\n",
        "net.load_state_dict(state)"
      ]
    },
    {
      "cell_type": "code",
      "source": [
        "trainloader,val_loader,test_loader = dataloader(df_train,df_val,df_test, 512)\n",
        "\n",
        "\n"
      ],
      "metadata": {
        "id": "hYFLBnFEo9ed"
      },
      "execution_count": null,
      "outputs": []
    },
    {
      "cell_type": "code",
      "source": [
        "err, loss = evaluate(net, test_loader, nn.CrossEntropyLoss())"
      ],
      "metadata": {
        "id": "ctifrEHjorsZ"
      },
      "execution_count": null,
      "outputs": []
    },
    {
      "cell_type": "code",
      "source": [
        "err # we get an error of "
      ],
      "metadata": {
        "colab": {
          "base_uri": "https://localhost:8080/"
        },
        "id": "A9hbRf5kpNrn",
        "outputId": "b999e835-c3ab-45c3-8a96-37b96c2c7791"
      },
      "execution_count": null,
      "outputs": [
        {
          "output_type": "execute_result",
          "data": {
            "text/plain": [
              "0.09352517985611511"
            ]
          },
          "metadata": {},
          "execution_count": 39
        }
      ]
    },
    {
      "cell_type": "markdown",
      "source": [
        "We have 90.7% accuracy for the model with transfer learning compared to 75.2% on the model without it. So it performs better."
      ],
      "metadata": {
        "id": "33HtxZu40Dc8"
      }
    },
    {
      "cell_type": "markdown",
      "metadata": {
        "id": "XrDPb0orGZYJ"
      },
      "source": [
        "### Part 5. Testing on New Data [10 pt]\n",
        "As a final step in testing we will be revisiting the sample images that you had collected and submitted with your lab. These sample images should be untouched and will be used to demonstrate how well your model works at identifying your hand guestures. \n",
        "\n"
      ]
    },
    {
      "cell_type": "markdown",
      "metadata": {
        "id": "lbXxB9AGTPBi"
      },
      "source": [
        "### Part (a) - 3 pt\n",
        "Load and process the hand gesture images you had collected so that they can easily be evaulated by your model."
      ]
    },
    {
      "cell_type": "code",
      "execution_count": null,
      "metadata": {
        "id": "XGZgStUdTPBi",
        "colab": {
          "base_uri": "https://localhost:8080/",
          "height": 74
        },
        "outputId": "f6836a59-3d4a-4230-b2d6-b7a1094bffd0"
      },
      "outputs": [
        {
          "output_type": "display_data",
          "data": {
            "text/plain": [
              "<IPython.core.display.HTML object>"
            ],
            "text/html": [
              "\n",
              "     <input type=\"file\" id=\"files-f0eae8d4-e2f3-47c0-a2de-24386dea677f\" name=\"files[]\" multiple disabled\n",
              "        style=\"border:none\" />\n",
              "     <output id=\"result-f0eae8d4-e2f3-47c0-a2de-24386dea677f\">\n",
              "      Upload widget is only available when the cell has been executed in the\n",
              "      current browser session. Please rerun this cell to enable.\n",
              "      </output>\n",
              "      <script>// Copyright 2017 Google LLC\n",
              "//\n",
              "// Licensed under the Apache License, Version 2.0 (the \"License\");\n",
              "// you may not use this file except in compliance with the License.\n",
              "// You may obtain a copy of the License at\n",
              "//\n",
              "//      http://www.apache.org/licenses/LICENSE-2.0\n",
              "//\n",
              "// Unless required by applicable law or agreed to in writing, software\n",
              "// distributed under the License is distributed on an \"AS IS\" BASIS,\n",
              "// WITHOUT WARRANTIES OR CONDITIONS OF ANY KIND, either express or implied.\n",
              "// See the License for the specific language governing permissions and\n",
              "// limitations under the License.\n",
              "\n",
              "/**\n",
              " * @fileoverview Helpers for google.colab Python module.\n",
              " */\n",
              "(function(scope) {\n",
              "function span(text, styleAttributes = {}) {\n",
              "  const element = document.createElement('span');\n",
              "  element.textContent = text;\n",
              "  for (const key of Object.keys(styleAttributes)) {\n",
              "    element.style[key] = styleAttributes[key];\n",
              "  }\n",
              "  return element;\n",
              "}\n",
              "\n",
              "// Max number of bytes which will be uploaded at a time.\n",
              "const MAX_PAYLOAD_SIZE = 100 * 1024;\n",
              "\n",
              "function _uploadFiles(inputId, outputId) {\n",
              "  const steps = uploadFilesStep(inputId, outputId);\n",
              "  const outputElement = document.getElementById(outputId);\n",
              "  // Cache steps on the outputElement to make it available for the next call\n",
              "  // to uploadFilesContinue from Python.\n",
              "  outputElement.steps = steps;\n",
              "\n",
              "  return _uploadFilesContinue(outputId);\n",
              "}\n",
              "\n",
              "// This is roughly an async generator (not supported in the browser yet),\n",
              "// where there are multiple asynchronous steps and the Python side is going\n",
              "// to poll for completion of each step.\n",
              "// This uses a Promise to block the python side on completion of each step,\n",
              "// then passes the result of the previous step as the input to the next step.\n",
              "function _uploadFilesContinue(outputId) {\n",
              "  const outputElement = document.getElementById(outputId);\n",
              "  const steps = outputElement.steps;\n",
              "\n",
              "  const next = steps.next(outputElement.lastPromiseValue);\n",
              "  return Promise.resolve(next.value.promise).then((value) => {\n",
              "    // Cache the last promise value to make it available to the next\n",
              "    // step of the generator.\n",
              "    outputElement.lastPromiseValue = value;\n",
              "    return next.value.response;\n",
              "  });\n",
              "}\n",
              "\n",
              "/**\n",
              " * Generator function which is called between each async step of the upload\n",
              " * process.\n",
              " * @param {string} inputId Element ID of the input file picker element.\n",
              " * @param {string} outputId Element ID of the output display.\n",
              " * @return {!Iterable<!Object>} Iterable of next steps.\n",
              " */\n",
              "function* uploadFilesStep(inputId, outputId) {\n",
              "  const inputElement = document.getElementById(inputId);\n",
              "  inputElement.disabled = false;\n",
              "\n",
              "  const outputElement = document.getElementById(outputId);\n",
              "  outputElement.innerHTML = '';\n",
              "\n",
              "  const pickedPromise = new Promise((resolve) => {\n",
              "    inputElement.addEventListener('change', (e) => {\n",
              "      resolve(e.target.files);\n",
              "    });\n",
              "  });\n",
              "\n",
              "  const cancel = document.createElement('button');\n",
              "  inputElement.parentElement.appendChild(cancel);\n",
              "  cancel.textContent = 'Cancel upload';\n",
              "  const cancelPromise = new Promise((resolve) => {\n",
              "    cancel.onclick = () => {\n",
              "      resolve(null);\n",
              "    };\n",
              "  });\n",
              "\n",
              "  // Wait for the user to pick the files.\n",
              "  const files = yield {\n",
              "    promise: Promise.race([pickedPromise, cancelPromise]),\n",
              "    response: {\n",
              "      action: 'starting',\n",
              "    }\n",
              "  };\n",
              "\n",
              "  cancel.remove();\n",
              "\n",
              "  // Disable the input element since further picks are not allowed.\n",
              "  inputElement.disabled = true;\n",
              "\n",
              "  if (!files) {\n",
              "    return {\n",
              "      response: {\n",
              "        action: 'complete',\n",
              "      }\n",
              "    };\n",
              "  }\n",
              "\n",
              "  for (const file of files) {\n",
              "    const li = document.createElement('li');\n",
              "    li.append(span(file.name, {fontWeight: 'bold'}));\n",
              "    li.append(span(\n",
              "        `(${file.type || 'n/a'}) - ${file.size} bytes, ` +\n",
              "        `last modified: ${\n",
              "            file.lastModifiedDate ? file.lastModifiedDate.toLocaleDateString() :\n",
              "                                    'n/a'} - `));\n",
              "    const percent = span('0% done');\n",
              "    li.appendChild(percent);\n",
              "\n",
              "    outputElement.appendChild(li);\n",
              "\n",
              "    const fileDataPromise = new Promise((resolve) => {\n",
              "      const reader = new FileReader();\n",
              "      reader.onload = (e) => {\n",
              "        resolve(e.target.result);\n",
              "      };\n",
              "      reader.readAsArrayBuffer(file);\n",
              "    });\n",
              "    // Wait for the data to be ready.\n",
              "    let fileData = yield {\n",
              "      promise: fileDataPromise,\n",
              "      response: {\n",
              "        action: 'continue',\n",
              "      }\n",
              "    };\n",
              "\n",
              "    // Use a chunked sending to avoid message size limits. See b/62115660.\n",
              "    let position = 0;\n",
              "    do {\n",
              "      const length = Math.min(fileData.byteLength - position, MAX_PAYLOAD_SIZE);\n",
              "      const chunk = new Uint8Array(fileData, position, length);\n",
              "      position += length;\n",
              "\n",
              "      const base64 = btoa(String.fromCharCode.apply(null, chunk));\n",
              "      yield {\n",
              "        response: {\n",
              "          action: 'append',\n",
              "          file: file.name,\n",
              "          data: base64,\n",
              "        },\n",
              "      };\n",
              "\n",
              "      let percentDone = fileData.byteLength === 0 ?\n",
              "          100 :\n",
              "          Math.round((position / fileData.byteLength) * 100);\n",
              "      percent.textContent = `${percentDone}% done`;\n",
              "\n",
              "    } while (position < fileData.byteLength);\n",
              "  }\n",
              "\n",
              "  // All done.\n",
              "  yield {\n",
              "    response: {\n",
              "      action: 'complete',\n",
              "    }\n",
              "  };\n",
              "}\n",
              "\n",
              "scope.google = scope.google || {};\n",
              "scope.google.colab = scope.google.colab || {};\n",
              "scope.google.colab._files = {\n",
              "  _uploadFiles,\n",
              "  _uploadFilesContinue,\n",
              "};\n",
              "})(self);\n",
              "</script> "
            ]
          },
          "metadata": {}
        },
        {
          "output_type": "stream",
          "name": "stdout",
          "text": [
            "Saving Self_sample.zip to Self_sample.zip\n"
          ]
        }
      ],
      "source": [
        "from google.colab import files # do not run\n",
        "uploaded = files.upload()"
      ]
    },
    {
      "cell_type": "code",
      "source": [
        "from zipfile import ZipFile # do not run\n",
        "file_name = \"/content/Self_sample.zip\"\n",
        "\n",
        "\n",
        "with ZipFile(file_name, 'r') as zip:\n",
        "  zip.extractall()\n",
        "  print('Done')"
      ],
      "metadata": {
        "colab": {
          "base_uri": "https://localhost:8080/"
        },
        "id": "53SuYRqPwYpo",
        "outputId": "3a75c128-cccf-4dec-d575-fcfb17dafaca"
      },
      "execution_count": null,
      "outputs": [
        {
          "output_type": "stream",
          "name": "stdout",
          "text": [
            "Done\n"
          ]
        }
      ]
    },
    {
      "cell_type": "code",
      "source": [
        "\n",
        "def get_data_loader_self(batch_size):\n",
        "\n",
        "      transform = transforms.Compose([\n",
        "          transforms.Resize((224, 224)), \n",
        "          transforms.ToTensor()\n",
        "          ])\n",
        "      trainset = datasets.ImageFolder('/content/Self_sample', transform=transform)\n",
        "\n",
        "      train_loader = torch.utils.data.DataLoader(trainset, batch_size=batch_size)\n",
        "      \n",
        "\n",
        "      return train_loader\n"
      ],
      "metadata": {
        "id": "maHS9IHXx_RT"
      },
      "execution_count": null,
      "outputs": []
    },
    {
      "cell_type": "code",
      "source": [
        "self_dataloader = get_data_loader_self(1)# do not run"
      ],
      "metadata": {
        "id": "B8P8dfzVw7gi"
      },
      "execution_count": null,
      "outputs": []
    },
    {
      "cell_type": "code",
      "source": [
        "ll = [] # do not run\n",
        "lab =[]\n",
        "\n",
        "for imgs, labels in iter(self_dataloader):\n",
        "          \n",
        "            imgs = features = alexNet.features(imgs) #SLOW\n",
        "            \n",
        "            ll.append(imgs.tolist())\n",
        "            lab.append(labels.tolist())\n",
        "            \n",
        "self_data = []\n",
        "for i in range(len(ll)):\n",
        "   self_data.append([ll[i], lab[i]])\n",
        "\n",
        "df_self_data = pd.DataFrame(self_data)"
      ],
      "metadata": {
        "id": "0_l9osVhw4gr"
      },
      "execution_count": null,
      "outputs": []
    },
    {
      "cell_type": "code",
      "source": [
        "df_self_data.to_csv('df_self_data.csv') # do not run"
      ],
      "metadata": {
        "id": "cgh-6qGFzSFJ"
      },
      "execution_count": null,
      "outputs": []
    },
    {
      "cell_type": "code",
      "source": [
        "def dataloader_self_1(train, batch_size):\n",
        "\n",
        "  trainloader = torch.utils.data.DataLoader(train, batch_size=batch_size)\n",
        "  return trainloader"
      ],
      "metadata": {
        "id": "P2WPYUzYzVLz"
      },
      "execution_count": null,
      "outputs": []
    },
    {
      "cell_type": "code",
      "source": [
        "import ast"
      ],
      "metadata": {
        "id": "0dcsTqka1AeG"
      },
      "execution_count": null,
      "outputs": []
    },
    {
      "cell_type": "code",
      "source": [
        "df_self_data = pd.read_csv('df_self_data.csv')\n",
        "df_self_data.drop('Unnamed: 0',axis =1,inplace = True)\n",
        "df_self_data.iloc[:,0] = df_self_data.iloc[:,0].apply(lambda s: torch.tensor(ast.literal_eval(s)[0]))# string ---> list---> tensor\n",
        "df_self_data.iloc[:,1] = df_self_data.iloc[:,1].apply(lambda s: ast.literal_eval(s)[0])\n",
        "df_self_data = df_self_data.apply(tuple, axis=1)# change to tuple "
      ],
      "metadata": {
        "id": "8HYMGDU-0npi"
      },
      "execution_count": null,
      "outputs": []
    },
    {
      "cell_type": "code",
      "source": [
        "net = Classifier(drop_rate=0.1)\n",
        "net = net.to(\"cuda\")\n",
        "model_path = get_model_name(net.name, batch_size=512, learning_rate=0.005, num_epochs=143)\n",
        "state = torch.load(model_path)\n",
        "net.load_state_dict(state)"
      ],
      "metadata": {
        "colab": {
          "base_uri": "https://localhost:8080/"
        },
        "id": "f5nK-jEoAMJz",
        "outputId": "7441a375-af49-47a6-bb8d-d056a9976405"
      },
      "execution_count": null,
      "outputs": [
        {
          "output_type": "execute_result",
          "data": {
            "text/plain": [
              "<All keys matched successfully>"
            ]
          },
          "metadata": {},
          "execution_count": 52
        }
      ]
    },
    {
      "cell_type": "code",
      "source": [
        "test_loader = dataloader_self_1(df_self_data,27)"
      ],
      "metadata": {
        "id": "iinTmwj5BcWx"
      },
      "execution_count": null,
      "outputs": []
    },
    {
      "cell_type": "code",
      "source": [
        "err, loss = evaluate(net, test_loader, nn.CrossEntropyLoss())"
      ],
      "metadata": {
        "id": "BC8zEKNw4GdO"
      },
      "execution_count": null,
      "outputs": []
    },
    {
      "cell_type": "code",
      "source": [
        "err"
      ],
      "metadata": {
        "colab": {
          "base_uri": "https://localhost:8080/"
        },
        "id": "W10iFneyBg_2",
        "outputId": "3bca8350-c078-4dcd-a00f-0fe4ed1ce006"
      },
      "execution_count": null,
      "outputs": [
        {
          "output_type": "execute_result",
          "data": {
            "text/plain": [
              "0.07407407407407407"
            ]
          },
          "metadata": {},
          "execution_count": 55
        }
      ]
    },
    {
      "cell_type": "markdown",
      "metadata": {
        "id": "xgvusfuHTPBi"
      },
      "source": [
        "### Part (b) - 7 pt\n",
        "Using the best transfer learning model developed in Part 4. Report the test accuracy on your sample images and how it compares to the test accuracy obtained in Part 4(d)? How well did your model do for the different hand guestures? Provide an explanation for why you think your model performed the way it did?  \n",
        "\n",
        "This question will also be evaluated on the overal performance achieved."
      ]
    },
    {
      "cell_type": "markdown",
      "source": [
        "Test accuracy of around 93% was achieved on my sample data. This is almost similar to that received in part 4d. Our model performed well for most of the samples.It only gave incorrect prediction for 2 of the samples.There are some classes(alphabets A and E) that are very similar so the model might get confused at these instances. It is also likely that the location of pixels in images a and b collide with each other and the model might get confused."
      ],
      "metadata": {
        "id": "IemUoQ2O2Ls3"
      }
    },
    {
      "cell_type": "markdown",
      "metadata": {
        "id": "FYwI4RmFS2RB"
      },
      "source": [
        "### Saving to HTML\n",
        "Detailed instructions for saving to HTML can be found <a href=\"https://stackoverflow.com/questions/53460051/convert-ipynb-notebook-to-html-in-google-colab/64487858#64487858\">here</a>. Provided below are a summary of the instructions:\n",
        "\n",
        "(1) download your ipynb file by clicking on File->Download.ipynb\n",
        "\n",
        "(2) reupload your file to the temporary Google Colab storage (you can access the temporary storage from the tab to the left)\n",
        "\n",
        "(3) run the following:"
      ]
    },
    {
      "cell_type": "code",
      "execution_count": null,
      "metadata": {
        "id": "2TrsqdNgS5ex",
        "colab": {
          "base_uri": "https://localhost:8080/"
        },
        "outputId": "62f6bc7b-6466-4dc6-c7b4-9f858796d5f0"
      },
      "outputs": [
        {
          "output_type": "stream",
          "name": "stdout",
          "text": [
            "[NbConvertApp] Converting notebook LAB_2_Hand_Gesture_Recognition.ipynb to html\n",
            "[NbConvertApp] Writing 1013918 bytes to LAB_2_Hand_Gesture_Recognition.html\n"
          ]
        },
        {
          "output_type": "execute_result",
          "data": {
            "text/plain": []
          },
          "metadata": {},
          "execution_count": 6
        }
      ],
      "source": [
        "%%shell\n",
        "jupyter nbconvert --to html LAB_2_Hand_Gesture_Recognition.ipynb"
      ]
    },
    {
      "cell_type": "markdown",
      "metadata": {
        "id": "nuXhlFlPTY7F"
      },
      "source": [
        "(4) the html file will be available for download in the temporary Google Colab storage\n",
        "\n",
        "(5) review the html file and make sure all the results are visible before submitting your assignment to Quercus"
      ]
    }
  ],
  "metadata": {
    "colab": {
      "provenance": []
    },
    "kernelspec": {
      "display_name": "Python 3",
      "language": "python",
      "name": "python3"
    },
    "language_info": {
      "codemirror_mode": {
        "name": "ipython",
        "version": 3
      },
      "file_extension": ".py",
      "mimetype": "text/x-python",
      "name": "python",
      "nbconvert_exporter": "python",
      "pygments_lexer": "ipython3",
      "version": "3.7.4"
    }
  },
  "nbformat": 4,
  "nbformat_minor": 0
}